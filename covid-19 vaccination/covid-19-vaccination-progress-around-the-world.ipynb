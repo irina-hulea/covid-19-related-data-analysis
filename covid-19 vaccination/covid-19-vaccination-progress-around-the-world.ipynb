{
 "cells": [
  {
   "cell_type": "markdown",
   "metadata": {},
   "source": [
    "Libraries import"
   ]
  },
  {
   "cell_type": "code",
   "execution_count": 48,
   "metadata": {
    "_cell_guid": "b1076dfc-b9ad-4769-8c92-a6c4dae69d19",
    "_uuid": "8f2839f25d086af736a60e9eeb907d3b93b6e0e5"
   },
   "outputs": [],
   "source": [
    "import numpy as np\n",
    "import pandas as pd\n",
    "import matplotlib.pyplot as plt\n",
    "import plotly.express as px\n",
    "from fbprophet import Prophet\n",
    "from fbprophet.plot import plot_plotly\n",
    "pd.set_option('display.float_format', lambda x: '%.2f' % x)\n",
    "\n",
    "import logging\n",
    "logger = logging.getLogger()\n",
    "logger.setLevel(logging.CRITICAL)\n",
    "\n",
    "import warnings\n",
    "warnings.filterwarnings('ignore')"
   ]
  },
  {
   "cell_type": "markdown",
   "metadata": {},
   "source": [
    "<img src=\"https://res.cloudinary.com/cognitives-s3/image/upload/c_limit,dpr_auto,f_auto,fl_lossy,q_auto,w_1200/v1/cog-live/n/1271/2020/May/21/cgWhR4ArheoPsIKgoFRl.jpg\" width=\"500px\">"
   ]
  },
  {
   "cell_type": "markdown",
   "metadata": {},
   "source": [
    "# COVID-19 Vaccination Progress - The Big Picture\n",
    "___"
   ]
  },
  {
   "cell_type": "markdown",
   "metadata": {},
   "source": [
    "## 1. Business Understanding\n",
    "___\n"
   ]
  },
  {
   "cell_type": "markdown",
   "metadata": {},
   "source": [
    "The vaccination campaign started around three months ago already and with so many information in the media, it may be difficult to get the big picture.\n",
    "\n",
    "This data analysis is focused on summarizing how the Covid-19 vaccination is going around the world. More accurately, it is focused on answering the following questions \n",
    "\n",
    "* How many types of vaccine are used? Where a specific vaccine is used in the world?\n",
    "* Where are vaccinated more people per day? Is the number of daily vaccinations going up?\n",
    "* In which region the vaccination program is more advanced? When will we have 25% of the population vaccinated?\n",
    "\n",
    "I have found on [Kaggle](https://www.kaggle.com/gpreda/covid-world-vaccination-progress) data collected by [Our World in Data](https://ourworldindata.org/), which is tracking the vaccinations around the world and I tried to get answers."
   ]
  },
  {
   "cell_type": "markdown",
   "metadata": {},
   "source": [
    "## 2. Data Understanding\n",
    "___"
   ]
  },
  {
   "cell_type": "markdown",
   "metadata": {},
   "source": [
    "### 2.1. Importing, merging and preparing the data sources"
   ]
  },
  {
   "cell_type": "code",
   "execution_count": 49,
   "metadata": {},
   "outputs": [
    {
     "data": {
      "text/html": [
       "<div>\n",
       "<style scoped>\n",
       "    .dataframe tbody tr th:only-of-type {\n",
       "        vertical-align: middle;\n",
       "    }\n",
       "\n",
       "    .dataframe tbody tr th {\n",
       "        vertical-align: top;\n",
       "    }\n",
       "\n",
       "    .dataframe thead th {\n",
       "        text-align: right;\n",
       "    }\n",
       "</style>\n",
       "<table border=\"1\" class=\"dataframe\">\n",
       "  <thead>\n",
       "    <tr style=\"text-align: right;\">\n",
       "      <th></th>\n",
       "      <th>country</th>\n",
       "      <th>iso_code</th>\n",
       "      <th>date</th>\n",
       "      <th>total_vaccinations</th>\n",
       "      <th>people_vaccinated</th>\n",
       "      <th>people_fully_vaccinated</th>\n",
       "      <th>daily_vaccinations_raw</th>\n",
       "      <th>daily_vaccinations</th>\n",
       "      <th>total_vaccinations_per_hundred</th>\n",
       "      <th>people_vaccinated_per_hundred</th>\n",
       "      <th>people_fully_vaccinated_per_hundred</th>\n",
       "      <th>daily_vaccinations_per_million</th>\n",
       "      <th>vaccines</th>\n",
       "      <th>source_name</th>\n",
       "      <th>source_website</th>\n",
       "    </tr>\n",
       "  </thead>\n",
       "  <tbody>\n",
       "    <tr>\n",
       "      <th>0</th>\n",
       "      <td>Algeria</td>\n",
       "      <td>DZA</td>\n",
       "      <td>2021-01-29</td>\n",
       "      <td>0.00</td>\n",
       "      <td>NaN</td>\n",
       "      <td>NaN</td>\n",
       "      <td>NaN</td>\n",
       "      <td>NaN</td>\n",
       "      <td>0.00</td>\n",
       "      <td>NaN</td>\n",
       "      <td>NaN</td>\n",
       "      <td>NaN</td>\n",
       "      <td>Sputnik V</td>\n",
       "      <td>Ministry of Health</td>\n",
       "      <td>https://www.aps.dz/regions/116777-blida-covid-...</td>\n",
       "    </tr>\n",
       "    <tr>\n",
       "      <th>1</th>\n",
       "      <td>Algeria</td>\n",
       "      <td>DZA</td>\n",
       "      <td>2021-01-30</td>\n",
       "      <td>30.00</td>\n",
       "      <td>NaN</td>\n",
       "      <td>NaN</td>\n",
       "      <td>30.00</td>\n",
       "      <td>30.00</td>\n",
       "      <td>0.00</td>\n",
       "      <td>NaN</td>\n",
       "      <td>NaN</td>\n",
       "      <td>1.00</td>\n",
       "      <td>Sputnik V</td>\n",
       "      <td>Ministry of Health</td>\n",
       "      <td>https://www.aps.dz/regions/116777-blida-covid-...</td>\n",
       "    </tr>\n",
       "    <tr>\n",
       "      <th>2</th>\n",
       "      <td>Andorra</td>\n",
       "      <td>AND</td>\n",
       "      <td>2021-01-25</td>\n",
       "      <td>576.00</td>\n",
       "      <td>576.00</td>\n",
       "      <td>NaN</td>\n",
       "      <td>NaN</td>\n",
       "      <td>NaN</td>\n",
       "      <td>0.75</td>\n",
       "      <td>0.75</td>\n",
       "      <td>NaN</td>\n",
       "      <td>NaN</td>\n",
       "      <td>Pfizer/BioNTech</td>\n",
       "      <td>Government of Andorra</td>\n",
       "      <td>https://www.govern.ad/comunicats/item/12379-se...</td>\n",
       "    </tr>\n",
       "    <tr>\n",
       "      <th>3</th>\n",
       "      <td>Andorra</td>\n",
       "      <td>AND</td>\n",
       "      <td>2021-01-26</td>\n",
       "      <td>NaN</td>\n",
       "      <td>NaN</td>\n",
       "      <td>NaN</td>\n",
       "      <td>NaN</td>\n",
       "      <td>66.00</td>\n",
       "      <td>NaN</td>\n",
       "      <td>NaN</td>\n",
       "      <td>NaN</td>\n",
       "      <td>854.00</td>\n",
       "      <td>Pfizer/BioNTech</td>\n",
       "      <td>Government of Andorra</td>\n",
       "      <td>https://www.govern.ad/comunicats/item/12379-se...</td>\n",
       "    </tr>\n",
       "    <tr>\n",
       "      <th>4</th>\n",
       "      <td>Andorra</td>\n",
       "      <td>AND</td>\n",
       "      <td>2021-01-27</td>\n",
       "      <td>NaN</td>\n",
       "      <td>NaN</td>\n",
       "      <td>NaN</td>\n",
       "      <td>NaN</td>\n",
       "      <td>66.00</td>\n",
       "      <td>NaN</td>\n",
       "      <td>NaN</td>\n",
       "      <td>NaN</td>\n",
       "      <td>854.00</td>\n",
       "      <td>Pfizer/BioNTech</td>\n",
       "      <td>Government of Andorra</td>\n",
       "      <td>https://www.govern.ad/comunicats/item/12379-se...</td>\n",
       "    </tr>\n",
       "  </tbody>\n",
       "</table>\n",
       "</div>"
      ],
      "text/plain": [
       "   country iso_code        date  total_vaccinations  people_vaccinated  \\\n",
       "0  Algeria      DZA  2021-01-29                0.00                NaN   \n",
       "1  Algeria      DZA  2021-01-30               30.00                NaN   \n",
       "2  Andorra      AND  2021-01-25              576.00             576.00   \n",
       "3  Andorra      AND  2021-01-26                 NaN                NaN   \n",
       "4  Andorra      AND  2021-01-27                 NaN                NaN   \n",
       "\n",
       "   people_fully_vaccinated  daily_vaccinations_raw  daily_vaccinations  \\\n",
       "0                      NaN                     NaN                 NaN   \n",
       "1                      NaN                   30.00               30.00   \n",
       "2                      NaN                     NaN                 NaN   \n",
       "3                      NaN                     NaN               66.00   \n",
       "4                      NaN                     NaN               66.00   \n",
       "\n",
       "   total_vaccinations_per_hundred  people_vaccinated_per_hundred  \\\n",
       "0                            0.00                            NaN   \n",
       "1                            0.00                            NaN   \n",
       "2                            0.75                           0.75   \n",
       "3                             NaN                            NaN   \n",
       "4                             NaN                            NaN   \n",
       "\n",
       "   people_fully_vaccinated_per_hundred  daily_vaccinations_per_million  \\\n",
       "0                                  NaN                             NaN   \n",
       "1                                  NaN                            1.00   \n",
       "2                                  NaN                             NaN   \n",
       "3                                  NaN                          854.00   \n",
       "4                                  NaN                          854.00   \n",
       "\n",
       "          vaccines            source_name  \\\n",
       "0        Sputnik V     Ministry of Health   \n",
       "1        Sputnik V     Ministry of Health   \n",
       "2  Pfizer/BioNTech  Government of Andorra   \n",
       "3  Pfizer/BioNTech  Government of Andorra   \n",
       "4  Pfizer/BioNTech  Government of Andorra   \n",
       "\n",
       "                                      source_website  \n",
       "0  https://www.aps.dz/regions/116777-blida-covid-...  \n",
       "1  https://www.aps.dz/regions/116777-blida-covid-...  \n",
       "2  https://www.govern.ad/comunicats/item/12379-se...  \n",
       "3  https://www.govern.ad/comunicats/item/12379-se...  \n",
       "4  https://www.govern.ad/comunicats/item/12379-se...  "
      ]
     },
     "execution_count": 49,
     "metadata": {},
     "output_type": "execute_result"
    }
   ],
   "source": [
    "vaccinations = pd.read_csv('country_vaccinations.csv')\n",
    "vaccinations.head()"
   ]
  },
  {
   "cell_type": "markdown",
   "metadata": {},
   "source": [
    "I will keep only the columns that I think will help me answer my questions."
   ]
  },
  {
   "cell_type": "code",
   "execution_count": 50,
   "metadata": {},
   "outputs": [],
   "source": [
    "vaccinations = vaccinations[['date', \n",
    "                             'country', \n",
    "                             'iso_code', \n",
    "                             'daily_vaccinations', \n",
    "                             'people_vaccinated_per_hundred',\n",
    "                             'vaccines',\n",
    "                            ]]"
   ]
  },
  {
   "cell_type": "markdown",
   "metadata": {},
   "source": [
    "In addition, I would need continent/region information for each country. But, before joining the data, I will check for categorical missing values:"
   ]
  },
  {
   "cell_type": "code",
   "execution_count": 51,
   "metadata": {},
   "outputs": [
    {
     "data": {
      "text/plain": [
       "date          0\n",
       "country       0\n",
       "iso_code    236\n",
       "vaccines      0\n",
       "dtype: int64"
      ]
     },
     "execution_count": 51,
     "metadata": {},
     "output_type": "execute_result"
    }
   ],
   "source": [
    "vaccinations.select_dtypes(include=['object']).isnull().sum()"
   ]
  },
  {
   "cell_type": "markdown",
   "metadata": {},
   "source": [
    "We are missing *iso_code* values for the following countries:"
   ]
  },
  {
   "cell_type": "code",
   "execution_count": 52,
   "metadata": {},
   "outputs": [
    {
     "data": {
      "text/plain": [
       "England             59\n",
       "Northern Ireland    59\n",
       "Scotland            59\n",
       "Wales               59\n",
       "Name: country, dtype: int64"
      ]
     },
     "execution_count": 52,
     "metadata": {},
     "output_type": "execute_result"
    }
   ],
   "source": [
    "vaccinations.loc[vaccinations.iso_code.isnull(), 'country'].value_counts()"
   ]
  },
  {
   "cell_type": "markdown",
   "metadata": {},
   "source": [
    "All countries are part of the United Kingdom. Let's fill the missing values with United Kingdom's *iso_code*"
   ]
  },
  {
   "cell_type": "code",
   "execution_count": 53,
   "metadata": {},
   "outputs": [
    {
     "data": {
      "text/plain": [
       "array(['GBR'], dtype=object)"
      ]
     },
     "execution_count": 53,
     "metadata": {},
     "output_type": "execute_result"
    }
   ],
   "source": [
    "vaccinations.loc[vaccinations.country == 'United Kingdom', 'iso_code'].unique()"
   ]
  },
  {
   "cell_type": "code",
   "execution_count": 54,
   "metadata": {},
   "outputs": [],
   "source": [
    "vaccinations.loc[vaccinations.country.isin(['England', 'Scotland', 'Wales', 'Northern Ireland']), 'iso_code'] = 'GBR'"
   ]
  },
  {
   "cell_type": "markdown",
   "metadata": {},
   "source": [
    "Now we are ready for the **data enrichment** -> adding *region* and *sub-region* info to be able to analyze data at continent/region level"
   ]
  },
  {
   "cell_type": "code",
   "execution_count": 55,
   "metadata": {},
   "outputs": [
    {
     "data": {
      "text/html": [
       "<div>\n",
       "<style scoped>\n",
       "    .dataframe tbody tr th:only-of-type {\n",
       "        vertical-align: middle;\n",
       "    }\n",
       "\n",
       "    .dataframe tbody tr th {\n",
       "        vertical-align: top;\n",
       "    }\n",
       "\n",
       "    .dataframe thead th {\n",
       "        text-align: right;\n",
       "    }\n",
       "</style>\n",
       "<table border=\"1\" class=\"dataframe\">\n",
       "  <thead>\n",
       "    <tr style=\"text-align: right;\">\n",
       "      <th></th>\n",
       "      <th>name</th>\n",
       "      <th>alpha-2</th>\n",
       "      <th>alpha-3</th>\n",
       "      <th>country-code</th>\n",
       "      <th>iso_3166-2</th>\n",
       "      <th>region</th>\n",
       "      <th>sub-region</th>\n",
       "      <th>intermediate-region</th>\n",
       "      <th>region-code</th>\n",
       "      <th>sub-region-code</th>\n",
       "      <th>intermediate-region-code</th>\n",
       "    </tr>\n",
       "  </thead>\n",
       "  <tbody>\n",
       "    <tr>\n",
       "      <th>0</th>\n",
       "      <td>Afghanistan</td>\n",
       "      <td>AF</td>\n",
       "      <td>AFG</td>\n",
       "      <td>4</td>\n",
       "      <td>ISO 3166-2:AF</td>\n",
       "      <td>Asia</td>\n",
       "      <td>Southern Asia</td>\n",
       "      <td>NaN</td>\n",
       "      <td>142.00</td>\n",
       "      <td>34.00</td>\n",
       "      <td>NaN</td>\n",
       "    </tr>\n",
       "    <tr>\n",
       "      <th>1</th>\n",
       "      <td>Åland Islands</td>\n",
       "      <td>AX</td>\n",
       "      <td>ALA</td>\n",
       "      <td>248</td>\n",
       "      <td>ISO 3166-2:AX</td>\n",
       "      <td>Europe</td>\n",
       "      <td>Northern Europe</td>\n",
       "      <td>NaN</td>\n",
       "      <td>150.00</td>\n",
       "      <td>154.00</td>\n",
       "      <td>NaN</td>\n",
       "    </tr>\n",
       "    <tr>\n",
       "      <th>2</th>\n",
       "      <td>Albania</td>\n",
       "      <td>AL</td>\n",
       "      <td>ALB</td>\n",
       "      <td>8</td>\n",
       "      <td>ISO 3166-2:AL</td>\n",
       "      <td>Europe</td>\n",
       "      <td>Southern Europe</td>\n",
       "      <td>NaN</td>\n",
       "      <td>150.00</td>\n",
       "      <td>39.00</td>\n",
       "      <td>NaN</td>\n",
       "    </tr>\n",
       "    <tr>\n",
       "      <th>3</th>\n",
       "      <td>Algeria</td>\n",
       "      <td>DZ</td>\n",
       "      <td>DZA</td>\n",
       "      <td>12</td>\n",
       "      <td>ISO 3166-2:DZ</td>\n",
       "      <td>Africa</td>\n",
       "      <td>Northern Africa</td>\n",
       "      <td>NaN</td>\n",
       "      <td>2.00</td>\n",
       "      <td>15.00</td>\n",
       "      <td>NaN</td>\n",
       "    </tr>\n",
       "    <tr>\n",
       "      <th>4</th>\n",
       "      <td>American Samoa</td>\n",
       "      <td>AS</td>\n",
       "      <td>ASM</td>\n",
       "      <td>16</td>\n",
       "      <td>ISO 3166-2:AS</td>\n",
       "      <td>Oceania</td>\n",
       "      <td>Polynesia</td>\n",
       "      <td>NaN</td>\n",
       "      <td>9.00</td>\n",
       "      <td>61.00</td>\n",
       "      <td>NaN</td>\n",
       "    </tr>\n",
       "  </tbody>\n",
       "</table>\n",
       "</div>"
      ],
      "text/plain": [
       "             name alpha-2 alpha-3  country-code     iso_3166-2   region  \\\n",
       "0     Afghanistan      AF     AFG             4  ISO 3166-2:AF     Asia   \n",
       "1   Åland Islands      AX     ALA           248  ISO 3166-2:AX   Europe   \n",
       "2         Albania      AL     ALB             8  ISO 3166-2:AL   Europe   \n",
       "3         Algeria      DZ     DZA            12  ISO 3166-2:DZ   Africa   \n",
       "4  American Samoa      AS     ASM            16  ISO 3166-2:AS  Oceania   \n",
       "\n",
       "        sub-region intermediate-region  region-code  sub-region-code  \\\n",
       "0    Southern Asia                 NaN       142.00            34.00   \n",
       "1  Northern Europe                 NaN       150.00           154.00   \n",
       "2  Southern Europe                 NaN       150.00            39.00   \n",
       "3  Northern Africa                 NaN         2.00            15.00   \n",
       "4        Polynesia                 NaN         9.00            61.00   \n",
       "\n",
       "   intermediate-region-code  \n",
       "0                       NaN  \n",
       "1                       NaN  \n",
       "2                       NaN  \n",
       "3                       NaN  \n",
       "4                       NaN  "
      ]
     },
     "execution_count": 55,
     "metadata": {},
     "output_type": "execute_result"
    }
   ],
   "source": [
    "continents = pd.read_csv('continents2.csv')\n",
    "continents.head()"
   ]
  },
  {
   "cell_type": "code",
   "execution_count": 56,
   "metadata": {},
   "outputs": [
    {
     "data": {
      "text/html": [
       "<div>\n",
       "<style scoped>\n",
       "    .dataframe tbody tr th:only-of-type {\n",
       "        vertical-align: middle;\n",
       "    }\n",
       "\n",
       "    .dataframe tbody tr th {\n",
       "        vertical-align: top;\n",
       "    }\n",
       "\n",
       "    .dataframe thead th {\n",
       "        text-align: right;\n",
       "    }\n",
       "</style>\n",
       "<table border=\"1\" class=\"dataframe\">\n",
       "  <thead>\n",
       "    <tr style=\"text-align: right;\">\n",
       "      <th></th>\n",
       "      <th>date</th>\n",
       "      <th>country</th>\n",
       "      <th>iso_code</th>\n",
       "      <th>daily_vaccinations</th>\n",
       "      <th>people_vaccinated_per_hundred</th>\n",
       "      <th>vaccines</th>\n",
       "      <th>region</th>\n",
       "      <th>sub-region</th>\n",
       "    </tr>\n",
       "  </thead>\n",
       "  <tbody>\n",
       "    <tr>\n",
       "      <th>0</th>\n",
       "      <td>2021-01-29</td>\n",
       "      <td>Algeria</td>\n",
       "      <td>DZA</td>\n",
       "      <td>NaN</td>\n",
       "      <td>NaN</td>\n",
       "      <td>Sputnik V</td>\n",
       "      <td>Africa</td>\n",
       "      <td>Northern Africa</td>\n",
       "    </tr>\n",
       "    <tr>\n",
       "      <th>1</th>\n",
       "      <td>2021-01-30</td>\n",
       "      <td>Algeria</td>\n",
       "      <td>DZA</td>\n",
       "      <td>30.00</td>\n",
       "      <td>NaN</td>\n",
       "      <td>Sputnik V</td>\n",
       "      <td>Africa</td>\n",
       "      <td>Northern Africa</td>\n",
       "    </tr>\n",
       "    <tr>\n",
       "      <th>2</th>\n",
       "      <td>2021-01-25</td>\n",
       "      <td>Andorra</td>\n",
       "      <td>AND</td>\n",
       "      <td>NaN</td>\n",
       "      <td>0.75</td>\n",
       "      <td>Pfizer/BioNTech</td>\n",
       "      <td>Europe</td>\n",
       "      <td>Southern Europe</td>\n",
       "    </tr>\n",
       "    <tr>\n",
       "      <th>3</th>\n",
       "      <td>2021-01-26</td>\n",
       "      <td>Andorra</td>\n",
       "      <td>AND</td>\n",
       "      <td>66.00</td>\n",
       "      <td>NaN</td>\n",
       "      <td>Pfizer/BioNTech</td>\n",
       "      <td>Europe</td>\n",
       "      <td>Southern Europe</td>\n",
       "    </tr>\n",
       "    <tr>\n",
       "      <th>4</th>\n",
       "      <td>2021-01-27</td>\n",
       "      <td>Andorra</td>\n",
       "      <td>AND</td>\n",
       "      <td>66.00</td>\n",
       "      <td>NaN</td>\n",
       "      <td>Pfizer/BioNTech</td>\n",
       "      <td>Europe</td>\n",
       "      <td>Southern Europe</td>\n",
       "    </tr>\n",
       "  </tbody>\n",
       "</table>\n",
       "</div>"
      ],
      "text/plain": [
       "         date  country iso_code  daily_vaccinations  \\\n",
       "0  2021-01-29  Algeria      DZA                 NaN   \n",
       "1  2021-01-30  Algeria      DZA               30.00   \n",
       "2  2021-01-25  Andorra      AND                 NaN   \n",
       "3  2021-01-26  Andorra      AND               66.00   \n",
       "4  2021-01-27  Andorra      AND               66.00   \n",
       "\n",
       "   people_vaccinated_per_hundred         vaccines  region       sub-region  \n",
       "0                            NaN        Sputnik V  Africa  Northern Africa  \n",
       "1                            NaN        Sputnik V  Africa  Northern Africa  \n",
       "2                           0.75  Pfizer/BioNTech  Europe  Southern Europe  \n",
       "3                            NaN  Pfizer/BioNTech  Europe  Southern Europe  \n",
       "4                            NaN  Pfizer/BioNTech  Europe  Southern Europe  "
      ]
     },
     "execution_count": 56,
     "metadata": {},
     "output_type": "execute_result"
    }
   ],
   "source": [
    "data = vaccinations.merge(continents[['alpha-3', 'region', 'sub-region']],\n",
    "                          how='left',\n",
    "                          left_on = 'iso_code',\n",
    "                          right_on = 'alpha-3',\n",
    "                         ).drop(columns=['alpha-3'])"
   ]
  },
  {
   "cell_type": "markdown",
   "metadata": {},
   "source": [
    "### 2.2. A first look on the data\n",
    "___"
   ]
  },
  {
   "cell_type": "code",
   "execution_count": 97,
   "metadata": {
    "scrolled": true
   },
   "outputs": [
    {
     "data": {
      "text/html": [
       "<div>\n",
       "<style scoped>\n",
       "    .dataframe tbody tr th:only-of-type {\n",
       "        vertical-align: middle;\n",
       "    }\n",
       "\n",
       "    .dataframe tbody tr th {\n",
       "        vertical-align: top;\n",
       "    }\n",
       "\n",
       "    .dataframe thead th {\n",
       "        text-align: right;\n",
       "    }\n",
       "</style>\n",
       "<table border=\"1\" class=\"dataframe\">\n",
       "  <thead>\n",
       "    <tr style=\"text-align: right;\">\n",
       "      <th></th>\n",
       "      <th>date</th>\n",
       "      <th>country</th>\n",
       "      <th>iso_code</th>\n",
       "      <th>daily_vaccinations</th>\n",
       "      <th>people_vaccinated_per_hundred</th>\n",
       "      <th>vaccines</th>\n",
       "      <th>continent</th>\n",
       "      <th>region</th>\n",
       "    </tr>\n",
       "  </thead>\n",
       "  <tbody>\n",
       "    <tr>\n",
       "      <th>2621</th>\n",
       "      <td>2020-12-13</td>\n",
       "      <td>Wales</td>\n",
       "      <td>GBR</td>\n",
       "      <td>NaN</td>\n",
       "      <td>0.26</td>\n",
       "      <td>Oxford/AstraZeneca, Pfizer/BioNTech</td>\n",
       "      <td>Europe</td>\n",
       "      <td>Northern Europe</td>\n",
       "    </tr>\n",
       "    <tr>\n",
       "      <th>1706</th>\n",
       "      <td>2020-12-13</td>\n",
       "      <td>Northern Ireland</td>\n",
       "      <td>GBR</td>\n",
       "      <td>NaN</td>\n",
       "      <td>0.19</td>\n",
       "      <td>Oxford/AstraZeneca, Pfizer/BioNTech</td>\n",
       "      <td>Europe</td>\n",
       "      <td>Northern Europe</td>\n",
       "    </tr>\n",
       "    <tr>\n",
       "      <th>2061</th>\n",
       "      <td>2020-12-13</td>\n",
       "      <td>Scotland</td>\n",
       "      <td>GBR</td>\n",
       "      <td>NaN</td>\n",
       "      <td>0.35</td>\n",
       "      <td>Oxford/AstraZeneca, Pfizer/BioNTech</td>\n",
       "      <td>Europe</td>\n",
       "      <td>Northern Europe</td>\n",
       "    </tr>\n",
       "    <tr>\n",
       "      <th>2509</th>\n",
       "      <td>2020-12-13</td>\n",
       "      <td>United Kingdom</td>\n",
       "      <td>GBR</td>\n",
       "      <td>NaN</td>\n",
       "      <td>0.13</td>\n",
       "      <td>Oxford/AstraZeneca, Pfizer/BioNTech</td>\n",
       "      <td>Europe</td>\n",
       "      <td>Northern Europe</td>\n",
       "    </tr>\n",
       "    <tr>\n",
       "      <th>717</th>\n",
       "      <td>2020-12-13</td>\n",
       "      <td>England</td>\n",
       "      <td>GBR</td>\n",
       "      <td>NaN</td>\n",
       "      <td>0.10</td>\n",
       "      <td>Oxford/AstraZeneca, Pfizer/BioNTech</td>\n",
       "      <td>Europe</td>\n",
       "      <td>Northern Europe</td>\n",
       "    </tr>\n",
       "  </tbody>\n",
       "</table>\n",
       "</div>"
      ],
      "text/plain": [
       "            date           country iso_code  daily_vaccinations  \\\n",
       "2621  2020-12-13             Wales      GBR                 NaN   \n",
       "1706  2020-12-13  Northern Ireland      GBR                 NaN   \n",
       "2061  2020-12-13          Scotland      GBR                 NaN   \n",
       "2509  2020-12-13    United Kingdom      GBR                 NaN   \n",
       "717   2020-12-13           England      GBR                 NaN   \n",
       "\n",
       "      people_vaccinated_per_hundred                             vaccines  \\\n",
       "2621                           0.26  Oxford/AstraZeneca, Pfizer/BioNTech   \n",
       "1706                           0.19  Oxford/AstraZeneca, Pfizer/BioNTech   \n",
       "2061                           0.35  Oxford/AstraZeneca, Pfizer/BioNTech   \n",
       "2509                           0.13  Oxford/AstraZeneca, Pfizer/BioNTech   \n",
       "717                            0.10  Oxford/AstraZeneca, Pfizer/BioNTech   \n",
       "\n",
       "     continent           region  \n",
       "2621    Europe  Northern Europe  \n",
       "1706    Europe  Northern Europe  \n",
       "2061    Europe  Northern Europe  \n",
       "2509    Europe  Northern Europe  \n",
       "717     Europe  Northern Europe  "
      ]
     },
     "execution_count": 97,
     "metadata": {},
     "output_type": "execute_result"
    }
   ],
   "source": [
    "data.head()"
   ]
  },
  {
   "cell_type": "markdown",
   "metadata": {},
   "source": [
    "A first look on the variables"
   ]
  },
  {
   "cell_type": "code",
   "execution_count": 102,
   "metadata": {},
   "outputs": [
    {
     "data": {
      "image/png": "[encoded data removed]",
      "text/plain": [
       "<Figure size 1440x360 with 2 Axes>"
      ]
     },
     "metadata": {
      "needs_background": "light"
     },
     "output_type": "display_data"
    }
   ],
   "source": [
    "data.hist(figsize=(20,5));"
   ]
  },
  {
   "cell_type": "code",
   "execution_count": 103,
   "metadata": {},
   "outputs": [
    {
     "data": {
      "text/html": [
       "<div>\n",
       "<style scoped>\n",
       "    .dataframe tbody tr th:only-of-type {\n",
       "        vertical-align: middle;\n",
       "    }\n",
       "\n",
       "    .dataframe tbody tr th {\n",
       "        vertical-align: top;\n",
       "    }\n",
       "\n",
       "    .dataframe thead th {\n",
       "        text-align: right;\n",
       "    }\n",
       "</style>\n",
       "<table border=\"1\" class=\"dataframe\">\n",
       "  <thead>\n",
       "    <tr style=\"text-align: right;\">\n",
       "      <th></th>\n",
       "      <th>daily_vaccinations</th>\n",
       "      <th>people_vaccinated_per_hundred</th>\n",
       "    </tr>\n",
       "  </thead>\n",
       "  <tbody>\n",
       "    <tr>\n",
       "      <th>count</th>\n",
       "      <td>2576.00</td>\n",
       "      <td>2290.00</td>\n",
       "    </tr>\n",
       "    <tr>\n",
       "      <th>mean</th>\n",
       "      <td>57479.59</td>\n",
       "      <td>3.97</td>\n",
       "    </tr>\n",
       "    <tr>\n",
       "      <th>std</th>\n",
       "      <td>175807.65</td>\n",
       "      <td>6.49</td>\n",
       "    </tr>\n",
       "    <tr>\n",
       "      <th>min</th>\n",
       "      <td>1.00</td>\n",
       "      <td>0.00</td>\n",
       "    </tr>\n",
       "    <tr>\n",
       "      <th>25%</th>\n",
       "      <td>1346.25</td>\n",
       "      <td>0.59</td>\n",
       "    </tr>\n",
       "    <tr>\n",
       "      <th>50%</th>\n",
       "      <td>6587.00</td>\n",
       "      <td>1.92</td>\n",
       "    </tr>\n",
       "    <tr>\n",
       "      <th>75%</th>\n",
       "      <td>30274.25</td>\n",
       "      <td>3.41</td>\n",
       "    </tr>\n",
       "    <tr>\n",
       "      <th>max</th>\n",
       "      <td>1916190.00</td>\n",
       "      <td>42.58</td>\n",
       "    </tr>\n",
       "  </tbody>\n",
       "</table>\n",
       "</div>"
      ],
      "text/plain": [
       "       daily_vaccinations  people_vaccinated_per_hundred\n",
       "count             2576.00                        2290.00\n",
       "mean             57479.59                           3.97\n",
       "std             175807.65                           6.49\n",
       "min                  1.00                           0.00\n",
       "25%               1346.25                           0.59\n",
       "50%               6587.00                           1.92\n",
       "75%              30274.25                           3.41\n",
       "max            1916190.00                          42.58"
      ]
     },
     "execution_count": 103,
     "metadata": {},
     "output_type": "execute_result"
    }
   ],
   "source": [
    "data.describe()"
   ]
  },
  {
   "cell_type": "code",
   "execution_count": 106,
   "metadata": {},
   "outputs": [
    {
     "name": "stdout",
     "output_type": "stream",
     "text": [
      "min date: 2020-12-13\n",
      "max date: 2021-02-10\n"
     ]
    }
   ],
   "source": [
    "print('min date:', data.date.min())\n",
    "print('max date:', data.date.max())"
   ]
  },
  {
   "cell_type": "code",
   "execution_count": 111,
   "metadata": {},
   "outputs": [
    {
     "data": {
      "text/plain": [
       "Northern Europe                    727\n",
       "Southern Europe                    378\n",
       "Western Asia                       318\n",
       "Western Europe                     312\n",
       "Latin America and the Caribbean    291\n",
       "Eastern Europe                     290\n",
       "Northern America                   116\n",
       "Southern Asia                       72\n",
       "South-eastern Asia                  63\n",
       "Eastern Asia                        57\n",
       "Sub-Saharan Africa                  33\n",
       "Northern Africa                     23\n",
       "Name: region, dtype: int64"
      ]
     },
     "execution_count": 111,
     "metadata": {},
     "output_type": "execute_result"
    }
   ],
   "source": [
    "data.region.value_counts()"
   ]
  },
  {
   "cell_type": "markdown",
   "metadata": {},
   "source": [
    "Note that in our dataset we do not have data available for all countries in the world.\n",
    "\n",
    "In the map plot below are colored all countries with available data in our dataset. Also, you can visualize which countries belong to each region. "
   ]
  },
  {
   "cell_type": "code",
   "execution_count": 70,
   "metadata": {
    "_kg_hide-input": false
   },
   "outputs": [
    {
     "data": {
      "application/vnd.plotly.v1+json": {
       "config": {
        "plotlyServerURL": "https://plotly.com"
       },
       "data": [
        {
         "colorscale": [
          [
           0,
           "#636efa"
          ],
          [
           1,
           "#636efa"
          ]
         ],
         "geo": "geo",
         "hovertemplate": "color=Northern Europe<br>locations=%{location}<extra></extra>",
         "locations": [
          "GBR",
          "GBR",
          "GBR",
          "GBR",
          "GBR",
          "GBR",
          "GBR",
          "GBR",
          "GBR",
          "GBR",
          "GBR",
          "GBR",
          "GBR",
          "GBR",
          "GBR",
          "GBR",
          "GBR",
          "GBR",
          "GBR",
          "GBR",
          "GBR",
          "GBR",
          "GBR",
          "GBR",
          "GBR",
          "GBR",
          "GBR",
          "GBR",
          "GBR",
          "GBR",
          "GBR",
          "GBR",
          "GBR",
          "GBR",
          "GBR",
          "GBR",
          "GBR",
          "GBR",
          "GBR",
          "GBR",
          "GBR",
          "GBR",
          "GBR",
          "GBR",
          "GBR",
          "GBR",
          "GBR",
          "GBR",
          "GBR",
          "GBR",
          "GBR",
          "GBR",
          "GBR",
          "GBR",
          "GBR",
          "GBR",
          "GBR",
          "GBR",
          "GBR",
          "GBR",
          "GBR",
          "GBR",
          "GBR",
          "GBR",
          "GBR",
          "GBR",
          "GBR",
          "GBR",
          "GBR",
          "GBR",
          "GBR",
          "GBR",
          "SWE",
          "GBR",
          "GBR",
          "LTU",
          "GBR",
          "NOR",
          "DNK",
          "GBR",
          "EST",
          "GBR",
          "LVA",
          "LTU",
          "DNK",
          "GBR",
          "GBR",
          "NOR",
          "GBR",
          "SWE",
          "LVA",
          "GBR",
          "LTU",
          "GBR",
          "SWE",
          "NOR",
          "EST",
          "GBR",
          "GBR",
          "GBR",
          "DNK",
          "GBR",
          "DNK",
          "GBR",
          "LVA",
          "GBR",
          "GBR",
          "EST",
          "LTU",
          "NOR",
          "ISL",
          "SWE",
          "GBR",
          "ISL",
          "GBR",
          "GBR",
          "IRL",
          "GBR",
          "EST",
          "NOR",
          "SWE",
          "DNK",
          "GBR",
          "GBR",
          "LTU",
          "FIN",
          "LTU",
          "FIN",
          "GBR",
          "EST",
          "IRL",
          "GBR",
          "GBR",
          "GBR",
          "GBR",
          "DNK",
          "NOR",
          "SWE",
          "ISL",
          "IRL",
          "SWE",
          "ISL",
          "LTU",
          "GBR",
          "FIN",
          "GBR",
          "DNK",
          "GBR",
          "GBR",
          "GBR",
          "NOR",
          "EST",
          "ISL",
          "NOR",
          "IRL",
          "GBR",
          "EST",
          "GBR",
          "GBR",
          "GBR",
          "SWE",
          "DNK",
          "FIN",
          "LTU",
          "GBR",
          "IRL",
          "SWE",
          "DNK",
          "GBR",
          "FIN",
          "GBR",
          "GBR",
          "GBR",
          "GBR",
          "EST",
          "NOR",
          "ISL",
          "LVA",
          "LTU",
          "IRL",
          "GBR",
          "GBR",
          "EST",
          "FIN",
          "GBR",
          "DNK",
          "ISL",
          "NOR",
          "LTU",
          "GBR",
          "GBR",
          "LVA",
          "SWE",
          "FIN",
          "LVA",
          "LTU",
          "EST",
          "DNK",
          "SWE",
          "GBR",
          "GBR",
          "GBR",
          "NOR",
          "GBR",
          "GBR",
          "IRL",
          "ISL",
          "GBR",
          "GBR",
          "NOR",
          "SWE",
          "DNK",
          "IRL",
          "GBR",
          "GBR",
          "FIN",
          "LTU",
          "ISL",
          "LVA",
          "GBR",
          "EST",
          "GBR",
          "EST",
          "DNK",
          "GBR",
          "FIN",
          "GBR",
          "NOR",
          "GBR",
          "GBR",
          "LTU",
          "LVA",
          "ISL",
          "IRL",
          "SWE",
          "IRL",
          "LVA",
          "GBR",
          "EST",
          "ISL",
          "SWE",
          "GBR",
          "GBR",
          "FIN",
          "GBR",
          "LTU",
          "NOR",
          "GBR",
          "DNK",
          "GBR",
          "IRL",
          "SWE",
          "LTU",
          "GBR",
          "FIN",
          "LVA",
          "EST",
          "ISL",
          "NOR",
          "GBR",
          "DNK",
          "GBR",
          "GBR",
          "DNK",
          "LVA",
          "GBR",
          "LTU",
          "GBR",
          "FIN",
          "IRL",
          "GBR",
          "SWE",
          "ISL",
          "NOR",
          "GBR",
          "GBR",
          "EST",
          "GBR",
          "GBR",
          "GBR",
          "IRL",
          "NOR",
          "LVA",
          "GBR",
          "DNK",
          "EST",
          "LTU",
          "FIN",
          "GBR",
          "SWE",
          "ISL",
          "DNK",
          "GBR",
          "IRL",
          "GBR",
          "SWE",
          "GBR",
          "EST",
          "GBR",
          "LTU",
          "FIN",
          "ISL",
          "LVA",
          "NOR",
          "GBR",
          "ISL",
          "GBR",
          "IRL",
          "LVA",
          "GBR",
          "FIN",
          "NOR",
          "DNK",
          "LTU",
          "GBR",
          "GBR",
          "EST",
          "GBR",
          "SWE",
          "LVA",
          "ISL",
          "FIN",
          "LTU",
          "NOR",
          "GBR",
          "GBR",
          "SWE",
          "EST",
          "GBR",
          "IRL",
          "DNK",
          "GBR",
          "GBR",
          "ISL",
          "GBR",
          "NOR",
          "LVA",
          "IRL",
          "GBR",
          "SWE",
          "LTU",
          "GBR",
          "DNK",
          "FIN",
          "GBR",
          "GBR",
          "EST",
          "IRL",
          "GBR",
          "SWE",
          "GBR",
          "EST",
          "NOR",
          "GBR",
          "LTU",
          "FIN",
          "LVA",
          "DNK",
          "GBR",
          "GBR",
          "ISL",
          "GBR",
          "FIN",
          "SWE",
          "GBR",
          "LTU",
          "NOR",
          "GBR",
          "DNK",
          "ISL",
          "IRL",
          "GBR",
          "GBR",
          "EST",
          "LVA",
          "NOR",
          "DNK",
          "LVA",
          "SWE",
          "GBR",
          "GBR",
          "LTU",
          "FIN",
          "GBR",
          "GBR",
          "GBR",
          "ISL",
          "EST",
          "IRL",
          "FIN",
          "EST",
          "GBR",
          "ISL",
          "IRL",
          "SWE",
          "DNK",
          "NOR",
          "GBR",
          "LVA",
          "GBR",
          "GBR",
          "LTU",
          "GBR",
          "GBR",
          "ISL",
          "GBR",
          "SWE",
          "LTU",
          "GBR",
          "FIN",
          "EST",
          "DNK",
          "LVA",
          "NOR",
          "GBR",
          "IMN",
          "IRL",
          "GBR",
          "GBR",
          "GBR",
          "GBR",
          "IMN",
          "ISL",
          "GBR",
          "IRL",
          "EST",
          "SWE",
          "NOR",
          "DNK",
          "GBR",
          "FIN",
          "LTU",
          "LVA",
          "IMN",
          "DNK",
          "GBR",
          "GBR",
          "LVA",
          "IRL",
          "LTU",
          "NOR",
          "GBR",
          "SWE",
          "GBR",
          "GBR",
          "EST",
          "ISL",
          "FIN",
          "GBR",
          "GBR",
          "ISL",
          "GBR",
          "GGY",
          "IRL",
          "GBR",
          "EST",
          "GBR",
          "FIN",
          "DNK",
          "IMN",
          "LTU",
          "NOR",
          "LVA",
          "SWE",
          "JEY",
          "GBR",
          "NOR",
          "EST",
          "GBR",
          "SWE",
          "DNK",
          "FIN",
          "GBR",
          "IRL",
          "IMN",
          "JEY",
          "LTU",
          "ISL",
          "GBR",
          "GBR",
          "LVA",
          "NOR",
          "GBR",
          "SWE",
          "GBR",
          "GBR",
          "GBR",
          "ISL",
          "GBR",
          "LTU",
          "JEY",
          "LVA",
          "EST",
          "FIN",
          "IMN",
          "DNK",
          "IRL",
          "LTU",
          "NOR",
          "LVA",
          "IRL",
          "GBR",
          "IMN",
          "ISL",
          "GBR",
          "JEY",
          "FIN",
          "GBR",
          "GBR",
          "SWE",
          "EST",
          "GBR",
          "DNK",
          "GBR",
          "ISL",
          "EST",
          "IRL",
          "GBR",
          "GBR",
          "IMN",
          "NOR",
          "LVA",
          "SWE",
          "FIN",
          "LTU",
          "GBR",
          "DNK",
          "JEY",
          "GBR",
          "GBR",
          "GBR",
          "DNK",
          "FRO",
          "GBR",
          "FIN",
          "EST",
          "ISL",
          "NOR",
          "JEY",
          "GBR",
          "GBR",
          "SWE",
          "IMN",
          "LVA",
          "LTU",
          "IRL",
          "NOR",
          "GBR",
          "DNK",
          "GBR",
          "GBR",
          "GBR",
          "EST",
          "FRO",
          "FIN",
          "SWE",
          "LTU",
          "JEY",
          "IMN",
          "GBR",
          "ISL",
          "LVA",
          "IRL",
          "IRL",
          "ISL",
          "FRO",
          "EST",
          "IMN",
          "GBR",
          "GBR",
          "JEY",
          "NOR",
          "LVA",
          "LTU",
          "GBR",
          "SWE",
          "FIN",
          "GBR",
          "GBR",
          "DNK",
          "GBR",
          "IRL",
          "IMN",
          "LVA",
          "LTU",
          "ISL",
          "DNK",
          "GBR",
          "GBR",
          "EST",
          "FRO",
          "FIN",
          "GBR",
          "SWE",
          "NOR",
          "GBR",
          "ISL",
          "GBR",
          "DNK",
          "GBR",
          "EST",
          "FRO",
          "FIN",
          "GBR",
          "LVA",
          "SWE",
          "LTU",
          "GBR",
          "GBR",
          "IMN",
          "NOR",
          "IRL",
          "GBR",
          "LVA",
          "LTU",
          "SWE",
          "GBR",
          "GBR",
          "NOR",
          "IMN",
          "DNK",
          "GBR",
          "GBR",
          "EST",
          "FRO",
          "FIN",
          "IRL",
          "ISL",
          "GBR",
          "GBR",
          "SWE",
          "LTU",
          "GBR",
          "LVA",
          "DNK",
          "GBR",
          "EST",
          "FRO",
          "FIN",
          "IMN",
          "IRL",
          "ISL",
          "NOR",
          "GBR",
          "LTU",
          "LVA",
          "IMN",
          "IRL",
          "FRO",
          "GBR",
          "ISL",
          "DNK",
          "GBR",
          "GBR",
          "EST",
          "FIN",
          "GBR",
          "NOR",
          "SWE",
          "GBR",
          "ISL",
          "IMN",
          "IRL",
          "GBR",
          "DNK",
          "GBR",
          "GBR",
          "EST",
          "FRO",
          "FIN",
          "LVA",
          "GBR",
          "NOR",
          "GBR",
          "LTU",
          "SWE",
          "DNK",
          "GBR",
          "FRO",
          "GBR",
          "FIN",
          "GBR",
          "EST",
          "LVA",
          "IMN",
          "NOR",
          "GBR",
          "IRL",
          "LTU",
          "SWE",
          "ISL",
          "GBR",
          "SWE",
          "GBR",
          "GBR",
          "GBR",
          "DNK",
          "GBR",
          "LTU",
          "EST",
          "ISL",
          "LVA",
          "NOR",
          "IMN",
          "GBR",
          "FRO",
          "FIN",
          "FIN",
          "GBR",
          "IMN",
          "LVA",
          "GBR",
          "LTU",
          "SWE",
          "NOR",
          "GBR",
          "GBR",
          "EST",
          "GBR",
          "DNK",
          "FRO",
          "LTU",
          "FIN",
          "SWE",
          "FRO",
          "EST",
          "IMN"
         ],
         "name": "Northern Europe",
         "showlegend": true,
         "showscale": false,
         "type": "choropleth",
         "z": [
          1,
          1,
          1,
          1,
          1,
          1,
          1,
          1,
          1,
          1,
          1,
          1,
          1,
          1,
          1,
          1,
          1,
          1,
          1,
          1,
          1,
          1,
          1,
          1,
          1,
          1,
          1,
          1,
          1,
          1,
          1,
          1,
          1,
          1,
          1,
          1,
          1,
          1,
          1,
          1,
          1,
          1,
          1,
          1,
          1,
          1,
          1,
          1,
          1,
          1,
          1,
          1,
          1,
          1,
          1,
          1,
          1,
          1,
          1,
          1,
          1,
          1,
          1,
          1,
          1,
          1,
          1,
          1,
          1,
          1,
          1,
          1,
          1,
          1,
          1,
          1,
          1,
          1,
          1,
          1,
          1,
          1,
          1,
          1,
          1,
          1,
          1,
          1,
          1,
          1,
          1,
          1,
          1,
          1,
          1,
          1,
          1,
          1,
          1,
          1,
          1,
          1,
          1,
          1,
          1,
          1,
          1,
          1,
          1,
          1,
          1,
          1,
          1,
          1,
          1,
          1,
          1,
          1,
          1,
          1,
          1,
          1,
          1,
          1,
          1,
          1,
          1,
          1,
          1,
          1,
          1,
          1,
          1,
          1,
          1,
          1,
          1,
          1,
          1,
          1,
          1,
          1,
          1,
          1,
          1,
          1,
          1,
          1,
          1,
          1,
          1,
          1,
          1,
          1,
          1,
          1,
          1,
          1,
          1,
          1,
          1,
          1,
          1,
          1,
          1,
          1,
          1,
          1,
          1,
          1,
          1,
          1,
          1,
          1,
          1,
          1,
          1,
          1,
          1,
          1,
          1,
          1,
          1,
          1,
          1,
          1,
          1,
          1,
          1,
          1,
          1,
          1,
          1,
          1,
          1,
          1,
          1,
          1,
          1,
          1,
          1,
          1,
          1,
          1,
          1,
          1,
          1,
          1,
          1,
          1,
          1,
          1,
          1,
          1,
          1,
          1,
          1,
          1,
          1,
          1,
          1,
          1,
          1,
          1,
          1,
          1,
          1,
          1,
          1,
          1,
          1,
          1,
          1,
          1,
          1,
          1,
          1,
          1,
          1,
          1,
          1,
          1,
          1,
          1,
          1,
          1,
          1,
          1,
          1,
          1,
          1,
          1,
          1,
          1,
          1,
          1,
          1,
          1,
          1,
          1,
          1,
          1,
          1,
          1,
          1,
          1,
          1,
          1,
          1,
          1,
          1,
          1,
          1,
          1,
          1,
          1,
          1,
          1,
          1,
          1,
          1,
          1,
          1,
          1,
          1,
          1,
          1,
          1,
          1,
          1,
          1,
          1,
          1,
          1,
          1,
          1,
          1,
          1,
          1,
          1,
          1,
          1,
          1,
          1,
          1,
          1,
          1,
          1,
          1,
          1,
          1,
          1,
          1,
          1,
          1,
          1,
          1,
          1,
          1,
          1,
          1,
          1,
          1,
          1,
          1,
          1,
          1,
          1,
          1,
          1,
          1,
          1,
          1,
          1,
          1,
          1,
          1,
          1,
          1,
          1,
          1,
          1,
          1,
          1,
          1,
          1,
          1,
          1,
          1,
          1,
          1,
          1,
          1,
          1,
          1,
          1,
          1,
          1,
          1,
          1,
          1,
          1,
          1,
          1,
          1,
          1,
          1,
          1,
          1,
          1,
          1,
          1,
          1,
          1,
          1,
          1,
          1,
          1,
          1,
          1,
          1,
          1,
          1,
          1,
          1,
          1,
          1,
          1,
          1,
          1,
          1,
          1,
          1,
          1,
          1,
          1,
          1,
          1,
          1,
          1,
          1,
          1,
          1,
          1,
          1,
          1,
          1,
          1,
          1,
          1,
          1,
          1,
          1,
          1,
          1,
          1,
          1,
          1,
          1,
          1,
          1,
          1,
          1,
          1,
          1,
          1,
          1,
          1,
          1,
          1,
          1,
          1,
          1,
          1,
          1,
          1,
          1,
          1,
          1,
          1,
          1,
          1,
          1,
          1,
          1,
          1,
          1,
          1,
          1,
          1,
          1,
          1,
          1,
          1,
          1,
          1,
          1,
          1,
          1,
          1,
          1,
          1,
          1,
          1,
          1,
          1,
          1,
          1,
          1,
          1,
          1,
          1,
          1,
          1,
          1,
          1,
          1,
          1,
          1,
          1,
          1,
          1,
          1,
          1,
          1,
          1,
          1,
          1,
          1,
          1,
          1,
          1,
          1,
          1,
          1,
          1,
          1,
          1,
          1,
          1,
          1,
          1,
          1,
          1,
          1,
          1,
          1,
          1,
          1,
          1,
          1,
          1,
          1,
          1,
          1,
          1,
          1,
          1,
          1,
          1,
          1,
          1,
          1,
          1,
          1,
          1,
          1,
          1,
          1,
          1,
          1,
          1,
          1,
          1,
          1,
          1,
          1,
          1,
          1,
          1,
          1,
          1,
          1,
          1,
          1,
          1,
          1,
          1,
          1,
          1,
          1,
          1,
          1,
          1,
          1,
          1,
          1,
          1,
          1,
          1,
          1,
          1,
          1,
          1,
          1,
          1,
          1,
          1,
          1,
          1,
          1,
          1,
          1,
          1,
          1,
          1,
          1,
          1,
          1,
          1,
          1,
          1,
          1,
          1,
          1,
          1,
          1,
          1,
          1,
          1,
          1,
          1,
          1,
          1,
          1,
          1,
          1,
          1,
          1,
          1,
          1,
          1,
          1,
          1,
          1,
          1,
          1,
          1,
          1,
          1,
          1,
          1,
          1,
          1,
          1,
          1,
          1,
          1,
          1,
          1,
          1,
          1,
          1,
          1,
          1,
          1,
          1,
          1,
          1,
          1,
          1,
          1,
          1,
          1,
          1,
          1,
          1,
          1,
          1,
          1,
          1,
          1,
          1,
          1,
          1,
          1,
          1,
          1,
          1,
          1,
          1,
          1,
          1,
          1,
          1,
          1,
          1,
          1,
          1,
          1,
          1,
          1,
          1,
          1,
          1,
          1,
          1,
          1,
          1,
          1,
          1,
          1,
          1,
          1,
          1,
          1,
          1,
          1,
          1,
          1,
          1,
          1,
          1,
          1,
          1,
          1,
          1,
          1,
          1,
          1,
          1,
          1,
          1,
          1,
          1,
          1,
          1,
          1,
          1,
          1,
          1,
          1,
          1,
          1,
          1,
          1,
          1,
          1,
          1,
          1,
          1,
          1,
          1,
          1,
          1,
          1,
          1,
          1,
          1,
          1,
          1,
          1,
          1,
          1,
          1,
          1,
          1
         ]
        },
        {
         "colorscale": [
          [
           0,
           "#EF553B"
          ],
          [
           1,
           "#EF553B"
          ]
         ],
         "geo": "geo",
         "hovertemplate": "color=Eastern Europe<br>locations=%{location}<extra></extra>",
         "locations": [
          "RUS",
          "RUS",
          "RUS",
          "RUS",
          "RUS",
          "RUS",
          "RUS",
          "RUS",
          "RUS",
          "RUS",
          "RUS",
          "RUS",
          "CZE",
          "RUS",
          "CZE",
          "HUN",
          "ROU",
          "POL",
          "RUS",
          "POL",
          "ROU",
          "HUN",
          "BGR",
          "CZE",
          "RUS",
          "RUS",
          "BGR",
          "HUN",
          "CZE",
          "ROU",
          "POL",
          "POL",
          "RUS",
          "CZE",
          "BGR",
          "ROU",
          "HUN",
          "BGR",
          "POL",
          "ROU",
          "HUN",
          "CZE",
          "RUS",
          "HUN",
          "CZE",
          "BGR",
          "ROU",
          "RUS",
          "POL",
          "HUN",
          "RUS",
          "ROU",
          "POL",
          "CZE",
          "BGR",
          "BGR",
          "SVK",
          "POL",
          "ROU",
          "RUS",
          "CZE",
          "HUN",
          "ROU",
          "SVK",
          "HUN",
          "CZE",
          "RUS",
          "BGR",
          "POL",
          "HUN",
          "POL",
          "BGR",
          "RUS",
          "ROU",
          "CZE",
          "SVK",
          "SVK",
          "CZE",
          "RUS",
          "POL",
          "ROU",
          "HUN",
          "BGR",
          "RUS",
          "BGR",
          "POL",
          "ROU",
          "CZE",
          "HUN",
          "SVK",
          "HUN",
          "SVK",
          "CZE",
          "POL",
          "BGR",
          "RUS",
          "ROU",
          "POL",
          "RUS",
          "ROU",
          "HUN",
          "SVK",
          "CZE",
          "BGR",
          "SVK",
          "RUS",
          "ROU",
          "BGR",
          "HUN",
          "POL",
          "CZE",
          "SVK",
          "RUS",
          "POL",
          "BGR",
          "ROU",
          "HUN",
          "CZE",
          "POL",
          "CZE",
          "ROU",
          "RUS",
          "HUN",
          "BGR",
          "SVK",
          "POL",
          "CZE",
          "BGR",
          "HUN",
          "ROU",
          "SVK",
          "BGR",
          "HUN",
          "POL",
          "SVK",
          "ROU",
          "CZE",
          "BGR",
          "POL",
          "SVK",
          "CZE",
          "HUN",
          "ROU",
          "CZE",
          "ROU",
          "BGR",
          "POL",
          "SVK",
          "HUN",
          "POL",
          "ROU",
          "HUN",
          "SVK",
          "CZE",
          "BGR",
          "CZE",
          "ROU",
          "POL",
          "BGR",
          "SVK",
          "HUN",
          "HUN",
          "BGR",
          "CZE",
          "SVK",
          "POL",
          "ROU",
          "SVK",
          "POL",
          "ROU",
          "HUN",
          "CZE",
          "BGR",
          "HUN",
          "ROU",
          "BGR",
          "POL",
          "SVK",
          "CZE",
          "BGR",
          "POL",
          "SVK",
          "ROU",
          "HUN",
          "CZE",
          "BGR",
          "HUN",
          "SVK",
          "POL",
          "CZE",
          "ROU",
          "ROU",
          "CZE",
          "SVK",
          "BGR",
          "POL",
          "HUN",
          "ROU",
          "POL",
          "HUN",
          "BGR",
          "SVK",
          "CZE",
          "ROU",
          "CZE",
          "POL",
          "SVK",
          "HUN",
          "BGR",
          "SVK",
          "HUN",
          "BGR",
          "POL",
          "ROU",
          "CZE",
          "CZE",
          "HUN",
          "ROU",
          "BGR",
          "SVK",
          "POL",
          "CZE",
          "BGR",
          "HUN",
          "SVK",
          "POL",
          "ROU",
          "POL",
          "BGR",
          "HUN",
          "SVK",
          "CZE",
          "ROU",
          "SVK",
          "HUN",
          "BGR",
          "CZE",
          "ROU",
          "POL",
          "HUN",
          "POL",
          "SVK",
          "CZE",
          "ROU",
          "BGR",
          "SVK",
          "BGR",
          "CZE",
          "POL",
          "ROU",
          "HUN",
          "CZE",
          "ROU",
          "HUN",
          "POL",
          "SVK",
          "BGR",
          "BGR",
          "CZE",
          "HUN",
          "ROU",
          "POL",
          "SVK",
          "HUN",
          "POL",
          "CZE",
          "ROU",
          "BGR",
          "SVK",
          "BGR",
          "ROU",
          "CZE",
          "SVK",
          "HUN",
          "POL",
          "ROU",
          "CZE",
          "HUN",
          "POL",
          "BGR",
          "SVK",
          "BGR",
          "POL",
          "HUN",
          "SVK",
          "CZE",
          "ROU",
          "CZE",
          "BGR",
          "ROU"
         ],
         "name": "Eastern Europe",
         "showlegend": true,
         "showscale": false,
         "type": "choropleth",
         "z": [
          1,
          1,
          1,
          1,
          1,
          1,
          1,
          1,
          1,
          1,
          1,
          1,
          1,
          1,
          1,
          1,
          1,
          1,
          1,
          1,
          1,
          1,
          1,
          1,
          1,
          1,
          1,
          1,
          1,
          1,
          1,
          1,
          1,
          1,
          1,
          1,
          1,
          1,
          1,
          1,
          1,
          1,
          1,
          1,
          1,
          1,
          1,
          1,
          1,
          1,
          1,
          1,
          1,
          1,
          1,
          1,
          1,
          1,
          1,
          1,
          1,
          1,
          1,
          1,
          1,
          1,
          1,
          1,
          1,
          1,
          1,
          1,
          1,
          1,
          1,
          1,
          1,
          1,
          1,
          1,
          1,
          1,
          1,
          1,
          1,
          1,
          1,
          1,
          1,
          1,
          1,
          1,
          1,
          1,
          1,
          1,
          1,
          1,
          1,
          1,
          1,
          1,
          1,
          1,
          1,
          1,
          1,
          1,
          1,
          1,
          1,
          1,
          1,
          1,
          1,
          1,
          1,
          1,
          1,
          1,
          1,
          1,
          1,
          1,
          1,
          1,
          1,
          1,
          1,
          1,
          1,
          1,
          1,
          1,
          1,
          1,
          1,
          1,
          1,
          1,
          1,
          1,
          1,
          1,
          1,
          1,
          1,
          1,
          1,
          1,
          1,
          1,
          1,
          1,
          1,
          1,
          1,
          1,
          1,
          1,
          1,
          1,
          1,
          1,
          1,
          1,
          1,
          1,
          1,
          1,
          1,
          1,
          1,
          1,
          1,
          1,
          1,
          1,
          1,
          1,
          1,
          1,
          1,
          1,
          1,
          1,
          1,
          1,
          1,
          1,
          1,
          1,
          1,
          1,
          1,
          1,
          1,
          1,
          1,
          1,
          1,
          1,
          1,
          1,
          1,
          1,
          1,
          1,
          1,
          1,
          1,
          1,
          1,
          1,
          1,
          1,
          1,
          1,
          1,
          1,
          1,
          1,
          1,
          1,
          1,
          1,
          1,
          1,
          1,
          1,
          1,
          1,
          1,
          1,
          1,
          1,
          1,
          1,
          1,
          1,
          1,
          1,
          1,
          1,
          1,
          1,
          1,
          1,
          1,
          1,
          1,
          1,
          1,
          1,
          1,
          1,
          1,
          1,
          1,
          1,
          1,
          1,
          1,
          1,
          1,
          1,
          1,
          1,
          1,
          1,
          1,
          1,
          1,
          1,
          1,
          1,
          1,
          1,
          1,
          1,
          1,
          1,
          1,
          1,
          1,
          1,
          1,
          1,
          1,
          1
         ]
        },
        {
         "colorscale": [
          [
           0,
           "#00cc96"
          ],
          [
           1,
           "#00cc96"
          ]
         ],
         "geo": "geo",
         "hovertemplate": "color=Eastern Asia<br>locations=%{location}<extra></extra>",
         "locations": [
          "CHN",
          "CHN",
          "CHN",
          "CHN",
          "CHN",
          "CHN",
          "CHN",
          "CHN",
          "CHN",
          "CHN",
          "CHN",
          "CHN",
          "CHN",
          "CHN",
          "CHN",
          "CHN",
          "CHN",
          "CHN",
          "CHN",
          "CHN",
          "CHN",
          "CHN",
          "CHN",
          "CHN",
          "CHN",
          "CHN",
          "CHN",
          "CHN",
          "CHN",
          "CHN",
          "CHN",
          "CHN",
          "CHN",
          "CHN",
          "CHN",
          "CHN",
          "CHN",
          "CHN",
          "CHN",
          "CHN",
          "CHN",
          "CHN",
          "CHN",
          "CHN",
          "CHN",
          "CHN",
          "CHN",
          "CHN",
          "CHN",
          "CHN",
          "CHN",
          "CHN",
          "CHN",
          "CHN",
          "CHN",
          "CHN",
          "CHN"
         ],
         "name": "Eastern Asia",
         "showlegend": true,
         "showscale": false,
         "type": "choropleth",
         "z": [
          1,
          1,
          1,
          1,
          1,
          1,
          1,
          1,
          1,
          1,
          1,
          1,
          1,
          1,
          1,
          1,
          1,
          1,
          1,
          1,
          1,
          1,
          1,
          1,
          1,
          1,
          1,
          1,
          1,
          1,
          1,
          1,
          1,
          1,
          1,
          1,
          1,
          1,
          1,
          1,
          1,
          1,
          1,
          1,
          1,
          1,
          1,
          1,
          1,
          1,
          1,
          1,
          1,
          1,
          1,
          1,
          1
         ]
        },
        {
         "colorscale": [
          [
           0,
           "#ab63fa"
          ],
          [
           1,
           "#ab63fa"
          ]
         ],
         "geo": "geo",
         "hovertemplate": "color=Western Asia<br>locations=%{location}<extra></extra>",
         "locations": [
          "ISR",
          "ISR",
          "ISR",
          "ISR",
          "ISR",
          "BHR",
          "ISR",
          "BHR",
          "BHR",
          "ISR",
          "BHR",
          "ISR",
          "BHR",
          "ISR",
          "KWT",
          "ISR",
          "BHR",
          "OMN",
          "OMN",
          "ISR",
          "BHR",
          "KWT",
          "BHR",
          "KWT",
          "ISR",
          "OMN",
          "OMN",
          "BHR",
          "KWT",
          "ISR",
          "KWT",
          "BHR",
          "ISR",
          "OMN",
          "KWT",
          "OMN",
          "BHR",
          "ISR",
          "BHR",
          "OMN",
          "ISR",
          "KWT",
          "KWT",
          "BHR",
          "OMN",
          "ISR",
          "ARE",
          "KWT",
          "OMN",
          "BHR",
          "ISR",
          "SAU",
          "CYP",
          "KWT",
          "ARE",
          "OMN",
          "BHR",
          "ISR",
          "ARE",
          "ISR",
          "SAU",
          "BHR",
          "OMN",
          "CYP",
          "KWT",
          "SAU",
          "OMN",
          "CYP",
          "ARE",
          "BHR",
          "ISR",
          "KWT",
          "CYP",
          "KWT",
          "BHR",
          "ISR",
          "OMN",
          "ARE",
          "SAU",
          "ARE",
          "ISR",
          "OMN",
          "SAU",
          "KWT",
          "CYP",
          "BHR",
          "OMN",
          "KWT",
          "SAU",
          "BHR",
          "CYP",
          "ARE",
          "ISR",
          "OMN",
          "ARE",
          "CYP",
          "KWT",
          "BHR",
          "ISR",
          "SAU",
          "ISR",
          "KWT",
          "OMN",
          "SAU",
          "BHR",
          "TUR",
          "ARE",
          "CYP",
          "BHR",
          "ISR",
          "CYP",
          "ARE",
          "SAU",
          "OWID_NCY",
          "KWT",
          "OMN",
          "TUR",
          "CYP",
          "ARE",
          "OWID_NCY",
          "SAU",
          "BHR",
          "TUR",
          "ISR",
          "KWT",
          "OMN",
          "BHR",
          "ISR",
          "ARE",
          "OMN",
          "KWT",
          "TUR",
          "CYP",
          "SAU",
          "OWID_NCY",
          "ISR",
          "CYP",
          "OWID_NCY",
          "SAU",
          "TUR",
          "OMN",
          "KWT",
          "ARE",
          "BHR",
          "SAU",
          "BHR",
          "OWID_NCY",
          "ISR",
          "CYP",
          "TUR",
          "OMN",
          "KWT",
          "ARE",
          "OMN",
          "KWT",
          "TUR",
          "ISR",
          "SAU",
          "BHR",
          "CYP",
          "ARE",
          "OWID_NCY",
          "KWT",
          "OWID_NCY",
          "ISR",
          "CYP",
          "TUR",
          "ARE",
          "BHR",
          "SAU",
          "OMN",
          "SAU",
          "OWID_NCY",
          "ISR",
          "OMN",
          "ARE",
          "TUR",
          "CYP",
          "BHR",
          "KWT",
          "CYP",
          "ISR",
          "BHR",
          "ARE",
          "OMN",
          "OWID_NCY",
          "SAU",
          "KWT",
          "TUR",
          "CYP",
          "OMN",
          "KWT",
          "BHR",
          "ISR",
          "SAU",
          "ARE",
          "TUR",
          "ISR",
          "BHR",
          "CYP",
          "SAU",
          "ARE",
          "TUR",
          "KWT",
          "OMN",
          "CYP",
          "SAU",
          "TUR",
          "KWT",
          "OMN",
          "ISR",
          "BHR",
          "ARE",
          "OMN",
          "SAU",
          "BHR",
          "TUR",
          "KWT",
          "CYP",
          "ARE",
          "ISR",
          "CYP",
          "BHR",
          "ISR",
          "ARE",
          "TUR",
          "OMN",
          "SAU",
          "TUR",
          "ISR",
          "ARE",
          "BHR",
          "OMN",
          "SAU",
          "CYP",
          "SAU",
          "CYP",
          "ARE",
          "BHR",
          "OMN",
          "TUR",
          "ISR",
          "BHR",
          "SAU",
          "ISR",
          "OMN",
          "ARE",
          "TUR",
          "CYP",
          "SAU",
          "TUR",
          "ISR",
          "ARE",
          "CYP",
          "BHR",
          "OMN",
          "ISR",
          "CYP",
          "ARE",
          "TUR",
          "BHR",
          "OMN",
          "SAU",
          "OMN",
          "ARE",
          "SAU",
          "BHR",
          "CYP",
          "ISR",
          "TUR",
          "BHR",
          "SAU",
          "CYP",
          "ISR",
          "OMN",
          "TUR",
          "ARE",
          "ARE",
          "TUR",
          "CYP",
          "OMN",
          "SAU",
          "ISR",
          "BHR",
          "ISR",
          "TUR",
          "ARE",
          "BHR",
          "CYP",
          "OMN",
          "SAU",
          "OMN",
          "TUR",
          "ARE",
          "SAU",
          "ISR",
          "BHR",
          "ARE",
          "OMN",
          "BHR",
          "SAU",
          "ISR",
          "TUR",
          "ARE",
          "OMN",
          "TUR",
          "ISR",
          "BHR",
          "BHR",
          "ARE",
          "OMN",
          "TUR",
          "ISR",
          "ISR",
          "ARE",
          "OMN",
          "TUR",
          "BHR"
         ],
         "name": "Western Asia",
         "showlegend": true,
         "showscale": false,
         "type": "choropleth",
         "z": [
          1,
          1,
          1,
          1,
          1,
          1,
          1,
          1,
          1,
          1,
          1,
          1,
          1,
          1,
          1,
          1,
          1,
          1,
          1,
          1,
          1,
          1,
          1,
          1,
          1,
          1,
          1,
          1,
          1,
          1,
          1,
          1,
          1,
          1,
          1,
          1,
          1,
          1,
          1,
          1,
          1,
          1,
          1,
          1,
          1,
          1,
          1,
          1,
          1,
          1,
          1,
          1,
          1,
          1,
          1,
          1,
          1,
          1,
          1,
          1,
          1,
          1,
          1,
          1,
          1,
          1,
          1,
          1,
          1,
          1,
          1,
          1,
          1,
          1,
          1,
          1,
          1,
          1,
          1,
          1,
          1,
          1,
          1,
          1,
          1,
          1,
          1,
          1,
          1,
          1,
          1,
          1,
          1,
          1,
          1,
          1,
          1,
          1,
          1,
          1,
          1,
          1,
          1,
          1,
          1,
          1,
          1,
          1,
          1,
          1,
          1,
          1,
          1,
          1,
          1,
          1,
          1,
          1,
          1,
          1,
          1,
          1,
          1,
          1,
          1,
          1,
          1,
          1,
          1,
          1,
          1,
          1,
          1,
          1,
          1,
          1,
          1,
          1,
          1,
          1,
          1,
          1,
          1,
          1,
          1,
          1,
          1,
          1,
          1,
          1,
          1,
          1,
          1,
          1,
          1,
          1,
          1,
          1,
          1,
          1,
          1,
          1,
          1,
          1,
          1,
          1,
          1,
          1,
          1,
          1,
          1,
          1,
          1,
          1,
          1,
          1,
          1,
          1,
          1,
          1,
          1,
          1,
          1,
          1,
          1,
          1,
          1,
          1,
          1,
          1,
          1,
          1,
          1,
          1,
          1,
          1,
          1,
          1,
          1,
          1,
          1,
          1,
          1,
          1,
          1,
          1,
          1,
          1,
          1,
          1,
          1,
          1,
          1,
          1,
          1,
          1,
          1,
          1,
          1,
          1,
          1,
          1,
          1,
          1,
          1,
          1,
          1,
          1,
          1,
          1,
          1,
          1,
          1,
          1,
          1,
          1,
          1,
          1,
          1,
          1,
          1,
          1,
          1,
          1,
          1,
          1,
          1,
          1,
          1,
          1,
          1,
          1,
          1,
          1,
          1,
          1,
          1,
          1,
          1,
          1,
          1,
          1,
          1,
          1,
          1,
          1,
          1,
          1,
          1,
          1,
          1,
          1,
          1,
          1,
          1,
          1,
          1,
          1,
          1,
          1,
          1,
          1,
          1,
          1,
          1,
          1,
          1,
          1,
          1,
          1,
          1,
          1,
          1,
          1,
          1,
          1,
          1,
          1,
          1,
          1,
          1,
          1,
          1,
          1,
          1,
          1,
          1,
          1,
          1,
          1,
          1,
          1,
          1,
          1,
          1,
          1,
          1,
          1
         ]
        },
        {
         "colorscale": [
          [
           0,
           "#FFA15A"
          ],
          [
           1,
           "#FFA15A"
          ]
         ],
         "geo": "geo",
         "hovertemplate": "color=Northern America<br>locations=%{location}<extra></extra>",
         "locations": [
          "CAN",
          "USA",
          "USA",
          "USA",
          "USA",
          "USA",
          "USA",
          "CAN",
          "USA",
          "USA",
          "USA",
          "USA",
          "USA",
          "USA",
          "USA",
          "CAN",
          "USA",
          "USA",
          "USA",
          "USA",
          "USA",
          "USA",
          "USA",
          "USA",
          "CAN",
          "USA",
          "BMU",
          "USA",
          "BMU",
          "USA",
          "CAN",
          "BMU",
          "BMU",
          "CAN",
          "USA",
          "BMU",
          "USA",
          "CAN",
          "CAN",
          "BMU",
          "USA",
          "USA",
          "CAN",
          "BMU",
          "USA",
          "CAN",
          "BMU",
          "BMU",
          "USA",
          "CAN",
          "CAN",
          "USA",
          "BMU",
          "USA",
          "CAN",
          "BMU",
          "CAN",
          "USA",
          "BMU",
          "CAN",
          "BMU",
          "USA",
          "BMU",
          "USA",
          "CAN",
          "BMU",
          "CAN",
          "USA",
          "BMU",
          "CAN",
          "USA",
          "BMU",
          "CAN",
          "USA",
          "GRL",
          "USA",
          "BMU",
          "CAN",
          "BMU",
          "CAN",
          "USA",
          "CAN",
          "USA",
          "BMU",
          "USA",
          "BMU",
          "CAN",
          "CAN",
          "BMU",
          "USA",
          "CAN",
          "BMU",
          "USA",
          "USA",
          "BMU",
          "CAN",
          "CAN",
          "USA",
          "BMU",
          "USA",
          "BMU",
          "CAN",
          "BMU",
          "CAN",
          "USA",
          "BMU",
          "USA",
          "CAN",
          "CAN",
          "USA",
          "USA",
          "CAN",
          "CAN",
          "USA",
          "CAN",
          "USA"
         ],
         "name": "Northern America",
         "showlegend": true,
         "showscale": false,
         "type": "choropleth",
         "z": [
          1,
          1,
          1,
          1,
          1,
          1,
          1,
          1,
          1,
          1,
          1,
          1,
          1,
          1,
          1,
          1,
          1,
          1,
          1,
          1,
          1,
          1,
          1,
          1,
          1,
          1,
          1,
          1,
          1,
          1,
          1,
          1,
          1,
          1,
          1,
          1,
          1,
          1,
          1,
          1,
          1,
          1,
          1,
          1,
          1,
          1,
          1,
          1,
          1,
          1,
          1,
          1,
          1,
          1,
          1,
          1,
          1,
          1,
          1,
          1,
          1,
          1,
          1,
          1,
          1,
          1,
          1,
          1,
          1,
          1,
          1,
          1,
          1,
          1,
          1,
          1,
          1,
          1,
          1,
          1,
          1,
          1,
          1,
          1,
          1,
          1,
          1,
          1,
          1,
          1,
          1,
          1,
          1,
          1,
          1,
          1,
          1,
          1,
          1,
          1,
          1,
          1,
          1,
          1,
          1,
          1,
          1,
          1,
          1,
          1,
          1,
          1,
          1,
          1,
          1,
          1
         ]
        },
        {
         "colorscale": [
          [
           0,
           "#19d3f3"
          ],
          [
           1,
           "#19d3f3"
          ]
         ],
         "geo": "geo",
         "hovertemplate": "color=Western Europe<br>locations=%{location}<extra></extra>",
         "locations": [
          "CHE",
          "CHE",
          "CHE",
          "CHE",
          "DEU",
          "CHE",
          "FRA",
          "FRA",
          "DEU",
          "CHE",
          "BEL",
          "DEU",
          "BEL",
          "FRA",
          "CHE",
          "BEL",
          "MCO",
          "LUX",
          "DEU",
          "CHE",
          "FRA",
          "DEU",
          "BEL",
          "LUX",
          "CHE",
          "FRA",
          "MCO",
          "DEU",
          "LUX",
          "CHE",
          "FRA",
          "BEL",
          "MCO",
          "LUX",
          "FRA",
          "CHE",
          "BEL",
          "MCO",
          "DEU",
          "LUX",
          "DEU",
          "BEL",
          "FRA",
          "MCO",
          "CHE",
          "CHE",
          "MCO",
          "FRA",
          "BEL",
          "DEU",
          "LUX",
          "FRA",
          "DEU",
          "MCO",
          "CHE",
          "LUX",
          "BEL",
          "NLD",
          "DEU",
          "CHE",
          "LUX",
          "FRA",
          "MCO",
          "BEL",
          "BEL",
          "LUX",
          "FRA",
          "CHE",
          "DEU",
          "NLD",
          "MCO",
          "NLD",
          "CHE",
          "FRA",
          "MCO",
          "BEL",
          "LUX",
          "DEU",
          "CHE",
          "NLD",
          "BEL",
          "DEU",
          "FRA",
          "LUX",
          "MCO",
          "LUX",
          "FRA",
          "MCO",
          "CHE",
          "DEU",
          "NLD",
          "AUT",
          "BEL",
          "FRA",
          "BEL",
          "AUT",
          "NLD",
          "DEU",
          "MCO",
          "LUX",
          "CHE",
          "NLD",
          "CHE",
          "BEL",
          "DEU",
          "AUT",
          "FRA",
          "MCO",
          "LUX",
          "NLD",
          "DEU",
          "CHE",
          "MCO",
          "LUX",
          "AUT",
          "BEL",
          "FRA",
          "MCO",
          "CHE",
          "NLD",
          "DEU",
          "BEL",
          "FRA",
          "AUT",
          "LUX",
          "FRA",
          "CHE",
          "MCO",
          "BEL",
          "NLD",
          "LUX",
          "DEU",
          "AUT",
          "BEL",
          "MCO",
          "LUX",
          "CHE",
          "DEU",
          "AUT",
          "FRA",
          "NLD",
          "CHE",
          "LUX",
          "BEL",
          "NLD",
          "FRA",
          "AUT",
          "DEU",
          "MCO",
          "CHE",
          "BEL",
          "AUT",
          "LUX",
          "DEU",
          "FRA",
          "MCO",
          "NLD",
          "FRA",
          "AUT",
          "DEU",
          "NLD",
          "BEL",
          "CHE",
          "LUX",
          "DEU",
          "NLD",
          "CHE",
          "AUT",
          "LUX",
          "BEL",
          "FRA",
          "FRA",
          "BEL",
          "LUX",
          "CHE",
          "NLD",
          "AUT",
          "DEU",
          "CHE",
          "BEL",
          "LUX",
          "AUT",
          "NLD",
          "DEU",
          "FRA",
          "AUT",
          "FRA",
          "NLD",
          "DEU",
          "BEL",
          "LUX",
          "CHE",
          "NLD",
          "FRA",
          "AUT",
          "DEU",
          "LUX",
          "BEL",
          "CHE",
          "DEU",
          "LUX",
          "AUT",
          "BEL",
          "CHE",
          "NLD",
          "FRA",
          "AUT",
          "BEL",
          "DEU",
          "FRA",
          "NLD",
          "CHE",
          "LUX",
          "AUT",
          "LUX",
          "DEU",
          "FRA",
          "BEL",
          "CHE",
          "NLD",
          "NLD",
          "LUX",
          "BEL",
          "AUT",
          "FRA",
          "DEU",
          "CHE",
          "FRA",
          "DEU",
          "AUT",
          "LUX",
          "BEL",
          "CHE",
          "NLD",
          "CHE",
          "BEL",
          "FRA",
          "LUX",
          "DEU",
          "NLD",
          "AUT",
          "NLD",
          "DEU",
          "LUX",
          "FRA",
          "CHE",
          "AUT",
          "BEL",
          "CHE",
          "LUX",
          "FRA",
          "DEU",
          "BEL",
          "AUT",
          "NLD",
          "DEU",
          "FRA",
          "CHE",
          "LUX",
          "NLD",
          "BEL",
          "AUT",
          "BEL",
          "AUT",
          "LIE",
          "CHE",
          "LUX",
          "NLD",
          "FRA",
          "DEU",
          "CHE",
          "NLD",
          "FRA",
          "DEU",
          "AUT",
          "BEL",
          "LUX",
          "LUX",
          "CHE",
          "AUT",
          "BEL",
          "FRA",
          "DEU",
          "NLD",
          "BEL",
          "DEU",
          "FRA",
          "NLD",
          "LUX",
          "CHE",
          "AUT",
          "AUT",
          "FRA",
          "NLD",
          "DEU",
          "LUX",
          "BEL",
          "CHE",
          "NLD",
          "AUT",
          "BEL",
          "FRA",
          "DEU",
          "LUX",
          "BEL",
          "AUT",
          "LUX",
          "NLD",
          "FRA",
          "DEU",
          "AUT",
          "NLD"
         ],
         "name": "Western Europe",
         "showlegend": true,
         "showscale": false,
         "type": "choropleth",
         "z": [
          1,
          1,
          1,
          1,
          1,
          1,
          1,
          1,
          1,
          1,
          1,
          1,
          1,
          1,
          1,
          1,
          1,
          1,
          1,
          1,
          1,
          1,
          1,
          1,
          1,
          1,
          1,
          1,
          1,
          1,
          1,
          1,
          1,
          1,
          1,
          1,
          1,
          1,
          1,
          1,
          1,
          1,
          1,
          1,
          1,
          1,
          1,
          1,
          1,
          1,
          1,
          1,
          1,
          1,
          1,
          1,
          1,
          1,
          1,
          1,
          1,
          1,
          1,
          1,
          1,
          1,
          1,
          1,
          1,
          1,
          1,
          1,
          1,
          1,
          1,
          1,
          1,
          1,
          1,
          1,
          1,
          1,
          1,
          1,
          1,
          1,
          1,
          1,
          1,
          1,
          1,
          1,
          1,
          1,
          1,
          1,
          1,
          1,
          1,
          1,
          1,
          1,
          1,
          1,
          1,
          1,
          1,
          1,
          1,
          1,
          1,
          1,
          1,
          1,
          1,
          1,
          1,
          1,
          1,
          1,
          1,
          1,
          1,
          1,
          1,
          1,
          1,
          1,
          1,
          1,
          1,
          1,
          1,
          1,
          1,
          1,
          1,
          1,
          1,
          1,
          1,
          1,
          1,
          1,
          1,
          1,
          1,
          1,
          1,
          1,
          1,
          1,
          1,
          1,
          1,
          1,
          1,
          1,
          1,
          1,
          1,
          1,
          1,
          1,
          1,
          1,
          1,
          1,
          1,
          1,
          1,
          1,
          1,
          1,
          1,
          1,
          1,
          1,
          1,
          1,
          1,
          1,
          1,
          1,
          1,
          1,
          1,
          1,
          1,
          1,
          1,
          1,
          1,
          1,
          1,
          1,
          1,
          1,
          1,
          1,
          1,
          1,
          1,
          1,
          1,
          1,
          1,
          1,
          1,
          1,
          1,
          1,
          1,
          1,
          1,
          1,
          1,
          1,
          1,
          1,
          1,
          1,
          1,
          1,
          1,
          1,
          1,
          1,
          1,
          1,
          1,
          1,
          1,
          1,
          1,
          1,
          1,
          1,
          1,
          1,
          1,
          1,
          1,
          1,
          1,
          1,
          1,
          1,
          1,
          1,
          1,
          1,
          1,
          1,
          1,
          1,
          1,
          1,
          1,
          1,
          1,
          1,
          1,
          1,
          1,
          1,
          1,
          1,
          1,
          1,
          1,
          1,
          1,
          1,
          1,
          1,
          1,
          1,
          1,
          1,
          1,
          1,
          1,
          1,
          1,
          1,
          1,
          1,
          1,
          1,
          1,
          1,
          1,
          1,
          1,
          1,
          1,
          1,
          1,
          1,
          1,
          1,
          1,
          1,
          1,
          1,
          1,
          1,
          1,
          1,
          1,
          1
         ]
        },
        {
         "colorscale": [
          [
           0,
           "#FF6692"
          ],
          [
           1,
           "#FF6692"
          ]
         ],
         "geo": "geo",
         "hovertemplate": "color=Latin America and the Caribbean<br>locations=%{location}<extra></extra>",
         "locations": [
          "CRI",
          "CHL",
          "MEX",
          "MEX",
          "CHL",
          "CRI",
          "MEX",
          "CYM",
          "CHL",
          "CRI",
          "MEX",
          "CRI",
          "CYM",
          "CHL",
          "MEX",
          "CRI",
          "CHL",
          "CYM",
          "CRI",
          "ARG",
          "MEX",
          "CHL",
          "CYM",
          "MEX",
          "CHL",
          "CYM",
          "CRI",
          "ARG",
          "CHL",
          "MEX",
          "CRI",
          "CYM",
          "ARG",
          "CYM",
          "CRI",
          "CHL",
          "MEX",
          "ARG",
          "CHL",
          "CYM",
          "ARG",
          "MEX",
          "CRI",
          "ARG",
          "CRI",
          "CYM",
          "MEX",
          "CHL",
          "CRI",
          "MEX",
          "ARG",
          "CYM",
          "CHL",
          "ARG",
          "CYM",
          "CHL",
          "CRI",
          "MEX",
          "ARG",
          "CHL",
          "MEX",
          "CYM",
          "CRI",
          "CRI",
          "MEX",
          "CYM",
          "CHL",
          "ARG",
          "MEX",
          "ARG",
          "CRI",
          "CHL",
          "CYM",
          "CRI",
          "MEX",
          "CYM",
          "CHL",
          "ARG",
          "MEX",
          "CHL",
          "CYM",
          "CRI",
          "ARG",
          "MEX",
          "CHL",
          "CRI",
          "ARG",
          "CYM",
          "CYM",
          "CHL",
          "CRI",
          "MEX",
          "ARG",
          "CYM",
          "CRI",
          "MEX",
          "CHL",
          "ARG",
          "CRI",
          "ARG",
          "CHL",
          "CYM",
          "MEX",
          "MEX",
          "CHL",
          "CRI",
          "ARG",
          "CYM",
          "CRI",
          "MEX",
          "CYM",
          "CHL",
          "BRA",
          "ARG",
          "CRI",
          "BRA",
          "ARG",
          "CYM",
          "CHL",
          "MEX",
          "CYM",
          "BRA",
          "CHL",
          "CRI",
          "ARG",
          "MEX",
          "CHL",
          "PAN",
          "MEX",
          "ARG",
          "CRI",
          "CYM",
          "BRA",
          "MEX",
          "CHL",
          "CYM",
          "CRI",
          "BRA",
          "ARG",
          "PAN",
          "ARG",
          "CYM",
          "CHL",
          "ECU",
          "BRA",
          "CRI",
          "PAN",
          "MEX",
          "CYM",
          "BRA",
          "ARG",
          "CRI",
          "MEX",
          "ECU",
          "PAN",
          "CHL",
          "CYM",
          "ECU",
          "BRA",
          "CHL",
          "MEX",
          "CRI",
          "ARG",
          "PAN",
          "MEX",
          "BRA",
          "CHL",
          "CRI",
          "PAN",
          "ARG",
          "ECU",
          "CYM",
          "CYM",
          "ARG",
          "BRA",
          "ECU",
          "MEX",
          "CRI",
          "CHL",
          "ARG",
          "ECU",
          "MEX",
          "CHL",
          "BRA",
          "CRI",
          "CYM",
          "CHL",
          "CYM",
          "CRI",
          "ECU",
          "BRA",
          "ARG",
          "MEX",
          "MEX",
          "BRA",
          "BOL",
          "CRI",
          "ARG",
          "CHL",
          "CYM",
          "ECU",
          "ECU",
          "ARG",
          "CYM",
          "MEX",
          "CHL",
          "CRI",
          "BOL",
          "BRA",
          "CYM",
          "ARG",
          "BOL",
          "BRA",
          "MEX",
          "ECU",
          "CRI",
          "CHL",
          "BOL",
          "MEX",
          "ECU",
          "BRA",
          "CRI",
          "CHL",
          "CYM",
          "ARG",
          "BOL",
          "MEX",
          "BRA",
          "CYM",
          "ECU",
          "CRI",
          "CHL",
          "ARG",
          "CHL",
          "ECU",
          "CRI",
          "ARG",
          "CYM",
          "BRA",
          "BOL",
          "MEX",
          "CYM",
          "BRA",
          "ARG",
          "BOL",
          "CHL",
          "CRI",
          "MEX",
          "ECU",
          "ECU",
          "CRI",
          "ARG",
          "MEX",
          "BRA",
          "CHL",
          "CYM",
          "MEX",
          "ARG",
          "BRA",
          "CYM",
          "CHL",
          "CRI",
          "BRA",
          "CHL",
          "CRI",
          "CYM",
          "MEX",
          "ARG",
          "MEX",
          "CYM",
          "BRA",
          "CHL",
          "ARG",
          "CRI",
          "CRI",
          "MEX",
          "CYM",
          "CHL",
          "BRA",
          "ARG",
          "ARG",
          "BRA",
          "CYM",
          "CHL",
          "PER",
          "MEX",
          "CYM",
          "MEX",
          "ARG",
          "BRA",
          "PER"
         ],
         "name": "Latin America and the Caribbean",
         "showlegend": true,
         "showscale": false,
         "type": "choropleth",
         "z": [
          1,
          1,
          1,
          1,
          1,
          1,
          1,
          1,
          1,
          1,
          1,
          1,
          1,
          1,
          1,
          1,
          1,
          1,
          1,
          1,
          1,
          1,
          1,
          1,
          1,
          1,
          1,
          1,
          1,
          1,
          1,
          1,
          1,
          1,
          1,
          1,
          1,
          1,
          1,
          1,
          1,
          1,
          1,
          1,
          1,
          1,
          1,
          1,
          1,
          1,
          1,
          1,
          1,
          1,
          1,
          1,
          1,
          1,
          1,
          1,
          1,
          1,
          1,
          1,
          1,
          1,
          1,
          1,
          1,
          1,
          1,
          1,
          1,
          1,
          1,
          1,
          1,
          1,
          1,
          1,
          1,
          1,
          1,
          1,
          1,
          1,
          1,
          1,
          1,
          1,
          1,
          1,
          1,
          1,
          1,
          1,
          1,
          1,
          1,
          1,
          1,
          1,
          1,
          1,
          1,
          1,
          1,
          1,
          1,
          1,
          1,
          1,
          1,
          1,
          1,
          1,
          1,
          1,
          1,
          1,
          1,
          1,
          1,
          1,
          1,
          1,
          1,
          1,
          1,
          1,
          1,
          1,
          1,
          1,
          1,
          1,
          1,
          1,
          1,
          1,
          1,
          1,
          1,
          1,
          1,
          1,
          1,
          1,
          1,
          1,
          1,
          1,
          1,
          1,
          1,
          1,
          1,
          1,
          1,
          1,
          1,
          1,
          1,
          1,
          1,
          1,
          1,
          1,
          1,
          1,
          1,
          1,
          1,
          1,
          1,
          1,
          1,
          1,
          1,
          1,
          1,
          1,
          1,
          1,
          1,
          1,
          1,
          1,
          1,
          1,
          1,
          1,
          1,
          1,
          1,
          1,
          1,
          1,
          1,
          1,
          1,
          1,
          1,
          1,
          1,
          1,
          1,
          1,
          1,
          1,
          1,
          1,
          1,
          1,
          1,
          1,
          1,
          1,
          1,
          1,
          1,
          1,
          1,
          1,
          1,
          1,
          1,
          1,
          1,
          1,
          1,
          1,
          1,
          1,
          1,
          1,
          1,
          1,
          1,
          1,
          1,
          1,
          1,
          1,
          1,
          1,
          1,
          1,
          1,
          1,
          1,
          1,
          1,
          1,
          1,
          1,
          1,
          1,
          1,
          1,
          1,
          1,
          1,
          1,
          1,
          1,
          1,
          1,
          1,
          1,
          1,
          1,
          1,
          1,
          1,
          1,
          1,
          1,
          1,
          1,
          1,
          1,
          1,
          1,
          1,
          1,
          1,
          1,
          1,
          1,
          1
         ]
        },
        {
         "colorscale": [
          [
           0,
           "#B6E880"
          ],
          [
           1,
           "#B6E880"
          ]
         ],
         "geo": "geo",
         "hovertemplate": "color=Southern Europe<br>locations=%{location}<extra></extra>",
         "locations": [
          "ITA",
          "SVN",
          "ITA",
          "SVN",
          "GRC",
          "MLT",
          "PRT",
          "ITA",
          "PRT",
          "MLT",
          "GRC",
          "SVN",
          "MLT",
          "HRV",
          "SVN",
          "ITA",
          "GRC",
          "PRT",
          "PRT",
          "HRV",
          "MLT",
          "SVN",
          "ITA",
          "GRC",
          "MLT",
          "SVN",
          "ITA",
          "GRC",
          "PRT",
          "HRV",
          "HRV",
          "GRC",
          "PRT",
          "MLT",
          "SVN",
          "ITA",
          "PRT",
          "HRV",
          "MLT",
          "ITA",
          "SVN",
          "GRC",
          "HRV",
          "ITA",
          "SVN",
          "PRT",
          "MLT",
          "GRC",
          "ESP",
          "GRC",
          "HRV",
          "PRT",
          "ESP",
          "SVN",
          "MLT",
          "ITA",
          "SVN",
          "ESP",
          "GRC",
          "MLT",
          "ITA",
          "HRV",
          "PRT",
          "ESP",
          "MLT",
          "ITA",
          "HRV",
          "PRT",
          "SVN",
          "GRC",
          "SVN",
          "SRB",
          "ESP",
          "GRC",
          "PRT",
          "HRV",
          "ITA",
          "MLT",
          "MLT",
          "ITA",
          "SRB",
          "SVN",
          "PRT",
          "HRV",
          "ESP",
          "GRC",
          "ITA",
          "ESP",
          "MLT",
          "PRT",
          "GRC",
          "GIB",
          "SRB",
          "HRV",
          "SVN",
          "HRV",
          "GRC",
          "PRT",
          "SVN",
          "GIB",
          "ITA",
          "ESP",
          "MLT",
          "SRB",
          "PRT",
          "ESP",
          "SVN",
          "HRV",
          "GRC",
          "SRB",
          "ITA",
          "MLT",
          "GIB",
          "GIB",
          "GRC",
          "ITA",
          "MLT",
          "ESP",
          "PRT",
          "SVN",
          "SRB",
          "HRV",
          "PRT",
          "MLT",
          "GRC",
          "ESP",
          "HRV",
          "SVN",
          "SRB",
          "ITA",
          "GIB",
          "ESP",
          "SRB",
          "HRV",
          "PRT",
          "GRC",
          "ITA",
          "GIB",
          "SVN",
          "MLT",
          "ITA",
          "MLT",
          "SVN",
          "PRT",
          "ESP",
          "HRV",
          "SRB",
          "GIB",
          "GRC",
          "ITA",
          "GRC",
          "GIB",
          "SRB",
          "SVN",
          "HRV",
          "MLT",
          "ESP",
          "PRT",
          "ESP",
          "ITA",
          "SRB",
          "SVN",
          "GIB",
          "GRC",
          "PRT",
          "MLT",
          "HRV",
          "GIB",
          "ESP",
          "SRB",
          "PRT",
          "ITA",
          "SVN",
          "GRC",
          "HRV",
          "MLT",
          "ESP",
          "SVN",
          "GRC",
          "MLT",
          "SRB",
          "HRV",
          "PRT",
          "GIB",
          "ITA",
          "MLT",
          "SRB",
          "HRV",
          "ESP",
          "ITA",
          "GIB",
          "PRT",
          "GRC",
          "SVN",
          "SRB",
          "GIB",
          "MLT",
          "SVN",
          "GRC",
          "ITA",
          "ESP",
          "HRV",
          "PRT",
          "SVN",
          "PRT",
          "MLT",
          "GRC",
          "HRV",
          "GIB",
          "SRB",
          "ESP",
          "ITA",
          "SRB",
          "HRV",
          "PRT",
          "SVN",
          "GRC",
          "GIB",
          "ITA",
          "ESP",
          "MLT",
          "AND",
          "GIB",
          "MLT",
          "SVN",
          "ITA",
          "ESP",
          "HRV",
          "SRB",
          "PRT",
          "GRC",
          "AND",
          "PRT",
          "SVN",
          "MLT",
          "HRV",
          "GIB",
          "ITA",
          "SRB",
          "GRC",
          "ESP",
          "GIB",
          "ESP",
          "GRC",
          "PRT",
          "HRV",
          "ITA",
          "SVN",
          "SRB",
          "AND",
          "MLT",
          "ITA",
          "AND",
          "PRT",
          "HRV",
          "MLT",
          "SVN",
          "SRB",
          "ESP",
          "GRC",
          "GIB",
          "AND",
          "HRV",
          "GRC",
          "GIB",
          "PRT",
          "SVN",
          "ESP",
          "ITA",
          "SRB",
          "MLT",
          "SVN",
          "SRB",
          "AND",
          "MLT",
          "ESP",
          "GRC",
          "HRV",
          "PRT",
          "ITA",
          "GIB",
          "PRT",
          "AND",
          "GIB",
          "ESP",
          "MLT",
          "SRB",
          "ITA",
          "HRV",
          "GRC",
          "SVN",
          "SVN",
          "ESP",
          "SRB",
          "ITA",
          "MLT",
          "HRV",
          "GIB",
          "GRC",
          "PRT",
          "AND",
          "GIB",
          "GRC",
          "PRT",
          "HRV",
          "SVN",
          "SRB",
          "MLT",
          "ITA",
          "ESP",
          "HRV",
          "SRB",
          "MLT",
          "ESP",
          "PRT",
          "ITA",
          "GIB",
          "GRC",
          "SVN",
          "ESP",
          "SVN",
          "ITA",
          "HRV",
          "GIB",
          "GRC",
          "PRT",
          "SRB",
          "MLT",
          "MLT",
          "ITA",
          "HRV",
          "GIB",
          "GRC",
          "SVN",
          "PRT",
          "SRB",
          "ESP",
          "GRC",
          "PRT",
          "GIB",
          "SRB",
          "HRV",
          "ESP",
          "SVN",
          "ITA",
          "MLT",
          "GRC",
          "GIB",
          "PRT",
          "MLT",
          "ITA",
          "SRB",
          "ESP",
          "SVN",
          "HRV",
          "MLT",
          "SRB",
          "HRV",
          "ESP",
          "SVN",
          "ITA",
          "GIB",
          "PRT",
          "GRC",
          "SRB",
          "SVN",
          "GRC",
          "ITA",
          "MLT",
          "GIB",
          "PRT",
          "ESP",
          "HRV",
          "MLT",
          "SRB",
          "ITA",
          "PRT",
          "GRC"
         ],
         "name": "Southern Europe",
         "showlegend": true,
         "showscale": false,
         "type": "choropleth",
         "z": [
          1,
          1,
          1,
          1,
          1,
          1,
          1,
          1,
          1,
          1,
          1,
          1,
          1,
          1,
          1,
          1,
          1,
          1,
          1,
          1,
          1,
          1,
          1,
          1,
          1,
          1,
          1,
          1,
          1,
          1,
          1,
          1,
          1,
          1,
          1,
          1,
          1,
          1,
          1,
          1,
          1,
          1,
          1,
          1,
          1,
          1,
          1,
          1,
          1,
          1,
          1,
          1,
          1,
          1,
          1,
          1,
          1,
          1,
          1,
          1,
          1,
          1,
          1,
          1,
          1,
          1,
          1,
          1,
          1,
          1,
          1,
          1,
          1,
          1,
          1,
          1,
          1,
          1,
          1,
          1,
          1,
          1,
          1,
          1,
          1,
          1,
          1,
          1,
          1,
          1,
          1,
          1,
          1,
          1,
          1,
          1,
          1,
          1,
          1,
          1,
          1,
          1,
          1,
          1,
          1,
          1,
          1,
          1,
          1,
          1,
          1,
          1,
          1,
          1,
          1,
          1,
          1,
          1,
          1,
          1,
          1,
          1,
          1,
          1,
          1,
          1,
          1,
          1,
          1,
          1,
          1,
          1,
          1,
          1,
          1,
          1,
          1,
          1,
          1,
          1,
          1,
          1,
          1,
          1,
          1,
          1,
          1,
          1,
          1,
          1,
          1,
          1,
          1,
          1,
          1,
          1,
          1,
          1,
          1,
          1,
          1,
          1,
          1,
          1,
          1,
          1,
          1,
          1,
          1,
          1,
          1,
          1,
          1,
          1,
          1,
          1,
          1,
          1,
          1,
          1,
          1,
          1,
          1,
          1,
          1,
          1,
          1,
          1,
          1,
          1,
          1,
          1,
          1,
          1,
          1,
          1,
          1,
          1,
          1,
          1,
          1,
          1,
          1,
          1,
          1,
          1,
          1,
          1,
          1,
          1,
          1,
          1,
          1,
          1,
          1,
          1,
          1,
          1,
          1,
          1,
          1,
          1,
          1,
          1,
          1,
          1,
          1,
          1,
          1,
          1,
          1,
          1,
          1,
          1,
          1,
          1,
          1,
          1,
          1,
          1,
          1,
          1,
          1,
          1,
          1,
          1,
          1,
          1,
          1,
          1,
          1,
          1,
          1,
          1,
          1,
          1,
          1,
          1,
          1,
          1,
          1,
          1,
          1,
          1,
          1,
          1,
          1,
          1,
          1,
          1,
          1,
          1,
          1,
          1,
          1,
          1,
          1,
          1,
          1,
          1,
          1,
          1,
          1,
          1,
          1,
          1,
          1,
          1,
          1,
          1,
          1,
          1,
          1,
          1,
          1,
          1,
          1,
          1,
          1,
          1,
          1,
          1,
          1,
          1,
          1,
          1,
          1,
          1,
          1,
          1,
          1,
          1,
          1,
          1,
          1,
          1,
          1,
          1,
          1,
          1,
          1,
          1,
          1,
          1,
          1,
          1,
          1,
          1,
          1,
          1,
          1,
          1,
          1,
          1,
          1,
          1,
          1,
          1,
          1,
          1,
          1,
          1,
          1,
          1,
          1,
          1,
          1,
          1,
          1,
          1,
          1,
          1,
          1,
          1,
          1,
          1,
          1,
          1,
          1,
          1,
          1,
          1,
          1,
          1,
          1,
          1,
          1,
          1,
          1,
          1,
          1,
          1,
          1,
          1,
          1,
          1,
          1,
          1
         ]
        },
        {
         "colorscale": [
          [
           0,
           "#FF97FF"
          ],
          [
           1,
           "#FF97FF"
          ]
         ],
         "geo": "geo",
         "hovertemplate": "color=Sub-Saharan Africa<br>locations=%{location}<extra></extra>",
         "locations": [
          "SYC",
          "SYC",
          "SYC",
          "SYC",
          "SYC",
          "SYC",
          "SYC",
          "SYC",
          "SYC",
          "SYC",
          "SYC",
          "SYC",
          "SYC",
          "SYC",
          "SYC",
          "SYC",
          "SYC",
          "SYC",
          "SYC",
          "SYC",
          "SYC",
          "SYC",
          "SYC",
          "SYC",
          "SYC",
          "SHN",
          "SYC",
          "SYC",
          "SYC",
          "SYC",
          "SYC",
          "SYC",
          "SYC"
         ],
         "name": "Sub-Saharan Africa",
         "showlegend": true,
         "showscale": false,
         "type": "choropleth",
         "z": [
          1,
          1,
          1,
          1,
          1,
          1,
          1,
          1,
          1,
          1,
          1,
          1,
          1,
          1,
          1,
          1,
          1,
          1,
          1,
          1,
          1,
          1,
          1,
          1,
          1,
          1,
          1,
          1,
          1,
          1,
          1,
          1,
          1
         ]
        },
        {
         "colorscale": [
          [
           0,
           "#FECB52"
          ],
          [
           1,
           "#FECB52"
          ]
         ],
         "geo": "geo",
         "hovertemplate": "color=South-eastern Asia<br>locations=%{location}<extra></extra>",
         "locations": [
          "SGP",
          "SGP",
          "IDN",
          "IDN",
          "SGP",
          "SGP",
          "IDN",
          "SGP",
          "IDN",
          "IDN",
          "SGP",
          "SGP",
          "IDN",
          "IDN",
          "SGP",
          "SGP",
          "IDN",
          "IDN",
          "SGP",
          "IDN",
          "SGP",
          "SGP",
          "IDN",
          "IDN",
          "SGP",
          "IDN",
          "SGP",
          "SGP",
          "IDN",
          "MMR",
          "IDN",
          "SGP",
          "SGP",
          "IDN",
          "MMR",
          "IDN",
          "SGP",
          "IDN",
          "SGP",
          "SGP",
          "IDN",
          "IDN",
          "SGP",
          "SGP",
          "IDN",
          "SGP",
          "IDN",
          "SGP",
          "IDN",
          "IDN",
          "SGP",
          "IDN",
          "SGP",
          "SGP",
          "IDN",
          "IDN",
          "SGP",
          "IDN",
          "SGP",
          "SGP",
          "IDN",
          "IDN",
          "SGP"
         ],
         "name": "South-eastern Asia",
         "showlegend": true,
         "showscale": false,
         "type": "choropleth",
         "z": [
          1,
          1,
          1,
          1,
          1,
          1,
          1,
          1,
          1,
          1,
          1,
          1,
          1,
          1,
          1,
          1,
          1,
          1,
          1,
          1,
          1,
          1,
          1,
          1,
          1,
          1,
          1,
          1,
          1,
          1,
          1,
          1,
          1,
          1,
          1,
          1,
          1,
          1,
          1,
          1,
          1,
          1,
          1,
          1,
          1,
          1,
          1,
          1,
          1,
          1,
          1,
          1,
          1,
          1,
          1,
          1,
          1,
          1,
          1,
          1,
          1,
          1,
          1
         ]
        },
        {
         "colorscale": [
          [
           0,
           "#636efa"
          ],
          [
           1,
           "#636efa"
          ]
         ],
         "geo": "geo",
         "hovertemplate": "color=Southern Asia<br>locations=%{location}<extra></extra>",
         "locations": [
          "IND",
          "IND",
          "IND",
          "IND",
          "IND",
          "IND",
          "IND",
          "IND",
          "IND",
          "IND",
          "IND",
          "BGD",
          "IND",
          "NPL",
          "IND",
          "BGD",
          "NPL",
          "LKA",
          "IND",
          "NPL",
          "BGD",
          "LKA",
          "IND",
          "BGD",
          "NPL",
          "NPL",
          "LKA",
          "IND",
          "BGD",
          "NPL",
          "IND",
          "LKA",
          "BGD",
          "IND",
          "BGD",
          "NPL",
          "LKA",
          "LKA",
          "IND",
          "MDV",
          "BGD",
          "NPL",
          "BGD",
          "MDV",
          "NPL",
          "LKA",
          "IND",
          "LKA",
          "IND",
          "NPL",
          "BGD",
          "MDV",
          "IND",
          "MDV",
          "BGD",
          "LKA",
          "IND",
          "BGD",
          "LKA",
          "MDV",
          "LKA",
          "MDV",
          "BGD",
          "IND",
          "IND",
          "MDV",
          "LKA",
          "IND",
          "MDV",
          "LKA",
          "LKA",
          "IND"
         ],
         "name": "Southern Asia",
         "showlegend": true,
         "showscale": false,
         "type": "choropleth",
         "z": [
          1,
          1,
          1,
          1,
          1,
          1,
          1,
          1,
          1,
          1,
          1,
          1,
          1,
          1,
          1,
          1,
          1,
          1,
          1,
          1,
          1,
          1,
          1,
          1,
          1,
          1,
          1,
          1,
          1,
          1,
          1,
          1,
          1,
          1,
          1,
          1,
          1,
          1,
          1,
          1,
          1,
          1,
          1,
          1,
          1,
          1,
          1,
          1,
          1,
          1,
          1,
          1,
          1,
          1,
          1,
          1,
          1,
          1,
          1,
          1,
          1,
          1,
          1,
          1,
          1,
          1,
          1,
          1,
          1,
          1,
          1,
          1
         ]
        },
        {
         "colorscale": [
          [
           0,
           "#EF553B"
          ],
          [
           1,
           "#EF553B"
          ]
         ],
         "geo": "geo",
         "hovertemplate": "color=Northern Africa<br>locations=%{location}<extra></extra>",
         "locations": [
          "EGY",
          "EGY",
          "EGY",
          "EGY",
          "MAR",
          "EGY",
          "EGY",
          "DZA",
          "MAR",
          "DZA",
          "EGY",
          "MAR",
          "MAR",
          "MAR",
          "MAR",
          "MAR",
          "MAR",
          "MAR",
          "MAR",
          "MAR",
          "MAR",
          "MAR",
          "MAR"
         ],
         "name": "Northern Africa",
         "showlegend": true,
         "showscale": false,
         "type": "choropleth",
         "z": [
          1,
          1,
          1,
          1,
          1,
          1,
          1,
          1,
          1,
          1,
          1,
          1,
          1,
          1,
          1,
          1,
          1,
          1,
          1,
          1,
          1,
          1,
          1
         ]
        }
       ],
       "layout": {
        "geo": {
         "center": {},
         "domain": {
          "x": [
           0,
           1
          ],
          "y": [
           0,
           1
          ]
         }
        },
        "legend": {
         "title": {
          "text": "color"
         },
         "tracegroupgap": 0
        },
        "template": {
         "data": {
          "bar": [
           {
            "error_x": {
             "color": "#2a3f5f"
            },
            "error_y": {
             "color": "#2a3f5f"
            },
            "marker": {
             "line": {
              "color": "#E5ECF6",
              "width": 0.5
             }
            },
            "type": "bar"
           }
          ],
          "barpolar": [
           {
            "marker": {
             "line": {
              "color": "#E5ECF6",
              "width": 0.5
             }
            },
            "type": "barpolar"
           }
          ],
          "carpet": [
           {
            "aaxis": {
             "endlinecolor": "#2a3f5f",
             "gridcolor": "white",
             "linecolor": "white",
             "minorgridcolor": "white",
             "startlinecolor": "#2a3f5f"
            },
            "baxis": {
             "endlinecolor": "#2a3f5f",
             "gridcolor": "white",
             "linecolor": "white",
             "minorgridcolor": "white",
             "startlinecolor": "#2a3f5f"
            },
            "type": "carpet"
           }
          ],
          "choropleth": [
           {
            "colorbar": {
             "outlinewidth": 0,
             "ticks": ""
            },
            "type": "choropleth"
           }
          ],
          "contour": [
           {
            "colorbar": {
             "outlinewidth": 0,
             "ticks": ""
            },
            "colorscale": [
             [
              0,
              "#0d0887"
             ],
             [
              0.1111111111111111,
              "#46039f"
             ],
             [
              0.2222222222222222,
              "#7201a8"
             ],
             [
              0.3333333333333333,
              "#9c179e"
             ],
             [
              0.4444444444444444,
              "#bd3786"
             ],
             [
              0.5555555555555556,
              "#d8576b"
             ],
             [
              0.6666666666666666,
              "#ed7953"
             ],
             [
              0.7777777777777778,
              "#fb9f3a"
             ],
             [
              0.8888888888888888,
              "#fdca26"
             ],
             [
              1,
              "#f0f921"
             ]
            ],
            "type": "contour"
           }
          ],
          "contourcarpet": [
           {
            "colorbar": {
             "outlinewidth": 0,
             "ticks": ""
            },
            "type": "contourcarpet"
           }
          ],
          "heatmap": [
           {
            "colorbar": {
             "outlinewidth": 0,
             "ticks": ""
            },
            "colorscale": [
             [
              0,
              "#0d0887"
             ],
             [
              0.1111111111111111,
              "#46039f"
             ],
             [
              0.2222222222222222,
              "#7201a8"
             ],
             [
              0.3333333333333333,
              "#9c179e"
             ],
             [
              0.4444444444444444,
              "#bd3786"
             ],
             [
              0.5555555555555556,
              "#d8576b"
             ],
             [
              0.6666666666666666,
              "#ed7953"
             ],
             [
              0.7777777777777778,
              "#fb9f3a"
             ],
             [
              0.8888888888888888,
              "#fdca26"
             ],
             [
              1,
              "#f0f921"
             ]
            ],
            "type": "heatmap"
           }
          ],
          "heatmapgl": [
           {
            "colorbar": {
             "outlinewidth": 0,
             "ticks": ""
            },
            "colorscale": [
             [
              0,
              "#0d0887"
             ],
             [
              0.1111111111111111,
              "#46039f"
             ],
             [
              0.2222222222222222,
              "#7201a8"
             ],
             [
              0.3333333333333333,
              "#9c179e"
             ],
             [
              0.4444444444444444,
              "#bd3786"
             ],
             [
              0.5555555555555556,
              "#d8576b"
             ],
             [
              0.6666666666666666,
              "#ed7953"
             ],
             [
              0.7777777777777778,
              "#fb9f3a"
             ],
             [
              0.8888888888888888,
              "#fdca26"
             ],
             [
              1,
              "#f0f921"
             ]
            ],
            "type": "heatmapgl"
           }
          ],
          "histogram": [
           {
            "marker": {
             "colorbar": {
              "outlinewidth": 0,
              "ticks": ""
             }
            },
            "type": "histogram"
           }
          ],
          "histogram2d": [
           {
            "colorbar": {
             "outlinewidth": 0,
             "ticks": ""
            },
            "colorscale": [
             [
              0,
              "#0d0887"
             ],
             [
              0.1111111111111111,
              "#46039f"
             ],
             [
              0.2222222222222222,
              "#7201a8"
             ],
             [
              0.3333333333333333,
              "#9c179e"
             ],
             [
              0.4444444444444444,
              "#bd3786"
             ],
             [
              0.5555555555555556,
              "#d8576b"
             ],
             [
              0.6666666666666666,
              "#ed7953"
             ],
             [
              0.7777777777777778,
              "#fb9f3a"
             ],
             [
              0.8888888888888888,
              "#fdca26"
             ],
             [
              1,
              "#f0f921"
             ]
            ],
            "type": "histogram2d"
           }
          ],
          "histogram2dcontour": [
           {
            "colorbar": {
             "outlinewidth": 0,
             "ticks": ""
            },
            "colorscale": [
             [
              0,
              "#0d0887"
             ],
             [
              0.1111111111111111,
              "#46039f"
             ],
             [
              0.2222222222222222,
              "#7201a8"
             ],
             [
              0.3333333333333333,
              "#9c179e"
             ],
             [
              0.4444444444444444,
              "#bd3786"
             ],
             [
              0.5555555555555556,
              "#d8576b"
             ],
             [
              0.6666666666666666,
              "#ed7953"
             ],
             [
              0.7777777777777778,
              "#fb9f3a"
             ],
             [
              0.8888888888888888,
              "#fdca26"
             ],
             [
              1,
              "#f0f921"
             ]
            ],
            "type": "histogram2dcontour"
           }
          ],
          "mesh3d": [
           {
            "colorbar": {
             "outlinewidth": 0,
             "ticks": ""
            },
            "type": "mesh3d"
           }
          ],
          "parcoords": [
           {
            "line": {
             "colorbar": {
              "outlinewidth": 0,
              "ticks": ""
             }
            },
            "type": "parcoords"
           }
          ],
          "pie": [
           {
            "automargin": true,
            "type": "pie"
           }
          ],
          "scatter": [
           {
            "marker": {
             "colorbar": {
              "outlinewidth": 0,
              "ticks": ""
             }
            },
            "type": "scatter"
           }
          ],
          "scatter3d": [
           {
            "line": {
             "colorbar": {
              "outlinewidth": 0,
              "ticks": ""
             }
            },
            "marker": {
             "colorbar": {
              "outlinewidth": 0,
              "ticks": ""
             }
            },
            "type": "scatter3d"
           }
          ],
          "scattercarpet": [
           {
            "marker": {
             "colorbar": {
              "outlinewidth": 0,
              "ticks": ""
             }
            },
            "type": "scattercarpet"
           }
          ],
          "scattergeo": [
           {
            "marker": {
             "colorbar": {
              "outlinewidth": 0,
              "ticks": ""
             }
            },
            "type": "scattergeo"
           }
          ],
          "scattergl": [
           {
            "marker": {
             "colorbar": {
              "outlinewidth": 0,
              "ticks": ""
             }
            },
            "type": "scattergl"
           }
          ],
          "scattermapbox": [
           {
            "marker": {
             "colorbar": {
              "outlinewidth": 0,
              "ticks": ""
             }
            },
            "type": "scattermapbox"
           }
          ],
          "scatterpolar": [
           {
            "marker": {
             "colorbar": {
              "outlinewidth": 0,
              "ticks": ""
             }
            },
            "type": "scatterpolar"
           }
          ],
          "scatterpolargl": [
           {
            "marker": {
             "colorbar": {
              "outlinewidth": 0,
              "ticks": ""
             }
            },
            "type": "scatterpolargl"
           }
          ],
          "scatterternary": [
           {
            "marker": {
             "colorbar": {
              "outlinewidth": 0,
              "ticks": ""
             }
            },
            "type": "scatterternary"
           }
          ],
          "surface": [
           {
            "colorbar": {
             "outlinewidth": 0,
             "ticks": ""
            },
            "colorscale": [
             [
              0,
              "#0d0887"
             ],
             [
              0.1111111111111111,
              "#46039f"
             ],
             [
              0.2222222222222222,
              "#7201a8"
             ],
             [
              0.3333333333333333,
              "#9c179e"
             ],
             [
              0.4444444444444444,
              "#bd3786"
             ],
             [
              0.5555555555555556,
              "#d8576b"
             ],
             [
              0.6666666666666666,
              "#ed7953"
             ],
             [
              0.7777777777777778,
              "#fb9f3a"
             ],
             [
              0.8888888888888888,
              "#fdca26"
             ],
             [
              1,
              "#f0f921"
             ]
            ],
            "type": "surface"
           }
          ],
          "table": [
           {
            "cells": {
             "fill": {
              "color": "#EBF0F8"
             },
             "line": {
              "color": "white"
             }
            },
            "header": {
             "fill": {
              "color": "#C8D4E3"
             },
             "line": {
              "color": "white"
             }
            },
            "type": "table"
           }
          ]
         },
         "layout": {
          "annotationdefaults": {
           "arrowcolor": "#2a3f5f",
           "arrowhead": 0,
           "arrowwidth": 1
          },
          "autotypenumbers": "strict",
          "coloraxis": {
           "colorbar": {
            "outlinewidth": 0,
            "ticks": ""
           }
          },
          "colorscale": {
           "diverging": [
            [
             0,
             "#8e0152"
            ],
            [
             0.1,
             "#c51b7d"
            ],
            [
             0.2,
             "#de77ae"
            ],
            [
             0.3,
             "#f1b6da"
            ],
            [
             0.4,
             "#fde0ef"
            ],
            [
             0.5,
             "#f7f7f7"
            ],
            [
             0.6,
             "#e6f5d0"
            ],
            [
             0.7,
             "#b8e186"
            ],
            [
             0.8,
             "#7fbc41"
            ],
            [
             0.9,
             "#4d9221"
            ],
            [
             1,
             "#276419"
            ]
           ],
           "sequential": [
            [
             0,
             "#0d0887"
            ],
            [
             0.1111111111111111,
             "#46039f"
            ],
            [
             0.2222222222222222,
             "#7201a8"
            ],
            [
             0.3333333333333333,
             "#9c179e"
            ],
            [
             0.4444444444444444,
             "#bd3786"
            ],
            [
             0.5555555555555556,
             "#d8576b"
            ],
            [
             0.6666666666666666,
             "#ed7953"
            ],
            [
             0.7777777777777778,
             "#fb9f3a"
            ],
            [
             0.8888888888888888,
             "#fdca26"
            ],
            [
             1,
             "#f0f921"
            ]
           ],
           "sequentialminus": [
            [
             0,
             "#0d0887"
            ],
            [
             0.1111111111111111,
             "#46039f"
            ],
            [
             0.2222222222222222,
             "#7201a8"
            ],
            [
             0.3333333333333333,
             "#9c179e"
            ],
            [
             0.4444444444444444,
             "#bd3786"
            ],
            [
             0.5555555555555556,
             "#d8576b"
            ],
            [
             0.6666666666666666,
             "#ed7953"
            ],
            [
             0.7777777777777778,
             "#fb9f3a"
            ],
            [
             0.8888888888888888,
             "#fdca26"
            ],
            [
             1,
             "#f0f921"
            ]
           ]
          },
          "colorway": [
           "#636efa",
           "#EF553B",
           "#00cc96",
           "#ab63fa",
           "#FFA15A",
           "#19d3f3",
           "#FF6692",
           "#B6E880",
           "#FF97FF",
           "#FECB52"
          ],
          "font": {
           "color": "#2a3f5f"
          },
          "geo": {
           "bgcolor": "white",
           "lakecolor": "white",
           "landcolor": "#E5ECF6",
           "showlakes": true,
           "showland": true,
           "subunitcolor": "white"
          },
          "hoverlabel": {
           "align": "left"
          },
          "hovermode": "closest",
          "mapbox": {
           "style": "light"
          },
          "paper_bgcolor": "white",
          "plot_bgcolor": "#E5ECF6",
          "polar": {
           "angularaxis": {
            "gridcolor": "white",
            "linecolor": "white",
            "ticks": ""
           },
           "bgcolor": "#E5ECF6",
           "radialaxis": {
            "gridcolor": "white",
            "linecolor": "white",
            "ticks": ""
           }
          },
          "scene": {
           "xaxis": {
            "backgroundcolor": "#E5ECF6",
            "gridcolor": "white",
            "gridwidth": 2,
            "linecolor": "white",
            "showbackground": true,
            "ticks": "",
            "zerolinecolor": "white"
           },
           "yaxis": {
            "backgroundcolor": "#E5ECF6",
            "gridcolor": "white",
            "gridwidth": 2,
            "linecolor": "white",
            "showbackground": true,
            "ticks": "",
            "zerolinecolor": "white"
           },
           "zaxis": {
            "backgroundcolor": "#E5ECF6",
            "gridcolor": "white",
            "gridwidth": 2,
            "linecolor": "white",
            "showbackground": true,
            "ticks": "",
            "zerolinecolor": "white"
           }
          },
          "shapedefaults": {
           "line": {
            "color": "#2a3f5f"
           }
          },
          "ternary": {
           "aaxis": {
            "gridcolor": "white",
            "linecolor": "white",
            "ticks": ""
           },
           "baxis": {
            "gridcolor": "white",
            "linecolor": "white",
            "ticks": ""
           },
           "bgcolor": "#E5ECF6",
           "caxis": {
            "gridcolor": "white",
            "linecolor": "white",
            "ticks": ""
           }
          },
          "title": {
           "x": 0.05
          },
          "xaxis": {
           "automargin": true,
           "gridcolor": "white",
           "linecolor": "white",
           "ticks": "",
           "title": {
            "standoff": 15
           },
           "zerolinecolor": "white",
           "zerolinewidth": 2
          },
          "yaxis": {
           "automargin": true,
           "gridcolor": "white",
           "linecolor": "white",
           "ticks": "",
           "title": {
            "standoff": 15
           },
           "zerolinecolor": "white",
           "zerolinewidth": 2
          }
         }
        },
        "title": {
         "text": "Regions with available data"
        }
       }
      },
      "text/html": [
       "<div>                            <div id=\"d8bff154-5a7f-4749-bef1-439149c501ec\" class=\"plotly-graph-div\" style=\"height:525px; width:100%;\"></div>            <script type=\"text/javascript\">                require([\"plotly\"], function(Plotly) {                    window.PLOTLYENV=window.PLOTLYENV || {};                                    if (document.getElementById(\"d8bff154-5a7f-4749-bef1-439149c501ec\")) {                    Plotly.newPlot(                        \"d8bff154-5a7f-4749-bef1-439149c501ec\",                        [{\"colorscale\": [[0.0, \"#636efa\"], [1.0, \"#636efa\"]], \"geo\": \"geo\", \"hovertemplate\": \"color=Northern Europe<br>locations=%{location}<extra></extra>\", \"locations\": [\"GBR\", \"GBR\", \"GBR\", \"GBR\", \"GBR\", \"GBR\", \"GBR\", \"GBR\", \"GBR\", \"GBR\", \"GBR\", \"GBR\", \"GBR\", \"GBR\", \"GBR\", \"GBR\", \"GBR\", \"GBR\", \"GBR\", \"GBR\", \"GBR\", \"GBR\", \"GBR\", \"GBR\", \"GBR\", \"GBR\", \"GBR\", \"GBR\", \"GBR\", \"GBR\", \"GBR\", \"GBR\", \"GBR\", \"GBR\", \"GBR\", \"GBR\", \"GBR\", \"GBR\", \"GBR\", \"GBR\", \"GBR\", \"GBR\", \"GBR\", \"GBR\", \"GBR\", \"GBR\", \"GBR\", \"GBR\", \"GBR\", \"GBR\", \"GBR\", \"GBR\", \"GBR\", \"GBR\", \"GBR\", \"GBR\", \"GBR\", \"GBR\", \"GBR\", \"GBR\", \"GBR\", \"GBR\", \"GBR\", \"GBR\", \"GBR\", \"GBR\", \"GBR\", \"GBR\", \"GBR\", \"GBR\", \"GBR\", \"GBR\", \"SWE\", \"GBR\", \"GBR\", \"LTU\", \"GBR\", \"NOR\", \"DNK\", \"GBR\", \"EST\", \"GBR\", \"LVA\", \"LTU\", \"DNK\", \"GBR\", \"GBR\", \"NOR\", \"GBR\", \"SWE\", \"LVA\", \"GBR\", \"LTU\", \"GBR\", \"SWE\", \"NOR\", \"EST\", \"GBR\", \"GBR\", \"GBR\", \"DNK\", \"GBR\", \"DNK\", \"GBR\", \"LVA\", \"GBR\", \"GBR\", \"EST\", \"LTU\", \"NOR\", \"ISL\", \"SWE\", \"GBR\", \"ISL\", \"GBR\", \"GBR\", \"IRL\", \"GBR\", \"EST\", \"NOR\", \"SWE\", \"DNK\", \"GBR\", \"GBR\", \"LTU\", \"FIN\", \"LTU\", \"FIN\", \"GBR\", \"EST\", \"IRL\", \"GBR\", \"GBR\", \"GBR\", \"GBR\", \"DNK\", \"NOR\", \"SWE\", \"ISL\", \"IRL\", \"SWE\", \"ISL\", \"LTU\", \"GBR\", \"FIN\", \"GBR\", \"DNK\", \"GBR\", \"GBR\", \"GBR\", \"NOR\", \"EST\", \"ISL\", \"NOR\", \"IRL\", \"GBR\", \"EST\", \"GBR\", \"GBR\", \"GBR\", \"SWE\", \"DNK\", \"FIN\", \"LTU\", \"GBR\", \"IRL\", \"SWE\", \"DNK\", \"GBR\", \"FIN\", \"GBR\", \"GBR\", \"GBR\", \"GBR\", \"EST\", \"NOR\", \"ISL\", \"LVA\", \"LTU\", \"IRL\", \"GBR\", \"GBR\", \"EST\", \"FIN\", \"GBR\", \"DNK\", \"ISL\", \"NOR\", \"LTU\", \"GBR\", \"GBR\", \"LVA\", \"SWE\", \"FIN\", \"LVA\", \"LTU\", \"EST\", \"DNK\", \"SWE\", \"GBR\", \"GBR\", \"GBR\", \"NOR\", \"GBR\", \"GBR\", \"IRL\", \"ISL\", \"GBR\", \"GBR\", \"NOR\", \"SWE\", \"DNK\", \"IRL\", \"GBR\", \"GBR\", \"FIN\", \"LTU\", \"ISL\", \"LVA\", \"GBR\", \"EST\", \"GBR\", \"EST\", \"DNK\", \"GBR\", \"FIN\", \"GBR\", \"NOR\", \"GBR\", \"GBR\", \"LTU\", \"LVA\", \"ISL\", \"IRL\", \"SWE\", \"IRL\", \"LVA\", \"GBR\", \"EST\", \"ISL\", \"SWE\", \"GBR\", \"GBR\", \"FIN\", \"GBR\", \"LTU\", \"NOR\", \"GBR\", \"DNK\", \"GBR\", \"IRL\", \"SWE\", \"LTU\", \"GBR\", \"FIN\", \"LVA\", \"EST\", \"ISL\", \"NOR\", \"GBR\", \"DNK\", \"GBR\", \"GBR\", \"DNK\", \"LVA\", \"GBR\", \"LTU\", \"GBR\", \"FIN\", \"IRL\", \"GBR\", \"SWE\", \"ISL\", \"NOR\", \"GBR\", \"GBR\", \"EST\", \"GBR\", \"GBR\", \"GBR\", \"IRL\", \"NOR\", \"LVA\", \"GBR\", \"DNK\", \"EST\", \"LTU\", \"FIN\", \"GBR\", \"SWE\", \"ISL\", \"DNK\", \"GBR\", \"IRL\", \"GBR\", \"SWE\", \"GBR\", \"EST\", \"GBR\", \"LTU\", \"FIN\", \"ISL\", \"LVA\", \"NOR\", \"GBR\", \"ISL\", \"GBR\", \"IRL\", \"LVA\", \"GBR\", \"FIN\", \"NOR\", \"DNK\", \"LTU\", \"GBR\", \"GBR\", \"EST\", \"GBR\", \"SWE\", \"LVA\", \"ISL\", \"FIN\", \"LTU\", \"NOR\", \"GBR\", \"GBR\", \"SWE\", \"EST\", \"GBR\", \"IRL\", \"DNK\", \"GBR\", \"GBR\", \"ISL\", \"GBR\", \"NOR\", \"LVA\", \"IRL\", \"GBR\", \"SWE\", \"LTU\", \"GBR\", \"DNK\", \"FIN\", \"GBR\", \"GBR\", \"EST\", \"IRL\", \"GBR\", \"SWE\", \"GBR\", \"EST\", \"NOR\", \"GBR\", \"LTU\", \"FIN\", \"LVA\", \"DNK\", \"GBR\", \"GBR\", \"ISL\", \"GBR\", \"FIN\", \"SWE\", \"GBR\", \"LTU\", \"NOR\", \"GBR\", \"DNK\", \"ISL\", \"IRL\", \"GBR\", \"GBR\", \"EST\", \"LVA\", \"NOR\", \"DNK\", \"LVA\", \"SWE\", \"GBR\", \"GBR\", \"LTU\", \"FIN\", \"GBR\", \"GBR\", \"GBR\", \"ISL\", \"EST\", \"IRL\", \"FIN\", \"EST\", \"GBR\", \"ISL\", \"IRL\", \"SWE\", \"DNK\", \"NOR\", \"GBR\", \"LVA\", \"GBR\", \"GBR\", \"LTU\", \"GBR\", \"GBR\", \"ISL\", \"GBR\", \"SWE\", \"LTU\", \"GBR\", \"FIN\", \"EST\", \"DNK\", \"LVA\", \"NOR\", \"GBR\", \"IMN\", \"IRL\", \"GBR\", \"GBR\", \"GBR\", \"GBR\", \"IMN\", \"ISL\", \"GBR\", \"IRL\", \"EST\", \"SWE\", \"NOR\", \"DNK\", \"GBR\", \"FIN\", \"LTU\", \"LVA\", \"IMN\", \"DNK\", \"GBR\", \"GBR\", \"LVA\", \"IRL\", \"LTU\", \"NOR\", \"GBR\", \"SWE\", \"GBR\", \"GBR\", \"EST\", \"ISL\", \"FIN\", \"GBR\", \"GBR\", \"ISL\", \"GBR\", \"GGY\", \"IRL\", \"GBR\", \"EST\", \"GBR\", \"FIN\", \"DNK\", \"IMN\", \"LTU\", \"NOR\", \"LVA\", \"SWE\", \"JEY\", \"GBR\", \"NOR\", \"EST\", \"GBR\", \"SWE\", \"DNK\", \"FIN\", \"GBR\", \"IRL\", \"IMN\", \"JEY\", \"LTU\", \"ISL\", \"GBR\", \"GBR\", \"LVA\", \"NOR\", \"GBR\", \"SWE\", \"GBR\", \"GBR\", \"GBR\", \"ISL\", \"GBR\", \"LTU\", \"JEY\", \"LVA\", \"EST\", \"FIN\", \"IMN\", \"DNK\", \"IRL\", \"LTU\", \"NOR\", \"LVA\", \"IRL\", \"GBR\", \"IMN\", \"ISL\", \"GBR\", \"JEY\", \"FIN\", \"GBR\", \"GBR\", \"SWE\", \"EST\", \"GBR\", \"DNK\", \"GBR\", \"ISL\", \"EST\", \"IRL\", \"GBR\", \"GBR\", \"IMN\", \"NOR\", \"LVA\", \"SWE\", \"FIN\", \"LTU\", \"GBR\", \"DNK\", \"JEY\", \"GBR\", \"GBR\", \"GBR\", \"DNK\", \"FRO\", \"GBR\", \"FIN\", \"EST\", \"ISL\", \"NOR\", \"JEY\", \"GBR\", \"GBR\", \"SWE\", \"IMN\", \"LVA\", \"LTU\", \"IRL\", \"NOR\", \"GBR\", \"DNK\", \"GBR\", \"GBR\", \"GBR\", \"EST\", \"FRO\", \"FIN\", \"SWE\", \"LTU\", \"JEY\", \"IMN\", \"GBR\", \"ISL\", \"LVA\", \"IRL\", \"IRL\", \"ISL\", \"FRO\", \"EST\", \"IMN\", \"GBR\", \"GBR\", \"JEY\", \"NOR\", \"LVA\", \"LTU\", \"GBR\", \"SWE\", \"FIN\", \"GBR\", \"GBR\", \"DNK\", \"GBR\", \"IRL\", \"IMN\", \"LVA\", \"LTU\", \"ISL\", \"DNK\", \"GBR\", \"GBR\", \"EST\", \"FRO\", \"FIN\", \"GBR\", \"SWE\", \"NOR\", \"GBR\", \"ISL\", \"GBR\", \"DNK\", \"GBR\", \"EST\", \"FRO\", \"FIN\", \"GBR\", \"LVA\", \"SWE\", \"LTU\", \"GBR\", \"GBR\", \"IMN\", \"NOR\", \"IRL\", \"GBR\", \"LVA\", \"LTU\", \"SWE\", \"GBR\", \"GBR\", \"NOR\", \"IMN\", \"DNK\", \"GBR\", \"GBR\", \"EST\", \"FRO\", \"FIN\", \"IRL\", \"ISL\", \"GBR\", \"GBR\", \"SWE\", \"LTU\", \"GBR\", \"LVA\", \"DNK\", \"GBR\", \"EST\", \"FRO\", \"FIN\", \"IMN\", \"IRL\", \"ISL\", \"NOR\", \"GBR\", \"LTU\", \"LVA\", \"IMN\", \"IRL\", \"FRO\", \"GBR\", \"ISL\", \"DNK\", \"GBR\", \"GBR\", \"EST\", \"FIN\", \"GBR\", \"NOR\", \"SWE\", \"GBR\", \"ISL\", \"IMN\", \"IRL\", \"GBR\", \"DNK\", \"GBR\", \"GBR\", \"EST\", \"FRO\", \"FIN\", \"LVA\", \"GBR\", \"NOR\", \"GBR\", \"LTU\", \"SWE\", \"DNK\", \"GBR\", \"FRO\", \"GBR\", \"FIN\", \"GBR\", \"EST\", \"LVA\", \"IMN\", \"NOR\", \"GBR\", \"IRL\", \"LTU\", \"SWE\", \"ISL\", \"GBR\", \"SWE\", \"GBR\", \"GBR\", \"GBR\", \"DNK\", \"GBR\", \"LTU\", \"EST\", \"ISL\", \"LVA\", \"NOR\", \"IMN\", \"GBR\", \"FRO\", \"FIN\", \"FIN\", \"GBR\", \"IMN\", \"LVA\", \"GBR\", \"LTU\", \"SWE\", \"NOR\", \"GBR\", \"GBR\", \"EST\", \"GBR\", \"DNK\", \"FRO\", \"LTU\", \"FIN\", \"SWE\", \"FRO\", \"EST\", \"IMN\"], \"name\": \"Northern Europe\", \"showlegend\": true, \"showscale\": false, \"type\": \"choropleth\", \"z\": [1, 1, 1, 1, 1, 1, 1, 1, 1, 1, 1, 1, 1, 1, 1, 1, 1, 1, 1, 1, 1, 1, 1, 1, 1, 1, 1, 1, 1, 1, 1, 1, 1, 1, 1, 1, 1, 1, 1, 1, 1, 1, 1, 1, 1, 1, 1, 1, 1, 1, 1, 1, 1, 1, 1, 1, 1, 1, 1, 1, 1, 1, 1, 1, 1, 1, 1, 1, 1, 1, 1, 1, 1, 1, 1, 1, 1, 1, 1, 1, 1, 1, 1, 1, 1, 1, 1, 1, 1, 1, 1, 1, 1, 1, 1, 1, 1, 1, 1, 1, 1, 1, 1, 1, 1, 1, 1, 1, 1, 1, 1, 1, 1, 1, 1, 1, 1, 1, 1, 1, 1, 1, 1, 1, 1, 1, 1, 1, 1, 1, 1, 1, 1, 1, 1, 1, 1, 1, 1, 1, 1, 1, 1, 1, 1, 1, 1, 1, 1, 1, 1, 1, 1, 1, 1, 1, 1, 1, 1, 1, 1, 1, 1, 1, 1, 1, 1, 1, 1, 1, 1, 1, 1, 1, 1, 1, 1, 1, 1, 1, 1, 1, 1, 1, 1, 1, 1, 1, 1, 1, 1, 1, 1, 1, 1, 1, 1, 1, 1, 1, 1, 1, 1, 1, 1, 1, 1, 1, 1, 1, 1, 1, 1, 1, 1, 1, 1, 1, 1, 1, 1, 1, 1, 1, 1, 1, 1, 1, 1, 1, 1, 1, 1, 1, 1, 1, 1, 1, 1, 1, 1, 1, 1, 1, 1, 1, 1, 1, 1, 1, 1, 1, 1, 1, 1, 1, 1, 1, 1, 1, 1, 1, 1, 1, 1, 1, 1, 1, 1, 1, 1, 1, 1, 1, 1, 1, 1, 1, 1, 1, 1, 1, 1, 1, 1, 1, 1, 1, 1, 1, 1, 1, 1, 1, 1, 1, 1, 1, 1, 1, 1, 1, 1, 1, 1, 1, 1, 1, 1, 1, 1, 1, 1, 1, 1, 1, 1, 1, 1, 1, 1, 1, 1, 1, 1, 1, 1, 1, 1, 1, 1, 1, 1, 1, 1, 1, 1, 1, 1, 1, 1, 1, 1, 1, 1, 1, 1, 1, 1, 1, 1, 1, 1, 1, 1, 1, 1, 1, 1, 1, 1, 1, 1, 1, 1, 1, 1, 1, 1, 1, 1, 1, 1, 1, 1, 1, 1, 1, 1, 1, 1, 1, 1, 1, 1, 1, 1, 1, 1, 1, 1, 1, 1, 1, 1, 1, 1, 1, 1, 1, 1, 1, 1, 1, 1, 1, 1, 1, 1, 1, 1, 1, 1, 1, 1, 1, 1, 1, 1, 1, 1, 1, 1, 1, 1, 1, 1, 1, 1, 1, 1, 1, 1, 1, 1, 1, 1, 1, 1, 1, 1, 1, 1, 1, 1, 1, 1, 1, 1, 1, 1, 1, 1, 1, 1, 1, 1, 1, 1, 1, 1, 1, 1, 1, 1, 1, 1, 1, 1, 1, 1, 1, 1, 1, 1, 1, 1, 1, 1, 1, 1, 1, 1, 1, 1, 1, 1, 1, 1, 1, 1, 1, 1, 1, 1, 1, 1, 1, 1, 1, 1, 1, 1, 1, 1, 1, 1, 1, 1, 1, 1, 1, 1, 1, 1, 1, 1, 1, 1, 1, 1, 1, 1, 1, 1, 1, 1, 1, 1, 1, 1, 1, 1, 1, 1, 1, 1, 1, 1, 1, 1, 1, 1, 1, 1, 1, 1, 1, 1, 1, 1, 1, 1, 1, 1, 1, 1, 1, 1, 1, 1, 1, 1, 1, 1, 1, 1, 1, 1, 1, 1, 1, 1, 1, 1, 1, 1, 1, 1, 1, 1, 1, 1, 1, 1, 1, 1, 1, 1, 1, 1, 1, 1, 1, 1, 1, 1, 1, 1, 1, 1, 1, 1, 1, 1, 1, 1, 1, 1, 1, 1, 1, 1, 1, 1, 1, 1, 1, 1, 1, 1, 1, 1, 1, 1, 1, 1, 1, 1, 1, 1, 1, 1, 1, 1, 1, 1, 1, 1, 1, 1, 1, 1, 1, 1, 1, 1, 1, 1, 1, 1, 1, 1, 1, 1, 1, 1, 1, 1, 1, 1, 1, 1, 1, 1, 1, 1, 1, 1, 1, 1, 1, 1, 1, 1, 1, 1, 1, 1, 1, 1, 1, 1, 1, 1, 1, 1, 1, 1, 1, 1, 1, 1, 1, 1, 1, 1, 1, 1, 1, 1, 1, 1, 1, 1, 1, 1, 1, 1, 1, 1, 1, 1, 1, 1, 1, 1, 1, 1, 1, 1, 1, 1, 1, 1, 1, 1]}, {\"colorscale\": [[0.0, \"#EF553B\"], [1.0, \"#EF553B\"]], \"geo\": \"geo\", \"hovertemplate\": \"color=Eastern Europe<br>locations=%{location}<extra></extra>\", \"locations\": [\"RUS\", \"RUS\", \"RUS\", \"RUS\", \"RUS\", \"RUS\", \"RUS\", \"RUS\", \"RUS\", \"RUS\", \"RUS\", \"RUS\", \"CZE\", \"RUS\", \"CZE\", \"HUN\", \"ROU\", \"POL\", \"RUS\", \"POL\", \"ROU\", \"HUN\", \"BGR\", \"CZE\", \"RUS\", \"RUS\", \"BGR\", \"HUN\", \"CZE\", \"ROU\", \"POL\", \"POL\", \"RUS\", \"CZE\", \"BGR\", \"ROU\", \"HUN\", \"BGR\", \"POL\", \"ROU\", \"HUN\", \"CZE\", \"RUS\", \"HUN\", \"CZE\", \"BGR\", \"ROU\", \"RUS\", \"POL\", \"HUN\", \"RUS\", \"ROU\", \"POL\", \"CZE\", \"BGR\", \"BGR\", \"SVK\", \"POL\", \"ROU\", \"RUS\", \"CZE\", \"HUN\", \"ROU\", \"SVK\", \"HUN\", \"CZE\", \"RUS\", \"BGR\", \"POL\", \"HUN\", \"POL\", \"BGR\", \"RUS\", \"ROU\", \"CZE\", \"SVK\", \"SVK\", \"CZE\", \"RUS\", \"POL\", \"ROU\", \"HUN\", \"BGR\", \"RUS\", \"BGR\", \"POL\", \"ROU\", \"CZE\", \"HUN\", \"SVK\", \"HUN\", \"SVK\", \"CZE\", \"POL\", \"BGR\", \"RUS\", \"ROU\", \"POL\", \"RUS\", \"ROU\", \"HUN\", \"SVK\", \"CZE\", \"BGR\", \"SVK\", \"RUS\", \"ROU\", \"BGR\", \"HUN\", \"POL\", \"CZE\", \"SVK\", \"RUS\", \"POL\", \"BGR\", \"ROU\", \"HUN\", \"CZE\", \"POL\", \"CZE\", \"ROU\", \"RUS\", \"HUN\", \"BGR\", \"SVK\", \"POL\", \"CZE\", \"BGR\", \"HUN\", \"ROU\", \"SVK\", \"BGR\", \"HUN\", \"POL\", \"SVK\", \"ROU\", \"CZE\", \"BGR\", \"POL\", \"SVK\", \"CZE\", \"HUN\", \"ROU\", \"CZE\", \"ROU\", \"BGR\", \"POL\", \"SVK\", \"HUN\", \"POL\", \"ROU\", \"HUN\", \"SVK\", \"CZE\", \"BGR\", \"CZE\", \"ROU\", \"POL\", \"BGR\", \"SVK\", \"HUN\", \"HUN\", \"BGR\", \"CZE\", \"SVK\", \"POL\", \"ROU\", \"SVK\", \"POL\", \"ROU\", \"HUN\", \"CZE\", \"BGR\", \"HUN\", \"ROU\", \"BGR\", \"POL\", \"SVK\", \"CZE\", \"BGR\", \"POL\", \"SVK\", \"ROU\", \"HUN\", \"CZE\", \"BGR\", \"HUN\", \"SVK\", \"POL\", \"CZE\", \"ROU\", \"ROU\", \"CZE\", \"SVK\", \"BGR\", \"POL\", \"HUN\", \"ROU\", \"POL\", \"HUN\", \"BGR\", \"SVK\", \"CZE\", \"ROU\", \"CZE\", \"POL\", \"SVK\", \"HUN\", \"BGR\", \"SVK\", \"HUN\", \"BGR\", \"POL\", \"ROU\", \"CZE\", \"CZE\", \"HUN\", \"ROU\", \"BGR\", \"SVK\", \"POL\", \"CZE\", \"BGR\", \"HUN\", \"SVK\", \"POL\", \"ROU\", \"POL\", \"BGR\", \"HUN\", \"SVK\", \"CZE\", \"ROU\", \"SVK\", \"HUN\", \"BGR\", \"CZE\", \"ROU\", \"POL\", \"HUN\", \"POL\", \"SVK\", \"CZE\", \"ROU\", \"BGR\", \"SVK\", \"BGR\", \"CZE\", \"POL\", \"ROU\", \"HUN\", \"CZE\", \"ROU\", \"HUN\", \"POL\", \"SVK\", \"BGR\", \"BGR\", \"CZE\", \"HUN\", \"ROU\", \"POL\", \"SVK\", \"HUN\", \"POL\", \"CZE\", \"ROU\", \"BGR\", \"SVK\", \"BGR\", \"ROU\", \"CZE\", \"SVK\", \"HUN\", \"POL\", \"ROU\", \"CZE\", \"HUN\", \"POL\", \"BGR\", \"SVK\", \"BGR\", \"POL\", \"HUN\", \"SVK\", \"CZE\", \"ROU\", \"CZE\", \"BGR\", \"ROU\"], \"name\": \"Eastern Europe\", \"showlegend\": true, \"showscale\": false, \"type\": \"choropleth\", \"z\": [1, 1, 1, 1, 1, 1, 1, 1, 1, 1, 1, 1, 1, 1, 1, 1, 1, 1, 1, 1, 1, 1, 1, 1, 1, 1, 1, 1, 1, 1, 1, 1, 1, 1, 1, 1, 1, 1, 1, 1, 1, 1, 1, 1, 1, 1, 1, 1, 1, 1, 1, 1, 1, 1, 1, 1, 1, 1, 1, 1, 1, 1, 1, 1, 1, 1, 1, 1, 1, 1, 1, 1, 1, 1, 1, 1, 1, 1, 1, 1, 1, 1, 1, 1, 1, 1, 1, 1, 1, 1, 1, 1, 1, 1, 1, 1, 1, 1, 1, 1, 1, 1, 1, 1, 1, 1, 1, 1, 1, 1, 1, 1, 1, 1, 1, 1, 1, 1, 1, 1, 1, 1, 1, 1, 1, 1, 1, 1, 1, 1, 1, 1, 1, 1, 1, 1, 1, 1, 1, 1, 1, 1, 1, 1, 1, 1, 1, 1, 1, 1, 1, 1, 1, 1, 1, 1, 1, 1, 1, 1, 1, 1, 1, 1, 1, 1, 1, 1, 1, 1, 1, 1, 1, 1, 1, 1, 1, 1, 1, 1, 1, 1, 1, 1, 1, 1, 1, 1, 1, 1, 1, 1, 1, 1, 1, 1, 1, 1, 1, 1, 1, 1, 1, 1, 1, 1, 1, 1, 1, 1, 1, 1, 1, 1, 1, 1, 1, 1, 1, 1, 1, 1, 1, 1, 1, 1, 1, 1, 1, 1, 1, 1, 1, 1, 1, 1, 1, 1, 1, 1, 1, 1, 1, 1, 1, 1, 1, 1, 1, 1, 1, 1, 1, 1, 1, 1, 1, 1, 1, 1, 1, 1, 1, 1, 1, 1, 1, 1, 1, 1, 1, 1, 1, 1, 1, 1, 1, 1, 1, 1, 1, 1, 1, 1, 1, 1, 1, 1, 1, 1]}, {\"colorscale\": [[0.0, \"#00cc96\"], [1.0, \"#00cc96\"]], \"geo\": \"geo\", \"hovertemplate\": \"color=Eastern Asia<br>locations=%{location}<extra></extra>\", \"locations\": [\"CHN\", \"CHN\", \"CHN\", \"CHN\", \"CHN\", \"CHN\", \"CHN\", \"CHN\", \"CHN\", \"CHN\", \"CHN\", \"CHN\", \"CHN\", \"CHN\", \"CHN\", \"CHN\", \"CHN\", \"CHN\", \"CHN\", \"CHN\", \"CHN\", \"CHN\", \"CHN\", \"CHN\", \"CHN\", \"CHN\", \"CHN\", \"CHN\", \"CHN\", \"CHN\", \"CHN\", \"CHN\", \"CHN\", \"CHN\", \"CHN\", \"CHN\", \"CHN\", \"CHN\", \"CHN\", \"CHN\", \"CHN\", \"CHN\", \"CHN\", \"CHN\", \"CHN\", \"CHN\", \"CHN\", \"CHN\", \"CHN\", \"CHN\", \"CHN\", \"CHN\", \"CHN\", \"CHN\", \"CHN\", \"CHN\", \"CHN\"], \"name\": \"Eastern Asia\", \"showlegend\": true, \"showscale\": false, \"type\": \"choropleth\", \"z\": [1, 1, 1, 1, 1, 1, 1, 1, 1, 1, 1, 1, 1, 1, 1, 1, 1, 1, 1, 1, 1, 1, 1, 1, 1, 1, 1, 1, 1, 1, 1, 1, 1, 1, 1, 1, 1, 1, 1, 1, 1, 1, 1, 1, 1, 1, 1, 1, 1, 1, 1, 1, 1, 1, 1, 1, 1]}, {\"colorscale\": [[0.0, \"#ab63fa\"], [1.0, \"#ab63fa\"]], \"geo\": \"geo\", \"hovertemplate\": \"color=Western Asia<br>locations=%{location}<extra></extra>\", \"locations\": [\"ISR\", \"ISR\", \"ISR\", \"ISR\", \"ISR\", \"BHR\", \"ISR\", \"BHR\", \"BHR\", \"ISR\", \"BHR\", \"ISR\", \"BHR\", \"ISR\", \"KWT\", \"ISR\", \"BHR\", \"OMN\", \"OMN\", \"ISR\", \"BHR\", \"KWT\", \"BHR\", \"KWT\", \"ISR\", \"OMN\", \"OMN\", \"BHR\", \"KWT\", \"ISR\", \"KWT\", \"BHR\", \"ISR\", \"OMN\", \"KWT\", \"OMN\", \"BHR\", \"ISR\", \"BHR\", \"OMN\", \"ISR\", \"KWT\", \"KWT\", \"BHR\", \"OMN\", \"ISR\", \"ARE\", \"KWT\", \"OMN\", \"BHR\", \"ISR\", \"SAU\", \"CYP\", \"KWT\", \"ARE\", \"OMN\", \"BHR\", \"ISR\", \"ARE\", \"ISR\", \"SAU\", \"BHR\", \"OMN\", \"CYP\", \"KWT\", \"SAU\", \"OMN\", \"CYP\", \"ARE\", \"BHR\", \"ISR\", \"KWT\", \"CYP\", \"KWT\", \"BHR\", \"ISR\", \"OMN\", \"ARE\", \"SAU\", \"ARE\", \"ISR\", \"OMN\", \"SAU\", \"KWT\", \"CYP\", \"BHR\", \"OMN\", \"KWT\", \"SAU\", \"BHR\", \"CYP\", \"ARE\", \"ISR\", \"OMN\", \"ARE\", \"CYP\", \"KWT\", \"BHR\", \"ISR\", \"SAU\", \"ISR\", \"KWT\", \"OMN\", \"SAU\", \"BHR\", \"TUR\", \"ARE\", \"CYP\", \"BHR\", \"ISR\", \"CYP\", \"ARE\", \"SAU\", \"OWID_NCY\", \"KWT\", \"OMN\", \"TUR\", \"CYP\", \"ARE\", \"OWID_NCY\", \"SAU\", \"BHR\", \"TUR\", \"ISR\", \"KWT\", \"OMN\", \"BHR\", \"ISR\", \"ARE\", \"OMN\", \"KWT\", \"TUR\", \"CYP\", \"SAU\", \"OWID_NCY\", \"ISR\", \"CYP\", \"OWID_NCY\", \"SAU\", \"TUR\", \"OMN\", \"KWT\", \"ARE\", \"BHR\", \"SAU\", \"BHR\", \"OWID_NCY\", \"ISR\", \"CYP\", \"TUR\", \"OMN\", \"KWT\", \"ARE\", \"OMN\", \"KWT\", \"TUR\", \"ISR\", \"SAU\", \"BHR\", \"CYP\", \"ARE\", \"OWID_NCY\", \"KWT\", \"OWID_NCY\", \"ISR\", \"CYP\", \"TUR\", \"ARE\", \"BHR\", \"SAU\", \"OMN\", \"SAU\", \"OWID_NCY\", \"ISR\", \"OMN\", \"ARE\", \"TUR\", \"CYP\", \"BHR\", \"KWT\", \"CYP\", \"ISR\", \"BHR\", \"ARE\", \"OMN\", \"OWID_NCY\", \"SAU\", \"KWT\", \"TUR\", \"CYP\", \"OMN\", \"KWT\", \"BHR\", \"ISR\", \"SAU\", \"ARE\", \"TUR\", \"ISR\", \"BHR\", \"CYP\", \"SAU\", \"ARE\", \"TUR\", \"KWT\", \"OMN\", \"CYP\", \"SAU\", \"TUR\", \"KWT\", \"OMN\", \"ISR\", \"BHR\", \"ARE\", \"OMN\", \"SAU\", \"BHR\", \"TUR\", \"KWT\", \"CYP\", \"ARE\", \"ISR\", \"CYP\", \"BHR\", \"ISR\", \"ARE\", \"TUR\", \"OMN\", \"SAU\", \"TUR\", \"ISR\", \"ARE\", \"BHR\", \"OMN\", \"SAU\", \"CYP\", \"SAU\", \"CYP\", \"ARE\", \"BHR\", \"OMN\", \"TUR\", \"ISR\", \"BHR\", \"SAU\", \"ISR\", \"OMN\", \"ARE\", \"TUR\", \"CYP\", \"SAU\", \"TUR\", \"ISR\", \"ARE\", \"CYP\", \"BHR\", \"OMN\", \"ISR\", \"CYP\", \"ARE\", \"TUR\", \"BHR\", \"OMN\", \"SAU\", \"OMN\", \"ARE\", \"SAU\", \"BHR\", \"CYP\", \"ISR\", \"TUR\", \"BHR\", \"SAU\", \"CYP\", \"ISR\", \"OMN\", \"TUR\", \"ARE\", \"ARE\", \"TUR\", \"CYP\", \"OMN\", \"SAU\", \"ISR\", \"BHR\", \"ISR\", \"TUR\", \"ARE\", \"BHR\", \"CYP\", \"OMN\", \"SAU\", \"OMN\", \"TUR\", \"ARE\", \"SAU\", \"ISR\", \"BHR\", \"ARE\", \"OMN\", \"BHR\", \"SAU\", \"ISR\", \"TUR\", \"ARE\", \"OMN\", \"TUR\", \"ISR\", \"BHR\", \"BHR\", \"ARE\", \"OMN\", \"TUR\", \"ISR\", \"ISR\", \"ARE\", \"OMN\", \"TUR\", \"BHR\"], \"name\": \"Western Asia\", \"showlegend\": true, \"showscale\": false, \"type\": \"choropleth\", \"z\": [1, 1, 1, 1, 1, 1, 1, 1, 1, 1, 1, 1, 1, 1, 1, 1, 1, 1, 1, 1, 1, 1, 1, 1, 1, 1, 1, 1, 1, 1, 1, 1, 1, 1, 1, 1, 1, 1, 1, 1, 1, 1, 1, 1, 1, 1, 1, 1, 1, 1, 1, 1, 1, 1, 1, 1, 1, 1, 1, 1, 1, 1, 1, 1, 1, 1, 1, 1, 1, 1, 1, 1, 1, 1, 1, 1, 1, 1, 1, 1, 1, 1, 1, 1, 1, 1, 1, 1, 1, 1, 1, 1, 1, 1, 1, 1, 1, 1, 1, 1, 1, 1, 1, 1, 1, 1, 1, 1, 1, 1, 1, 1, 1, 1, 1, 1, 1, 1, 1, 1, 1, 1, 1, 1, 1, 1, 1, 1, 1, 1, 1, 1, 1, 1, 1, 1, 1, 1, 1, 1, 1, 1, 1, 1, 1, 1, 1, 1, 1, 1, 1, 1, 1, 1, 1, 1, 1, 1, 1, 1, 1, 1, 1, 1, 1, 1, 1, 1, 1, 1, 1, 1, 1, 1, 1, 1, 1, 1, 1, 1, 1, 1, 1, 1, 1, 1, 1, 1, 1, 1, 1, 1, 1, 1, 1, 1, 1, 1, 1, 1, 1, 1, 1, 1, 1, 1, 1, 1, 1, 1, 1, 1, 1, 1, 1, 1, 1, 1, 1, 1, 1, 1, 1, 1, 1, 1, 1, 1, 1, 1, 1, 1, 1, 1, 1, 1, 1, 1, 1, 1, 1, 1, 1, 1, 1, 1, 1, 1, 1, 1, 1, 1, 1, 1, 1, 1, 1, 1, 1, 1, 1, 1, 1, 1, 1, 1, 1, 1, 1, 1, 1, 1, 1, 1, 1, 1, 1, 1, 1, 1, 1, 1, 1, 1, 1, 1, 1, 1, 1, 1, 1, 1, 1, 1, 1, 1, 1, 1, 1, 1, 1, 1, 1, 1, 1, 1, 1, 1, 1, 1, 1, 1, 1, 1, 1, 1, 1, 1]}, {\"colorscale\": [[0.0, \"#FFA15A\"], [1.0, \"#FFA15A\"]], \"geo\": \"geo\", \"hovertemplate\": \"color=Northern America<br>locations=%{location}<extra></extra>\", \"locations\": [\"CAN\", \"USA\", \"USA\", \"USA\", \"USA\", \"USA\", \"USA\", \"CAN\", \"USA\", \"USA\", \"USA\", \"USA\", \"USA\", \"USA\", \"USA\", \"CAN\", \"USA\", \"USA\", \"USA\", \"USA\", \"USA\", \"USA\", \"USA\", \"USA\", \"CAN\", \"USA\", \"BMU\", \"USA\", \"BMU\", \"USA\", \"CAN\", \"BMU\", \"BMU\", \"CAN\", \"USA\", \"BMU\", \"USA\", \"CAN\", \"CAN\", \"BMU\", \"USA\", \"USA\", \"CAN\", \"BMU\", \"USA\", \"CAN\", \"BMU\", \"BMU\", \"USA\", \"CAN\", \"CAN\", \"USA\", \"BMU\", \"USA\", \"CAN\", \"BMU\", \"CAN\", \"USA\", \"BMU\", \"CAN\", \"BMU\", \"USA\", \"BMU\", \"USA\", \"CAN\", \"BMU\", \"CAN\", \"USA\", \"BMU\", \"CAN\", \"USA\", \"BMU\", \"CAN\", \"USA\", \"GRL\", \"USA\", \"BMU\", \"CAN\", \"BMU\", \"CAN\", \"USA\", \"CAN\", \"USA\", \"BMU\", \"USA\", \"BMU\", \"CAN\", \"CAN\", \"BMU\", \"USA\", \"CAN\", \"BMU\", \"USA\", \"USA\", \"BMU\", \"CAN\", \"CAN\", \"USA\", \"BMU\", \"USA\", \"BMU\", \"CAN\", \"BMU\", \"CAN\", \"USA\", \"BMU\", \"USA\", \"CAN\", \"CAN\", \"USA\", \"USA\", \"CAN\", \"CAN\", \"USA\", \"CAN\", \"USA\"], \"name\": \"Northern America\", \"showlegend\": true, \"showscale\": false, \"type\": \"choropleth\", \"z\": [1, 1, 1, 1, 1, 1, 1, 1, 1, 1, 1, 1, 1, 1, 1, 1, 1, 1, 1, 1, 1, 1, 1, 1, 1, 1, 1, 1, 1, 1, 1, 1, 1, 1, 1, 1, 1, 1, 1, 1, 1, 1, 1, 1, 1, 1, 1, 1, 1, 1, 1, 1, 1, 1, 1, 1, 1, 1, 1, 1, 1, 1, 1, 1, 1, 1, 1, 1, 1, 1, 1, 1, 1, 1, 1, 1, 1, 1, 1, 1, 1, 1, 1, 1, 1, 1, 1, 1, 1, 1, 1, 1, 1, 1, 1, 1, 1, 1, 1, 1, 1, 1, 1, 1, 1, 1, 1, 1, 1, 1, 1, 1, 1, 1, 1, 1]}, {\"colorscale\": [[0.0, \"#19d3f3\"], [1.0, \"#19d3f3\"]], \"geo\": \"geo\", \"hovertemplate\": \"color=Western Europe<br>locations=%{location}<extra></extra>\", \"locations\": [\"CHE\", \"CHE\", \"CHE\", \"CHE\", \"DEU\", \"CHE\", \"FRA\", \"FRA\", \"DEU\", \"CHE\", \"BEL\", \"DEU\", \"BEL\", \"FRA\", \"CHE\", \"BEL\", \"MCO\", \"LUX\", \"DEU\", \"CHE\", \"FRA\", \"DEU\", \"BEL\", \"LUX\", \"CHE\", \"FRA\", \"MCO\", \"DEU\", \"LUX\", \"CHE\", \"FRA\", \"BEL\", \"MCO\", \"LUX\", \"FRA\", \"CHE\", \"BEL\", \"MCO\", \"DEU\", \"LUX\", \"DEU\", \"BEL\", \"FRA\", \"MCO\", \"CHE\", \"CHE\", \"MCO\", \"FRA\", \"BEL\", \"DEU\", \"LUX\", \"FRA\", \"DEU\", \"MCO\", \"CHE\", \"LUX\", \"BEL\", \"NLD\", \"DEU\", \"CHE\", \"LUX\", \"FRA\", \"MCO\", \"BEL\", \"BEL\", \"LUX\", \"FRA\", \"CHE\", \"DEU\", \"NLD\", \"MCO\", \"NLD\", \"CHE\", \"FRA\", \"MCO\", \"BEL\", \"LUX\", \"DEU\", \"CHE\", \"NLD\", \"BEL\", \"DEU\", \"FRA\", \"LUX\", \"MCO\", \"LUX\", \"FRA\", \"MCO\", \"CHE\", \"DEU\", \"NLD\", \"AUT\", \"BEL\", \"FRA\", \"BEL\", \"AUT\", \"NLD\", \"DEU\", \"MCO\", \"LUX\", \"CHE\", \"NLD\", \"CHE\", \"BEL\", \"DEU\", \"AUT\", \"FRA\", \"MCO\", \"LUX\", \"NLD\", \"DEU\", \"CHE\", \"MCO\", \"LUX\", \"AUT\", \"BEL\", \"FRA\", \"MCO\", \"CHE\", \"NLD\", \"DEU\", \"BEL\", \"FRA\", \"AUT\", \"LUX\", \"FRA\", \"CHE\", \"MCO\", \"BEL\", \"NLD\", \"LUX\", \"DEU\", \"AUT\", \"BEL\", \"MCO\", \"LUX\", \"CHE\", \"DEU\", \"AUT\", \"FRA\", \"NLD\", \"CHE\", \"LUX\", \"BEL\", \"NLD\", \"FRA\", \"AUT\", \"DEU\", \"MCO\", \"CHE\", \"BEL\", \"AUT\", \"LUX\", \"DEU\", \"FRA\", \"MCO\", \"NLD\", \"FRA\", \"AUT\", \"DEU\", \"NLD\", \"BEL\", \"CHE\", \"LUX\", \"DEU\", \"NLD\", \"CHE\", \"AUT\", \"LUX\", \"BEL\", \"FRA\", \"FRA\", \"BEL\", \"LUX\", \"CHE\", \"NLD\", \"AUT\", \"DEU\", \"CHE\", \"BEL\", \"LUX\", \"AUT\", \"NLD\", \"DEU\", \"FRA\", \"AUT\", \"FRA\", \"NLD\", \"DEU\", \"BEL\", \"LUX\", \"CHE\", \"NLD\", \"FRA\", \"AUT\", \"DEU\", \"LUX\", \"BEL\", \"CHE\", \"DEU\", \"LUX\", \"AUT\", \"BEL\", \"CHE\", \"NLD\", \"FRA\", \"AUT\", \"BEL\", \"DEU\", \"FRA\", \"NLD\", \"CHE\", \"LUX\", \"AUT\", \"LUX\", \"DEU\", \"FRA\", \"BEL\", \"CHE\", \"NLD\", \"NLD\", \"LUX\", \"BEL\", \"AUT\", \"FRA\", \"DEU\", \"CHE\", \"FRA\", \"DEU\", \"AUT\", \"LUX\", \"BEL\", \"CHE\", \"NLD\", \"CHE\", \"BEL\", \"FRA\", \"LUX\", \"DEU\", \"NLD\", \"AUT\", \"NLD\", \"DEU\", \"LUX\", \"FRA\", \"CHE\", \"AUT\", \"BEL\", \"CHE\", \"LUX\", \"FRA\", \"DEU\", \"BEL\", \"AUT\", \"NLD\", \"DEU\", \"FRA\", \"CHE\", \"LUX\", \"NLD\", \"BEL\", \"AUT\", \"BEL\", \"AUT\", \"LIE\", \"CHE\", \"LUX\", \"NLD\", \"FRA\", \"DEU\", \"CHE\", \"NLD\", \"FRA\", \"DEU\", \"AUT\", \"BEL\", \"LUX\", \"LUX\", \"CHE\", \"AUT\", \"BEL\", \"FRA\", \"DEU\", \"NLD\", \"BEL\", \"DEU\", \"FRA\", \"NLD\", \"LUX\", \"CHE\", \"AUT\", \"AUT\", \"FRA\", \"NLD\", \"DEU\", \"LUX\", \"BEL\", \"CHE\", \"NLD\", \"AUT\", \"BEL\", \"FRA\", \"DEU\", \"LUX\", \"BEL\", \"AUT\", \"LUX\", \"NLD\", \"FRA\", \"DEU\", \"AUT\", \"NLD\"], \"name\": \"Western Europe\", \"showlegend\": true, \"showscale\": false, \"type\": \"choropleth\", \"z\": [1, 1, 1, 1, 1, 1, 1, 1, 1, 1, 1, 1, 1, 1, 1, 1, 1, 1, 1, 1, 1, 1, 1, 1, 1, 1, 1, 1, 1, 1, 1, 1, 1, 1, 1, 1, 1, 1, 1, 1, 1, 1, 1, 1, 1, 1, 1, 1, 1, 1, 1, 1, 1, 1, 1, 1, 1, 1, 1, 1, 1, 1, 1, 1, 1, 1, 1, 1, 1, 1, 1, 1, 1, 1, 1, 1, 1, 1, 1, 1, 1, 1, 1, 1, 1, 1, 1, 1, 1, 1, 1, 1, 1, 1, 1, 1, 1, 1, 1, 1, 1, 1, 1, 1, 1, 1, 1, 1, 1, 1, 1, 1, 1, 1, 1, 1, 1, 1, 1, 1, 1, 1, 1, 1, 1, 1, 1, 1, 1, 1, 1, 1, 1, 1, 1, 1, 1, 1, 1, 1, 1, 1, 1, 1, 1, 1, 1, 1, 1, 1, 1, 1, 1, 1, 1, 1, 1, 1, 1, 1, 1, 1, 1, 1, 1, 1, 1, 1, 1, 1, 1, 1, 1, 1, 1, 1, 1, 1, 1, 1, 1, 1, 1, 1, 1, 1, 1, 1, 1, 1, 1, 1, 1, 1, 1, 1, 1, 1, 1, 1, 1, 1, 1, 1, 1, 1, 1, 1, 1, 1, 1, 1, 1, 1, 1, 1, 1, 1, 1, 1, 1, 1, 1, 1, 1, 1, 1, 1, 1, 1, 1, 1, 1, 1, 1, 1, 1, 1, 1, 1, 1, 1, 1, 1, 1, 1, 1, 1, 1, 1, 1, 1, 1, 1, 1, 1, 1, 1, 1, 1, 1, 1, 1, 1, 1, 1, 1, 1, 1, 1, 1, 1, 1, 1, 1, 1, 1, 1, 1, 1, 1, 1, 1, 1, 1, 1, 1, 1, 1, 1, 1, 1, 1, 1, 1, 1, 1, 1, 1, 1, 1, 1, 1, 1, 1, 1, 1, 1, 1, 1, 1, 1]}, {\"colorscale\": [[0.0, \"#FF6692\"], [1.0, \"#FF6692\"]], \"geo\": \"geo\", \"hovertemplate\": \"color=Latin America and the Caribbean<br>locations=%{location}<extra></extra>\", \"locations\": [\"CRI\", \"CHL\", \"MEX\", \"MEX\", \"CHL\", \"CRI\", \"MEX\", \"CYM\", \"CHL\", \"CRI\", \"MEX\", \"CRI\", \"CYM\", \"CHL\", \"MEX\", \"CRI\", \"CHL\", \"CYM\", \"CRI\", \"ARG\", \"MEX\", \"CHL\", \"CYM\", \"MEX\", \"CHL\", \"CYM\", \"CRI\", \"ARG\", \"CHL\", \"MEX\", \"CRI\", \"CYM\", \"ARG\", \"CYM\", \"CRI\", \"CHL\", \"MEX\", \"ARG\", \"CHL\", \"CYM\", \"ARG\", \"MEX\", \"CRI\", \"ARG\", \"CRI\", \"CYM\", \"MEX\", \"CHL\", \"CRI\", \"MEX\", \"ARG\", \"CYM\", \"CHL\", \"ARG\", \"CYM\", \"CHL\", \"CRI\", \"MEX\", \"ARG\", \"CHL\", \"MEX\", \"CYM\", \"CRI\", \"CRI\", \"MEX\", \"CYM\", \"CHL\", \"ARG\", \"MEX\", \"ARG\", \"CRI\", \"CHL\", \"CYM\", \"CRI\", \"MEX\", \"CYM\", \"CHL\", \"ARG\", \"MEX\", \"CHL\", \"CYM\", \"CRI\", \"ARG\", \"MEX\", \"CHL\", \"CRI\", \"ARG\", \"CYM\", \"CYM\", \"CHL\", \"CRI\", \"MEX\", \"ARG\", \"CYM\", \"CRI\", \"MEX\", \"CHL\", \"ARG\", \"CRI\", \"ARG\", \"CHL\", \"CYM\", \"MEX\", \"MEX\", \"CHL\", \"CRI\", \"ARG\", \"CYM\", \"CRI\", \"MEX\", \"CYM\", \"CHL\", \"BRA\", \"ARG\", \"CRI\", \"BRA\", \"ARG\", \"CYM\", \"CHL\", \"MEX\", \"CYM\", \"BRA\", \"CHL\", \"CRI\", \"ARG\", \"MEX\", \"CHL\", \"PAN\", \"MEX\", \"ARG\", \"CRI\", \"CYM\", \"BRA\", \"MEX\", \"CHL\", \"CYM\", \"CRI\", \"BRA\", \"ARG\", \"PAN\", \"ARG\", \"CYM\", \"CHL\", \"ECU\", \"BRA\", \"CRI\", \"PAN\", \"MEX\", \"CYM\", \"BRA\", \"ARG\", \"CRI\", \"MEX\", \"ECU\", \"PAN\", \"CHL\", \"CYM\", \"ECU\", \"BRA\", \"CHL\", \"MEX\", \"CRI\", \"ARG\", \"PAN\", \"MEX\", \"BRA\", \"CHL\", \"CRI\", \"PAN\", \"ARG\", \"ECU\", \"CYM\", \"CYM\", \"ARG\", \"BRA\", \"ECU\", \"MEX\", \"CRI\", \"CHL\", \"ARG\", \"ECU\", \"MEX\", \"CHL\", \"BRA\", \"CRI\", \"CYM\", \"CHL\", \"CYM\", \"CRI\", \"ECU\", \"BRA\", \"ARG\", \"MEX\", \"MEX\", \"BRA\", \"BOL\", \"CRI\", \"ARG\", \"CHL\", \"CYM\", \"ECU\", \"ECU\", \"ARG\", \"CYM\", \"MEX\", \"CHL\", \"CRI\", \"BOL\", \"BRA\", \"CYM\", \"ARG\", \"BOL\", \"BRA\", \"MEX\", \"ECU\", \"CRI\", \"CHL\", \"BOL\", \"MEX\", \"ECU\", \"BRA\", \"CRI\", \"CHL\", \"CYM\", \"ARG\", \"BOL\", \"MEX\", \"BRA\", \"CYM\", \"ECU\", \"CRI\", \"CHL\", \"ARG\", \"CHL\", \"ECU\", \"CRI\", \"ARG\", \"CYM\", \"BRA\", \"BOL\", \"MEX\", \"CYM\", \"BRA\", \"ARG\", \"BOL\", \"CHL\", \"CRI\", \"MEX\", \"ECU\", \"ECU\", \"CRI\", \"ARG\", \"MEX\", \"BRA\", \"CHL\", \"CYM\", \"MEX\", \"ARG\", \"BRA\", \"CYM\", \"CHL\", \"CRI\", \"BRA\", \"CHL\", \"CRI\", \"CYM\", \"MEX\", \"ARG\", \"MEX\", \"CYM\", \"BRA\", \"CHL\", \"ARG\", \"CRI\", \"CRI\", \"MEX\", \"CYM\", \"CHL\", \"BRA\", \"ARG\", \"ARG\", \"BRA\", \"CYM\", \"CHL\", \"PER\", \"MEX\", \"CYM\", \"MEX\", \"ARG\", \"BRA\", \"PER\"], \"name\": \"Latin America and the Caribbean\", \"showlegend\": true, \"showscale\": false, \"type\": \"choropleth\", \"z\": [1, 1, 1, 1, 1, 1, 1, 1, 1, 1, 1, 1, 1, 1, 1, 1, 1, 1, 1, 1, 1, 1, 1, 1, 1, 1, 1, 1, 1, 1, 1, 1, 1, 1, 1, 1, 1, 1, 1, 1, 1, 1, 1, 1, 1, 1, 1, 1, 1, 1, 1, 1, 1, 1, 1, 1, 1, 1, 1, 1, 1, 1, 1, 1, 1, 1, 1, 1, 1, 1, 1, 1, 1, 1, 1, 1, 1, 1, 1, 1, 1, 1, 1, 1, 1, 1, 1, 1, 1, 1, 1, 1, 1, 1, 1, 1, 1, 1, 1, 1, 1, 1, 1, 1, 1, 1, 1, 1, 1, 1, 1, 1, 1, 1, 1, 1, 1, 1, 1, 1, 1, 1, 1, 1, 1, 1, 1, 1, 1, 1, 1, 1, 1, 1, 1, 1, 1, 1, 1, 1, 1, 1, 1, 1, 1, 1, 1, 1, 1, 1, 1, 1, 1, 1, 1, 1, 1, 1, 1, 1, 1, 1, 1, 1, 1, 1, 1, 1, 1, 1, 1, 1, 1, 1, 1, 1, 1, 1, 1, 1, 1, 1, 1, 1, 1, 1, 1, 1, 1, 1, 1, 1, 1, 1, 1, 1, 1, 1, 1, 1, 1, 1, 1, 1, 1, 1, 1, 1, 1, 1, 1, 1, 1, 1, 1, 1, 1, 1, 1, 1, 1, 1, 1, 1, 1, 1, 1, 1, 1, 1, 1, 1, 1, 1, 1, 1, 1, 1, 1, 1, 1, 1, 1, 1, 1, 1, 1, 1, 1, 1, 1, 1, 1, 1, 1, 1, 1, 1, 1, 1, 1, 1, 1, 1, 1, 1, 1, 1, 1, 1, 1, 1, 1, 1, 1, 1, 1, 1, 1, 1, 1, 1, 1, 1, 1, 1, 1, 1, 1, 1, 1]}, {\"colorscale\": [[0.0, \"#B6E880\"], [1.0, \"#B6E880\"]], \"geo\": \"geo\", \"hovertemplate\": \"color=Southern Europe<br>locations=%{location}<extra></extra>\", \"locations\": [\"ITA\", \"SVN\", \"ITA\", \"SVN\", \"GRC\", \"MLT\", \"PRT\", \"ITA\", \"PRT\", \"MLT\", \"GRC\", \"SVN\", \"MLT\", \"HRV\", \"SVN\", \"ITA\", \"GRC\", \"PRT\", \"PRT\", \"HRV\", \"MLT\", \"SVN\", \"ITA\", \"GRC\", \"MLT\", \"SVN\", \"ITA\", \"GRC\", \"PRT\", \"HRV\", \"HRV\", \"GRC\", \"PRT\", \"MLT\", \"SVN\", \"ITA\", \"PRT\", \"HRV\", \"MLT\", \"ITA\", \"SVN\", \"GRC\", \"HRV\", \"ITA\", \"SVN\", \"PRT\", \"MLT\", \"GRC\", \"ESP\", \"GRC\", \"HRV\", \"PRT\", \"ESP\", \"SVN\", \"MLT\", \"ITA\", \"SVN\", \"ESP\", \"GRC\", \"MLT\", \"ITA\", \"HRV\", \"PRT\", \"ESP\", \"MLT\", \"ITA\", \"HRV\", \"PRT\", \"SVN\", \"GRC\", \"SVN\", \"SRB\", \"ESP\", \"GRC\", \"PRT\", \"HRV\", \"ITA\", \"MLT\", \"MLT\", \"ITA\", \"SRB\", \"SVN\", \"PRT\", \"HRV\", \"ESP\", \"GRC\", \"ITA\", \"ESP\", \"MLT\", \"PRT\", \"GRC\", \"GIB\", \"SRB\", \"HRV\", \"SVN\", \"HRV\", \"GRC\", \"PRT\", \"SVN\", \"GIB\", \"ITA\", \"ESP\", \"MLT\", \"SRB\", \"PRT\", \"ESP\", \"SVN\", \"HRV\", \"GRC\", \"SRB\", \"ITA\", \"MLT\", \"GIB\", \"GIB\", \"GRC\", \"ITA\", \"MLT\", \"ESP\", \"PRT\", \"SVN\", \"SRB\", \"HRV\", \"PRT\", \"MLT\", \"GRC\", \"ESP\", \"HRV\", \"SVN\", \"SRB\", \"ITA\", \"GIB\", \"ESP\", \"SRB\", \"HRV\", \"PRT\", \"GRC\", \"ITA\", \"GIB\", \"SVN\", \"MLT\", \"ITA\", \"MLT\", \"SVN\", \"PRT\", \"ESP\", \"HRV\", \"SRB\", \"GIB\", \"GRC\", \"ITA\", \"GRC\", \"GIB\", \"SRB\", \"SVN\", \"HRV\", \"MLT\", \"ESP\", \"PRT\", \"ESP\", \"ITA\", \"SRB\", \"SVN\", \"GIB\", \"GRC\", \"PRT\", \"MLT\", \"HRV\", \"GIB\", \"ESP\", \"SRB\", \"PRT\", \"ITA\", \"SVN\", \"GRC\", \"HRV\", \"MLT\", \"ESP\", \"SVN\", \"GRC\", \"MLT\", \"SRB\", \"HRV\", \"PRT\", \"GIB\", \"ITA\", \"MLT\", \"SRB\", \"HRV\", \"ESP\", \"ITA\", \"GIB\", \"PRT\", \"GRC\", \"SVN\", \"SRB\", \"GIB\", \"MLT\", \"SVN\", \"GRC\", \"ITA\", \"ESP\", \"HRV\", \"PRT\", \"SVN\", \"PRT\", \"MLT\", \"GRC\", \"HRV\", \"GIB\", \"SRB\", \"ESP\", \"ITA\", \"SRB\", \"HRV\", \"PRT\", \"SVN\", \"GRC\", \"GIB\", \"ITA\", \"ESP\", \"MLT\", \"AND\", \"GIB\", \"MLT\", \"SVN\", \"ITA\", \"ESP\", \"HRV\", \"SRB\", \"PRT\", \"GRC\", \"AND\", \"PRT\", \"SVN\", \"MLT\", \"HRV\", \"GIB\", \"ITA\", \"SRB\", \"GRC\", \"ESP\", \"GIB\", \"ESP\", \"GRC\", \"PRT\", \"HRV\", \"ITA\", \"SVN\", \"SRB\", \"AND\", \"MLT\", \"ITA\", \"AND\", \"PRT\", \"HRV\", \"MLT\", \"SVN\", \"SRB\", \"ESP\", \"GRC\", \"GIB\", \"AND\", \"HRV\", \"GRC\", \"GIB\", \"PRT\", \"SVN\", \"ESP\", \"ITA\", \"SRB\", \"MLT\", \"SVN\", \"SRB\", \"AND\", \"MLT\", \"ESP\", \"GRC\", \"HRV\", \"PRT\", \"ITA\", \"GIB\", \"PRT\", \"AND\", \"GIB\", \"ESP\", \"MLT\", \"SRB\", \"ITA\", \"HRV\", \"GRC\", \"SVN\", \"SVN\", \"ESP\", \"SRB\", \"ITA\", \"MLT\", \"HRV\", \"GIB\", \"GRC\", \"PRT\", \"AND\", \"GIB\", \"GRC\", \"PRT\", \"HRV\", \"SVN\", \"SRB\", \"MLT\", \"ITA\", \"ESP\", \"HRV\", \"SRB\", \"MLT\", \"ESP\", \"PRT\", \"ITA\", \"GIB\", \"GRC\", \"SVN\", \"ESP\", \"SVN\", \"ITA\", \"HRV\", \"GIB\", \"GRC\", \"PRT\", \"SRB\", \"MLT\", \"MLT\", \"ITA\", \"HRV\", \"GIB\", \"GRC\", \"SVN\", \"PRT\", \"SRB\", \"ESP\", \"GRC\", \"PRT\", \"GIB\", \"SRB\", \"HRV\", \"ESP\", \"SVN\", \"ITA\", \"MLT\", \"GRC\", \"GIB\", \"PRT\", \"MLT\", \"ITA\", \"SRB\", \"ESP\", \"SVN\", \"HRV\", \"MLT\", \"SRB\", \"HRV\", \"ESP\", \"SVN\", \"ITA\", \"GIB\", \"PRT\", \"GRC\", \"SRB\", \"SVN\", \"GRC\", \"ITA\", \"MLT\", \"GIB\", \"PRT\", \"ESP\", \"HRV\", \"MLT\", \"SRB\", \"ITA\", \"PRT\", \"GRC\"], \"name\": \"Southern Europe\", \"showlegend\": true, \"showscale\": false, \"type\": \"choropleth\", \"z\": [1, 1, 1, 1, 1, 1, 1, 1, 1, 1, 1, 1, 1, 1, 1, 1, 1, 1, 1, 1, 1, 1, 1, 1, 1, 1, 1, 1, 1, 1, 1, 1, 1, 1, 1, 1, 1, 1, 1, 1, 1, 1, 1, 1, 1, 1, 1, 1, 1, 1, 1, 1, 1, 1, 1, 1, 1, 1, 1, 1, 1, 1, 1, 1, 1, 1, 1, 1, 1, 1, 1, 1, 1, 1, 1, 1, 1, 1, 1, 1, 1, 1, 1, 1, 1, 1, 1, 1, 1, 1, 1, 1, 1, 1, 1, 1, 1, 1, 1, 1, 1, 1, 1, 1, 1, 1, 1, 1, 1, 1, 1, 1, 1, 1, 1, 1, 1, 1, 1, 1, 1, 1, 1, 1, 1, 1, 1, 1, 1, 1, 1, 1, 1, 1, 1, 1, 1, 1, 1, 1, 1, 1, 1, 1, 1, 1, 1, 1, 1, 1, 1, 1, 1, 1, 1, 1, 1, 1, 1, 1, 1, 1, 1, 1, 1, 1, 1, 1, 1, 1, 1, 1, 1, 1, 1, 1, 1, 1, 1, 1, 1, 1, 1, 1, 1, 1, 1, 1, 1, 1, 1, 1, 1, 1, 1, 1, 1, 1, 1, 1, 1, 1, 1, 1, 1, 1, 1, 1, 1, 1, 1, 1, 1, 1, 1, 1, 1, 1, 1, 1, 1, 1, 1, 1, 1, 1, 1, 1, 1, 1, 1, 1, 1, 1, 1, 1, 1, 1, 1, 1, 1, 1, 1, 1, 1, 1, 1, 1, 1, 1, 1, 1, 1, 1, 1, 1, 1, 1, 1, 1, 1, 1, 1, 1, 1, 1, 1, 1, 1, 1, 1, 1, 1, 1, 1, 1, 1, 1, 1, 1, 1, 1, 1, 1, 1, 1, 1, 1, 1, 1, 1, 1, 1, 1, 1, 1, 1, 1, 1, 1, 1, 1, 1, 1, 1, 1, 1, 1, 1, 1, 1, 1, 1, 1, 1, 1, 1, 1, 1, 1, 1, 1, 1, 1, 1, 1, 1, 1, 1, 1, 1, 1, 1, 1, 1, 1, 1, 1, 1, 1, 1, 1, 1, 1, 1, 1, 1, 1, 1, 1, 1, 1, 1, 1, 1, 1, 1, 1, 1, 1, 1, 1, 1, 1, 1, 1, 1, 1, 1, 1, 1, 1, 1, 1, 1, 1, 1, 1]}, {\"colorscale\": [[0.0, \"#FF97FF\"], [1.0, \"#FF97FF\"]], \"geo\": \"geo\", \"hovertemplate\": \"color=Sub-Saharan Africa<br>locations=%{location}<extra></extra>\", \"locations\": [\"SYC\", \"SYC\", \"SYC\", \"SYC\", \"SYC\", \"SYC\", \"SYC\", \"SYC\", \"SYC\", \"SYC\", \"SYC\", \"SYC\", \"SYC\", \"SYC\", \"SYC\", \"SYC\", \"SYC\", \"SYC\", \"SYC\", \"SYC\", \"SYC\", \"SYC\", \"SYC\", \"SYC\", \"SYC\", \"SHN\", \"SYC\", \"SYC\", \"SYC\", \"SYC\", \"SYC\", \"SYC\", \"SYC\"], \"name\": \"Sub-Saharan Africa\", \"showlegend\": true, \"showscale\": false, \"type\": \"choropleth\", \"z\": [1, 1, 1, 1, 1, 1, 1, 1, 1, 1, 1, 1, 1, 1, 1, 1, 1, 1, 1, 1, 1, 1, 1, 1, 1, 1, 1, 1, 1, 1, 1, 1, 1]}, {\"colorscale\": [[0.0, \"#FECB52\"], [1.0, \"#FECB52\"]], \"geo\": \"geo\", \"hovertemplate\": \"color=South-eastern Asia<br>locations=%{location}<extra></extra>\", \"locations\": [\"SGP\", \"SGP\", \"IDN\", \"IDN\", \"SGP\", \"SGP\", \"IDN\", \"SGP\", \"IDN\", \"IDN\", \"SGP\", \"SGP\", \"IDN\", \"IDN\", \"SGP\", \"SGP\", \"IDN\", \"IDN\", \"SGP\", \"IDN\", \"SGP\", \"SGP\", \"IDN\", \"IDN\", \"SGP\", \"IDN\", \"SGP\", \"SGP\", \"IDN\", \"MMR\", \"IDN\", \"SGP\", \"SGP\", \"IDN\", \"MMR\", \"IDN\", \"SGP\", \"IDN\", \"SGP\", \"SGP\", \"IDN\", \"IDN\", \"SGP\", \"SGP\", \"IDN\", \"SGP\", \"IDN\", \"SGP\", \"IDN\", \"IDN\", \"SGP\", \"IDN\", \"SGP\", \"SGP\", \"IDN\", \"IDN\", \"SGP\", \"IDN\", \"SGP\", \"SGP\", \"IDN\", \"IDN\", \"SGP\"], \"name\": \"South-eastern Asia\", \"showlegend\": true, \"showscale\": false, \"type\": \"choropleth\", \"z\": [1, 1, 1, 1, 1, 1, 1, 1, 1, 1, 1, 1, 1, 1, 1, 1, 1, 1, 1, 1, 1, 1, 1, 1, 1, 1, 1, 1, 1, 1, 1, 1, 1, 1, 1, 1, 1, 1, 1, 1, 1, 1, 1, 1, 1, 1, 1, 1, 1, 1, 1, 1, 1, 1, 1, 1, 1, 1, 1, 1, 1, 1, 1]}, {\"colorscale\": [[0.0, \"#636efa\"], [1.0, \"#636efa\"]], \"geo\": \"geo\", \"hovertemplate\": \"color=Southern Asia<br>locations=%{location}<extra></extra>\", \"locations\": [\"IND\", \"IND\", \"IND\", \"IND\", \"IND\", \"IND\", \"IND\", \"IND\", \"IND\", \"IND\", \"IND\", \"BGD\", \"IND\", \"NPL\", \"IND\", \"BGD\", \"NPL\", \"LKA\", \"IND\", \"NPL\", \"BGD\", \"LKA\", \"IND\", \"BGD\", \"NPL\", \"NPL\", \"LKA\", \"IND\", \"BGD\", \"NPL\", \"IND\", \"LKA\", \"BGD\", \"IND\", \"BGD\", \"NPL\", \"LKA\", \"LKA\", \"IND\", \"MDV\", \"BGD\", \"NPL\", \"BGD\", \"MDV\", \"NPL\", \"LKA\", \"IND\", \"LKA\", \"IND\", \"NPL\", \"BGD\", \"MDV\", \"IND\", \"MDV\", \"BGD\", \"LKA\", \"IND\", \"BGD\", \"LKA\", \"MDV\", \"LKA\", \"MDV\", \"BGD\", \"IND\", \"IND\", \"MDV\", \"LKA\", \"IND\", \"MDV\", \"LKA\", \"LKA\", \"IND\"], \"name\": \"Southern Asia\", \"showlegend\": true, \"showscale\": false, \"type\": \"choropleth\", \"z\": [1, 1, 1, 1, 1, 1, 1, 1, 1, 1, 1, 1, 1, 1, 1, 1, 1, 1, 1, 1, 1, 1, 1, 1, 1, 1, 1, 1, 1, 1, 1, 1, 1, 1, 1, 1, 1, 1, 1, 1, 1, 1, 1, 1, 1, 1, 1, 1, 1, 1, 1, 1, 1, 1, 1, 1, 1, 1, 1, 1, 1, 1, 1, 1, 1, 1, 1, 1, 1, 1, 1, 1]}, {\"colorscale\": [[0.0, \"#EF553B\"], [1.0, \"#EF553B\"]], \"geo\": \"geo\", \"hovertemplate\": \"color=Northern Africa<br>locations=%{location}<extra></extra>\", \"locations\": [\"EGY\", \"EGY\", \"EGY\", \"EGY\", \"MAR\", \"EGY\", \"EGY\", \"DZA\", \"MAR\", \"DZA\", \"EGY\", \"MAR\", \"MAR\", \"MAR\", \"MAR\", \"MAR\", \"MAR\", \"MAR\", \"MAR\", \"MAR\", \"MAR\", \"MAR\", \"MAR\"], \"name\": \"Northern Africa\", \"showlegend\": true, \"showscale\": false, \"type\": \"choropleth\", \"z\": [1, 1, 1, 1, 1, 1, 1, 1, 1, 1, 1, 1, 1, 1, 1, 1, 1, 1, 1, 1, 1, 1, 1]}],                        {\"geo\": {\"center\": {}, \"domain\": {\"x\": [0.0, 1.0], \"y\": [0.0, 1.0]}}, \"legend\": {\"title\": {\"text\": \"color\"}, \"tracegroupgap\": 0}, \"template\": {\"data\": {\"bar\": [{\"error_x\": {\"color\": \"#2a3f5f\"}, \"error_y\": {\"color\": \"#2a3f5f\"}, \"marker\": {\"line\": {\"color\": \"#E5ECF6\", \"width\": 0.5}}, \"type\": \"bar\"}], \"barpolar\": [{\"marker\": {\"line\": {\"color\": \"#E5ECF6\", \"width\": 0.5}}, \"type\": \"barpolar\"}], \"carpet\": [{\"aaxis\": {\"endlinecolor\": \"#2a3f5f\", \"gridcolor\": \"white\", \"linecolor\": \"white\", \"minorgridcolor\": \"white\", \"startlinecolor\": \"#2a3f5f\"}, \"baxis\": {\"endlinecolor\": \"#2a3f5f\", \"gridcolor\": \"white\", \"linecolor\": \"white\", \"minorgridcolor\": \"white\", \"startlinecolor\": \"#2a3f5f\"}, \"type\": \"carpet\"}], \"choropleth\": [{\"colorbar\": {\"outlinewidth\": 0, \"ticks\": \"\"}, \"type\": \"choropleth\"}], \"contour\": [{\"colorbar\": {\"outlinewidth\": 0, \"ticks\": \"\"}, \"colorscale\": [[0.0, \"#0d0887\"], [0.1111111111111111, \"#46039f\"], [0.2222222222222222, \"#7201a8\"], [0.3333333333333333, \"#9c179e\"], [0.4444444444444444, \"#bd3786\"], [0.5555555555555556, \"#d8576b\"], [0.6666666666666666, \"#ed7953\"], [0.7777777777777778, \"#fb9f3a\"], [0.8888888888888888, \"#fdca26\"], [1.0, \"#f0f921\"]], \"type\": \"contour\"}], \"contourcarpet\": [{\"colorbar\": {\"outlinewidth\": 0, \"ticks\": \"\"}, \"type\": \"contourcarpet\"}], \"heatmap\": [{\"colorbar\": {\"outlinewidth\": 0, \"ticks\": \"\"}, \"colorscale\": [[0.0, \"#0d0887\"], [0.1111111111111111, \"#46039f\"], [0.2222222222222222, \"#7201a8\"], [0.3333333333333333, \"#9c179e\"], [0.4444444444444444, \"#bd3786\"], [0.5555555555555556, \"#d8576b\"], [0.6666666666666666, \"#ed7953\"], [0.7777777777777778, \"#fb9f3a\"], [0.8888888888888888, \"#fdca26\"], [1.0, \"#f0f921\"]], \"type\": \"heatmap\"}], \"heatmapgl\": [{\"colorbar\": {\"outlinewidth\": 0, \"ticks\": \"\"}, \"colorscale\": [[0.0, \"#0d0887\"], [0.1111111111111111, \"#46039f\"], [0.2222222222222222, \"#7201a8\"], [0.3333333333333333, \"#9c179e\"], [0.4444444444444444, \"#bd3786\"], [0.5555555555555556, \"#d8576b\"], [0.6666666666666666, \"#ed7953\"], [0.7777777777777778, \"#fb9f3a\"], [0.8888888888888888, \"#fdca26\"], [1.0, \"#f0f921\"]], \"type\": \"heatmapgl\"}], \"histogram\": [{\"marker\": {\"colorbar\": {\"outlinewidth\": 0, \"ticks\": \"\"}}, \"type\": \"histogram\"}], \"histogram2d\": [{\"colorbar\": {\"outlinewidth\": 0, \"ticks\": \"\"}, \"colorscale\": [[0.0, \"#0d0887\"], [0.1111111111111111, \"#46039f\"], [0.2222222222222222, \"#7201a8\"], [0.3333333333333333, \"#9c179e\"], [0.4444444444444444, \"#bd3786\"], [0.5555555555555556, \"#d8576b\"], [0.6666666666666666, \"#ed7953\"], [0.7777777777777778, \"#fb9f3a\"], [0.8888888888888888, \"#fdca26\"], [1.0, \"#f0f921\"]], \"type\": \"histogram2d\"}], \"histogram2dcontour\": [{\"colorbar\": {\"outlinewidth\": 0, \"ticks\": \"\"}, \"colorscale\": [[0.0, \"#0d0887\"], [0.1111111111111111, \"#46039f\"], [0.2222222222222222, \"#7201a8\"], [0.3333333333333333, \"#9c179e\"], [0.4444444444444444, \"#bd3786\"], [0.5555555555555556, \"#d8576b\"], [0.6666666666666666, \"#ed7953\"], [0.7777777777777778, \"#fb9f3a\"], [0.8888888888888888, \"#fdca26\"], [1.0, \"#f0f921\"]], \"type\": \"histogram2dcontour\"}], \"mesh3d\": [{\"colorbar\": {\"outlinewidth\": 0, \"ticks\": \"\"}, \"type\": \"mesh3d\"}], \"parcoords\": [{\"line\": {\"colorbar\": {\"outlinewidth\": 0, \"ticks\": \"\"}}, \"type\": \"parcoords\"}], \"pie\": [{\"automargin\": true, \"type\": \"pie\"}], \"scatter\": [{\"marker\": {\"colorbar\": {\"outlinewidth\": 0, \"ticks\": \"\"}}, \"type\": \"scatter\"}], \"scatter3d\": [{\"line\": {\"colorbar\": {\"outlinewidth\": 0, \"ticks\": \"\"}}, \"marker\": {\"colorbar\": {\"outlinewidth\": 0, \"ticks\": \"\"}}, \"type\": \"scatter3d\"}], \"scattercarpet\": [{\"marker\": {\"colorbar\": {\"outlinewidth\": 0, \"ticks\": \"\"}}, \"type\": \"scattercarpet\"}], \"scattergeo\": [{\"marker\": {\"colorbar\": {\"outlinewidth\": 0, \"ticks\": \"\"}}, \"type\": \"scattergeo\"}], \"scattergl\": [{\"marker\": {\"colorbar\": {\"outlinewidth\": 0, \"ticks\": \"\"}}, \"type\": \"scattergl\"}], \"scattermapbox\": [{\"marker\": {\"colorbar\": {\"outlinewidth\": 0, \"ticks\": \"\"}}, \"type\": \"scattermapbox\"}], \"scatterpolar\": [{\"marker\": {\"colorbar\": {\"outlinewidth\": 0, \"ticks\": \"\"}}, \"type\": \"scatterpolar\"}], \"scatterpolargl\": [{\"marker\": {\"colorbar\": {\"outlinewidth\": 0, \"ticks\": \"\"}}, \"type\": \"scatterpolargl\"}], \"scatterternary\": [{\"marker\": {\"colorbar\": {\"outlinewidth\": 0, \"ticks\": \"\"}}, \"type\": \"scatterternary\"}], \"surface\": [{\"colorbar\": {\"outlinewidth\": 0, \"ticks\": \"\"}, \"colorscale\": [[0.0, \"#0d0887\"], [0.1111111111111111, \"#46039f\"], [0.2222222222222222, \"#7201a8\"], [0.3333333333333333, \"#9c179e\"], [0.4444444444444444, \"#bd3786\"], [0.5555555555555556, \"#d8576b\"], [0.6666666666666666, \"#ed7953\"], [0.7777777777777778, \"#fb9f3a\"], [0.8888888888888888, \"#fdca26\"], [1.0, \"#f0f921\"]], \"type\": \"surface\"}], \"table\": [{\"cells\": {\"fill\": {\"color\": \"#EBF0F8\"}, \"line\": {\"color\": \"white\"}}, \"header\": {\"fill\": {\"color\": \"#C8D4E3\"}, \"line\": {\"color\": \"white\"}}, \"type\": \"table\"}]}, \"layout\": {\"annotationdefaults\": {\"arrowcolor\": \"#2a3f5f\", \"arrowhead\": 0, \"arrowwidth\": 1}, \"autotypenumbers\": \"strict\", \"coloraxis\": {\"colorbar\": {\"outlinewidth\": 0, \"ticks\": \"\"}}, \"colorscale\": {\"diverging\": [[0, \"#8e0152\"], [0.1, \"#c51b7d\"], [0.2, \"#de77ae\"], [0.3, \"#f1b6da\"], [0.4, \"#fde0ef\"], [0.5, \"#f7f7f7\"], [0.6, \"#e6f5d0\"], [0.7, \"#b8e186\"], [0.8, \"#7fbc41\"], [0.9, \"#4d9221\"], [1, \"#276419\"]], \"sequential\": [[0.0, \"#0d0887\"], [0.1111111111111111, \"#46039f\"], [0.2222222222222222, \"#7201a8\"], [0.3333333333333333, \"#9c179e\"], [0.4444444444444444, \"#bd3786\"], [0.5555555555555556, \"#d8576b\"], [0.6666666666666666, \"#ed7953\"], [0.7777777777777778, \"#fb9f3a\"], [0.8888888888888888, \"#fdca26\"], [1.0, \"#f0f921\"]], \"sequentialminus\": [[0.0, \"#0d0887\"], [0.1111111111111111, \"#46039f\"], [0.2222222222222222, \"#7201a8\"], [0.3333333333333333, \"#9c179e\"], [0.4444444444444444, \"#bd3786\"], [0.5555555555555556, \"#d8576b\"], [0.6666666666666666, \"#ed7953\"], [0.7777777777777778, \"#fb9f3a\"], [0.8888888888888888, \"#fdca26\"], [1.0, \"#f0f921\"]]}, \"colorway\": [\"#636efa\", \"#EF553B\", \"#00cc96\", \"#ab63fa\", \"#FFA15A\", \"#19d3f3\", \"#FF6692\", \"#B6E880\", \"#FF97FF\", \"#FECB52\"], \"font\": {\"color\": \"#2a3f5f\"}, \"geo\": {\"bgcolor\": \"white\", \"lakecolor\": \"white\", \"landcolor\": \"#E5ECF6\", \"showlakes\": true, \"showland\": true, \"subunitcolor\": \"white\"}, \"hoverlabel\": {\"align\": \"left\"}, \"hovermode\": \"closest\", \"mapbox\": {\"style\": \"light\"}, \"paper_bgcolor\": \"white\", \"plot_bgcolor\": \"#E5ECF6\", \"polar\": {\"angularaxis\": {\"gridcolor\": \"white\", \"linecolor\": \"white\", \"ticks\": \"\"}, \"bgcolor\": \"#E5ECF6\", \"radialaxis\": {\"gridcolor\": \"white\", \"linecolor\": \"white\", \"ticks\": \"\"}}, \"scene\": {\"xaxis\": {\"backgroundcolor\": \"#E5ECF6\", \"gridcolor\": \"white\", \"gridwidth\": 2, \"linecolor\": \"white\", \"showbackground\": true, \"ticks\": \"\", \"zerolinecolor\": \"white\"}, \"yaxis\": {\"backgroundcolor\": \"#E5ECF6\", \"gridcolor\": \"white\", \"gridwidth\": 2, \"linecolor\": \"white\", \"showbackground\": true, \"ticks\": \"\", \"zerolinecolor\": \"white\"}, \"zaxis\": {\"backgroundcolor\": \"#E5ECF6\", \"gridcolor\": \"white\", \"gridwidth\": 2, \"linecolor\": \"white\", \"showbackground\": true, \"ticks\": \"\", \"zerolinecolor\": \"white\"}}, \"shapedefaults\": {\"line\": {\"color\": \"#2a3f5f\"}}, \"ternary\": {\"aaxis\": {\"gridcolor\": \"white\", \"linecolor\": \"white\", \"ticks\": \"\"}, \"baxis\": {\"gridcolor\": \"white\", \"linecolor\": \"white\", \"ticks\": \"\"}, \"bgcolor\": \"#E5ECF6\", \"caxis\": {\"gridcolor\": \"white\", \"linecolor\": \"white\", \"ticks\": \"\"}}, \"title\": {\"x\": 0.05}, \"xaxis\": {\"automargin\": true, \"gridcolor\": \"white\", \"linecolor\": \"white\", \"ticks\": \"\", \"title\": {\"standoff\": 15}, \"zerolinecolor\": \"white\", \"zerolinewidth\": 2}, \"yaxis\": {\"automargin\": true, \"gridcolor\": \"white\", \"linecolor\": \"white\", \"ticks\": \"\", \"title\": {\"standoff\": 15}, \"zerolinecolor\": \"white\", \"zerolinewidth\": 2}}}, \"title\": {\"text\": \"Regions with available data\"}},                        {\"responsive\": true}                    ).then(function(){\n",
       "                            \n",
       "var gd = document.getElementById('d8bff154-5a7f-4749-bef1-439149c501ec');\n",
       "var x = new MutationObserver(function (mutations, observer) {{\n",
       "        var display = window.getComputedStyle(gd).display;\n",
       "        if (!display || display === 'none') {{\n",
       "            console.log([gd, 'removed!']);\n",
       "            Plotly.purge(gd);\n",
       "            observer.disconnect();\n",
       "        }}\n",
       "}});\n",
       "\n",
       "// Listen for the removal of the full notebook cells\n",
       "var notebookContainer = gd.closest('#notebook-container');\n",
       "if (notebookContainer) {{\n",
       "    x.observe(notebookContainer, {childList: true});\n",
       "}}\n",
       "\n",
       "// Listen for the clearing of the current output cell\n",
       "var outputEl = gd.closest('.output');\n",
       "if (outputEl) {{\n",
       "    x.observe(outputEl, {childList: true});\n",
       "}}\n",
       "\n",
       "                        })                };                });            </script>        </div>"
      ]
     },
     "metadata": {},
     "output_type": "display_data"
    }
   ],
   "source": [
    "fig = px.choropleth(locations = data.iso_code, \n",
    "                    color = data.region,\n",
    "                    color_continuous_scale = 'rainbow',\n",
    "                    title = 'Regions with available data', \n",
    "                   )\n",
    "fig.show()"
   ]
  },
  {
   "cell_type": "code",
   "execution_count": 117,
   "metadata": {},
   "outputs": [
    {
     "data": {
      "image/png": "[encoded data removed]",
      "text/plain": [
       "<Figure size 1296x576 with 1 Axes>"
      ]
     },
     "metadata": {
      "needs_background": "light"
     },
     "output_type": "display_data"
    }
   ],
   "source": [
    "data.vaccines.value_counts().plot.barh(color=\"teal\", figsize=(18,8));"
   ]
  },
  {
   "cell_type": "markdown",
   "metadata": {},
   "source": [
    "Since in some countries there is used more than one vaccine, some preprocessing will be needed.\n",
    "\n"
   ]
  },
  {
   "cell_type": "markdown",
   "metadata": {},
   "source": [
    "## 3. Data Preparation\n",
    "___\n"
   ]
  },
  {
   "cell_type": "markdown",
   "metadata": {},
   "source": [
    "Renaming *region* and *sub-region* columns"
   ]
  },
  {
   "cell_type": "code",
   "execution_count": 57,
   "metadata": {},
   "outputs": [],
   "source": [
    "data.columns = ['date', 'country', 'iso_code', 'daily_vaccinations', 'people_vaccinated_per_hundred', 'vaccines', \n",
    "                'continent', 'region']"
   ]
  },
  {
   "cell_type": "markdown",
   "metadata": {},
   "source": [
    "I would like to split the Americas into North America and South America"
   ]
  },
  {
   "cell_type": "code",
   "execution_count": 58,
   "metadata": {},
   "outputs": [
    {
     "data": {
      "text/plain": [
       "Europe      1707\n",
       "Asia         501\n",
       "Americas     407\n",
       "Africa        56\n",
       "Name: continent, dtype: int64"
      ]
     },
     "execution_count": 58,
     "metadata": {},
     "output_type": "execute_result"
    }
   ],
   "source": [
    "data.continent.value_counts()"
   ]
  },
  {
   "cell_type": "code",
   "execution_count": 59,
   "metadata": {},
   "outputs": [],
   "source": [
    "data.loc[data.region == 'Northern America', 'continent'] = 'North America'\n",
    "data.loc[data.region == 'Latin America and the Caribbean', 'continent'] = 'South America'"
   ]
  },
  {
   "cell_type": "markdown",
   "metadata": {},
   "source": [
    "Missing values"
   ]
  },
  {
   "cell_type": "code",
   "execution_count": 60,
   "metadata": {},
   "outputs": [
    {
     "data": {
      "text/plain": [
       "date                                0\n",
       "country                             0\n",
       "iso_code                            0\n",
       "daily_vaccinations                104\n",
       "people_vaccinated_per_hundred    1226\n",
       "vaccines                            0\n",
       "continent                           9\n",
       "region                              9\n",
       "dtype: int64"
      ]
     },
     "execution_count": 60,
     "metadata": {},
     "output_type": "execute_result"
    }
   ],
   "source": [
    "data.isnull().sum()"
   ]
  },
  {
   "cell_type": "markdown",
   "metadata": {},
   "source": [
    "We are missing *region / sub-region* for Northern Cyprus"
   ]
  },
  {
   "cell_type": "code",
   "execution_count": 61,
   "metadata": {},
   "outputs": [
    {
     "data": {
      "text/plain": [
       "OWID_NCY    9\n",
       "Name: iso_code, dtype: int64"
      ]
     },
     "execution_count": 61,
     "metadata": {},
     "output_type": "execute_result"
    }
   ],
   "source": [
    "data.loc[data.continent.isnull(), 'iso_code'].value_counts()"
   ]
  },
  {
   "cell_type": "code",
   "execution_count": 62,
   "metadata": {},
   "outputs": [
    {
     "data": {
      "text/html": [
       "<div>\n",
       "<style scoped>\n",
       "    .dataframe tbody tr th:only-of-type {\n",
       "        vertical-align: middle;\n",
       "    }\n",
       "\n",
       "    .dataframe tbody tr th {\n",
       "        vertical-align: top;\n",
       "    }\n",
       "\n",
       "    .dataframe thead th {\n",
       "        text-align: right;\n",
       "    }\n",
       "</style>\n",
       "<table border=\"1\" class=\"dataframe\">\n",
       "  <thead>\n",
       "    <tr style=\"text-align: right;\">\n",
       "      <th></th>\n",
       "      <th>continent</th>\n",
       "      <th>region</th>\n",
       "    </tr>\n",
       "  </thead>\n",
       "  <tbody>\n",
       "    <tr>\n",
       "      <th>573</th>\n",
       "      <td>Asia</td>\n",
       "      <td>Western Asia</td>\n",
       "    </tr>\n",
       "  </tbody>\n",
       "</table>\n",
       "</div>"
      ],
      "text/plain": [
       "    continent        region\n",
       "573      Asia  Western Asia"
      ]
     },
     "execution_count": 62,
     "metadata": {},
     "output_type": "execute_result"
    }
   ],
   "source": [
    "data[data.country.isin(['Cyprus', 'Turkey'])][['continent', 'region']].drop_duplicates()"
   ]
  },
  {
   "cell_type": "code",
   "execution_count": 63,
   "metadata": {},
   "outputs": [],
   "source": [
    "data.loc[data.country == 'Northern Cyprus', 'continent'] = 'Asia'\n",
    "data.loc[data.country == 'Northern Cyprus', 'region'] = 'Western Asia'"
   ]
  },
  {
   "cell_type": "markdown",
   "metadata": {},
   "source": [
    "We are missing *daily_vaccinations* info for 121 records. Let's see for which countries and which dates"
   ]
  },
  {
   "cell_type": "code",
   "execution_count": 64,
   "metadata": {},
   "outputs": [
    {
     "data": {
      "text/plain": [
       "Latvia              18\n",
       "Canada               5\n",
       "Austria              3\n",
       "China                1\n",
       "Singapore            1\n",
       "                    ..\n",
       "Northern Ireland     1\n",
       "Argentina            1\n",
       "Guernsey             1\n",
       "Myanmar              1\n",
       "India                1\n",
       "Name: country, Length: 81, dtype: int64"
      ]
     },
     "execution_count": 64,
     "metadata": {},
     "output_type": "execute_result"
    }
   ],
   "source": [
    "data.loc[data.daily_vaccinations.isnull(), 'country'].value_counts()"
   ]
  },
  {
   "cell_type": "code",
   "execution_count": 65,
   "metadata": {},
   "outputs": [
    {
     "data": {
      "text/plain": [
       "2020-12-28    11\n",
       "2020-12-27     9\n",
       "2020-12-30     5\n",
       "2020-12-13     5\n",
       "2021-01-06     4\n",
       "Name: date, dtype: int64"
      ]
     },
     "execution_count": 65,
     "metadata": {},
     "output_type": "execute_result"
    }
   ],
   "source": [
    "data.loc[data.daily_vaccinations.isnull(), 'date'].value_counts().head()"
   ]
  },
  {
   "cell_type": "markdown",
   "metadata": {},
   "source": [
    "The majority is around Christmas and New Year's Eve and the missing values are distributed to all countries; it can be the case that no vaccinations were performed. However, I will choose not to make any assumption and not to fill the missing values for *daily_vaccinations*."
   ]
  },
  {
   "cell_type": "markdown",
   "metadata": {},
   "source": [
    "Percentage of missing values for *people_vaccinated_per_hundred*"
   ]
  },
  {
   "cell_type": "code",
   "execution_count": 66,
   "metadata": {},
   "outputs": [
    {
     "data": {
      "text/plain": [
       "0.45746268656716416"
      ]
     },
     "execution_count": 66,
     "metadata": {},
     "output_type": "execute_result"
    }
   ],
   "source": [
    "data.loc[data.people_vaccinated_per_hundred.isnull()].shape[0] / data.shape[0]"
   ]
  },
  {
   "cell_type": "markdown",
   "metadata": {},
   "source": [
    "Unfortunately, for *people_vaccinated_per_hundred*, we have ~50% values missing.\n",
    "\n",
    "Let's visualize the missing values percentages per region."
   ]
  },
  {
   "cell_type": "code",
   "execution_count": 67,
   "metadata": {},
   "outputs": [
    {
     "data": {
      "image/png": "[encoded data removed]",
      "text/plain": [
       "<Figure size 1080x360 with 1 Axes>"
      ]
     },
     "metadata": {
      "needs_background": "light"
     },
     "output_type": "display_data"
    }
   ],
   "source": [
    "(\n",
    "    data[data.people_vaccinated_per_hundred.isnull()].region.value_counts() / data.region.value_counts()\n",
    ").mul(100).plot.barh(color=\"teal\", figsize=(15,5))\n",
    "\n",
    "plt.title('Missing people_vaccinated_per_hundred')\n",
    "plt.xlabel('percentage (%)')\n",
    "plt.show()"
   ]
  },
  {
   "cell_type": "markdown",
   "metadata": {},
   "source": [
    "*people_vaccinated_per_hundred* represents the ratio (in percent) between population immunized and total population up to the date in the country. Since it contains the cumulative total until that date, I will fill the missing values for each country with the last available value."
   ]
  },
  {
   "cell_type": "code",
   "execution_count": 68,
   "metadata": {},
   "outputs": [],
   "source": [
    "data.sort_values(by='date', inplace=True)\n",
    "all_countries = list(data.country.unique())\n",
    "\n",
    "for country in all_countries:\n",
    "    data.loc[data.country == country, 'people_vaccinated_per_hundred'] = \\\n",
    "    data.loc[data.country == country, 'people_vaccinated_per_hundred'].fillna(method='bfill').fillna(method='ffill')"
   ]
  },
  {
   "cell_type": "code",
   "execution_count": 69,
   "metadata": {},
   "outputs": [
    {
     "data": {
      "image/png": "[encoded data removed]",
      "text/plain": [
       "<Figure size 1080x360 with 1 Axes>"
      ]
     },
     "metadata": {
      "needs_background": "light"
     },
     "output_type": "display_data"
    }
   ],
   "source": [
    "(\n",
    "    data[data.people_vaccinated_per_hundred.isnull()].region.value_counts() / data.region.value_counts()\n",
    ").mul(100).plot.barh(color=\"teal\", figsize=(15,5))\n",
    "\n",
    "plt.title('Missing people_vaccinated_per_hundred')\n",
    "plt.xlabel('percentage (%)')\n",
    "plt.show()"
   ]
  },
  {
   "cell_type": "markdown",
   "metadata": {},
   "source": [
    "Now the remaining countries with missing *people_vaccinated_per_hundred* do not have any value for the variable. Therefore, I will choose to analyze *people_vaccinated_per_hundred* only for Europe and America."
   ]
  },
  {
   "cell_type": "markdown",
   "metadata": {},
   "source": [
    "## 4. Data Analysis\n",
    "___"
   ]
  },
  {
   "cell_type": "markdown",
   "metadata": {},
   "source": [
    "### 4.1. What vaccines are used around the world?"
   ]
  },
  {
   "cell_type": "markdown",
   "metadata": {},
   "source": [
    "In order to illustrate where a specific vaccine is used in the world, I will create an interactive plotly map plot, as above.\n",
    "\n",
    "Recall that since in some countries there is used more than one vaccine, some preprocessing will be needed."
   ]
  },
  {
   "cell_type": "code",
   "execution_count": 71,
   "metadata": {},
   "outputs": [
    {
     "data": {
      "text/plain": [
       "Moderna, Oxford/AstraZeneca, Pfizer/BioNTech                                          762\n",
       "Pfizer/BioNTech                                                                       567\n",
       "Oxford/AstraZeneca, Pfizer/BioNTech                                                   452\n",
       "Moderna, Pfizer/BioNTech                                                              366\n",
       "Sputnik V                                                                              83\n",
       "Sinovac                                                                                59\n",
       "Sinopharm/Beijing, Sinopharm/Wuhan, Sinovac                                            57\n",
       "Pfizer/BioNTech, Sinovac                                                               57\n",
       "Pfizer/BioNTech, Sinopharm/Beijing                                                     50\n",
       "Oxford/AstraZeneca                                                                     48\n",
       "Oxford/AstraZeneca, Sinopharm/Beijing                                                  46\n",
       "Oxford/AstraZeneca, Pfizer/BioNTech, Sinopharm/Beijing, Sinopharm/Wuhan, Sputnik V     37\n",
       "Pfizer/BioNTech, Sinopharm/Beijing, Sputnik V                                          34\n",
       "Covaxin, Oxford/AstraZeneca                                                            27\n",
       "Oxford/AstraZeneca, Sinovac                                                            26\n",
       "Sinopharm/Beijing                                                                       9\n",
       "Name: vaccines, dtype: int64"
      ]
     },
     "execution_count": 71,
     "metadata": {},
     "output_type": "execute_result"
    }
   ],
   "source": [
    "data.vaccines.value_counts()"
   ]
  },
  {
   "cell_type": "markdown",
   "metadata": {},
   "source": [
    "I will start by creating a dataframe with unique *iso_code* - *vaccines* pairs. \n",
    "\n",
    "Vaccines is a detail column for each country, so my dataframe will have the number of rows equal to the number of countries in the dataset."
   ]
  },
  {
   "cell_type": "code",
   "execution_count": 72,
   "metadata": {},
   "outputs": [
    {
     "data": {
      "text/plain": [
       "(77, 2)"
      ]
     },
     "execution_count": 72,
     "metadata": {},
     "output_type": "execute_result"
    }
   ],
   "source": [
    "df = data[['iso_code', 'vaccines']].drop_duplicates()\n",
    "df.shape"
   ]
  },
  {
   "cell_type": "code",
   "execution_count": 73,
   "metadata": {},
   "outputs": [
    {
     "data": {
      "text/plain": [
       "(77,)"
      ]
     },
     "execution_count": 73,
     "metadata": {},
     "output_type": "execute_result"
    }
   ],
   "source": [
    "data.iso_code.unique().shape"
   ]
  },
  {
   "cell_type": "markdown",
   "metadata": {},
   "source": [
    "Next, I will create a dataframe to be used for plotting. \n",
    "\n",
    "The dataframe will have one record for each country and type of vaccine used. This way, we can get the big picture for each type of vaccine."
   ]
  },
  {
   "cell_type": "code",
   "execution_count": 74,
   "metadata": {},
   "outputs": [
    {
     "data": {
      "text/plain": [
       "Pfizer/BioNTech       58\n",
       "Oxford/AstraZeneca    34\n",
       "Moderna               27\n",
       "Sinopharm/Beijing      8\n",
       "Sputnik V              6\n",
       "Sinovac                6\n",
       "Sinopharm/Wuhan        2\n",
       "Covaxin                1\n",
       "Name: vaccine, dtype: int64"
      ]
     },
     "execution_count": 74,
     "metadata": {},
     "output_type": "execute_result"
    }
   ],
   "source": [
    "#create dataframe with one record for each country and type of vaccine used\n",
    "map_plot_df = pd.concat([pd.Series(row['iso_code'], row['vaccines'].split(','))              \n",
    "                         for _, row in df.iterrows()]).reset_index()\n",
    "\n",
    "#rename columns\n",
    "map_plot_df.columns = ['vaccine', 'iso_code']\n",
    "\n",
    "#strip white spaces\n",
    "map_plot_df['vaccine'] = map_plot_df['vaccine'].str.strip(' ')\n",
    "\n",
    "map_plot_df.vaccine.value_counts()"
   ]
  },
  {
   "cell_type": "markdown",
   "metadata": {},
   "source": [
    "<img src=\"https://cdn.pixabay.com/photo/2016/03/31/19/17/cartoon-1294877_960_720.png\" width=\"25px\" style=”float:left;margin:0;”> **Tip**:\n",
    "\n",
    "\n",
    "You can interact with the map. If you want to see where a specific vaccine is used, you can deselect all the other categories from the legend, and select only one at a time (or you can double click a category)."
   ]
  },
  {
   "cell_type": "code",
   "execution_count": 75,
   "metadata": {},
   "outputs": [
    {
     "data": {
      "application/vnd.plotly.v1+json": {
       "config": {
        "plotlyServerURL": "https://plotly.com"
       },
       "data": [
        {
         "colorscale": [
          [
           0,
           "#636efa"
          ],
          [
           1,
           "#636efa"
          ]
         ],
         "geo": "geo",
         "hovertemplate": "color=Oxford/AstraZeneca<br>locations=%{location}<extra></extra>",
         "locations": [
          "GBR",
          "DEU",
          "SWE",
          "ITA",
          "LTU",
          "SVN",
          "FRA",
          "NOR",
          "EST",
          "LVA",
          "GRC",
          "ROU",
          "POL",
          "OMN",
          "BEL",
          "BGR",
          "LUX",
          "IRL",
          "FIN",
          "ESP",
          "ARE",
          "NLD",
          "SYC",
          "AUT",
          "IND",
          "BRA",
          "IMN",
          "BGD",
          "MMR",
          "NPL",
          "MAR",
          "LKA",
          "MDV",
          "SHN"
         ],
         "name": "Oxford/AstraZeneca",
         "showlegend": true,
         "showscale": false,
         "type": "choropleth",
         "z": [
          1,
          1,
          1,
          1,
          1,
          1,
          1,
          1,
          1,
          1,
          1,
          1,
          1,
          1,
          1,
          1,
          1,
          1,
          1,
          1,
          1,
          1,
          1,
          1,
          1,
          1,
          1,
          1,
          1,
          1,
          1,
          1,
          1,
          1
         ]
        },
        {
         "colorscale": [
          [
           0,
           "#EF553B"
          ],
          [
           1,
           "#EF553B"
          ]
         ],
         "geo": "geo",
         "hovertemplate": "color=Pfizer/BioNTech<br>locations=%{location}<extra></extra>",
         "locations": [
          "GBR",
          "ISR",
          "CAN",
          "USA",
          "CHE",
          "BHR",
          "CRI",
          "CHL",
          "MEX",
          "CYM",
          "DEU",
          "CZE",
          "SWE",
          "ITA",
          "LTU",
          "SVN",
          "FRA",
          "NOR",
          "DNK",
          "EST",
          "KWT",
          "LVA",
          "GRC",
          "MLT",
          "HUN",
          "PRT",
          "ROU",
          "POL",
          "OMN",
          "BEL",
          "BGR",
          "HRV",
          "MCO",
          "LUX",
          "ISL",
          "IRL",
          "FIN",
          "SVK",
          "ESP",
          "ARE",
          "NLD",
          "SAU",
          "CYP",
          "SRB",
          "GIB",
          "AUT",
          "BMU",
          "SGP",
          "OWID_NCY",
          "PAN",
          "ECU",
          "IMN",
          "GGY",
          "JEY",
          "AND",
          "GRL",
          "FRO",
          "LIE"
         ],
         "name": "Pfizer/BioNTech",
         "showlegend": true,
         "showscale": false,
         "type": "choropleth",
         "z": [
          1,
          1,
          1,
          1,
          1,
          1,
          1,
          1,
          1,
          1,
          1,
          1,
          1,
          1,
          1,
          1,
          1,
          1,
          1,
          1,
          1,
          1,
          1,
          1,
          1,
          1,
          1,
          1,
          1,
          1,
          1,
          1,
          1,
          1,
          1,
          1,
          1,
          1,
          1,
          1,
          1,
          1,
          1,
          1,
          1,
          1,
          1,
          1,
          1,
          1,
          1,
          1,
          1,
          1,
          1,
          1,
          1,
          1
         ]
        },
        {
         "colorscale": [
          [
           0,
           "#00cc96"
          ],
          [
           1,
           "#00cc96"
          ]
         ],
         "geo": "geo",
         "hovertemplate": "color=Sputnik V<br>locations=%{location}<extra></extra>",
         "locations": [
          "RUS",
          "ARG",
          "ARE",
          "SRB",
          "BOL",
          "DZA"
         ],
         "name": "Sputnik V",
         "showlegend": true,
         "showscale": false,
         "type": "choropleth",
         "z": [
          1,
          1,
          1,
          1,
          1,
          1
         ]
        },
        {
         "colorscale": [
          [
           0,
           "#ab63fa"
          ],
          [
           1,
           "#ab63fa"
          ]
         ],
         "geo": "geo",
         "hovertemplate": "color=Sinopharm/Beijing<br>locations=%{location}<extra></extra>",
         "locations": [
          "CHN",
          "BHR",
          "ARE",
          "SRB",
          "SYC",
          "EGY",
          "MAR",
          "PER"
         ],
         "name": "Sinopharm/Beijing",
         "showlegend": true,
         "showscale": false,
         "type": "choropleth",
         "z": [
          1,
          1,
          1,
          1,
          1,
          1,
          1,
          1
         ]
        },
        {
         "colorscale": [
          [
           0,
           "#FFA15A"
          ],
          [
           1,
           "#FFA15A"
          ]
         ],
         "geo": "geo",
         "hovertemplate": "color=Sinopharm/Wuhan<br>locations=%{location}<extra></extra>",
         "locations": [
          "CHN",
          "ARE"
         ],
         "name": "Sinopharm/Wuhan",
         "showlegend": true,
         "showscale": false,
         "type": "choropleth",
         "z": [
          1,
          1
         ]
        },
        {
         "colorscale": [
          [
           0,
           "#19d3f3"
          ],
          [
           1,
           "#19d3f3"
          ]
         ],
         "geo": "geo",
         "hovertemplate": "color=Sinovac<br>locations=%{location}<extra></extra>",
         "locations": [
          "CHN",
          "CHL",
          "IDN",
          "TUR",
          "OWID_NCY",
          "BRA"
         ],
         "name": "Sinovac",
         "showlegend": true,
         "showscale": false,
         "type": "choropleth",
         "z": [
          1,
          1,
          1,
          1,
          1,
          1
         ]
        },
        {
         "colorscale": [
          [
           0,
           "#FF6692"
          ],
          [
           1,
           "#FF6692"
          ]
         ],
         "geo": "geo",
         "hovertemplate": "color=Moderna<br>locations=%{location}<extra></extra>",
         "locations": [
          "ISR",
          "CAN",
          "USA",
          "CHE",
          "DEU",
          "CZE",
          "ITA",
          "LTU",
          "FRA",
          "NOR",
          "DNK",
          "EST",
          "LVA",
          "GRC",
          "PRT",
          "ROU",
          "POL",
          "BEL",
          "BGR",
          "LUX",
          "ISL",
          "IRL",
          "FIN",
          "ESP",
          "NLD",
          "AUT",
          "LIE"
         ],
         "name": "Moderna",
         "showlegend": true,
         "showscale": false,
         "type": "choropleth",
         "z": [
          1,
          1,
          1,
          1,
          1,
          1,
          1,
          1,
          1,
          1,
          1,
          1,
          1,
          1,
          1,
          1,
          1,
          1,
          1,
          1,
          1,
          1,
          1,
          1,
          1,
          1,
          1
         ]
        },
        {
         "colorscale": [
          [
           0,
           "#B6E880"
          ],
          [
           1,
           "#B6E880"
          ]
         ],
         "geo": "geo",
         "hovertemplate": "color=Covaxin<br>locations=%{location}<extra></extra>",
         "locations": [
          "IND"
         ],
         "name": "Covaxin",
         "showlegend": true,
         "showscale": false,
         "type": "choropleth",
         "z": [
          1
         ]
        }
       ],
       "layout": {
        "geo": {
         "center": {},
         "domain": {
          "x": [
           0,
           1
          ],
          "y": [
           0,
           1
          ]
         }
        },
        "legend": {
         "title": {
          "text": "color"
         },
         "tracegroupgap": 0
        },
        "template": {
         "data": {
          "bar": [
           {
            "error_x": {
             "color": "#2a3f5f"
            },
            "error_y": {
             "color": "#2a3f5f"
            },
            "marker": {
             "line": {
              "color": "#E5ECF6",
              "width": 0.5
             }
            },
            "type": "bar"
           }
          ],
          "barpolar": [
           {
            "marker": {
             "line": {
              "color": "#E5ECF6",
              "width": 0.5
             }
            },
            "type": "barpolar"
           }
          ],
          "carpet": [
           {
            "aaxis": {
             "endlinecolor": "#2a3f5f",
             "gridcolor": "white",
             "linecolor": "white",
             "minorgridcolor": "white",
             "startlinecolor": "#2a3f5f"
            },
            "baxis": {
             "endlinecolor": "#2a3f5f",
             "gridcolor": "white",
             "linecolor": "white",
             "minorgridcolor": "white",
             "startlinecolor": "#2a3f5f"
            },
            "type": "carpet"
           }
          ],
          "choropleth": [
           {
            "colorbar": {
             "outlinewidth": 0,
             "ticks": ""
            },
            "type": "choropleth"
           }
          ],
          "contour": [
           {
            "colorbar": {
             "outlinewidth": 0,
             "ticks": ""
            },
            "colorscale": [
             [
              0,
              "#0d0887"
             ],
             [
              0.1111111111111111,
              "#46039f"
             ],
             [
              0.2222222222222222,
              "#7201a8"
             ],
             [
              0.3333333333333333,
              "#9c179e"
             ],
             [
              0.4444444444444444,
              "#bd3786"
             ],
             [
              0.5555555555555556,
              "#d8576b"
             ],
             [
              0.6666666666666666,
              "#ed7953"
             ],
             [
              0.7777777777777778,
              "#fb9f3a"
             ],
             [
              0.8888888888888888,
              "#fdca26"
             ],
             [
              1,
              "#f0f921"
             ]
            ],
            "type": "contour"
           }
          ],
          "contourcarpet": [
           {
            "colorbar": {
             "outlinewidth": 0,
             "ticks": ""
            },
            "type": "contourcarpet"
           }
          ],
          "heatmap": [
           {
            "colorbar": {
             "outlinewidth": 0,
             "ticks": ""
            },
            "colorscale": [
             [
              0,
              "#0d0887"
             ],
             [
              0.1111111111111111,
              "#46039f"
             ],
             [
              0.2222222222222222,
              "#7201a8"
             ],
             [
              0.3333333333333333,
              "#9c179e"
             ],
             [
              0.4444444444444444,
              "#bd3786"
             ],
             [
              0.5555555555555556,
              "#d8576b"
             ],
             [
              0.6666666666666666,
              "#ed7953"
             ],
             [
              0.7777777777777778,
              "#fb9f3a"
             ],
             [
              0.8888888888888888,
              "#fdca26"
             ],
             [
              1,
              "#f0f921"
             ]
            ],
            "type": "heatmap"
           }
          ],
          "heatmapgl": [
           {
            "colorbar": {
             "outlinewidth": 0,
             "ticks": ""
            },
            "colorscale": [
             [
              0,
              "#0d0887"
             ],
             [
              0.1111111111111111,
              "#46039f"
             ],
             [
              0.2222222222222222,
              "#7201a8"
             ],
             [
              0.3333333333333333,
              "#9c179e"
             ],
             [
              0.4444444444444444,
              "#bd3786"
             ],
             [
              0.5555555555555556,
              "#d8576b"
             ],
             [
              0.6666666666666666,
              "#ed7953"
             ],
             [
              0.7777777777777778,
              "#fb9f3a"
             ],
             [
              0.8888888888888888,
              "#fdca26"
             ],
             [
              1,
              "#f0f921"
             ]
            ],
            "type": "heatmapgl"
           }
          ],
          "histogram": [
           {
            "marker": {
             "colorbar": {
              "outlinewidth": 0,
              "ticks": ""
             }
            },
            "type": "histogram"
           }
          ],
          "histogram2d": [
           {
            "colorbar": {
             "outlinewidth": 0,
             "ticks": ""
            },
            "colorscale": [
             [
              0,
              "#0d0887"
             ],
             [
              0.1111111111111111,
              "#46039f"
             ],
             [
              0.2222222222222222,
              "#7201a8"
             ],
             [
              0.3333333333333333,
              "#9c179e"
             ],
             [
              0.4444444444444444,
              "#bd3786"
             ],
             [
              0.5555555555555556,
              "#d8576b"
             ],
             [
              0.6666666666666666,
              "#ed7953"
             ],
             [
              0.7777777777777778,
              "#fb9f3a"
             ],
             [
              0.8888888888888888,
              "#fdca26"
             ],
             [
              1,
              "#f0f921"
             ]
            ],
            "type": "histogram2d"
           }
          ],
          "histogram2dcontour": [
           {
            "colorbar": {
             "outlinewidth": 0,
             "ticks": ""
            },
            "colorscale": [
             [
              0,
              "#0d0887"
             ],
             [
              0.1111111111111111,
              "#46039f"
             ],
             [
              0.2222222222222222,
              "#7201a8"
             ],
             [
              0.3333333333333333,
              "#9c179e"
             ],
             [
              0.4444444444444444,
              "#bd3786"
             ],
             [
              0.5555555555555556,
              "#d8576b"
             ],
             [
              0.6666666666666666,
              "#ed7953"
             ],
             [
              0.7777777777777778,
              "#fb9f3a"
             ],
             [
              0.8888888888888888,
              "#fdca26"
             ],
             [
              1,
              "#f0f921"
             ]
            ],
            "type": "histogram2dcontour"
           }
          ],
          "mesh3d": [
           {
            "colorbar": {
             "outlinewidth": 0,
             "ticks": ""
            },
            "type": "mesh3d"
           }
          ],
          "parcoords": [
           {
            "line": {
             "colorbar": {
              "outlinewidth": 0,
              "ticks": ""
             }
            },
            "type": "parcoords"
           }
          ],
          "pie": [
           {
            "automargin": true,
            "type": "pie"
           }
          ],
          "scatter": [
           {
            "marker": {
             "colorbar": {
              "outlinewidth": 0,
              "ticks": ""
             }
            },
            "type": "scatter"
           }
          ],
          "scatter3d": [
           {
            "line": {
             "colorbar": {
              "outlinewidth": 0,
              "ticks": ""
             }
            },
            "marker": {
             "colorbar": {
              "outlinewidth": 0,
              "ticks": ""
             }
            },
            "type": "scatter3d"
           }
          ],
          "scattercarpet": [
           {
            "marker": {
             "colorbar": {
              "outlinewidth": 0,
              "ticks": ""
             }
            },
            "type": "scattercarpet"
           }
          ],
          "scattergeo": [
           {
            "marker": {
             "colorbar": {
              "outlinewidth": 0,
              "ticks": ""
             }
            },
            "type": "scattergeo"
           }
          ],
          "scattergl": [
           {
            "marker": {
             "colorbar": {
              "outlinewidth": 0,
              "ticks": ""
             }
            },
            "type": "scattergl"
           }
          ],
          "scattermapbox": [
           {
            "marker": {
             "colorbar": {
              "outlinewidth": 0,
              "ticks": ""
             }
            },
            "type": "scattermapbox"
           }
          ],
          "scatterpolar": [
           {
            "marker": {
             "colorbar": {
              "outlinewidth": 0,
              "ticks": ""
             }
            },
            "type": "scatterpolar"
           }
          ],
          "scatterpolargl": [
           {
            "marker": {
             "colorbar": {
              "outlinewidth": 0,
              "ticks": ""
             }
            },
            "type": "scatterpolargl"
           }
          ],
          "scatterternary": [
           {
            "marker": {
             "colorbar": {
              "outlinewidth": 0,
              "ticks": ""
             }
            },
            "type": "scatterternary"
           }
          ],
          "surface": [
           {
            "colorbar": {
             "outlinewidth": 0,
             "ticks": ""
            },
            "colorscale": [
             [
              0,
              "#0d0887"
             ],
             [
              0.1111111111111111,
              "#46039f"
             ],
             [
              0.2222222222222222,
              "#7201a8"
             ],
             [
              0.3333333333333333,
              "#9c179e"
             ],
             [
              0.4444444444444444,
              "#bd3786"
             ],
             [
              0.5555555555555556,
              "#d8576b"
             ],
             [
              0.6666666666666666,
              "#ed7953"
             ],
             [
              0.7777777777777778,
              "#fb9f3a"
             ],
             [
              0.8888888888888888,
              "#fdca26"
             ],
             [
              1,
              "#f0f921"
             ]
            ],
            "type": "surface"
           }
          ],
          "table": [
           {
            "cells": {
             "fill": {
              "color": "#EBF0F8"
             },
             "line": {
              "color": "white"
             }
            },
            "header": {
             "fill": {
              "color": "#C8D4E3"
             },
             "line": {
              "color": "white"
             }
            },
            "type": "table"
           }
          ]
         },
         "layout": {
          "annotationdefaults": {
           "arrowcolor": "#2a3f5f",
           "arrowhead": 0,
           "arrowwidth": 1
          },
          "autotypenumbers": "strict",
          "coloraxis": {
           "colorbar": {
            "outlinewidth": 0,
            "ticks": ""
           }
          },
          "colorscale": {
           "diverging": [
            [
             0,
             "#8e0152"
            ],
            [
             0.1,
             "#c51b7d"
            ],
            [
             0.2,
             "#de77ae"
            ],
            [
             0.3,
             "#f1b6da"
            ],
            [
             0.4,
             "#fde0ef"
            ],
            [
             0.5,
             "#f7f7f7"
            ],
            [
             0.6,
             "#e6f5d0"
            ],
            [
             0.7,
             "#b8e186"
            ],
            [
             0.8,
             "#7fbc41"
            ],
            [
             0.9,
             "#4d9221"
            ],
            [
             1,
             "#276419"
            ]
           ],
           "sequential": [
            [
             0,
             "#0d0887"
            ],
            [
             0.1111111111111111,
             "#46039f"
            ],
            [
             0.2222222222222222,
             "#7201a8"
            ],
            [
             0.3333333333333333,
             "#9c179e"
            ],
            [
             0.4444444444444444,
             "#bd3786"
            ],
            [
             0.5555555555555556,
             "#d8576b"
            ],
            [
             0.6666666666666666,
             "#ed7953"
            ],
            [
             0.7777777777777778,
             "#fb9f3a"
            ],
            [
             0.8888888888888888,
             "#fdca26"
            ],
            [
             1,
             "#f0f921"
            ]
           ],
           "sequentialminus": [
            [
             0,
             "#0d0887"
            ],
            [
             0.1111111111111111,
             "#46039f"
            ],
            [
             0.2222222222222222,
             "#7201a8"
            ],
            [
             0.3333333333333333,
             "#9c179e"
            ],
            [
             0.4444444444444444,
             "#bd3786"
            ],
            [
             0.5555555555555556,
             "#d8576b"
            ],
            [
             0.6666666666666666,
             "#ed7953"
            ],
            [
             0.7777777777777778,
             "#fb9f3a"
            ],
            [
             0.8888888888888888,
             "#fdca26"
            ],
            [
             1,
             "#f0f921"
            ]
           ]
          },
          "colorway": [
           "#636efa",
           "#EF553B",
           "#00cc96",
           "#ab63fa",
           "#FFA15A",
           "#19d3f3",
           "#FF6692",
           "#B6E880",
           "#FF97FF",
           "#FECB52"
          ],
          "font": {
           "color": "#2a3f5f"
          },
          "geo": {
           "bgcolor": "white",
           "lakecolor": "white",
           "landcolor": "#E5ECF6",
           "showlakes": true,
           "showland": true,
           "subunitcolor": "white"
          },
          "hoverlabel": {
           "align": "left"
          },
          "hovermode": "closest",
          "mapbox": {
           "style": "light"
          },
          "paper_bgcolor": "white",
          "plot_bgcolor": "#E5ECF6",
          "polar": {
           "angularaxis": {
            "gridcolor": "white",
            "linecolor": "white",
            "ticks": ""
           },
           "bgcolor": "#E5ECF6",
           "radialaxis": {
            "gridcolor": "white",
            "linecolor": "white",
            "ticks": ""
           }
          },
          "scene": {
           "xaxis": {
            "backgroundcolor": "#E5ECF6",
            "gridcolor": "white",
            "gridwidth": 2,
            "linecolor": "white",
            "showbackground": true,
            "ticks": "",
            "zerolinecolor": "white"
           },
           "yaxis": {
            "backgroundcolor": "#E5ECF6",
            "gridcolor": "white",
            "gridwidth": 2,
            "linecolor": "white",
            "showbackground": true,
            "ticks": "",
            "zerolinecolor": "white"
           },
           "zaxis": {
            "backgroundcolor": "#E5ECF6",
            "gridcolor": "white",
            "gridwidth": 2,
            "linecolor": "white",
            "showbackground": true,
            "ticks": "",
            "zerolinecolor": "white"
           }
          },
          "shapedefaults": {
           "line": {
            "color": "#2a3f5f"
           }
          },
          "ternary": {
           "aaxis": {
            "gridcolor": "white",
            "linecolor": "white",
            "ticks": ""
           },
           "baxis": {
            "gridcolor": "white",
            "linecolor": "white",
            "ticks": ""
           },
           "bgcolor": "#E5ECF6",
           "caxis": {
            "gridcolor": "white",
            "linecolor": "white",
            "ticks": ""
           }
          },
          "title": {
           "x": 0.05
          },
          "xaxis": {
           "automargin": true,
           "gridcolor": "white",
           "linecolor": "white",
           "ticks": "",
           "title": {
            "standoff": 15
           },
           "zerolinecolor": "white",
           "zerolinewidth": 2
          },
          "yaxis": {
           "automargin": true,
           "gridcolor": "white",
           "linecolor": "white",
           "ticks": "",
           "title": {
            "standoff": 15
           },
           "zerolinecolor": "white",
           "zerolinewidth": 2
          }
         }
        },
        "title": {
         "text": "Where is each vaccine used?"
        }
       }
      },
      "text/html": [
       "<div>                            <div id=\"25e0e831-ed7d-45e3-8b72-9fee4f292ce1\" class=\"plotly-graph-div\" style=\"height:525px; width:100%;\"></div>            <script type=\"text/javascript\">                require([\"plotly\"], function(Plotly) {                    window.PLOTLYENV=window.PLOTLYENV || {};                                    if (document.getElementById(\"25e0e831-ed7d-45e3-8b72-9fee4f292ce1\")) {                    Plotly.newPlot(                        \"25e0e831-ed7d-45e3-8b72-9fee4f292ce1\",                        [{\"colorscale\": [[0.0, \"#636efa\"], [1.0, \"#636efa\"]], \"geo\": \"geo\", \"hovertemplate\": \"color=Oxford/AstraZeneca<br>locations=%{location}<extra></extra>\", \"locations\": [\"GBR\", \"DEU\", \"SWE\", \"ITA\", \"LTU\", \"SVN\", \"FRA\", \"NOR\", \"EST\", \"LVA\", \"GRC\", \"ROU\", \"POL\", \"OMN\", \"BEL\", \"BGR\", \"LUX\", \"IRL\", \"FIN\", \"ESP\", \"ARE\", \"NLD\", \"SYC\", \"AUT\", \"IND\", \"BRA\", \"IMN\", \"BGD\", \"MMR\", \"NPL\", \"MAR\", \"LKA\", \"MDV\", \"SHN\"], \"name\": \"Oxford/AstraZeneca\", \"showlegend\": true, \"showscale\": false, \"type\": \"choropleth\", \"z\": [1, 1, 1, 1, 1, 1, 1, 1, 1, 1, 1, 1, 1, 1, 1, 1, 1, 1, 1, 1, 1, 1, 1, 1, 1, 1, 1, 1, 1, 1, 1, 1, 1, 1]}, {\"colorscale\": [[0.0, \"#EF553B\"], [1.0, \"#EF553B\"]], \"geo\": \"geo\", \"hovertemplate\": \"color=Pfizer/BioNTech<br>locations=%{location}<extra></extra>\", \"locations\": [\"GBR\", \"ISR\", \"CAN\", \"USA\", \"CHE\", \"BHR\", \"CRI\", \"CHL\", \"MEX\", \"CYM\", \"DEU\", \"CZE\", \"SWE\", \"ITA\", \"LTU\", \"SVN\", \"FRA\", \"NOR\", \"DNK\", \"EST\", \"KWT\", \"LVA\", \"GRC\", \"MLT\", \"HUN\", \"PRT\", \"ROU\", \"POL\", \"OMN\", \"BEL\", \"BGR\", \"HRV\", \"MCO\", \"LUX\", \"ISL\", \"IRL\", \"FIN\", \"SVK\", \"ESP\", \"ARE\", \"NLD\", \"SAU\", \"CYP\", \"SRB\", \"GIB\", \"AUT\", \"BMU\", \"SGP\", \"OWID_NCY\", \"PAN\", \"ECU\", \"IMN\", \"GGY\", \"JEY\", \"AND\", \"GRL\", \"FRO\", \"LIE\"], \"name\": \"Pfizer/BioNTech\", \"showlegend\": true, \"showscale\": false, \"type\": \"choropleth\", \"z\": [1, 1, 1, 1, 1, 1, 1, 1, 1, 1, 1, 1, 1, 1, 1, 1, 1, 1, 1, 1, 1, 1, 1, 1, 1, 1, 1, 1, 1, 1, 1, 1, 1, 1, 1, 1, 1, 1, 1, 1, 1, 1, 1, 1, 1, 1, 1, 1, 1, 1, 1, 1, 1, 1, 1, 1, 1, 1]}, {\"colorscale\": [[0.0, \"#00cc96\"], [1.0, \"#00cc96\"]], \"geo\": \"geo\", \"hovertemplate\": \"color=Sputnik V<br>locations=%{location}<extra></extra>\", \"locations\": [\"RUS\", \"ARG\", \"ARE\", \"SRB\", \"BOL\", \"DZA\"], \"name\": \"Sputnik V\", \"showlegend\": true, \"showscale\": false, \"type\": \"choropleth\", \"z\": [1, 1, 1, 1, 1, 1]}, {\"colorscale\": [[0.0, \"#ab63fa\"], [1.0, \"#ab63fa\"]], \"geo\": \"geo\", \"hovertemplate\": \"color=Sinopharm/Beijing<br>locations=%{location}<extra></extra>\", \"locations\": [\"CHN\", \"BHR\", \"ARE\", \"SRB\", \"SYC\", \"EGY\", \"MAR\", \"PER\"], \"name\": \"Sinopharm/Beijing\", \"showlegend\": true, \"showscale\": false, \"type\": \"choropleth\", \"z\": [1, 1, 1, 1, 1, 1, 1, 1]}, {\"colorscale\": [[0.0, \"#FFA15A\"], [1.0, \"#FFA15A\"]], \"geo\": \"geo\", \"hovertemplate\": \"color=Sinopharm/Wuhan<br>locations=%{location}<extra></extra>\", \"locations\": [\"CHN\", \"ARE\"], \"name\": \"Sinopharm/Wuhan\", \"showlegend\": true, \"showscale\": false, \"type\": \"choropleth\", \"z\": [1, 1]}, {\"colorscale\": [[0.0, \"#19d3f3\"], [1.0, \"#19d3f3\"]], \"geo\": \"geo\", \"hovertemplate\": \"color=Sinovac<br>locations=%{location}<extra></extra>\", \"locations\": [\"CHN\", \"CHL\", \"IDN\", \"TUR\", \"OWID_NCY\", \"BRA\"], \"name\": \"Sinovac\", \"showlegend\": true, \"showscale\": false, \"type\": \"choropleth\", \"z\": [1, 1, 1, 1, 1, 1]}, {\"colorscale\": [[0.0, \"#FF6692\"], [1.0, \"#FF6692\"]], \"geo\": \"geo\", \"hovertemplate\": \"color=Moderna<br>locations=%{location}<extra></extra>\", \"locations\": [\"ISR\", \"CAN\", \"USA\", \"CHE\", \"DEU\", \"CZE\", \"ITA\", \"LTU\", \"FRA\", \"NOR\", \"DNK\", \"EST\", \"LVA\", \"GRC\", \"PRT\", \"ROU\", \"POL\", \"BEL\", \"BGR\", \"LUX\", \"ISL\", \"IRL\", \"FIN\", \"ESP\", \"NLD\", \"AUT\", \"LIE\"], \"name\": \"Moderna\", \"showlegend\": true, \"showscale\": false, \"type\": \"choropleth\", \"z\": [1, 1, 1, 1, 1, 1, 1, 1, 1, 1, 1, 1, 1, 1, 1, 1, 1, 1, 1, 1, 1, 1, 1, 1, 1, 1, 1]}, {\"colorscale\": [[0.0, \"#B6E880\"], [1.0, \"#B6E880\"]], \"geo\": \"geo\", \"hovertemplate\": \"color=Covaxin<br>locations=%{location}<extra></extra>\", \"locations\": [\"IND\"], \"name\": \"Covaxin\", \"showlegend\": true, \"showscale\": false, \"type\": \"choropleth\", \"z\": [1]}],                        {\"geo\": {\"center\": {}, \"domain\": {\"x\": [0.0, 1.0], \"y\": [0.0, 1.0]}}, \"legend\": {\"title\": {\"text\": \"color\"}, \"tracegroupgap\": 0}, \"template\": {\"data\": {\"bar\": [{\"error_x\": {\"color\": \"#2a3f5f\"}, \"error_y\": {\"color\": \"#2a3f5f\"}, \"marker\": {\"line\": {\"color\": \"#E5ECF6\", \"width\": 0.5}}, \"type\": \"bar\"}], \"barpolar\": [{\"marker\": {\"line\": {\"color\": \"#E5ECF6\", \"width\": 0.5}}, \"type\": \"barpolar\"}], \"carpet\": [{\"aaxis\": {\"endlinecolor\": \"#2a3f5f\", \"gridcolor\": \"white\", \"linecolor\": \"white\", \"minorgridcolor\": \"white\", \"startlinecolor\": \"#2a3f5f\"}, \"baxis\": {\"endlinecolor\": \"#2a3f5f\", \"gridcolor\": \"white\", \"linecolor\": \"white\", \"minorgridcolor\": \"white\", \"startlinecolor\": \"#2a3f5f\"}, \"type\": \"carpet\"}], \"choropleth\": [{\"colorbar\": {\"outlinewidth\": 0, \"ticks\": \"\"}, \"type\": \"choropleth\"}], \"contour\": [{\"colorbar\": {\"outlinewidth\": 0, \"ticks\": \"\"}, \"colorscale\": [[0.0, \"#0d0887\"], [0.1111111111111111, \"#46039f\"], [0.2222222222222222, \"#7201a8\"], [0.3333333333333333, \"#9c179e\"], [0.4444444444444444, \"#bd3786\"], [0.5555555555555556, \"#d8576b\"], [0.6666666666666666, \"#ed7953\"], [0.7777777777777778, \"#fb9f3a\"], [0.8888888888888888, \"#fdca26\"], [1.0, \"#f0f921\"]], \"type\": \"contour\"}], \"contourcarpet\": [{\"colorbar\": {\"outlinewidth\": 0, \"ticks\": \"\"}, \"type\": \"contourcarpet\"}], \"heatmap\": [{\"colorbar\": {\"outlinewidth\": 0, \"ticks\": \"\"}, \"colorscale\": [[0.0, \"#0d0887\"], [0.1111111111111111, \"#46039f\"], [0.2222222222222222, \"#7201a8\"], [0.3333333333333333, \"#9c179e\"], [0.4444444444444444, \"#bd3786\"], [0.5555555555555556, \"#d8576b\"], [0.6666666666666666, \"#ed7953\"], [0.7777777777777778, \"#fb9f3a\"], [0.8888888888888888, \"#fdca26\"], [1.0, \"#f0f921\"]], \"type\": \"heatmap\"}], \"heatmapgl\": [{\"colorbar\": {\"outlinewidth\": 0, \"ticks\": \"\"}, \"colorscale\": [[0.0, \"#0d0887\"], [0.1111111111111111, \"#46039f\"], [0.2222222222222222, \"#7201a8\"], [0.3333333333333333, \"#9c179e\"], [0.4444444444444444, \"#bd3786\"], [0.5555555555555556, \"#d8576b\"], [0.6666666666666666, \"#ed7953\"], [0.7777777777777778, \"#fb9f3a\"], [0.8888888888888888, \"#fdca26\"], [1.0, \"#f0f921\"]], \"type\": \"heatmapgl\"}], \"histogram\": [{\"marker\": {\"colorbar\": {\"outlinewidth\": 0, \"ticks\": \"\"}}, \"type\": \"histogram\"}], \"histogram2d\": [{\"colorbar\": {\"outlinewidth\": 0, \"ticks\": \"\"}, \"colorscale\": [[0.0, \"#0d0887\"], [0.1111111111111111, \"#46039f\"], [0.2222222222222222, \"#7201a8\"], [0.3333333333333333, \"#9c179e\"], [0.4444444444444444, \"#bd3786\"], [0.5555555555555556, \"#d8576b\"], [0.6666666666666666, \"#ed7953\"], [0.7777777777777778, \"#fb9f3a\"], [0.8888888888888888, \"#fdca26\"], [1.0, \"#f0f921\"]], \"type\": \"histogram2d\"}], \"histogram2dcontour\": [{\"colorbar\": {\"outlinewidth\": 0, \"ticks\": \"\"}, \"colorscale\": [[0.0, \"#0d0887\"], [0.1111111111111111, \"#46039f\"], [0.2222222222222222, \"#7201a8\"], [0.3333333333333333, \"#9c179e\"], [0.4444444444444444, \"#bd3786\"], [0.5555555555555556, \"#d8576b\"], [0.6666666666666666, \"#ed7953\"], [0.7777777777777778, \"#fb9f3a\"], [0.8888888888888888, \"#fdca26\"], [1.0, \"#f0f921\"]], \"type\": \"histogram2dcontour\"}], \"mesh3d\": [{\"colorbar\": {\"outlinewidth\": 0, \"ticks\": \"\"}, \"type\": \"mesh3d\"}], \"parcoords\": [{\"line\": {\"colorbar\": {\"outlinewidth\": 0, \"ticks\": \"\"}}, \"type\": \"parcoords\"}], \"pie\": [{\"automargin\": true, \"type\": \"pie\"}], \"scatter\": [{\"marker\": {\"colorbar\": {\"outlinewidth\": 0, \"ticks\": \"\"}}, \"type\": \"scatter\"}], \"scatter3d\": [{\"line\": {\"colorbar\": {\"outlinewidth\": 0, \"ticks\": \"\"}}, \"marker\": {\"colorbar\": {\"outlinewidth\": 0, \"ticks\": \"\"}}, \"type\": \"scatter3d\"}], \"scattercarpet\": [{\"marker\": {\"colorbar\": {\"outlinewidth\": 0, \"ticks\": \"\"}}, \"type\": \"scattercarpet\"}], \"scattergeo\": [{\"marker\": {\"colorbar\": {\"outlinewidth\": 0, \"ticks\": \"\"}}, \"type\": \"scattergeo\"}], \"scattergl\": [{\"marker\": {\"colorbar\": {\"outlinewidth\": 0, \"ticks\": \"\"}}, \"type\": \"scattergl\"}], \"scattermapbox\": [{\"marker\": {\"colorbar\": {\"outlinewidth\": 0, \"ticks\": \"\"}}, \"type\": \"scattermapbox\"}], \"scatterpolar\": [{\"marker\": {\"colorbar\": {\"outlinewidth\": 0, \"ticks\": \"\"}}, \"type\": \"scatterpolar\"}], \"scatterpolargl\": [{\"marker\": {\"colorbar\": {\"outlinewidth\": 0, \"ticks\": \"\"}}, \"type\": \"scatterpolargl\"}], \"scatterternary\": [{\"marker\": {\"colorbar\": {\"outlinewidth\": 0, \"ticks\": \"\"}}, \"type\": \"scatterternary\"}], \"surface\": [{\"colorbar\": {\"outlinewidth\": 0, \"ticks\": \"\"}, \"colorscale\": [[0.0, \"#0d0887\"], [0.1111111111111111, \"#46039f\"], [0.2222222222222222, \"#7201a8\"], [0.3333333333333333, \"#9c179e\"], [0.4444444444444444, \"#bd3786\"], [0.5555555555555556, \"#d8576b\"], [0.6666666666666666, \"#ed7953\"], [0.7777777777777778, \"#fb9f3a\"], [0.8888888888888888, \"#fdca26\"], [1.0, \"#f0f921\"]], \"type\": \"surface\"}], \"table\": [{\"cells\": {\"fill\": {\"color\": \"#EBF0F8\"}, \"line\": {\"color\": \"white\"}}, \"header\": {\"fill\": {\"color\": \"#C8D4E3\"}, \"line\": {\"color\": \"white\"}}, \"type\": \"table\"}]}, \"layout\": {\"annotationdefaults\": {\"arrowcolor\": \"#2a3f5f\", \"arrowhead\": 0, \"arrowwidth\": 1}, \"autotypenumbers\": \"strict\", \"coloraxis\": {\"colorbar\": {\"outlinewidth\": 0, \"ticks\": \"\"}}, \"colorscale\": {\"diverging\": [[0, \"#8e0152\"], [0.1, \"#c51b7d\"], [0.2, \"#de77ae\"], [0.3, \"#f1b6da\"], [0.4, \"#fde0ef\"], [0.5, \"#f7f7f7\"], [0.6, \"#e6f5d0\"], [0.7, \"#b8e186\"], [0.8, \"#7fbc41\"], [0.9, \"#4d9221\"], [1, \"#276419\"]], \"sequential\": [[0.0, \"#0d0887\"], [0.1111111111111111, \"#46039f\"], [0.2222222222222222, \"#7201a8\"], [0.3333333333333333, \"#9c179e\"], [0.4444444444444444, \"#bd3786\"], [0.5555555555555556, \"#d8576b\"], [0.6666666666666666, \"#ed7953\"], [0.7777777777777778, \"#fb9f3a\"], [0.8888888888888888, \"#fdca26\"], [1.0, \"#f0f921\"]], \"sequentialminus\": [[0.0, \"#0d0887\"], [0.1111111111111111, \"#46039f\"], [0.2222222222222222, \"#7201a8\"], [0.3333333333333333, \"#9c179e\"], [0.4444444444444444, \"#bd3786\"], [0.5555555555555556, \"#d8576b\"], [0.6666666666666666, \"#ed7953\"], [0.7777777777777778, \"#fb9f3a\"], [0.8888888888888888, \"#fdca26\"], [1.0, \"#f0f921\"]]}, \"colorway\": [\"#636efa\", \"#EF553B\", \"#00cc96\", \"#ab63fa\", \"#FFA15A\", \"#19d3f3\", \"#FF6692\", \"#B6E880\", \"#FF97FF\", \"#FECB52\"], \"font\": {\"color\": \"#2a3f5f\"}, \"geo\": {\"bgcolor\": \"white\", \"lakecolor\": \"white\", \"landcolor\": \"#E5ECF6\", \"showlakes\": true, \"showland\": true, \"subunitcolor\": \"white\"}, \"hoverlabel\": {\"align\": \"left\"}, \"hovermode\": \"closest\", \"mapbox\": {\"style\": \"light\"}, \"paper_bgcolor\": \"white\", \"plot_bgcolor\": \"#E5ECF6\", \"polar\": {\"angularaxis\": {\"gridcolor\": \"white\", \"linecolor\": \"white\", \"ticks\": \"\"}, \"bgcolor\": \"#E5ECF6\", \"radialaxis\": {\"gridcolor\": \"white\", \"linecolor\": \"white\", \"ticks\": \"\"}}, \"scene\": {\"xaxis\": {\"backgroundcolor\": \"#E5ECF6\", \"gridcolor\": \"white\", \"gridwidth\": 2, \"linecolor\": \"white\", \"showbackground\": true, \"ticks\": \"\", \"zerolinecolor\": \"white\"}, \"yaxis\": {\"backgroundcolor\": \"#E5ECF6\", \"gridcolor\": \"white\", \"gridwidth\": 2, \"linecolor\": \"white\", \"showbackground\": true, \"ticks\": \"\", \"zerolinecolor\": \"white\"}, \"zaxis\": {\"backgroundcolor\": \"#E5ECF6\", \"gridcolor\": \"white\", \"gridwidth\": 2, \"linecolor\": \"white\", \"showbackground\": true, \"ticks\": \"\", \"zerolinecolor\": \"white\"}}, \"shapedefaults\": {\"line\": {\"color\": \"#2a3f5f\"}}, \"ternary\": {\"aaxis\": {\"gridcolor\": \"white\", \"linecolor\": \"white\", \"ticks\": \"\"}, \"baxis\": {\"gridcolor\": \"white\", \"linecolor\": \"white\", \"ticks\": \"\"}, \"bgcolor\": \"#E5ECF6\", \"caxis\": {\"gridcolor\": \"white\", \"linecolor\": \"white\", \"ticks\": \"\"}}, \"title\": {\"x\": 0.05}, \"xaxis\": {\"automargin\": true, \"gridcolor\": \"white\", \"linecolor\": \"white\", \"ticks\": \"\", \"title\": {\"standoff\": 15}, \"zerolinecolor\": \"white\", \"zerolinewidth\": 2}, \"yaxis\": {\"automargin\": true, \"gridcolor\": \"white\", \"linecolor\": \"white\", \"ticks\": \"\", \"title\": {\"standoff\": 15}, \"zerolinecolor\": \"white\", \"zerolinewidth\": 2}}}, \"title\": {\"text\": \"Where is each vaccine used?\"}},                        {\"responsive\": true}                    ).then(function(){\n",
       "                            \n",
       "var gd = document.getElementById('25e0e831-ed7d-45e3-8b72-9fee4f292ce1');\n",
       "var x = new MutationObserver(function (mutations, observer) {{\n",
       "        var display = window.getComputedStyle(gd).display;\n",
       "        if (!display || display === 'none') {{\n",
       "            console.log([gd, 'removed!']);\n",
       "            Plotly.purge(gd);\n",
       "            observer.disconnect();\n",
       "        }}\n",
       "}});\n",
       "\n",
       "// Listen for the removal of the full notebook cells\n",
       "var notebookContainer = gd.closest('#notebook-container');\n",
       "if (notebookContainer) {{\n",
       "    x.observe(notebookContainer, {childList: true});\n",
       "}}\n",
       "\n",
       "// Listen for the clearing of the current output cell\n",
       "var outputEl = gd.closest('.output');\n",
       "if (outputEl) {{\n",
       "    x.observe(outputEl, {childList: true});\n",
       "}}\n",
       "\n",
       "                        })                };                });            </script>        </div>"
      ]
     },
     "metadata": {},
     "output_type": "display_data"
    }
   ],
   "source": [
    "fig = px.choropleth(locations = map_plot_df.iso_code, \n",
    "                    color = map_plot_df.vaccine,\n",
    "                    color_continuous_scale = 'rainbow',\n",
    "                    title = 'Where is each vaccine used?', \n",
    "                   )\n",
    "fig.show()"
   ]
  },
  {
   "cell_type": "markdown",
   "metadata": {},
   "source": [
    "From our data, we can notice that in the first three months of the vaccination campaigns *eight* different types of vaccines were used. Some countries are using just one type while others are accepting several.In Northern America they are using *Pfizer* and *Moderna*; in Russia only *Sputnik* is available at the moment, while in Europe there are used mostly *Pfizer, Moderna*, but also *AstraZeneca*."
   ]
  },
  {
   "cell_type": "markdown",
   "metadata": {},
   "source": [
    "### 4.2. Where are vaccinated more people per day?"
   ]
  },
  {
   "cell_type": "markdown",
   "metadata": {},
   "source": [
    "**Daily vaccinations** represent the number of doses administrated in a specific day.\n",
    "\n"
   ]
  },
  {
   "cell_type": "markdown",
   "metadata": {},
   "source": [
    "Average daily vacinations by country:"
   ]
  },
  {
   "cell_type": "code",
   "execution_count": 76,
   "metadata": {},
   "outputs": [
    {
     "data": {
      "image/png": "[encoded data removed]",
      "text/plain": [
       "<Figure size 1080x360 with 1 Axes>"
      ]
     },
     "metadata": {
      "needs_background": "light"
     },
     "output_type": "display_data"
    }
   ],
   "source": [
    "data.groupby(['country']).agg({'daily_vaccinations':'mean'}).sort_values(by='daily_vaccinations', ascending=False)[:10].plot.barh(color=\"teal\", figsize=(15,5))\n",
    "plt.title('Average daily vaccinations by country - Top 10')\n",
    "plt.legend('')\n",
    "plt.xlabel('average daily vaccinations')\n",
    "plt.show()"
   ]
  },
  {
   "cell_type": "markdown",
   "metadata": {},
   "source": [
    "On average, the most people vaccinated per day are in the United States, followed by China and India."
   ]
  },
  {
   "cell_type": "markdown",
   "metadata": {},
   "source": [
    "In order to illustrate the evolution of daily vaccinations, I will create interactive Plotly line plots using the function below (more details in its definition)."
   ]
  },
  {
   "cell_type": "code",
   "execution_count": 77,
   "metadata": {},
   "outputs": [],
   "source": [
    "def plot_daily_vaccination_data(data, region_column, regions_list, vaccination_metric, plot_title, min_date = '2020-12-13', max_date='2021-02-13'):\n",
    "    '''\n",
    "    Plots a vaccination metric using Plotly library\n",
    "    \n",
    "    INPUT \n",
    "        data : Pandas dataframe\n",
    "            a dataframe holding the data to be plotted \n",
    "            must contain a date column (unique dates), a region column and a vaccination related metric\n",
    "        region_column : string\n",
    "            name of the region column \n",
    "            (continent/region/country)\n",
    "        regions_list : list\n",
    "            list of strings with regions to be plotted\n",
    "            must contain values of region_column\n",
    "        vaccination_metric : string\n",
    "            name of the vaccination metric column \n",
    "            (daily_vaccinations/people_fully_vaccinated_per_hundred)\n",
    "        plot_title : string \n",
    "            the title of your plot\n",
    "        min_date : string\n",
    "            lower date limit for the plot\n",
    "        max_date : string\n",
    "            upper date limit for the plot\n",
    "    '''\n",
    "    df = data[(data[region_column].isin(regions_list)) & (data.date <= max_date) & (data.date >= min_date)]\n",
    "    fig = px.line(df, \n",
    "                  x = 'date', \n",
    "                  y = vaccination_metric,\n",
    "                  color = region_column,\n",
    "                  title = plot_title\n",
    "                 )\n",
    "    fig.show()"
   ]
  },
  {
   "cell_type": "markdown",
   "metadata": {},
   "source": [
    "Preparing data for the plots -> aggregating at date and continent/region level"
   ]
  },
  {
   "cell_type": "code",
   "execution_count": 78,
   "metadata": {},
   "outputs": [],
   "source": [
    "continents_daily_df = data.groupby(['date', 'continent']).agg({'daily_vaccinations':'sum',\n",
    "                                                               'people_vaccinated_per_hundred':'mean',\n",
    "                                                              }).reset_index()\n",
    "regions_daily_df = data.groupby(['date', 'region']).agg({'daily_vaccinations':'sum',\n",
    "                                                         'people_vaccinated_per_hundred':'mean',\n",
    "                                                        }).reset_index()"
   ]
  },
  {
   "cell_type": "code",
   "execution_count": 79,
   "metadata": {},
   "outputs": [],
   "source": [
    "all_continents = list(continents_daily_df.continent.unique())\n",
    "all_regions = list(regions_daily_df.region.unique())"
   ]
  },
  {
   "cell_type": "code",
   "execution_count": 80,
   "metadata": {},
   "outputs": [
    {
     "data": {
      "application/vnd.plotly.v1+json": {
       "config": {
        "plotlyServerURL": "https://plotly.com"
       },
       "data": [
        {
         "hovertemplate": "continent=Europe<br>date=%{x}<br>daily_vaccinations=%{y}<extra></extra>",
         "legendgroup": "Europe",
         "line": {
          "color": "#636efa",
          "dash": "solid"
         },
         "mode": "lines",
         "name": "Europe",
         "orientation": "v",
         "showlegend": true,
         "type": "scatter",
         "x": [
          "2020-12-13",
          "2020-12-14",
          "2020-12-15",
          "2020-12-16",
          "2020-12-17",
          "2020-12-18",
          "2020-12-19",
          "2020-12-20",
          "2020-12-21",
          "2020-12-22",
          "2020-12-23",
          "2020-12-24",
          "2020-12-25",
          "2020-12-26",
          "2020-12-27",
          "2020-12-28",
          "2020-12-29",
          "2020-12-30",
          "2020-12-31",
          "2021-01-01",
          "2021-01-02",
          "2021-01-03",
          "2021-01-04",
          "2021-01-05",
          "2021-01-06",
          "2021-01-07",
          "2021-01-08",
          "2021-01-09",
          "2021-01-10",
          "2021-01-11",
          "2021-01-12",
          "2021-01-13",
          "2021-01-14",
          "2021-01-15",
          "2021-01-16",
          "2021-01-17",
          "2021-01-18",
          "2021-01-19",
          "2021-01-20",
          "2021-01-21",
          "2021-01-22",
          "2021-01-23",
          "2021-01-24",
          "2021-01-25",
          "2021-01-26",
          "2021-01-27",
          "2021-01-28",
          "2021-01-29",
          "2021-01-30",
          "2021-01-31",
          "2021-02-01",
          "2021-02-02",
          "2021-02-03",
          "2021-02-04",
          "2021-02-05",
          "2021-02-06",
          "2021-02-07",
          "2021-02-08",
          "2021-02-09",
          "2021-02-10"
         ],
         "xaxis": "x",
         "y": [
          0,
          167749,
          167749,
          171106,
          171106,
          171106,
          171106,
          171106,
          160561,
          150015,
          148706,
          150395,
          149085,
          147774,
          146465,
          190170,
          237552,
          267783,
          270156,
          263546,
          270174,
          263773,
          313674,
          423907,
          461766,
          529179,
          604506,
          644765,
          688647,
          699938,
          734349,
          808515,
          859174,
          919434,
          955543,
          966290,
          986802,
          1033785,
          1064555,
          1106793,
          1157843,
          1228792,
          1244599,
          1284317,
          1295957,
          1289343,
          1302104,
          1317517,
          1357846,
          1390578,
          1420604,
          1444564,
          1509263,
          1551958,
          1559164,
          1538244,
          1518717,
          1489491,
          1488073,
          219493
         ],
         "yaxis": "y"
        },
        {
         "hovertemplate": "continent=Asia<br>date=%{x}<br>daily_vaccinations=%{y}<extra></extra>",
         "legendgroup": "Asia",
         "line": {
          "color": "#EF553B",
          "dash": "solid"
         },
         "mode": "lines",
         "name": "Asia",
         "orientation": "v",
         "showlegend": true,
         "type": "scatter",
         "x": [
          "2020-12-15",
          "2020-12-16",
          "2020-12-17",
          "2020-12-18",
          "2020-12-19",
          "2020-12-20",
          "2020-12-21",
          "2020-12-22",
          "2020-12-23",
          "2020-12-24",
          "2020-12-25",
          "2020-12-26",
          "2020-12-27",
          "2020-12-28",
          "2020-12-29",
          "2020-12-30",
          "2020-12-31",
          "2021-01-01",
          "2021-01-02",
          "2021-01-03",
          "2021-01-04",
          "2021-01-05",
          "2021-01-06",
          "2021-01-07",
          "2021-01-08",
          "2021-01-09",
          "2021-01-10",
          "2021-01-11",
          "2021-01-12",
          "2021-01-13",
          "2021-01-14",
          "2021-01-15",
          "2021-01-16",
          "2021-01-17",
          "2021-01-18",
          "2021-01-19",
          "2021-01-20",
          "2021-01-21",
          "2021-01-22",
          "2021-01-23",
          "2021-01-24",
          "2021-01-25",
          "2021-01-26",
          "2021-01-27",
          "2021-01-28",
          "2021-01-29",
          "2021-01-30",
          "2021-01-31",
          "2021-02-01",
          "2021-02-02",
          "2021-02-03",
          "2021-02-04",
          "2021-02-05",
          "2021-02-06",
          "2021-02-07",
          "2021-02-08",
          "2021-02-09",
          "2021-02-10"
         ],
         "xaxis": "x",
         "y": [
          0,
          187500,
          187500,
          187500,
          187500,
          194844,
          203594,
          213088,
          222340,
          241134,
          235151,
          232239,
          245576,
          260828,
          279159,
          291829,
          302622,
          351746,
          401798,
          452832,
          499904,
          540451,
          609206,
          686381,
          680191,
          682430,
          633288,
          585490,
          551622,
          544112,
          868608,
          943815,
          1094849,
          1052686,
          1169868,
          1262822,
          1324180,
          1369180,
          1410568,
          1456571,
          1514504,
          1591328,
          1627651,
          1739091,
          1691644,
          1646577,
          1567210,
          1465184,
          1632458,
          1816560,
          1981676,
          2161057,
          2284105,
          2472133,
          2629220,
          2522082,
          2433207,
          796036
         ],
         "yaxis": "y"
        },
        {
         "hovertemplate": "continent=North America<br>date=%{x}<br>daily_vaccinations=%{y}<extra></extra>",
         "legendgroup": "North America",
         "line": {
          "color": "#00cc96",
          "dash": "solid"
         },
         "mode": "lines",
         "name": "North America",
         "orientation": "v",
         "showlegend": true,
         "type": "scatter",
         "x": [
          "2020-12-19",
          "2020-12-20",
          "2020-12-21",
          "2020-12-22",
          "2020-12-23",
          "2020-12-24",
          "2020-12-25",
          "2020-12-26",
          "2020-12-27",
          "2020-12-28",
          "2020-12-29",
          "2020-12-30",
          "2020-12-31",
          "2021-01-01",
          "2021-01-02",
          "2021-01-03",
          "2021-01-04",
          "2021-01-05",
          "2021-01-06",
          "2021-01-07",
          "2021-01-08",
          "2021-01-09",
          "2021-01-10",
          "2021-01-11",
          "2021-01-12",
          "2021-01-13",
          "2021-01-14",
          "2021-01-15",
          "2021-01-16",
          "2021-01-17",
          "2021-01-18",
          "2021-01-19",
          "2021-01-20",
          "2021-01-21",
          "2021-01-22",
          "2021-01-23",
          "2021-01-24",
          "2021-01-25",
          "2021-01-26",
          "2021-01-27",
          "2021-01-28",
          "2021-01-29",
          "2021-01-30",
          "2021-01-31",
          "2021-02-01",
          "2021-02-02",
          "2021-02-03",
          "2021-02-04",
          "2021-02-05",
          "2021-02-06",
          "2021-02-07",
          "2021-02-08",
          "2021-02-09",
          "2021-02-10"
         ],
         "xaxis": "x",
         "y": [
          0,
          0,
          57909,
          127432,
          150606,
          191001,
          215238,
          231396,
          211379,
          216147,
          235685,
          255223,
          278776,
          302329,
          325882,
          336949,
          348017,
          339372,
          358887,
          378253,
          419933,
          461263,
          546636,
          632287,
          641802,
          714798,
          754645,
          809721,
          826523,
          843311,
          860100,
          939258,
          920804,
          970646,
          1034328,
          1114701,
          1178050,
          1180673,
          1171748,
          1219116,
          1264755,
          1280504,
          1317519,
          1350496,
          1380442,
          1343103,
          1333940,
          1302571,
          1291894,
          1367842,
          1457725,
          1473922,
          1508379,
          1578064
         ],
         "yaxis": "y"
        },
        {
         "hovertemplate": "continent=South America<br>date=%{x}<br>daily_vaccinations=%{y}<extra></extra>",
         "legendgroup": "South America",
         "line": {
          "color": "#ab63fa",
          "dash": "solid"
         },
         "mode": "lines",
         "name": "South America",
         "orientation": "v",
         "showlegend": true,
         "type": "scatter",
         "x": [
          "2020-12-24",
          "2020-12-25",
          "2020-12-26",
          "2020-12-27",
          "2020-12-28",
          "2020-12-29",
          "2020-12-30",
          "2020-12-31",
          "2021-01-01",
          "2021-01-02",
          "2021-01-03",
          "2021-01-04",
          "2021-01-05",
          "2021-01-06",
          "2021-01-07",
          "2021-01-08",
          "2021-01-09",
          "2021-01-10",
          "2021-01-11",
          "2021-01-12",
          "2021-01-13",
          "2021-01-14",
          "2021-01-15",
          "2021-01-16",
          "2021-01-17",
          "2021-01-18",
          "2021-01-19",
          "2021-01-20",
          "2021-01-21",
          "2021-01-22",
          "2021-01-23",
          "2021-01-24",
          "2021-01-25",
          "2021-01-26",
          "2021-01-27",
          "2021-01-28",
          "2021-01-29",
          "2021-01-30",
          "2021-01-31",
          "2021-02-01",
          "2021-02-02",
          "2021-02-03",
          "2021-02-04",
          "2021-02-05",
          "2021-02-06",
          "2021-02-07",
          "2021-02-08",
          "2021-02-09",
          "2021-02-10"
         ],
         "xaxis": "x",
         "y": [
          0,
          6311,
          5498,
          4557,
          4248,
          5301,
          21246,
          21070,
          16166,
          13786,
          12729,
          12135,
          13341,
          13510,
          14149,
          17306,
          19579,
          21737,
          23614,
          23076,
          36028,
          55488,
          67174,
          72171,
          72110,
          75610,
          81144,
          70730,
          80843,
          90584,
          120477,
          129657,
          138666,
          156689,
          194355,
          215167,
          222417,
          230867,
          230690,
          223249,
          225453,
          227663,
          288337,
          296804,
          299882,
          316429,
          343269,
          384936,
          263897
         ],
         "yaxis": "y"
        },
        {
         "hovertemplate": "continent=Africa<br>date=%{x}<br>daily_vaccinations=%{y}<extra></extra>",
         "legendgroup": "Africa",
         "line": {
          "color": "#FFA15A",
          "dash": "solid"
         },
         "mode": "lines",
         "name": "Africa",
         "orientation": "v",
         "showlegend": true,
         "type": "scatter",
         "x": [
          "2021-01-09",
          "2021-01-10",
          "2021-01-11",
          "2021-01-12",
          "2021-01-13",
          "2021-01-14",
          "2021-01-15",
          "2021-01-16",
          "2021-01-17",
          "2021-01-18",
          "2021-01-19",
          "2021-01-20",
          "2021-01-21",
          "2021-01-22",
          "2021-01-23",
          "2021-01-24",
          "2021-01-25",
          "2021-01-26",
          "2021-01-27",
          "2021-01-28",
          "2021-01-29",
          "2021-01-30",
          "2021-01-31",
          "2021-02-01",
          "2021-02-02",
          "2021-02-03",
          "2021-02-04",
          "2021-02-05",
          "2021-02-06",
          "2021-02-07",
          "2021-02-08",
          "2021-02-09",
          "2021-02-10"
         ],
         "xaxis": "x",
         "y": [
          0,
          500,
          500,
          500,
          500,
          600,
          667,
          1000,
          1118,
          1236,
          1354,
          1595,
          1718,
          1841,
          1622,
          1542,
          1682,
          1896,
          1994,
          2184,
          47215,
          47237,
          44079,
          52190,
          53397,
          53044,
          51533,
          52980,
          54411,
          55403,
          50955,
          52290,
          62531
         ],
         "yaxis": "y"
        }
       ],
       "layout": {
        "legend": {
         "title": {
          "text": "continent"
         },
         "tracegroupgap": 0
        },
        "template": {
         "data": {
          "bar": [
           {
            "error_x": {
             "color": "#2a3f5f"
            },
            "error_y": {
             "color": "#2a3f5f"
            },
            "marker": {
             "line": {
              "color": "#E5ECF6",
              "width": 0.5
             }
            },
            "type": "bar"
           }
          ],
          "barpolar": [
           {
            "marker": {
             "line": {
              "color": "#E5ECF6",
              "width": 0.5
             }
            },
            "type": "barpolar"
           }
          ],
          "carpet": [
           {
            "aaxis": {
             "endlinecolor": "#2a3f5f",
             "gridcolor": "white",
             "linecolor": "white",
             "minorgridcolor": "white",
             "startlinecolor": "#2a3f5f"
            },
            "baxis": {
             "endlinecolor": "#2a3f5f",
             "gridcolor": "white",
             "linecolor": "white",
             "minorgridcolor": "white",
             "startlinecolor": "#2a3f5f"
            },
            "type": "carpet"
           }
          ],
          "choropleth": [
           {
            "colorbar": {
             "outlinewidth": 0,
             "ticks": ""
            },
            "type": "choropleth"
           }
          ],
          "contour": [
           {
            "colorbar": {
             "outlinewidth": 0,
             "ticks": ""
            },
            "colorscale": [
             [
              0,
              "#0d0887"
             ],
             [
              0.1111111111111111,
              "#46039f"
             ],
             [
              0.2222222222222222,
              "#7201a8"
             ],
             [
              0.3333333333333333,
              "#9c179e"
             ],
             [
              0.4444444444444444,
              "#bd3786"
             ],
             [
              0.5555555555555556,
              "#d8576b"
             ],
             [
              0.6666666666666666,
              "#ed7953"
             ],
             [
              0.7777777777777778,
              "#fb9f3a"
             ],
             [
              0.8888888888888888,
              "#fdca26"
             ],
             [
              1,
              "#f0f921"
             ]
            ],
            "type": "contour"
           }
          ],
          "contourcarpet": [
           {
            "colorbar": {
             "outlinewidth": 0,
             "ticks": ""
            },
            "type": "contourcarpet"
           }
          ],
          "heatmap": [
           {
            "colorbar": {
             "outlinewidth": 0,
             "ticks": ""
            },
            "colorscale": [
             [
              0,
              "#0d0887"
             ],
             [
              0.1111111111111111,
              "#46039f"
             ],
             [
              0.2222222222222222,
              "#7201a8"
             ],
             [
              0.3333333333333333,
              "#9c179e"
             ],
             [
              0.4444444444444444,
              "#bd3786"
             ],
             [
              0.5555555555555556,
              "#d8576b"
             ],
             [
              0.6666666666666666,
              "#ed7953"
             ],
             [
              0.7777777777777778,
              "#fb9f3a"
             ],
             [
              0.8888888888888888,
              "#fdca26"
             ],
             [
              1,
              "#f0f921"
             ]
            ],
            "type": "heatmap"
           }
          ],
          "heatmapgl": [
           {
            "colorbar": {
             "outlinewidth": 0,
             "ticks": ""
            },
            "colorscale": [
             [
              0,
              "#0d0887"
             ],
             [
              0.1111111111111111,
              "#46039f"
             ],
             [
              0.2222222222222222,
              "#7201a8"
             ],
             [
              0.3333333333333333,
              "#9c179e"
             ],
             [
              0.4444444444444444,
              "#bd3786"
             ],
             [
              0.5555555555555556,
              "#d8576b"
             ],
             [
              0.6666666666666666,
              "#ed7953"
             ],
             [
              0.7777777777777778,
              "#fb9f3a"
             ],
             [
              0.8888888888888888,
              "#fdca26"
             ],
             [
              1,
              "#f0f921"
             ]
            ],
            "type": "heatmapgl"
           }
          ],
          "histogram": [
           {
            "marker": {
             "colorbar": {
              "outlinewidth": 0,
              "ticks": ""
             }
            },
            "type": "histogram"
           }
          ],
          "histogram2d": [
           {
            "colorbar": {
             "outlinewidth": 0,
             "ticks": ""
            },
            "colorscale": [
             [
              0,
              "#0d0887"
             ],
             [
              0.1111111111111111,
              "#46039f"
             ],
             [
              0.2222222222222222,
              "#7201a8"
             ],
             [
              0.3333333333333333,
              "#9c179e"
             ],
             [
              0.4444444444444444,
              "#bd3786"
             ],
             [
              0.5555555555555556,
              "#d8576b"
             ],
             [
              0.6666666666666666,
              "#ed7953"
             ],
             [
              0.7777777777777778,
              "#fb9f3a"
             ],
             [
              0.8888888888888888,
              "#fdca26"
             ],
             [
              1,
              "#f0f921"
             ]
            ],
            "type": "histogram2d"
           }
          ],
          "histogram2dcontour": [
           {
            "colorbar": {
             "outlinewidth": 0,
             "ticks": ""
            },
            "colorscale": [
             [
              0,
              "#0d0887"
             ],
             [
              0.1111111111111111,
              "#46039f"
             ],
             [
              0.2222222222222222,
              "#7201a8"
             ],
             [
              0.3333333333333333,
              "#9c179e"
             ],
             [
              0.4444444444444444,
              "#bd3786"
             ],
             [
              0.5555555555555556,
              "#d8576b"
             ],
             [
              0.6666666666666666,
              "#ed7953"
             ],
             [
              0.7777777777777778,
              "#fb9f3a"
             ],
             [
              0.8888888888888888,
              "#fdca26"
             ],
             [
              1,
              "#f0f921"
             ]
            ],
            "type": "histogram2dcontour"
           }
          ],
          "mesh3d": [
           {
            "colorbar": {
             "outlinewidth": 0,
             "ticks": ""
            },
            "type": "mesh3d"
           }
          ],
          "parcoords": [
           {
            "line": {
             "colorbar": {
              "outlinewidth": 0,
              "ticks": ""
             }
            },
            "type": "parcoords"
           }
          ],
          "pie": [
           {
            "automargin": true,
            "type": "pie"
           }
          ],
          "scatter": [
           {
            "marker": {
             "colorbar": {
              "outlinewidth": 0,
              "ticks": ""
             }
            },
            "type": "scatter"
           }
          ],
          "scatter3d": [
           {
            "line": {
             "colorbar": {
              "outlinewidth": 0,
              "ticks": ""
             }
            },
            "marker": {
             "colorbar": {
              "outlinewidth": 0,
              "ticks": ""
             }
            },
            "type": "scatter3d"
           }
          ],
          "scattercarpet": [
           {
            "marker": {
             "colorbar": {
              "outlinewidth": 0,
              "ticks": ""
             }
            },
            "type": "scattercarpet"
           }
          ],
          "scattergeo": [
           {
            "marker": {
             "colorbar": {
              "outlinewidth": 0,
              "ticks": ""
             }
            },
            "type": "scattergeo"
           }
          ],
          "scattergl": [
           {
            "marker": {
             "colorbar": {
              "outlinewidth": 0,
              "ticks": ""
             }
            },
            "type": "scattergl"
           }
          ],
          "scattermapbox": [
           {
            "marker": {
             "colorbar": {
              "outlinewidth": 0,
              "ticks": ""
             }
            },
            "type": "scattermapbox"
           }
          ],
          "scatterpolar": [
           {
            "marker": {
             "colorbar": {
              "outlinewidth": 0,
              "ticks": ""
             }
            },
            "type": "scatterpolar"
           }
          ],
          "scatterpolargl": [
           {
            "marker": {
             "colorbar": {
              "outlinewidth": 0,
              "ticks": ""
             }
            },
            "type": "scatterpolargl"
           }
          ],
          "scatterternary": [
           {
            "marker": {
             "colorbar": {
              "outlinewidth": 0,
              "ticks": ""
             }
            },
            "type": "scatterternary"
           }
          ],
          "surface": [
           {
            "colorbar": {
             "outlinewidth": 0,
             "ticks": ""
            },
            "colorscale": [
             [
              0,
              "#0d0887"
             ],
             [
              0.1111111111111111,
              "#46039f"
             ],
             [
              0.2222222222222222,
              "#7201a8"
             ],
             [
              0.3333333333333333,
              "#9c179e"
             ],
             [
              0.4444444444444444,
              "#bd3786"
             ],
             [
              0.5555555555555556,
              "#d8576b"
             ],
             [
              0.6666666666666666,
              "#ed7953"
             ],
             [
              0.7777777777777778,
              "#fb9f3a"
             ],
             [
              0.8888888888888888,
              "#fdca26"
             ],
             [
              1,
              "#f0f921"
             ]
            ],
            "type": "surface"
           }
          ],
          "table": [
           {
            "cells": {
             "fill": {
              "color": "#EBF0F8"
             },
             "line": {
              "color": "white"
             }
            },
            "header": {
             "fill": {
              "color": "#C8D4E3"
             },
             "line": {
              "color": "white"
             }
            },
            "type": "table"
           }
          ]
         },
         "layout": {
          "annotationdefaults": {
           "arrowcolor": "#2a3f5f",
           "arrowhead": 0,
           "arrowwidth": 1
          },
          "autotypenumbers": "strict",
          "coloraxis": {
           "colorbar": {
            "outlinewidth": 0,
            "ticks": ""
           }
          },
          "colorscale": {
           "diverging": [
            [
             0,
             "#8e0152"
            ],
            [
             0.1,
             "#c51b7d"
            ],
            [
             0.2,
             "#de77ae"
            ],
            [
             0.3,
             "#f1b6da"
            ],
            [
             0.4,
             "#fde0ef"
            ],
            [
             0.5,
             "#f7f7f7"
            ],
            [
             0.6,
             "#e6f5d0"
            ],
            [
             0.7,
             "#b8e186"
            ],
            [
             0.8,
             "#7fbc41"
            ],
            [
             0.9,
             "#4d9221"
            ],
            [
             1,
             "#276419"
            ]
           ],
           "sequential": [
            [
             0,
             "#0d0887"
            ],
            [
             0.1111111111111111,
             "#46039f"
            ],
            [
             0.2222222222222222,
             "#7201a8"
            ],
            [
             0.3333333333333333,
             "#9c179e"
            ],
            [
             0.4444444444444444,
             "#bd3786"
            ],
            [
             0.5555555555555556,
             "#d8576b"
            ],
            [
             0.6666666666666666,
             "#ed7953"
            ],
            [
             0.7777777777777778,
             "#fb9f3a"
            ],
            [
             0.8888888888888888,
             "#fdca26"
            ],
            [
             1,
             "#f0f921"
            ]
           ],
           "sequentialminus": [
            [
             0,
             "#0d0887"
            ],
            [
             0.1111111111111111,
             "#46039f"
            ],
            [
             0.2222222222222222,
             "#7201a8"
            ],
            [
             0.3333333333333333,
             "#9c179e"
            ],
            [
             0.4444444444444444,
             "#bd3786"
            ],
            [
             0.5555555555555556,
             "#d8576b"
            ],
            [
             0.6666666666666666,
             "#ed7953"
            ],
            [
             0.7777777777777778,
             "#fb9f3a"
            ],
            [
             0.8888888888888888,
             "#fdca26"
            ],
            [
             1,
             "#f0f921"
            ]
           ]
          },
          "colorway": [
           "#636efa",
           "#EF553B",
           "#00cc96",
           "#ab63fa",
           "#FFA15A",
           "#19d3f3",
           "#FF6692",
           "#B6E880",
           "#FF97FF",
           "#FECB52"
          ],
          "font": {
           "color": "#2a3f5f"
          },
          "geo": {
           "bgcolor": "white",
           "lakecolor": "white",
           "landcolor": "#E5ECF6",
           "showlakes": true,
           "showland": true,
           "subunitcolor": "white"
          },
          "hoverlabel": {
           "align": "left"
          },
          "hovermode": "closest",
          "mapbox": {
           "style": "light"
          },
          "paper_bgcolor": "white",
          "plot_bgcolor": "#E5ECF6",
          "polar": {
           "angularaxis": {
            "gridcolor": "white",
            "linecolor": "white",
            "ticks": ""
           },
           "bgcolor": "#E5ECF6",
           "radialaxis": {
            "gridcolor": "white",
            "linecolor": "white",
            "ticks": ""
           }
          },
          "scene": {
           "xaxis": {
            "backgroundcolor": "#E5ECF6",
            "gridcolor": "white",
            "gridwidth": 2,
            "linecolor": "white",
            "showbackground": true,
            "ticks": "",
            "zerolinecolor": "white"
           },
           "yaxis": {
            "backgroundcolor": "#E5ECF6",
            "gridcolor": "white",
            "gridwidth": 2,
            "linecolor": "white",
            "showbackground": true,
            "ticks": "",
            "zerolinecolor": "white"
           },
           "zaxis": {
            "backgroundcolor": "#E5ECF6",
            "gridcolor": "white",
            "gridwidth": 2,
            "linecolor": "white",
            "showbackground": true,
            "ticks": "",
            "zerolinecolor": "white"
           }
          },
          "shapedefaults": {
           "line": {
            "color": "#2a3f5f"
           }
          },
          "ternary": {
           "aaxis": {
            "gridcolor": "white",
            "linecolor": "white",
            "ticks": ""
           },
           "baxis": {
            "gridcolor": "white",
            "linecolor": "white",
            "ticks": ""
           },
           "bgcolor": "#E5ECF6",
           "caxis": {
            "gridcolor": "white",
            "linecolor": "white",
            "ticks": ""
           }
          },
          "title": {
           "x": 0.05
          },
          "xaxis": {
           "automargin": true,
           "gridcolor": "white",
           "linecolor": "white",
           "ticks": "",
           "title": {
            "standoff": 15
           },
           "zerolinecolor": "white",
           "zerolinewidth": 2
          },
          "yaxis": {
           "automargin": true,
           "gridcolor": "white",
           "linecolor": "white",
           "ticks": "",
           "title": {
            "standoff": 15
           },
           "zerolinecolor": "white",
           "zerolinewidth": 2
          }
         }
        },
        "title": {
         "text": "Daily COVID-19 Vaccinations - Summary per Continent in the first three months"
        },
        "xaxis": {
         "anchor": "y",
         "domain": [
          0,
          1
         ],
         "title": {
          "text": "date"
         }
        },
        "yaxis": {
         "anchor": "x",
         "domain": [
          0,
          1
         ],
         "title": {
          "text": "daily_vaccinations"
         }
        }
       }
      },
      "text/html": [
       "<div>                            <div id=\"87281a68-58d6-427d-b604-3a18740afe22\" class=\"plotly-graph-div\" style=\"height:525px; width:100%;\"></div>            <script type=\"text/javascript\">                require([\"plotly\"], function(Plotly) {                    window.PLOTLYENV=window.PLOTLYENV || {};                                    if (document.getElementById(\"87281a68-58d6-427d-b604-3a18740afe22\")) {                    Plotly.newPlot(                        \"87281a68-58d6-427d-b604-3a18740afe22\",                        [{\"hovertemplate\": \"continent=Europe<br>date=%{x}<br>daily_vaccinations=%{y}<extra></extra>\", \"legendgroup\": \"Europe\", \"line\": {\"color\": \"#636efa\", \"dash\": \"solid\"}, \"mode\": \"lines\", \"name\": \"Europe\", \"orientation\": \"v\", \"showlegend\": true, \"type\": \"scatter\", \"x\": [\"2020-12-13\", \"2020-12-14\", \"2020-12-15\", \"2020-12-16\", \"2020-12-17\", \"2020-12-18\", \"2020-12-19\", \"2020-12-20\", \"2020-12-21\", \"2020-12-22\", \"2020-12-23\", \"2020-12-24\", \"2020-12-25\", \"2020-12-26\", \"2020-12-27\", \"2020-12-28\", \"2020-12-29\", \"2020-12-30\", \"2020-12-31\", \"2021-01-01\", \"2021-01-02\", \"2021-01-03\", \"2021-01-04\", \"2021-01-05\", \"2021-01-06\", \"2021-01-07\", \"2021-01-08\", \"2021-01-09\", \"2021-01-10\", \"2021-01-11\", \"2021-01-12\", \"2021-01-13\", \"2021-01-14\", \"2021-01-15\", \"2021-01-16\", \"2021-01-17\", \"2021-01-18\", \"2021-01-19\", \"2021-01-20\", \"2021-01-21\", \"2021-01-22\", \"2021-01-23\", \"2021-01-24\", \"2021-01-25\", \"2021-01-26\", \"2021-01-27\", \"2021-01-28\", \"2021-01-29\", \"2021-01-30\", \"2021-01-31\", \"2021-02-01\", \"2021-02-02\", \"2021-02-03\", \"2021-02-04\", \"2021-02-05\", \"2021-02-06\", \"2021-02-07\", \"2021-02-08\", \"2021-02-09\", \"2021-02-10\"], \"xaxis\": \"x\", \"y\": [0.0, 167749.0, 167749.0, 171106.0, 171106.0, 171106.0, 171106.0, 171106.0, 160561.0, 150015.0, 148706.0, 150395.0, 149085.0, 147774.0, 146465.0, 190170.0, 237552.0, 267783.0, 270156.0, 263546.0, 270174.0, 263773.0, 313674.0, 423907.0, 461766.0, 529179.0, 604506.0, 644765.0, 688647.0, 699938.0, 734349.0, 808515.0, 859174.0, 919434.0, 955543.0, 966290.0, 986802.0, 1033785.0, 1064555.0, 1106793.0, 1157843.0, 1228792.0, 1244599.0, 1284317.0, 1295957.0, 1289343.0, 1302104.0, 1317517.0, 1357846.0, 1390578.0, 1420604.0, 1444564.0, 1509263.0, 1551958.0, 1559164.0, 1538244.0, 1518717.0, 1489491.0, 1488073.0, 219493.0], \"yaxis\": \"y\"}, {\"hovertemplate\": \"continent=Asia<br>date=%{x}<br>daily_vaccinations=%{y}<extra></extra>\", \"legendgroup\": \"Asia\", \"line\": {\"color\": \"#EF553B\", \"dash\": \"solid\"}, \"mode\": \"lines\", \"name\": \"Asia\", \"orientation\": \"v\", \"showlegend\": true, \"type\": \"scatter\", \"x\": [\"2020-12-15\", \"2020-12-16\", \"2020-12-17\", \"2020-12-18\", \"2020-12-19\", \"2020-12-20\", \"2020-12-21\", \"2020-12-22\", \"2020-12-23\", \"2020-12-24\", \"2020-12-25\", \"2020-12-26\", \"2020-12-27\", \"2020-12-28\", \"2020-12-29\", \"2020-12-30\", \"2020-12-31\", \"2021-01-01\", \"2021-01-02\", \"2021-01-03\", \"2021-01-04\", \"2021-01-05\", \"2021-01-06\", \"2021-01-07\", \"2021-01-08\", \"2021-01-09\", \"2021-01-10\", \"2021-01-11\", \"2021-01-12\", \"2021-01-13\", \"2021-01-14\", \"2021-01-15\", \"2021-01-16\", \"2021-01-17\", \"2021-01-18\", \"2021-01-19\", \"2021-01-20\", \"2021-01-21\", \"2021-01-22\", \"2021-01-23\", \"2021-01-24\", \"2021-01-25\", \"2021-01-26\", \"2021-01-27\", \"2021-01-28\", \"2021-01-29\", \"2021-01-30\", \"2021-01-31\", \"2021-02-01\", \"2021-02-02\", \"2021-02-03\", \"2021-02-04\", \"2021-02-05\", \"2021-02-06\", \"2021-02-07\", \"2021-02-08\", \"2021-02-09\", \"2021-02-10\"], \"xaxis\": \"x\", \"y\": [0.0, 187500.0, 187500.0, 187500.0, 187500.0, 194844.0, 203594.0, 213088.0, 222340.0, 241134.0, 235151.0, 232239.0, 245576.0, 260828.0, 279159.0, 291829.0, 302622.0, 351746.0, 401798.0, 452832.0, 499904.0, 540451.0, 609206.0, 686381.0, 680191.0, 682430.0, 633288.0, 585490.0, 551622.0, 544112.0, 868608.0, 943815.0, 1094849.0, 1052686.0, 1169868.0, 1262822.0, 1324180.0, 1369180.0, 1410568.0, 1456571.0, 1514504.0, 1591328.0, 1627651.0, 1739091.0, 1691644.0, 1646577.0, 1567210.0, 1465184.0, 1632458.0, 1816560.0, 1981676.0, 2161057.0, 2284105.0, 2472133.0, 2629220.0, 2522082.0, 2433207.0, 796036.0], \"yaxis\": \"y\"}, {\"hovertemplate\": \"continent=North America<br>date=%{x}<br>daily_vaccinations=%{y}<extra></extra>\", \"legendgroup\": \"North America\", \"line\": {\"color\": \"#00cc96\", \"dash\": \"solid\"}, \"mode\": \"lines\", \"name\": \"North America\", \"orientation\": \"v\", \"showlegend\": true, \"type\": \"scatter\", \"x\": [\"2020-12-19\", \"2020-12-20\", \"2020-12-21\", \"2020-12-22\", \"2020-12-23\", \"2020-12-24\", \"2020-12-25\", \"2020-12-26\", \"2020-12-27\", \"2020-12-28\", \"2020-12-29\", \"2020-12-30\", \"2020-12-31\", \"2021-01-01\", \"2021-01-02\", \"2021-01-03\", \"2021-01-04\", \"2021-01-05\", \"2021-01-06\", \"2021-01-07\", \"2021-01-08\", \"2021-01-09\", \"2021-01-10\", \"2021-01-11\", \"2021-01-12\", \"2021-01-13\", \"2021-01-14\", \"2021-01-15\", \"2021-01-16\", \"2021-01-17\", \"2021-01-18\", \"2021-01-19\", \"2021-01-20\", \"2021-01-21\", \"2021-01-22\", \"2021-01-23\", \"2021-01-24\", \"2021-01-25\", \"2021-01-26\", \"2021-01-27\", \"2021-01-28\", \"2021-01-29\", \"2021-01-30\", \"2021-01-31\", \"2021-02-01\", \"2021-02-02\", \"2021-02-03\", \"2021-02-04\", \"2021-02-05\", \"2021-02-06\", \"2021-02-07\", \"2021-02-08\", \"2021-02-09\", \"2021-02-10\"], \"xaxis\": \"x\", \"y\": [0.0, 0.0, 57909.0, 127432.0, 150606.0, 191001.0, 215238.0, 231396.0, 211379.0, 216147.0, 235685.0, 255223.0, 278776.0, 302329.0, 325882.0, 336949.0, 348017.0, 339372.0, 358887.0, 378253.0, 419933.0, 461263.0, 546636.0, 632287.0, 641802.0, 714798.0, 754645.0, 809721.0, 826523.0, 843311.0, 860100.0, 939258.0, 920804.0, 970646.0, 1034328.0, 1114701.0, 1178050.0, 1180673.0, 1171748.0, 1219116.0, 1264755.0, 1280504.0, 1317519.0, 1350496.0, 1380442.0, 1343103.0, 1333940.0, 1302571.0, 1291894.0, 1367842.0, 1457725.0, 1473922.0, 1508379.0, 1578064.0], \"yaxis\": \"y\"}, {\"hovertemplate\": \"continent=South America<br>date=%{x}<br>daily_vaccinations=%{y}<extra></extra>\", \"legendgroup\": \"South America\", \"line\": {\"color\": \"#ab63fa\", \"dash\": \"solid\"}, \"mode\": \"lines\", \"name\": \"South America\", \"orientation\": \"v\", \"showlegend\": true, \"type\": \"scatter\", \"x\": [\"2020-12-24\", \"2020-12-25\", \"2020-12-26\", \"2020-12-27\", \"2020-12-28\", \"2020-12-29\", \"2020-12-30\", \"2020-12-31\", \"2021-01-01\", \"2021-01-02\", \"2021-01-03\", \"2021-01-04\", \"2021-01-05\", \"2021-01-06\", \"2021-01-07\", \"2021-01-08\", \"2021-01-09\", \"2021-01-10\", \"2021-01-11\", \"2021-01-12\", \"2021-01-13\", \"2021-01-14\", \"2021-01-15\", \"2021-01-16\", \"2021-01-17\", \"2021-01-18\", \"2021-01-19\", \"2021-01-20\", \"2021-01-21\", \"2021-01-22\", \"2021-01-23\", \"2021-01-24\", \"2021-01-25\", \"2021-01-26\", \"2021-01-27\", \"2021-01-28\", \"2021-01-29\", \"2021-01-30\", \"2021-01-31\", \"2021-02-01\", \"2021-02-02\", \"2021-02-03\", \"2021-02-04\", \"2021-02-05\", \"2021-02-06\", \"2021-02-07\", \"2021-02-08\", \"2021-02-09\", \"2021-02-10\"], \"xaxis\": \"x\", \"y\": [0.0, 6311.0, 5498.0, 4557.0, 4248.0, 5301.0, 21246.0, 21070.0, 16166.0, 13786.0, 12729.0, 12135.0, 13341.0, 13510.0, 14149.0, 17306.0, 19579.0, 21737.0, 23614.0, 23076.0, 36028.0, 55488.0, 67174.0, 72171.0, 72110.0, 75610.0, 81144.0, 70730.0, 80843.0, 90584.0, 120477.0, 129657.0, 138666.0, 156689.0, 194355.0, 215167.0, 222417.0, 230867.0, 230690.0, 223249.0, 225453.0, 227663.0, 288337.0, 296804.0, 299882.0, 316429.0, 343269.0, 384936.0, 263897.0], \"yaxis\": \"y\"}, {\"hovertemplate\": \"continent=Africa<br>date=%{x}<br>daily_vaccinations=%{y}<extra></extra>\", \"legendgroup\": \"Africa\", \"line\": {\"color\": \"#FFA15A\", \"dash\": \"solid\"}, \"mode\": \"lines\", \"name\": \"Africa\", \"orientation\": \"v\", \"showlegend\": true, \"type\": \"scatter\", \"x\": [\"2021-01-09\", \"2021-01-10\", \"2021-01-11\", \"2021-01-12\", \"2021-01-13\", \"2021-01-14\", \"2021-01-15\", \"2021-01-16\", \"2021-01-17\", \"2021-01-18\", \"2021-01-19\", \"2021-01-20\", \"2021-01-21\", \"2021-01-22\", \"2021-01-23\", \"2021-01-24\", \"2021-01-25\", \"2021-01-26\", \"2021-01-27\", \"2021-01-28\", \"2021-01-29\", \"2021-01-30\", \"2021-01-31\", \"2021-02-01\", \"2021-02-02\", \"2021-02-03\", \"2021-02-04\", \"2021-02-05\", \"2021-02-06\", \"2021-02-07\", \"2021-02-08\", \"2021-02-09\", \"2021-02-10\"], \"xaxis\": \"x\", \"y\": [0.0, 500.0, 500.0, 500.0, 500.0, 600.0, 667.0, 1000.0, 1118.0, 1236.0, 1354.0, 1595.0, 1718.0, 1841.0, 1622.0, 1542.0, 1682.0, 1896.0, 1994.0, 2184.0, 47215.0, 47237.0, 44079.0, 52190.0, 53397.0, 53044.0, 51533.0, 52980.0, 54411.0, 55403.0, 50955.0, 52290.0, 62531.0], \"yaxis\": \"y\"}],                        {\"legend\": {\"title\": {\"text\": \"continent\"}, \"tracegroupgap\": 0}, \"template\": {\"data\": {\"bar\": [{\"error_x\": {\"color\": \"#2a3f5f\"}, \"error_y\": {\"color\": \"#2a3f5f\"}, \"marker\": {\"line\": {\"color\": \"#E5ECF6\", \"width\": 0.5}}, \"type\": \"bar\"}], \"barpolar\": [{\"marker\": {\"line\": {\"color\": \"#E5ECF6\", \"width\": 0.5}}, \"type\": \"barpolar\"}], \"carpet\": [{\"aaxis\": {\"endlinecolor\": \"#2a3f5f\", \"gridcolor\": \"white\", \"linecolor\": \"white\", \"minorgridcolor\": \"white\", \"startlinecolor\": \"#2a3f5f\"}, \"baxis\": {\"endlinecolor\": \"#2a3f5f\", \"gridcolor\": \"white\", \"linecolor\": \"white\", \"minorgridcolor\": \"white\", \"startlinecolor\": \"#2a3f5f\"}, \"type\": \"carpet\"}], \"choropleth\": [{\"colorbar\": {\"outlinewidth\": 0, \"ticks\": \"\"}, \"type\": \"choropleth\"}], \"contour\": [{\"colorbar\": {\"outlinewidth\": 0, \"ticks\": \"\"}, \"colorscale\": [[0.0, \"#0d0887\"], [0.1111111111111111, \"#46039f\"], [0.2222222222222222, \"#7201a8\"], [0.3333333333333333, \"#9c179e\"], [0.4444444444444444, \"#bd3786\"], [0.5555555555555556, \"#d8576b\"], [0.6666666666666666, \"#ed7953\"], [0.7777777777777778, \"#fb9f3a\"], [0.8888888888888888, \"#fdca26\"], [1.0, \"#f0f921\"]], \"type\": \"contour\"}], \"contourcarpet\": [{\"colorbar\": {\"outlinewidth\": 0, \"ticks\": \"\"}, \"type\": \"contourcarpet\"}], \"heatmap\": [{\"colorbar\": {\"outlinewidth\": 0, \"ticks\": \"\"}, \"colorscale\": [[0.0, \"#0d0887\"], [0.1111111111111111, \"#46039f\"], [0.2222222222222222, \"#7201a8\"], [0.3333333333333333, \"#9c179e\"], [0.4444444444444444, \"#bd3786\"], [0.5555555555555556, \"#d8576b\"], [0.6666666666666666, \"#ed7953\"], [0.7777777777777778, \"#fb9f3a\"], [0.8888888888888888, \"#fdca26\"], [1.0, \"#f0f921\"]], \"type\": \"heatmap\"}], \"heatmapgl\": [{\"colorbar\": {\"outlinewidth\": 0, \"ticks\": \"\"}, \"colorscale\": [[0.0, \"#0d0887\"], [0.1111111111111111, \"#46039f\"], [0.2222222222222222, \"#7201a8\"], [0.3333333333333333, \"#9c179e\"], [0.4444444444444444, \"#bd3786\"], [0.5555555555555556, \"#d8576b\"], [0.6666666666666666, \"#ed7953\"], [0.7777777777777778, \"#fb9f3a\"], [0.8888888888888888, \"#fdca26\"], [1.0, \"#f0f921\"]], \"type\": \"heatmapgl\"}], \"histogram\": [{\"marker\": {\"colorbar\": {\"outlinewidth\": 0, \"ticks\": \"\"}}, \"type\": \"histogram\"}], \"histogram2d\": [{\"colorbar\": {\"outlinewidth\": 0, \"ticks\": \"\"}, \"colorscale\": [[0.0, \"#0d0887\"], [0.1111111111111111, \"#46039f\"], [0.2222222222222222, \"#7201a8\"], [0.3333333333333333, \"#9c179e\"], [0.4444444444444444, \"#bd3786\"], [0.5555555555555556, \"#d8576b\"], [0.6666666666666666, \"#ed7953\"], [0.7777777777777778, \"#fb9f3a\"], [0.8888888888888888, \"#fdca26\"], [1.0, \"#f0f921\"]], \"type\": \"histogram2d\"}], \"histogram2dcontour\": [{\"colorbar\": {\"outlinewidth\": 0, \"ticks\": \"\"}, \"colorscale\": [[0.0, \"#0d0887\"], [0.1111111111111111, \"#46039f\"], [0.2222222222222222, \"#7201a8\"], [0.3333333333333333, \"#9c179e\"], [0.4444444444444444, \"#bd3786\"], [0.5555555555555556, \"#d8576b\"], [0.6666666666666666, \"#ed7953\"], [0.7777777777777778, \"#fb9f3a\"], [0.8888888888888888, \"#fdca26\"], [1.0, \"#f0f921\"]], \"type\": \"histogram2dcontour\"}], \"mesh3d\": [{\"colorbar\": {\"outlinewidth\": 0, \"ticks\": \"\"}, \"type\": \"mesh3d\"}], \"parcoords\": [{\"line\": {\"colorbar\": {\"outlinewidth\": 0, \"ticks\": \"\"}}, \"type\": \"parcoords\"}], \"pie\": [{\"automargin\": true, \"type\": \"pie\"}], \"scatter\": [{\"marker\": {\"colorbar\": {\"outlinewidth\": 0, \"ticks\": \"\"}}, \"type\": \"scatter\"}], \"scatter3d\": [{\"line\": {\"colorbar\": {\"outlinewidth\": 0, \"ticks\": \"\"}}, \"marker\": {\"colorbar\": {\"outlinewidth\": 0, \"ticks\": \"\"}}, \"type\": \"scatter3d\"}], \"scattercarpet\": [{\"marker\": {\"colorbar\": {\"outlinewidth\": 0, \"ticks\": \"\"}}, \"type\": \"scattercarpet\"}], \"scattergeo\": [{\"marker\": {\"colorbar\": {\"outlinewidth\": 0, \"ticks\": \"\"}}, \"type\": \"scattergeo\"}], \"scattergl\": [{\"marker\": {\"colorbar\": {\"outlinewidth\": 0, \"ticks\": \"\"}}, \"type\": \"scattergl\"}], \"scattermapbox\": [{\"marker\": {\"colorbar\": {\"outlinewidth\": 0, \"ticks\": \"\"}}, \"type\": \"scattermapbox\"}], \"scatterpolar\": [{\"marker\": {\"colorbar\": {\"outlinewidth\": 0, \"ticks\": \"\"}}, \"type\": \"scatterpolar\"}], \"scatterpolargl\": [{\"marker\": {\"colorbar\": {\"outlinewidth\": 0, \"ticks\": \"\"}}, \"type\": \"scatterpolargl\"}], \"scatterternary\": [{\"marker\": {\"colorbar\": {\"outlinewidth\": 0, \"ticks\": \"\"}}, \"type\": \"scatterternary\"}], \"surface\": [{\"colorbar\": {\"outlinewidth\": 0, \"ticks\": \"\"}, \"colorscale\": [[0.0, \"#0d0887\"], [0.1111111111111111, \"#46039f\"], [0.2222222222222222, \"#7201a8\"], [0.3333333333333333, \"#9c179e\"], [0.4444444444444444, \"#bd3786\"], [0.5555555555555556, \"#d8576b\"], [0.6666666666666666, \"#ed7953\"], [0.7777777777777778, \"#fb9f3a\"], [0.8888888888888888, \"#fdca26\"], [1.0, \"#f0f921\"]], \"type\": \"surface\"}], \"table\": [{\"cells\": {\"fill\": {\"color\": \"#EBF0F8\"}, \"line\": {\"color\": \"white\"}}, \"header\": {\"fill\": {\"color\": \"#C8D4E3\"}, \"line\": {\"color\": \"white\"}}, \"type\": \"table\"}]}, \"layout\": {\"annotationdefaults\": {\"arrowcolor\": \"#2a3f5f\", \"arrowhead\": 0, \"arrowwidth\": 1}, \"autotypenumbers\": \"strict\", \"coloraxis\": {\"colorbar\": {\"outlinewidth\": 0, \"ticks\": \"\"}}, \"colorscale\": {\"diverging\": [[0, \"#8e0152\"], [0.1, \"#c51b7d\"], [0.2, \"#de77ae\"], [0.3, \"#f1b6da\"], [0.4, \"#fde0ef\"], [0.5, \"#f7f7f7\"], [0.6, \"#e6f5d0\"], [0.7, \"#b8e186\"], [0.8, \"#7fbc41\"], [0.9, \"#4d9221\"], [1, \"#276419\"]], \"sequential\": [[0.0, \"#0d0887\"], [0.1111111111111111, \"#46039f\"], [0.2222222222222222, \"#7201a8\"], [0.3333333333333333, \"#9c179e\"], [0.4444444444444444, \"#bd3786\"], [0.5555555555555556, \"#d8576b\"], [0.6666666666666666, \"#ed7953\"], [0.7777777777777778, \"#fb9f3a\"], [0.8888888888888888, \"#fdca26\"], [1.0, \"#f0f921\"]], \"sequentialminus\": [[0.0, \"#0d0887\"], [0.1111111111111111, \"#46039f\"], [0.2222222222222222, \"#7201a8\"], [0.3333333333333333, \"#9c179e\"], [0.4444444444444444, \"#bd3786\"], [0.5555555555555556, \"#d8576b\"], [0.6666666666666666, \"#ed7953\"], [0.7777777777777778, \"#fb9f3a\"], [0.8888888888888888, \"#fdca26\"], [1.0, \"#f0f921\"]]}, \"colorway\": [\"#636efa\", \"#EF553B\", \"#00cc96\", \"#ab63fa\", \"#FFA15A\", \"#19d3f3\", \"#FF6692\", \"#B6E880\", \"#FF97FF\", \"#FECB52\"], \"font\": {\"color\": \"#2a3f5f\"}, \"geo\": {\"bgcolor\": \"white\", \"lakecolor\": \"white\", \"landcolor\": \"#E5ECF6\", \"showlakes\": true, \"showland\": true, \"subunitcolor\": \"white\"}, \"hoverlabel\": {\"align\": \"left\"}, \"hovermode\": \"closest\", \"mapbox\": {\"style\": \"light\"}, \"paper_bgcolor\": \"white\", \"plot_bgcolor\": \"#E5ECF6\", \"polar\": {\"angularaxis\": {\"gridcolor\": \"white\", \"linecolor\": \"white\", \"ticks\": \"\"}, \"bgcolor\": \"#E5ECF6\", \"radialaxis\": {\"gridcolor\": \"white\", \"linecolor\": \"white\", \"ticks\": \"\"}}, \"scene\": {\"xaxis\": {\"backgroundcolor\": \"#E5ECF6\", \"gridcolor\": \"white\", \"gridwidth\": 2, \"linecolor\": \"white\", \"showbackground\": true, \"ticks\": \"\", \"zerolinecolor\": \"white\"}, \"yaxis\": {\"backgroundcolor\": \"#E5ECF6\", \"gridcolor\": \"white\", \"gridwidth\": 2, \"linecolor\": \"white\", \"showbackground\": true, \"ticks\": \"\", \"zerolinecolor\": \"white\"}, \"zaxis\": {\"backgroundcolor\": \"#E5ECF6\", \"gridcolor\": \"white\", \"gridwidth\": 2, \"linecolor\": \"white\", \"showbackground\": true, \"ticks\": \"\", \"zerolinecolor\": \"white\"}}, \"shapedefaults\": {\"line\": {\"color\": \"#2a3f5f\"}}, \"ternary\": {\"aaxis\": {\"gridcolor\": \"white\", \"linecolor\": \"white\", \"ticks\": \"\"}, \"baxis\": {\"gridcolor\": \"white\", \"linecolor\": \"white\", \"ticks\": \"\"}, \"bgcolor\": \"#E5ECF6\", \"caxis\": {\"gridcolor\": \"white\", \"linecolor\": \"white\", \"ticks\": \"\"}}, \"title\": {\"x\": 0.05}, \"xaxis\": {\"automargin\": true, \"gridcolor\": \"white\", \"linecolor\": \"white\", \"ticks\": \"\", \"title\": {\"standoff\": 15}, \"zerolinecolor\": \"white\", \"zerolinewidth\": 2}, \"yaxis\": {\"automargin\": true, \"gridcolor\": \"white\", \"linecolor\": \"white\", \"ticks\": \"\", \"title\": {\"standoff\": 15}, \"zerolinecolor\": \"white\", \"zerolinewidth\": 2}}}, \"title\": {\"text\": \"Daily COVID-19 Vaccinations - Summary per Continent in the first three months\"}, \"xaxis\": {\"anchor\": \"y\", \"domain\": [0.0, 1.0], \"title\": {\"text\": \"date\"}}, \"yaxis\": {\"anchor\": \"x\", \"domain\": [0.0, 1.0], \"title\": {\"text\": \"daily_vaccinations\"}}},                        {\"responsive\": true}                    ).then(function(){\n",
       "                            \n",
       "var gd = document.getElementById('87281a68-58d6-427d-b604-3a18740afe22');\n",
       "var x = new MutationObserver(function (mutations, observer) {{\n",
       "        var display = window.getComputedStyle(gd).display;\n",
       "        if (!display || display === 'none') {{\n",
       "            console.log([gd, 'removed!']);\n",
       "            Plotly.purge(gd);\n",
       "            observer.disconnect();\n",
       "        }}\n",
       "}});\n",
       "\n",
       "// Listen for the removal of the full notebook cells\n",
       "var notebookContainer = gd.closest('#notebook-container');\n",
       "if (notebookContainer) {{\n",
       "    x.observe(notebookContainer, {childList: true});\n",
       "}}\n",
       "\n",
       "// Listen for the clearing of the current output cell\n",
       "var outputEl = gd.closest('.output');\n",
       "if (outputEl) {{\n",
       "    x.observe(outputEl, {childList: true});\n",
       "}}\n",
       "\n",
       "                        })                };                });            </script>        </div>"
      ]
     },
     "metadata": {},
     "output_type": "display_data"
    }
   ],
   "source": [
    "plot_daily_vaccination_data(data = continents_daily_df,  \n",
    "                            region_column = 'continent',\n",
    "                            regions_list = all_continents,\n",
    "                            vaccination_metric = 'daily_vaccinations',\n",
    "                            plot_title = 'Daily COVID-19 Vaccinations - Summary per Continent in the first three months',\n",
    "                            min_date = '2020-12-13',\n",
    "                            max_date = '2021-02-13'\n",
    "                           )"
   ]
  },
  {
   "cell_type": "code",
   "execution_count": 81,
   "metadata": {},
   "outputs": [
    {
     "name": "stdout",
     "output_type": "stream",
     "text": [
      "Maximum vaccinations in a day in a country - summary per continent: \n",
      "====================================================================\n",
      "\tEurope -> 0.45 million vaccinations in United Kingdom on 2021-02-05\n",
      "\tAsia -> 1.92 million vaccinations in China on 2021-02-07\n",
      "\tNorth America -> 1.56 million vaccinations in United States on 2021-02-10\n",
      "\tSouth America -> 0.23 million vaccinations in Brazil on 2021-02-04\n",
      "\tAfrica -> 0.06 million vaccinations in Morocco on 2021-02-10\n"
     ]
    }
   ],
   "source": [
    "print('Maximum vaccinations in a day in a country - summary per continent: \\n====================================================================')\n",
    "for continent in all_continents:\n",
    "    df = data[data.continent == continent].sort_values(by=['daily_vaccinations'], ascending=False).iloc[0]\n",
    "    print(f'\\t{df.continent} -> {round(int(df.daily_vaccinations)/1000000,2)} million vaccinations in {df.country} on {df.date}')"
   ]
  },
  {
   "cell_type": "code",
   "execution_count": 82,
   "metadata": {},
   "outputs": [
    {
     "data": {
      "application/vnd.plotly.v1+json": {
       "config": {
        "plotlyServerURL": "https://plotly.com"
       },
       "data": [
        {
         "hovertemplate": "region=Northern Europe<br>date=%{x}<br>daily_vaccinations=%{y}<extra></extra>",
         "legendgroup": "Northern Europe",
         "line": {
          "color": "#636efa",
          "dash": "solid"
         },
         "mode": "lines",
         "name": "Northern Europe",
         "orientation": "v",
         "showlegend": true,
         "type": "scatter",
         "x": [
          "2020-12-13",
          "2020-12-14",
          "2020-12-15",
          "2020-12-16",
          "2020-12-17",
          "2020-12-18",
          "2020-12-19",
          "2020-12-20",
          "2020-12-21",
          "2020-12-22",
          "2020-12-23",
          "2020-12-24",
          "2020-12-25",
          "2020-12-26",
          "2020-12-27",
          "2020-12-28",
          "2020-12-29",
          "2020-12-30",
          "2020-12-31",
          "2021-01-01",
          "2021-01-02",
          "2021-01-03",
          "2021-01-04",
          "2021-01-05",
          "2021-01-06",
          "2021-01-07",
          "2021-01-08",
          "2021-01-09",
          "2021-01-10",
          "2021-01-11",
          "2021-01-12",
          "2021-01-13",
          "2021-01-14",
          "2021-01-15",
          "2021-01-16",
          "2021-01-17",
          "2021-01-18",
          "2021-01-19",
          "2021-01-20",
          "2021-01-21",
          "2021-01-22",
          "2021-01-23",
          "2021-01-24",
          "2021-01-25",
          "2021-01-26",
          "2021-01-27",
          "2021-01-28",
          "2021-01-29",
          "2021-01-30",
          "2021-01-31",
          "2021-02-01",
          "2021-02-02",
          "2021-02-03",
          "2021-02-04",
          "2021-02-05",
          "2021-02-06",
          "2021-02-07",
          "2021-02-08",
          "2021-02-09",
          "2021-02-10"
         ],
         "xaxis": "x",
         "y": [
          0,
          167749,
          167749,
          167749,
          167749,
          167749,
          167749,
          167749,
          157204,
          146658,
          136114,
          125568,
          115024,
          104478,
          93934,
          103732,
          110581,
          114737,
          116665,
          118979,
          121734,
          124071,
          160159,
          198260,
          238244,
          278401,
          318344,
          355427,
          392481,
          390275,
          402741,
          434983,
          477673,
          525277,
          557303,
          564977,
          579071,
          615655,
          636805,
          661738,
          701214,
          760654,
          766842,
          786648,
          775772,
          762439,
          765487,
          771713,
          806610,
          835617,
          854465,
          872004,
          918173,
          943693,
          948147,
          930210,
          916348,
          912748,
          925647,
          30353
         ],
         "yaxis": "y"
        },
        {
         "hovertemplate": "region=Eastern Asia<br>date=%{x}<br>daily_vaccinations=%{y}<extra></extra>",
         "legendgroup": "Eastern Asia",
         "line": {
          "color": "#EF553B",
          "dash": "solid"
         },
         "mode": "lines",
         "name": "Eastern Asia",
         "orientation": "v",
         "showlegend": true,
         "type": "scatter",
         "x": [
          "2020-12-15",
          "2020-12-16",
          "2020-12-17",
          "2020-12-18",
          "2020-12-19",
          "2020-12-20",
          "2020-12-21",
          "2020-12-22",
          "2020-12-23",
          "2020-12-24",
          "2020-12-25",
          "2020-12-26",
          "2020-12-27",
          "2020-12-28",
          "2020-12-29",
          "2020-12-30",
          "2020-12-31",
          "2021-01-01",
          "2021-01-02",
          "2021-01-03",
          "2021-01-04",
          "2021-01-05",
          "2021-01-06",
          "2021-01-07",
          "2021-01-08",
          "2021-01-09",
          "2021-01-10",
          "2021-01-11",
          "2021-01-12",
          "2021-01-13",
          "2021-01-14",
          "2021-01-15",
          "2021-01-16",
          "2021-01-17",
          "2021-01-18",
          "2021-01-19",
          "2021-01-20",
          "2021-01-21",
          "2021-01-22",
          "2021-01-23",
          "2021-01-24",
          "2021-01-25",
          "2021-01-26",
          "2021-01-27",
          "2021-01-28",
          "2021-01-29",
          "2021-01-30",
          "2021-01-31",
          "2021-02-01",
          "2021-02-02",
          "2021-02-03",
          "2021-02-04",
          "2021-02-05",
          "2021-02-06",
          "2021-02-07",
          "2021-02-08",
          "2021-02-09"
         ],
         "xaxis": "x",
         "y": [
          0,
          187500,
          187500,
          187500,
          187500,
          187500,
          187500,
          187500,
          187500,
          187500,
          187500,
          187500,
          187500,
          187500,
          187500,
          187500,
          187500,
          232143,
          276786,
          321429,
          366071,
          410714,
          455357,
          500000,
          500000,
          500000,
          464286,
          428571,
          392857,
          357143,
          387755,
          418367,
          448980,
          515306,
          581633,
          647959,
          714286,
          770755,
          827224,
          883694,
          940163,
          996633,
          1053102,
          1109571,
          995097,
          880622,
          766148,
          651673,
          836020,
          1020367,
          1204714,
          1382583,
          1560452,
          1738321,
          1916190,
          1795238,
          1674286
         ],
         "yaxis": "y"
        },
        {
         "hovertemplate": "region=Eastern Europe<br>date=%{x}<br>daily_vaccinations=%{y}<extra></extra>",
         "legendgroup": "Eastern Europe",
         "line": {
          "color": "#00cc96",
          "dash": "solid"
         },
         "mode": "lines",
         "name": "Eastern Europe",
         "orientation": "v",
         "showlegend": true,
         "type": "scatter",
         "x": [
          "2020-12-15",
          "2020-12-16",
          "2020-12-17",
          "2020-12-18",
          "2020-12-19",
          "2020-12-20",
          "2020-12-21",
          "2020-12-22",
          "2020-12-23",
          "2020-12-24",
          "2020-12-25",
          "2020-12-26",
          "2020-12-27",
          "2020-12-28",
          "2020-12-29",
          "2020-12-30",
          "2020-12-31",
          "2021-01-01",
          "2021-01-02",
          "2021-01-03",
          "2021-01-04",
          "2021-01-05",
          "2021-01-06",
          "2021-01-07",
          "2021-01-08",
          "2021-01-09",
          "2021-01-10",
          "2021-01-11",
          "2021-01-12",
          "2021-01-13",
          "2021-01-14",
          "2021-01-15",
          "2021-01-16",
          "2021-01-17",
          "2021-01-18",
          "2021-01-19",
          "2021-01-20",
          "2021-01-21",
          "2021-01-22",
          "2021-01-23",
          "2021-01-24",
          "2021-01-25",
          "2021-01-26",
          "2021-01-27",
          "2021-01-28",
          "2021-01-29",
          "2021-01-30",
          "2021-01-31",
          "2021-02-01",
          "2021-02-02",
          "2021-02-03",
          "2021-02-04",
          "2021-02-05",
          "2021-02-06",
          "2021-02-07",
          "2021-02-08",
          "2021-02-09",
          "2021-02-10"
         ],
         "xaxis": "x",
         "y": [
          0,
          3357,
          3357,
          3357,
          3357,
          3357,
          3357,
          3357,
          12592,
          21827,
          31061,
          40296,
          49531,
          61047,
          77249,
          94256,
          91386,
          86887,
          84440,
          75287,
          74616,
          77117,
          75067,
          76340,
          75905,
          70318,
          72422,
          76586,
          80259,
          86263,
          69755,
          72167,
          75124,
          75696,
          74945,
          75987,
          78221,
          83474,
          88283,
          90040,
          91739,
          98579,
          112282,
          121794,
          129833,
          135526,
          138172,
          141314,
          139260,
          135575,
          135446,
          136307,
          134848,
          132519,
          129362,
          129988,
          123876,
          42785
         ],
         "yaxis": "y"
        },
        {
         "hovertemplate": "region=Northern America<br>date=%{x}<br>daily_vaccinations=%{y}<extra></extra>",
         "legendgroup": "Northern America",
         "line": {
          "color": "#ab63fa",
          "dash": "solid"
         },
         "mode": "lines",
         "name": "Northern America",
         "orientation": "v",
         "showlegend": true,
         "type": "scatter",
         "x": [
          "2020-12-19",
          "2020-12-20",
          "2020-12-21",
          "2020-12-22",
          "2020-12-23",
          "2020-12-24",
          "2020-12-25",
          "2020-12-26",
          "2020-12-27",
          "2020-12-28",
          "2020-12-29",
          "2020-12-30",
          "2020-12-31",
          "2021-01-01",
          "2021-01-02",
          "2021-01-03",
          "2021-01-04",
          "2021-01-05",
          "2021-01-06",
          "2021-01-07",
          "2021-01-08",
          "2021-01-09",
          "2021-01-10",
          "2021-01-11",
          "2021-01-12",
          "2021-01-13",
          "2021-01-14",
          "2021-01-15",
          "2021-01-16",
          "2021-01-17",
          "2021-01-18",
          "2021-01-19",
          "2021-01-20",
          "2021-01-21",
          "2021-01-22",
          "2021-01-23",
          "2021-01-24",
          "2021-01-25",
          "2021-01-26",
          "2021-01-27",
          "2021-01-28",
          "2021-01-29",
          "2021-01-30",
          "2021-01-31",
          "2021-02-01",
          "2021-02-02",
          "2021-02-03",
          "2021-02-04",
          "2021-02-05",
          "2021-02-06",
          "2021-02-07",
          "2021-02-08",
          "2021-02-09",
          "2021-02-10"
         ],
         "xaxis": "x",
         "y": [
          0,
          0,
          57909,
          127432,
          150606,
          191001,
          215238,
          231396,
          211379,
          216147,
          235685,
          255223,
          278776,
          302329,
          325882,
          336949,
          348017,
          339372,
          358887,
          378253,
          419933,
          461263,
          546636,
          632287,
          641802,
          714798,
          754645,
          809721,
          826523,
          843311,
          860100,
          939258,
          920804,
          970646,
          1034328,
          1114701,
          1178050,
          1180673,
          1171748,
          1219116,
          1264755,
          1280504,
          1317519,
          1350496,
          1380442,
          1343103,
          1333940,
          1302571,
          1291894,
          1367842,
          1457725,
          1473922,
          1508379,
          1578064
         ],
         "yaxis": "y"
        },
        {
         "hovertemplate": "region=Western Asia<br>date=%{x}<br>daily_vaccinations=%{y}<extra></extra>",
         "legendgroup": "Western Asia",
         "line": {
          "color": "#FFA15A",
          "dash": "solid"
         },
         "mode": "lines",
         "name": "Western Asia",
         "orientation": "v",
         "showlegend": true,
         "type": "scatter",
         "x": [
          "2020-12-19",
          "2020-12-20",
          "2020-12-21",
          "2020-12-22",
          "2020-12-23",
          "2020-12-24",
          "2020-12-25",
          "2020-12-26",
          "2020-12-27",
          "2020-12-28",
          "2020-12-29",
          "2020-12-30",
          "2020-12-31",
          "2021-01-01",
          "2021-01-02",
          "2021-01-03",
          "2021-01-04",
          "2021-01-05",
          "2021-01-06",
          "2021-01-07",
          "2021-01-08",
          "2021-01-09",
          "2021-01-10",
          "2021-01-11",
          "2021-01-12",
          "2021-01-13",
          "2021-01-14",
          "2021-01-15",
          "2021-01-16",
          "2021-01-17",
          "2021-01-18",
          "2021-01-19",
          "2021-01-20",
          "2021-01-21",
          "2021-01-22",
          "2021-01-23",
          "2021-01-24",
          "2021-01-25",
          "2021-01-26",
          "2021-01-27",
          "2021-01-28",
          "2021-01-29",
          "2021-01-30",
          "2021-01-31",
          "2021-02-01",
          "2021-02-02",
          "2021-02-03",
          "2021-02-04",
          "2021-02-05",
          "2021-02-06",
          "2021-02-07",
          "2021-02-08",
          "2021-02-09",
          "2021-02-10"
         ],
         "xaxis": "x",
         "y": [
          0,
          7344,
          16094,
          25588,
          34840,
          53634,
          47651,
          44739,
          58076,
          73328,
          91659,
          104329,
          115122,
          119603,
          125012,
          131403,
          133833,
          129737,
          153849,
          186381,
          180191,
          182430,
          169002,
          156919,
          155965,
          169679,
          463133,
          507513,
          436624,
          407080,
          418674,
          427574,
          430017,
          405923,
          366108,
          355487,
          356832,
          351000,
          350761,
          347445,
          361910,
          388057,
          390416,
          403896,
          406480,
          381766,
          363807,
          374579,
          349145,
          352315,
          331520,
          316092,
          326397,
          338728
         ],
         "yaxis": "y"
        },
        {
         "hovertemplate": "region=Western Europe<br>date=%{x}<br>daily_vaccinations=%{y}<extra></extra>",
         "legendgroup": "Western Europe",
         "line": {
          "color": "#19d3f3",
          "dash": "solid"
         },
         "mode": "lines",
         "name": "Western Europe",
         "orientation": "v",
         "showlegend": true,
         "type": "scatter",
         "x": [
          "2020-12-23",
          "2020-12-24",
          "2020-12-25",
          "2020-12-26",
          "2020-12-27",
          "2020-12-28",
          "2020-12-29",
          "2020-12-30",
          "2020-12-31",
          "2021-01-01",
          "2021-01-02",
          "2021-01-03",
          "2021-01-04",
          "2021-01-05",
          "2021-01-06",
          "2021-01-07",
          "2021-01-08",
          "2021-01-09",
          "2021-01-10",
          "2021-01-11",
          "2021-01-12",
          "2021-01-13",
          "2021-01-14",
          "2021-01-15",
          "2021-01-16",
          "2021-01-17",
          "2021-01-18",
          "2021-01-19",
          "2021-01-20",
          "2021-01-21",
          "2021-01-22",
          "2021-01-23",
          "2021-01-24",
          "2021-01-25",
          "2021-01-26",
          "2021-01-27",
          "2021-01-28",
          "2021-01-29",
          "2021-01-30",
          "2021-01-31",
          "2021-02-01",
          "2021-02-02",
          "2021-02-03",
          "2021-02-04",
          "2021-02-05",
          "2021-02-06",
          "2021-02-07",
          "2021-02-08",
          "2021-02-09",
          "2021-02-10"
         ],
         "xaxis": "x",
         "y": [
          0,
          3000,
          3000,
          3000,
          3000,
          22873,
          34686,
          43666,
          43205,
          40088,
          42488,
          40488,
          44815,
          46978,
          48991,
          65814,
          78363,
          78526,
          79473,
          86168,
          100033,
          122813,
          139455,
          148893,
          151362,
          155378,
          166422,
          182517,
          200874,
          215621,
          228254,
          235005,
          236899,
          239692,
          233157,
          221722,
          214306,
          210085,
          210523,
          211676,
          224945,
          236671,
          246860,
          258191,
          266500,
          270031,
          272393,
          247464,
          245698,
          29384
         ],
         "yaxis": "y"
        },
        {
         "hovertemplate": "region=Latin America and the Caribbean<br>date=%{x}<br>daily_vaccinations=%{y}<extra></extra>",
         "legendgroup": "Latin America and the Caribbean",
         "line": {
          "color": "#FF6692",
          "dash": "solid"
         },
         "mode": "lines",
         "name": "Latin America and the Caribbean",
         "orientation": "v",
         "showlegend": true,
         "type": "scatter",
         "x": [
          "2020-12-24",
          "2020-12-25",
          "2020-12-26",
          "2020-12-27",
          "2020-12-28",
          "2020-12-29",
          "2020-12-30",
          "2020-12-31",
          "2021-01-01",
          "2021-01-02",
          "2021-01-03",
          "2021-01-04",
          "2021-01-05",
          "2021-01-06",
          "2021-01-07",
          "2021-01-08",
          "2021-01-09",
          "2021-01-10",
          "2021-01-11",
          "2021-01-12",
          "2021-01-13",
          "2021-01-14",
          "2021-01-15",
          "2021-01-16",
          "2021-01-17",
          "2021-01-18",
          "2021-01-19",
          "2021-01-20",
          "2021-01-21",
          "2021-01-22",
          "2021-01-23",
          "2021-01-24",
          "2021-01-25",
          "2021-01-26",
          "2021-01-27",
          "2021-01-28",
          "2021-01-29",
          "2021-01-30",
          "2021-01-31",
          "2021-02-01",
          "2021-02-02",
          "2021-02-03",
          "2021-02-04",
          "2021-02-05",
          "2021-02-06",
          "2021-02-07",
          "2021-02-08",
          "2021-02-09",
          "2021-02-10"
         ],
         "xaxis": "x",
         "y": [
          0,
          6311,
          5498,
          4557,
          4248,
          5301,
          21246,
          21070,
          16166,
          13786,
          12729,
          12135,
          13341,
          13510,
          14149,
          17306,
          19579,
          21737,
          23614,
          23076,
          36028,
          55488,
          67174,
          72171,
          72110,
          75610,
          81144,
          70730,
          80843,
          90584,
          120477,
          129657,
          138666,
          156689,
          194355,
          215167,
          222417,
          230867,
          230690,
          223249,
          225453,
          227663,
          288337,
          296804,
          299882,
          316429,
          343269,
          384936,
          263897
         ],
         "yaxis": "y"
        },
        {
         "hovertemplate": "region=Southern Europe<br>date=%{x}<br>daily_vaccinations=%{y}<extra></extra>",
         "legendgroup": "Southern Europe",
         "line": {
          "color": "#B6E880",
          "dash": "solid"
         },
         "mode": "lines",
         "name": "Southern Europe",
         "orientation": "v",
         "showlegend": true,
         "type": "scatter",
         "x": [
          "2020-12-27",
          "2020-12-28",
          "2020-12-29",
          "2020-12-30",
          "2020-12-31",
          "2021-01-01",
          "2021-01-02",
          "2021-01-03",
          "2021-01-04",
          "2021-01-05",
          "2021-01-06",
          "2021-01-07",
          "2021-01-08",
          "2021-01-09",
          "2021-01-10",
          "2021-01-11",
          "2021-01-12",
          "2021-01-13",
          "2021-01-14",
          "2021-01-15",
          "2021-01-16",
          "2021-01-17",
          "2021-01-18",
          "2021-01-19",
          "2021-01-20",
          "2021-01-21",
          "2021-01-22",
          "2021-01-23",
          "2021-01-24",
          "2021-01-25",
          "2021-01-26",
          "2021-01-27",
          "2021-01-28",
          "2021-01-29",
          "2021-01-30",
          "2021-01-31",
          "2021-02-01",
          "2021-02-02",
          "2021-02-03",
          "2021-02-04",
          "2021-02-05",
          "2021-02-06",
          "2021-02-07",
          "2021-02-08",
          "2021-02-09",
          "2021-02-10"
         ],
         "xaxis": "x",
         "y": [
          0,
          2518,
          15036,
          15124,
          18900,
          17592,
          21512,
          23927,
          34084,
          101552,
          99464,
          108624,
          131894,
          140494,
          144271,
          146909,
          151316,
          164456,
          172291,
          173097,
          171754,
          170239,
          166364,
          159626,
          148655,
          145960,
          140092,
          143093,
          149119,
          159398,
          174746,
          183388,
          192478,
          200193,
          202541,
          201971,
          201934,
          200314,
          208784,
          213767,
          209669,
          205484,
          200614,
          199291,
          192852,
          116971
         ],
         "yaxis": "y"
        },
        {
         "hovertemplate": "region=Sub-Saharan Africa<br>date=%{x}<br>daily_vaccinations=%{y}<extra></extra>",
         "legendgroup": "Sub-Saharan Africa",
         "line": {
          "color": "#FF97FF",
          "dash": "solid"
         },
         "mode": "lines",
         "name": "Sub-Saharan Africa",
         "orientation": "v",
         "showlegend": true,
         "type": "scatter",
         "x": [
          "2021-01-09",
          "2021-01-10",
          "2021-01-11",
          "2021-01-12",
          "2021-01-13",
          "2021-01-14",
          "2021-01-15",
          "2021-01-16",
          "2021-01-17",
          "2021-01-18",
          "2021-01-19",
          "2021-01-20",
          "2021-01-21",
          "2021-01-22",
          "2021-01-23",
          "2021-01-24",
          "2021-01-25",
          "2021-01-26",
          "2021-01-27",
          "2021-01-28",
          "2021-01-29",
          "2021-01-30",
          "2021-01-31",
          "2021-02-01",
          "2021-02-02",
          "2021-02-03",
          "2021-02-04",
          "2021-02-05",
          "2021-02-06",
          "2021-02-07",
          "2021-02-08",
          "2021-02-09"
         ],
         "xaxis": "x",
         "y": [
          0,
          500,
          500,
          500,
          500,
          600,
          667,
          1000,
          1118,
          1236,
          1354,
          1595,
          1718,
          1841,
          1622,
          1542,
          1463,
          1677,
          1775,
          1965,
          1996,
          1988,
          2079,
          2170,
          1939,
          1644,
          1287,
          1089,
          987,
          966,
          945,
          1163
         ],
         "yaxis": "y"
        },
        {
         "hovertemplate": "region=South-eastern Asia<br>date=%{x}<br>daily_vaccinations=%{y}<extra></extra>",
         "legendgroup": "South-eastern Asia",
         "line": {
          "color": "#FECB52",
          "dash": "solid"
         },
         "mode": "lines",
         "name": "South-eastern Asia",
         "orientation": "v",
         "showlegend": true,
         "type": "scatter",
         "x": [
          "2021-01-11",
          "2021-01-12",
          "2021-01-13",
          "2021-01-14",
          "2021-01-15",
          "2021-01-16",
          "2021-01-17",
          "2021-01-18",
          "2021-01-19",
          "2021-01-20",
          "2021-01-21",
          "2021-01-22",
          "2021-01-23",
          "2021-01-24",
          "2021-01-25",
          "2021-01-26",
          "2021-01-27",
          "2021-01-28",
          "2021-01-29",
          "2021-01-30",
          "2021-01-31",
          "2021-02-01",
          "2021-02-02",
          "2021-02-03",
          "2021-02-04",
          "2021-02-05",
          "2021-02-06",
          "2021-02-07",
          "2021-02-08",
          "2021-02-09",
          "2021-02-10"
         ],
         "xaxis": "x",
         "y": [
          0,
          2800,
          17290,
          17720,
          17935,
          18064,
          18150,
          18211,
          18580,
          18580,
          18580,
          18580,
          18673,
          18766,
          19444,
          30267,
          41831,
          46274,
          51193,
          62325,
          62895,
          69882,
          68734,
          69567,
          71319,
          74912,
          69328,
          68657,
          68591,
          69175,
          85254
         ],
         "yaxis": "y"
        },
        {
         "hovertemplate": "region=Southern Asia<br>date=%{x}<br>daily_vaccinations=%{y}<extra></extra>",
         "legendgroup": "Southern Asia",
         "line": {
          "color": "#636efa",
          "dash": "solid"
         },
         "mode": "lines",
         "name": "Southern Asia",
         "orientation": "v",
         "showlegend": true,
         "type": "scatter",
         "x": [
          "2021-01-15",
          "2021-01-16",
          "2021-01-17",
          "2021-01-18",
          "2021-01-19",
          "2021-01-20",
          "2021-01-21",
          "2021-01-22",
          "2021-01-23",
          "2021-01-24",
          "2021-01-25",
          "2021-01-26",
          "2021-01-27",
          "2021-01-28",
          "2021-01-29",
          "2021-01-30",
          "2021-01-31",
          "2021-02-01",
          "2021-02-02",
          "2021-02-03",
          "2021-02-04",
          "2021-02-05",
          "2021-02-06",
          "2021-02-07",
          "2021-02-08",
          "2021-02-09",
          "2021-02-10"
         ],
         "xaxis": "x",
         "y": [
          0,
          191181,
          112150,
          151350,
          168709,
          161297,
          173922,
          198656,
          198717,
          198743,
          224251,
          193521,
          240244,
          288363,
          326705,
          348321,
          346720,
          320076,
          345693,
          343588,
          332576,
          299596,
          312169,
          312853,
          342161,
          363349,
          372054
         ],
         "yaxis": "y"
        },
        {
         "hovertemplate": "region=Northern Africa<br>date=%{x}<br>daily_vaccinations=%{y}<extra></extra>",
         "legendgroup": "Northern Africa",
         "line": {
          "color": "#EF553B",
          "dash": "solid"
         },
         "mode": "lines",
         "name": "Northern Africa",
         "orientation": "v",
         "showlegend": true,
         "type": "scatter",
         "x": [
          "2021-01-24",
          "2021-01-25",
          "2021-01-26",
          "2021-01-27",
          "2021-01-28",
          "2021-01-29",
          "2021-01-30",
          "2021-01-31",
          "2021-02-01",
          "2021-02-02",
          "2021-02-03",
          "2021-02-04",
          "2021-02-05",
          "2021-02-06",
          "2021-02-07",
          "2021-02-08",
          "2021-02-09",
          "2021-02-10"
         ],
         "xaxis": "x",
         "y": [
          0,
          219,
          219,
          219,
          219,
          45219,
          45249,
          42000,
          50020,
          51458,
          51400,
          50246,
          51891,
          53424,
          54437,
          50010,
          51127,
          62531
         ],
         "yaxis": "y"
        }
       ],
       "layout": {
        "legend": {
         "title": {
          "text": "region"
         },
         "tracegroupgap": 0
        },
        "template": {
         "data": {
          "bar": [
           {
            "error_x": {
             "color": "#2a3f5f"
            },
            "error_y": {
             "color": "#2a3f5f"
            },
            "marker": {
             "line": {
              "color": "#E5ECF6",
              "width": 0.5
             }
            },
            "type": "bar"
           }
          ],
          "barpolar": [
           {
            "marker": {
             "line": {
              "color": "#E5ECF6",
              "width": 0.5
             }
            },
            "type": "barpolar"
           }
          ],
          "carpet": [
           {
            "aaxis": {
             "endlinecolor": "#2a3f5f",
             "gridcolor": "white",
             "linecolor": "white",
             "minorgridcolor": "white",
             "startlinecolor": "#2a3f5f"
            },
            "baxis": {
             "endlinecolor": "#2a3f5f",
             "gridcolor": "white",
             "linecolor": "white",
             "minorgridcolor": "white",
             "startlinecolor": "#2a3f5f"
            },
            "type": "carpet"
           }
          ],
          "choropleth": [
           {
            "colorbar": {
             "outlinewidth": 0,
             "ticks": ""
            },
            "type": "choropleth"
           }
          ],
          "contour": [
           {
            "colorbar": {
             "outlinewidth": 0,
             "ticks": ""
            },
            "colorscale": [
             [
              0,
              "#0d0887"
             ],
             [
              0.1111111111111111,
              "#46039f"
             ],
             [
              0.2222222222222222,
              "#7201a8"
             ],
             [
              0.3333333333333333,
              "#9c179e"
             ],
             [
              0.4444444444444444,
              "#bd3786"
             ],
             [
              0.5555555555555556,
              "#d8576b"
             ],
             [
              0.6666666666666666,
              "#ed7953"
             ],
             [
              0.7777777777777778,
              "#fb9f3a"
             ],
             [
              0.8888888888888888,
              "#fdca26"
             ],
             [
              1,
              "#f0f921"
             ]
            ],
            "type": "contour"
           }
          ],
          "contourcarpet": [
           {
            "colorbar": {
             "outlinewidth": 0,
             "ticks": ""
            },
            "type": "contourcarpet"
           }
          ],
          "heatmap": [
           {
            "colorbar": {
             "outlinewidth": 0,
             "ticks": ""
            },
            "colorscale": [
             [
              0,
              "#0d0887"
             ],
             [
              0.1111111111111111,
              "#46039f"
             ],
             [
              0.2222222222222222,
              "#7201a8"
             ],
             [
              0.3333333333333333,
              "#9c179e"
             ],
             [
              0.4444444444444444,
              "#bd3786"
             ],
             [
              0.5555555555555556,
              "#d8576b"
             ],
             [
              0.6666666666666666,
              "#ed7953"
             ],
             [
              0.7777777777777778,
              "#fb9f3a"
             ],
             [
              0.8888888888888888,
              "#fdca26"
             ],
             [
              1,
              "#f0f921"
             ]
            ],
            "type": "heatmap"
           }
          ],
          "heatmapgl": [
           {
            "colorbar": {
             "outlinewidth": 0,
             "ticks": ""
            },
            "colorscale": [
             [
              0,
              "#0d0887"
             ],
             [
              0.1111111111111111,
              "#46039f"
             ],
             [
              0.2222222222222222,
              "#7201a8"
             ],
             [
              0.3333333333333333,
              "#9c179e"
             ],
             [
              0.4444444444444444,
              "#bd3786"
             ],
             [
              0.5555555555555556,
              "#d8576b"
             ],
             [
              0.6666666666666666,
              "#ed7953"
             ],
             [
              0.7777777777777778,
              "#fb9f3a"
             ],
             [
              0.8888888888888888,
              "#fdca26"
             ],
             [
              1,
              "#f0f921"
             ]
            ],
            "type": "heatmapgl"
           }
          ],
          "histogram": [
           {
            "marker": {
             "colorbar": {
              "outlinewidth": 0,
              "ticks": ""
             }
            },
            "type": "histogram"
           }
          ],
          "histogram2d": [
           {
            "colorbar": {
             "outlinewidth": 0,
             "ticks": ""
            },
            "colorscale": [
             [
              0,
              "#0d0887"
             ],
             [
              0.1111111111111111,
              "#46039f"
             ],
             [
              0.2222222222222222,
              "#7201a8"
             ],
             [
              0.3333333333333333,
              "#9c179e"
             ],
             [
              0.4444444444444444,
              "#bd3786"
             ],
             [
              0.5555555555555556,
              "#d8576b"
             ],
             [
              0.6666666666666666,
              "#ed7953"
             ],
             [
              0.7777777777777778,
              "#fb9f3a"
             ],
             [
              0.8888888888888888,
              "#fdca26"
             ],
             [
              1,
              "#f0f921"
             ]
            ],
            "type": "histogram2d"
           }
          ],
          "histogram2dcontour": [
           {
            "colorbar": {
             "outlinewidth": 0,
             "ticks": ""
            },
            "colorscale": [
             [
              0,
              "#0d0887"
             ],
             [
              0.1111111111111111,
              "#46039f"
             ],
             [
              0.2222222222222222,
              "#7201a8"
             ],
             [
              0.3333333333333333,
              "#9c179e"
             ],
             [
              0.4444444444444444,
              "#bd3786"
             ],
             [
              0.5555555555555556,
              "#d8576b"
             ],
             [
              0.6666666666666666,
              "#ed7953"
             ],
             [
              0.7777777777777778,
              "#fb9f3a"
             ],
             [
              0.8888888888888888,
              "#fdca26"
             ],
             [
              1,
              "#f0f921"
             ]
            ],
            "type": "histogram2dcontour"
           }
          ],
          "mesh3d": [
           {
            "colorbar": {
             "outlinewidth": 0,
             "ticks": ""
            },
            "type": "mesh3d"
           }
          ],
          "parcoords": [
           {
            "line": {
             "colorbar": {
              "outlinewidth": 0,
              "ticks": ""
             }
            },
            "type": "parcoords"
           }
          ],
          "pie": [
           {
            "automargin": true,
            "type": "pie"
           }
          ],
          "scatter": [
           {
            "marker": {
             "colorbar": {
              "outlinewidth": 0,
              "ticks": ""
             }
            },
            "type": "scatter"
           }
          ],
          "scatter3d": [
           {
            "line": {
             "colorbar": {
              "outlinewidth": 0,
              "ticks": ""
             }
            },
            "marker": {
             "colorbar": {
              "outlinewidth": 0,
              "ticks": ""
             }
            },
            "type": "scatter3d"
           }
          ],
          "scattercarpet": [
           {
            "marker": {
             "colorbar": {
              "outlinewidth": 0,
              "ticks": ""
             }
            },
            "type": "scattercarpet"
           }
          ],
          "scattergeo": [
           {
            "marker": {
             "colorbar": {
              "outlinewidth": 0,
              "ticks": ""
             }
            },
            "type": "scattergeo"
           }
          ],
          "scattergl": [
           {
            "marker": {
             "colorbar": {
              "outlinewidth": 0,
              "ticks": ""
             }
            },
            "type": "scattergl"
           }
          ],
          "scattermapbox": [
           {
            "marker": {
             "colorbar": {
              "outlinewidth": 0,
              "ticks": ""
             }
            },
            "type": "scattermapbox"
           }
          ],
          "scatterpolar": [
           {
            "marker": {
             "colorbar": {
              "outlinewidth": 0,
              "ticks": ""
             }
            },
            "type": "scatterpolar"
           }
          ],
          "scatterpolargl": [
           {
            "marker": {
             "colorbar": {
              "outlinewidth": 0,
              "ticks": ""
             }
            },
            "type": "scatterpolargl"
           }
          ],
          "scatterternary": [
           {
            "marker": {
             "colorbar": {
              "outlinewidth": 0,
              "ticks": ""
             }
            },
            "type": "scatterternary"
           }
          ],
          "surface": [
           {
            "colorbar": {
             "outlinewidth": 0,
             "ticks": ""
            },
            "colorscale": [
             [
              0,
              "#0d0887"
             ],
             [
              0.1111111111111111,
              "#46039f"
             ],
             [
              0.2222222222222222,
              "#7201a8"
             ],
             [
              0.3333333333333333,
              "#9c179e"
             ],
             [
              0.4444444444444444,
              "#bd3786"
             ],
             [
              0.5555555555555556,
              "#d8576b"
             ],
             [
              0.6666666666666666,
              "#ed7953"
             ],
             [
              0.7777777777777778,
              "#fb9f3a"
             ],
             [
              0.8888888888888888,
              "#fdca26"
             ],
             [
              1,
              "#f0f921"
             ]
            ],
            "type": "surface"
           }
          ],
          "table": [
           {
            "cells": {
             "fill": {
              "color": "#EBF0F8"
             },
             "line": {
              "color": "white"
             }
            },
            "header": {
             "fill": {
              "color": "#C8D4E3"
             },
             "line": {
              "color": "white"
             }
            },
            "type": "table"
           }
          ]
         },
         "layout": {
          "annotationdefaults": {
           "arrowcolor": "#2a3f5f",
           "arrowhead": 0,
           "arrowwidth": 1
          },
          "autotypenumbers": "strict",
          "coloraxis": {
           "colorbar": {
            "outlinewidth": 0,
            "ticks": ""
           }
          },
          "colorscale": {
           "diverging": [
            [
             0,
             "#8e0152"
            ],
            [
             0.1,
             "#c51b7d"
            ],
            [
             0.2,
             "#de77ae"
            ],
            [
             0.3,
             "#f1b6da"
            ],
            [
             0.4,
             "#fde0ef"
            ],
            [
             0.5,
             "#f7f7f7"
            ],
            [
             0.6,
             "#e6f5d0"
            ],
            [
             0.7,
             "#b8e186"
            ],
            [
             0.8,
             "#7fbc41"
            ],
            [
             0.9,
             "#4d9221"
            ],
            [
             1,
             "#276419"
            ]
           ],
           "sequential": [
            [
             0,
             "#0d0887"
            ],
            [
             0.1111111111111111,
             "#46039f"
            ],
            [
             0.2222222222222222,
             "#7201a8"
            ],
            [
             0.3333333333333333,
             "#9c179e"
            ],
            [
             0.4444444444444444,
             "#bd3786"
            ],
            [
             0.5555555555555556,
             "#d8576b"
            ],
            [
             0.6666666666666666,
             "#ed7953"
            ],
            [
             0.7777777777777778,
             "#fb9f3a"
            ],
            [
             0.8888888888888888,
             "#fdca26"
            ],
            [
             1,
             "#f0f921"
            ]
           ],
           "sequentialminus": [
            [
             0,
             "#0d0887"
            ],
            [
             0.1111111111111111,
             "#46039f"
            ],
            [
             0.2222222222222222,
             "#7201a8"
            ],
            [
             0.3333333333333333,
             "#9c179e"
            ],
            [
             0.4444444444444444,
             "#bd3786"
            ],
            [
             0.5555555555555556,
             "#d8576b"
            ],
            [
             0.6666666666666666,
             "#ed7953"
            ],
            [
             0.7777777777777778,
             "#fb9f3a"
            ],
            [
             0.8888888888888888,
             "#fdca26"
            ],
            [
             1,
             "#f0f921"
            ]
           ]
          },
          "colorway": [
           "#636efa",
           "#EF553B",
           "#00cc96",
           "#ab63fa",
           "#FFA15A",
           "#19d3f3",
           "#FF6692",
           "#B6E880",
           "#FF97FF",
           "#FECB52"
          ],
          "font": {
           "color": "#2a3f5f"
          },
          "geo": {
           "bgcolor": "white",
           "lakecolor": "white",
           "landcolor": "#E5ECF6",
           "showlakes": true,
           "showland": true,
           "subunitcolor": "white"
          },
          "hoverlabel": {
           "align": "left"
          },
          "hovermode": "closest",
          "mapbox": {
           "style": "light"
          },
          "paper_bgcolor": "white",
          "plot_bgcolor": "#E5ECF6",
          "polar": {
           "angularaxis": {
            "gridcolor": "white",
            "linecolor": "white",
            "ticks": ""
           },
           "bgcolor": "#E5ECF6",
           "radialaxis": {
            "gridcolor": "white",
            "linecolor": "white",
            "ticks": ""
           }
          },
          "scene": {
           "xaxis": {
            "backgroundcolor": "#E5ECF6",
            "gridcolor": "white",
            "gridwidth": 2,
            "linecolor": "white",
            "showbackground": true,
            "ticks": "",
            "zerolinecolor": "white"
           },
           "yaxis": {
            "backgroundcolor": "#E5ECF6",
            "gridcolor": "white",
            "gridwidth": 2,
            "linecolor": "white",
            "showbackground": true,
            "ticks": "",
            "zerolinecolor": "white"
           },
           "zaxis": {
            "backgroundcolor": "#E5ECF6",
            "gridcolor": "white",
            "gridwidth": 2,
            "linecolor": "white",
            "showbackground": true,
            "ticks": "",
            "zerolinecolor": "white"
           }
          },
          "shapedefaults": {
           "line": {
            "color": "#2a3f5f"
           }
          },
          "ternary": {
           "aaxis": {
            "gridcolor": "white",
            "linecolor": "white",
            "ticks": ""
           },
           "baxis": {
            "gridcolor": "white",
            "linecolor": "white",
            "ticks": ""
           },
           "bgcolor": "#E5ECF6",
           "caxis": {
            "gridcolor": "white",
            "linecolor": "white",
            "ticks": ""
           }
          },
          "title": {
           "x": 0.05
          },
          "xaxis": {
           "automargin": true,
           "gridcolor": "white",
           "linecolor": "white",
           "ticks": "",
           "title": {
            "standoff": 15
           },
           "zerolinecolor": "white",
           "zerolinewidth": 2
          },
          "yaxis": {
           "automargin": true,
           "gridcolor": "white",
           "linecolor": "white",
           "ticks": "",
           "title": {
            "standoff": 15
           },
           "zerolinecolor": "white",
           "zerolinewidth": 2
          }
         }
        },
        "title": {
         "text": "Daily COVID-19 Vaccinations - Summary per Region"
        },
        "xaxis": {
         "anchor": "y",
         "domain": [
          0,
          1
         ],
         "title": {
          "text": "date"
         }
        },
        "yaxis": {
         "anchor": "x",
         "domain": [
          0,
          1
         ],
         "title": {
          "text": "daily_vaccinations"
         }
        }
       }
      },
      "text/html": [
       "<div>                            <div id=\"b071263e-abd0-42b7-a7c1-14a23e58416a\" class=\"plotly-graph-div\" style=\"height:525px; width:100%;\"></div>            <script type=\"text/javascript\">                require([\"plotly\"], function(Plotly) {                    window.PLOTLYENV=window.PLOTLYENV || {};                                    if (document.getElementById(\"b071263e-abd0-42b7-a7c1-14a23e58416a\")) {                    Plotly.newPlot(                        \"b071263e-abd0-42b7-a7c1-14a23e58416a\",                        [{\"hovertemplate\": \"region=Northern Europe<br>date=%{x}<br>daily_vaccinations=%{y}<extra></extra>\", \"legendgroup\": \"Northern Europe\", \"line\": {\"color\": \"#636efa\", \"dash\": \"solid\"}, \"mode\": \"lines\", \"name\": \"Northern Europe\", \"orientation\": \"v\", \"showlegend\": true, \"type\": \"scatter\", \"x\": [\"2020-12-13\", \"2020-12-14\", \"2020-12-15\", \"2020-12-16\", \"2020-12-17\", \"2020-12-18\", \"2020-12-19\", \"2020-12-20\", \"2020-12-21\", \"2020-12-22\", \"2020-12-23\", \"2020-12-24\", \"2020-12-25\", \"2020-12-26\", \"2020-12-27\", \"2020-12-28\", \"2020-12-29\", \"2020-12-30\", \"2020-12-31\", \"2021-01-01\", \"2021-01-02\", \"2021-01-03\", \"2021-01-04\", \"2021-01-05\", \"2021-01-06\", \"2021-01-07\", \"2021-01-08\", \"2021-01-09\", \"2021-01-10\", \"2021-01-11\", \"2021-01-12\", \"2021-01-13\", \"2021-01-14\", \"2021-01-15\", \"2021-01-16\", \"2021-01-17\", \"2021-01-18\", \"2021-01-19\", \"2021-01-20\", \"2021-01-21\", \"2021-01-22\", \"2021-01-23\", \"2021-01-24\", \"2021-01-25\", \"2021-01-26\", \"2021-01-27\", \"2021-01-28\", \"2021-01-29\", \"2021-01-30\", \"2021-01-31\", \"2021-02-01\", \"2021-02-02\", \"2021-02-03\", \"2021-02-04\", \"2021-02-05\", \"2021-02-06\", \"2021-02-07\", \"2021-02-08\", \"2021-02-09\", \"2021-02-10\"], \"xaxis\": \"x\", \"y\": [0.0, 167749.0, 167749.0, 167749.0, 167749.0, 167749.0, 167749.0, 167749.0, 157204.0, 146658.0, 136114.0, 125568.0, 115024.0, 104478.0, 93934.0, 103732.0, 110581.0, 114737.0, 116665.0, 118979.0, 121734.0, 124071.0, 160159.0, 198260.0, 238244.0, 278401.0, 318344.0, 355427.0, 392481.0, 390275.0, 402741.0, 434983.0, 477673.0, 525277.0, 557303.0, 564977.0, 579071.0, 615655.0, 636805.0, 661738.0, 701214.0, 760654.0, 766842.0, 786648.0, 775772.0, 762439.0, 765487.0, 771713.0, 806610.0, 835617.0, 854465.0, 872004.0, 918173.0, 943693.0, 948147.0, 930210.0, 916348.0, 912748.0, 925647.0, 30353.0], \"yaxis\": \"y\"}, {\"hovertemplate\": \"region=Eastern Asia<br>date=%{x}<br>daily_vaccinations=%{y}<extra></extra>\", \"legendgroup\": \"Eastern Asia\", \"line\": {\"color\": \"#EF553B\", \"dash\": \"solid\"}, \"mode\": \"lines\", \"name\": \"Eastern Asia\", \"orientation\": \"v\", \"showlegend\": true, \"type\": \"scatter\", \"x\": [\"2020-12-15\", \"2020-12-16\", \"2020-12-17\", \"2020-12-18\", \"2020-12-19\", \"2020-12-20\", \"2020-12-21\", \"2020-12-22\", \"2020-12-23\", \"2020-12-24\", \"2020-12-25\", \"2020-12-26\", \"2020-12-27\", \"2020-12-28\", \"2020-12-29\", \"2020-12-30\", \"2020-12-31\", \"2021-01-01\", \"2021-01-02\", \"2021-01-03\", \"2021-01-04\", \"2021-01-05\", \"2021-01-06\", \"2021-01-07\", \"2021-01-08\", \"2021-01-09\", \"2021-01-10\", \"2021-01-11\", \"2021-01-12\", \"2021-01-13\", \"2021-01-14\", \"2021-01-15\", \"2021-01-16\", \"2021-01-17\", \"2021-01-18\", \"2021-01-19\", \"2021-01-20\", \"2021-01-21\", \"2021-01-22\", \"2021-01-23\", \"2021-01-24\", \"2021-01-25\", \"2021-01-26\", \"2021-01-27\", \"2021-01-28\", \"2021-01-29\", \"2021-01-30\", \"2021-01-31\", \"2021-02-01\", \"2021-02-02\", \"2021-02-03\", \"2021-02-04\", \"2021-02-05\", \"2021-02-06\", \"2021-02-07\", \"2021-02-08\", \"2021-02-09\"], \"xaxis\": \"x\", \"y\": [0.0, 187500.0, 187500.0, 187500.0, 187500.0, 187500.0, 187500.0, 187500.0, 187500.0, 187500.0, 187500.0, 187500.0, 187500.0, 187500.0, 187500.0, 187500.0, 187500.0, 232143.0, 276786.0, 321429.0, 366071.0, 410714.0, 455357.0, 500000.0, 500000.0, 500000.0, 464286.0, 428571.0, 392857.0, 357143.0, 387755.0, 418367.0, 448980.0, 515306.0, 581633.0, 647959.0, 714286.0, 770755.0, 827224.0, 883694.0, 940163.0, 996633.0, 1053102.0, 1109571.0, 995097.0, 880622.0, 766148.0, 651673.0, 836020.0, 1020367.0, 1204714.0, 1382583.0, 1560452.0, 1738321.0, 1916190.0, 1795238.0, 1674286.0], \"yaxis\": \"y\"}, {\"hovertemplate\": \"region=Eastern Europe<br>date=%{x}<br>daily_vaccinations=%{y}<extra></extra>\", \"legendgroup\": \"Eastern Europe\", \"line\": {\"color\": \"#00cc96\", \"dash\": \"solid\"}, \"mode\": \"lines\", \"name\": \"Eastern Europe\", \"orientation\": \"v\", \"showlegend\": true, \"type\": \"scatter\", \"x\": [\"2020-12-15\", \"2020-12-16\", \"2020-12-17\", \"2020-12-18\", \"2020-12-19\", \"2020-12-20\", \"2020-12-21\", \"2020-12-22\", \"2020-12-23\", \"2020-12-24\", \"2020-12-25\", \"2020-12-26\", \"2020-12-27\", \"2020-12-28\", \"2020-12-29\", \"2020-12-30\", \"2020-12-31\", \"2021-01-01\", \"2021-01-02\", \"2021-01-03\", \"2021-01-04\", \"2021-01-05\", \"2021-01-06\", \"2021-01-07\", \"2021-01-08\", \"2021-01-09\", \"2021-01-10\", \"2021-01-11\", \"2021-01-12\", \"2021-01-13\", \"2021-01-14\", \"2021-01-15\", \"2021-01-16\", \"2021-01-17\", \"2021-01-18\", \"2021-01-19\", \"2021-01-20\", \"2021-01-21\", \"2021-01-22\", \"2021-01-23\", \"2021-01-24\", \"2021-01-25\", \"2021-01-26\", \"2021-01-27\", \"2021-01-28\", \"2021-01-29\", \"2021-01-30\", \"2021-01-31\", \"2021-02-01\", \"2021-02-02\", \"2021-02-03\", \"2021-02-04\", \"2021-02-05\", \"2021-02-06\", \"2021-02-07\", \"2021-02-08\", \"2021-02-09\", \"2021-02-10\"], \"xaxis\": \"x\", \"y\": [0.0, 3357.0, 3357.0, 3357.0, 3357.0, 3357.0, 3357.0, 3357.0, 12592.0, 21827.0, 31061.0, 40296.0, 49531.0, 61047.0, 77249.0, 94256.0, 91386.0, 86887.0, 84440.0, 75287.0, 74616.0, 77117.0, 75067.0, 76340.0, 75905.0, 70318.0, 72422.0, 76586.0, 80259.0, 86263.0, 69755.0, 72167.0, 75124.0, 75696.0, 74945.0, 75987.0, 78221.0, 83474.0, 88283.0, 90040.0, 91739.0, 98579.0, 112282.0, 121794.0, 129833.0, 135526.0, 138172.0, 141314.0, 139260.0, 135575.0, 135446.0, 136307.0, 134848.0, 132519.0, 129362.0, 129988.0, 123876.0, 42785.0], \"yaxis\": \"y\"}, {\"hovertemplate\": \"region=Northern America<br>date=%{x}<br>daily_vaccinations=%{y}<extra></extra>\", \"legendgroup\": \"Northern America\", \"line\": {\"color\": \"#ab63fa\", \"dash\": \"solid\"}, \"mode\": \"lines\", \"name\": \"Northern America\", \"orientation\": \"v\", \"showlegend\": true, \"type\": \"scatter\", \"x\": [\"2020-12-19\", \"2020-12-20\", \"2020-12-21\", \"2020-12-22\", \"2020-12-23\", \"2020-12-24\", \"2020-12-25\", \"2020-12-26\", \"2020-12-27\", \"2020-12-28\", \"2020-12-29\", \"2020-12-30\", \"2020-12-31\", \"2021-01-01\", \"2021-01-02\", \"2021-01-03\", \"2021-01-04\", \"2021-01-05\", \"2021-01-06\", \"2021-01-07\", \"2021-01-08\", \"2021-01-09\", \"2021-01-10\", \"2021-01-11\", \"2021-01-12\", \"2021-01-13\", \"2021-01-14\", \"2021-01-15\", \"2021-01-16\", \"2021-01-17\", \"2021-01-18\", \"2021-01-19\", \"2021-01-20\", \"2021-01-21\", \"2021-01-22\", \"2021-01-23\", \"2021-01-24\", \"2021-01-25\", \"2021-01-26\", \"2021-01-27\", \"2021-01-28\", \"2021-01-29\", \"2021-01-30\", \"2021-01-31\", \"2021-02-01\", \"2021-02-02\", \"2021-02-03\", \"2021-02-04\", \"2021-02-05\", \"2021-02-06\", \"2021-02-07\", \"2021-02-08\", \"2021-02-09\", \"2021-02-10\"], \"xaxis\": \"x\", \"y\": [0.0, 0.0, 57909.0, 127432.0, 150606.0, 191001.0, 215238.0, 231396.0, 211379.0, 216147.0, 235685.0, 255223.0, 278776.0, 302329.0, 325882.0, 336949.0, 348017.0, 339372.0, 358887.0, 378253.0, 419933.0, 461263.0, 546636.0, 632287.0, 641802.0, 714798.0, 754645.0, 809721.0, 826523.0, 843311.0, 860100.0, 939258.0, 920804.0, 970646.0, 1034328.0, 1114701.0, 1178050.0, 1180673.0, 1171748.0, 1219116.0, 1264755.0, 1280504.0, 1317519.0, 1350496.0, 1380442.0, 1343103.0, 1333940.0, 1302571.0, 1291894.0, 1367842.0, 1457725.0, 1473922.0, 1508379.0, 1578064.0], \"yaxis\": \"y\"}, {\"hovertemplate\": \"region=Western Asia<br>date=%{x}<br>daily_vaccinations=%{y}<extra></extra>\", \"legendgroup\": \"Western Asia\", \"line\": {\"color\": \"#FFA15A\", \"dash\": \"solid\"}, \"mode\": \"lines\", \"name\": \"Western Asia\", \"orientation\": \"v\", \"showlegend\": true, \"type\": \"scatter\", \"x\": [\"2020-12-19\", \"2020-12-20\", \"2020-12-21\", \"2020-12-22\", \"2020-12-23\", \"2020-12-24\", \"2020-12-25\", \"2020-12-26\", \"2020-12-27\", \"2020-12-28\", \"2020-12-29\", \"2020-12-30\", \"2020-12-31\", \"2021-01-01\", \"2021-01-02\", \"2021-01-03\", \"2021-01-04\", \"2021-01-05\", \"2021-01-06\", \"2021-01-07\", \"2021-01-08\", \"2021-01-09\", \"2021-01-10\", \"2021-01-11\", \"2021-01-12\", \"2021-01-13\", \"2021-01-14\", \"2021-01-15\", \"2021-01-16\", \"2021-01-17\", \"2021-01-18\", \"2021-01-19\", \"2021-01-20\", \"2021-01-21\", \"2021-01-22\", \"2021-01-23\", \"2021-01-24\", \"2021-01-25\", \"2021-01-26\", \"2021-01-27\", \"2021-01-28\", \"2021-01-29\", \"2021-01-30\", \"2021-01-31\", \"2021-02-01\", \"2021-02-02\", \"2021-02-03\", \"2021-02-04\", \"2021-02-05\", \"2021-02-06\", \"2021-02-07\", \"2021-02-08\", \"2021-02-09\", \"2021-02-10\"], \"xaxis\": \"x\", \"y\": [0.0, 7344.0, 16094.0, 25588.0, 34840.0, 53634.0, 47651.0, 44739.0, 58076.0, 73328.0, 91659.0, 104329.0, 115122.0, 119603.0, 125012.0, 131403.0, 133833.0, 129737.0, 153849.0, 186381.0, 180191.0, 182430.0, 169002.0, 156919.0, 155965.0, 169679.0, 463133.0, 507513.0, 436624.0, 407080.0, 418674.0, 427574.0, 430017.0, 405923.0, 366108.0, 355487.0, 356832.0, 351000.0, 350761.0, 347445.0, 361910.0, 388057.0, 390416.0, 403896.0, 406480.0, 381766.0, 363807.0, 374579.0, 349145.0, 352315.0, 331520.0, 316092.0, 326397.0, 338728.0], \"yaxis\": \"y\"}, {\"hovertemplate\": \"region=Western Europe<br>date=%{x}<br>daily_vaccinations=%{y}<extra></extra>\", \"legendgroup\": \"Western Europe\", \"line\": {\"color\": \"#19d3f3\", \"dash\": \"solid\"}, \"mode\": \"lines\", \"name\": \"Western Europe\", \"orientation\": \"v\", \"showlegend\": true, \"type\": \"scatter\", \"x\": [\"2020-12-23\", \"2020-12-24\", \"2020-12-25\", \"2020-12-26\", \"2020-12-27\", \"2020-12-28\", \"2020-12-29\", \"2020-12-30\", \"2020-12-31\", \"2021-01-01\", \"2021-01-02\", \"2021-01-03\", \"2021-01-04\", \"2021-01-05\", \"2021-01-06\", \"2021-01-07\", \"2021-01-08\", \"2021-01-09\", \"2021-01-10\", \"2021-01-11\", \"2021-01-12\", \"2021-01-13\", \"2021-01-14\", \"2021-01-15\", \"2021-01-16\", \"2021-01-17\", \"2021-01-18\", \"2021-01-19\", \"2021-01-20\", \"2021-01-21\", \"2021-01-22\", \"2021-01-23\", \"2021-01-24\", \"2021-01-25\", \"2021-01-26\", \"2021-01-27\", \"2021-01-28\", \"2021-01-29\", \"2021-01-30\", \"2021-01-31\", \"2021-02-01\", \"2021-02-02\", \"2021-02-03\", \"2021-02-04\", \"2021-02-05\", \"2021-02-06\", \"2021-02-07\", \"2021-02-08\", \"2021-02-09\", \"2021-02-10\"], \"xaxis\": \"x\", \"y\": [0.0, 3000.0, 3000.0, 3000.0, 3000.0, 22873.0, 34686.0, 43666.0, 43205.0, 40088.0, 42488.0, 40488.0, 44815.0, 46978.0, 48991.0, 65814.0, 78363.0, 78526.0, 79473.0, 86168.0, 100033.0, 122813.0, 139455.0, 148893.0, 151362.0, 155378.0, 166422.0, 182517.0, 200874.0, 215621.0, 228254.0, 235005.0, 236899.0, 239692.0, 233157.0, 221722.0, 214306.0, 210085.0, 210523.0, 211676.0, 224945.0, 236671.0, 246860.0, 258191.0, 266500.0, 270031.0, 272393.0, 247464.0, 245698.0, 29384.0], \"yaxis\": \"y\"}, {\"hovertemplate\": \"region=Latin America and the Caribbean<br>date=%{x}<br>daily_vaccinations=%{y}<extra></extra>\", \"legendgroup\": \"Latin America and the Caribbean\", \"line\": {\"color\": \"#FF6692\", \"dash\": \"solid\"}, \"mode\": \"lines\", \"name\": \"Latin America and the Caribbean\", \"orientation\": \"v\", \"showlegend\": true, \"type\": \"scatter\", \"x\": [\"2020-12-24\", \"2020-12-25\", \"2020-12-26\", \"2020-12-27\", \"2020-12-28\", \"2020-12-29\", \"2020-12-30\", \"2020-12-31\", \"2021-01-01\", \"2021-01-02\", \"2021-01-03\", \"2021-01-04\", \"2021-01-05\", \"2021-01-06\", \"2021-01-07\", \"2021-01-08\", \"2021-01-09\", \"2021-01-10\", \"2021-01-11\", \"2021-01-12\", \"2021-01-13\", \"2021-01-14\", \"2021-01-15\", \"2021-01-16\", \"2021-01-17\", \"2021-01-18\", \"2021-01-19\", \"2021-01-20\", \"2021-01-21\", \"2021-01-22\", \"2021-01-23\", \"2021-01-24\", \"2021-01-25\", \"2021-01-26\", \"2021-01-27\", \"2021-01-28\", \"2021-01-29\", \"2021-01-30\", \"2021-01-31\", \"2021-02-01\", \"2021-02-02\", \"2021-02-03\", \"2021-02-04\", \"2021-02-05\", \"2021-02-06\", \"2021-02-07\", \"2021-02-08\", \"2021-02-09\", \"2021-02-10\"], \"xaxis\": \"x\", \"y\": [0.0, 6311.0, 5498.0, 4557.0, 4248.0, 5301.0, 21246.0, 21070.0, 16166.0, 13786.0, 12729.0, 12135.0, 13341.0, 13510.0, 14149.0, 17306.0, 19579.0, 21737.0, 23614.0, 23076.0, 36028.0, 55488.0, 67174.0, 72171.0, 72110.0, 75610.0, 81144.0, 70730.0, 80843.0, 90584.0, 120477.0, 129657.0, 138666.0, 156689.0, 194355.0, 215167.0, 222417.0, 230867.0, 230690.0, 223249.0, 225453.0, 227663.0, 288337.0, 296804.0, 299882.0, 316429.0, 343269.0, 384936.0, 263897.0], \"yaxis\": \"y\"}, {\"hovertemplate\": \"region=Southern Europe<br>date=%{x}<br>daily_vaccinations=%{y}<extra></extra>\", \"legendgroup\": \"Southern Europe\", \"line\": {\"color\": \"#B6E880\", \"dash\": \"solid\"}, \"mode\": \"lines\", \"name\": \"Southern Europe\", \"orientation\": \"v\", \"showlegend\": true, \"type\": \"scatter\", \"x\": [\"2020-12-27\", \"2020-12-28\", \"2020-12-29\", \"2020-12-30\", \"2020-12-31\", \"2021-01-01\", \"2021-01-02\", \"2021-01-03\", \"2021-01-04\", \"2021-01-05\", \"2021-01-06\", \"2021-01-07\", \"2021-01-08\", \"2021-01-09\", \"2021-01-10\", \"2021-01-11\", \"2021-01-12\", \"2021-01-13\", \"2021-01-14\", \"2021-01-15\", \"2021-01-16\", \"2021-01-17\", \"2021-01-18\", \"2021-01-19\", \"2021-01-20\", \"2021-01-21\", \"2021-01-22\", \"2021-01-23\", \"2021-01-24\", \"2021-01-25\", \"2021-01-26\", \"2021-01-27\", \"2021-01-28\", \"2021-01-29\", \"2021-01-30\", \"2021-01-31\", \"2021-02-01\", \"2021-02-02\", \"2021-02-03\", \"2021-02-04\", \"2021-02-05\", \"2021-02-06\", \"2021-02-07\", \"2021-02-08\", \"2021-02-09\", \"2021-02-10\"], \"xaxis\": \"x\", \"y\": [0.0, 2518.0, 15036.0, 15124.0, 18900.0, 17592.0, 21512.0, 23927.0, 34084.0, 101552.0, 99464.0, 108624.0, 131894.0, 140494.0, 144271.0, 146909.0, 151316.0, 164456.0, 172291.0, 173097.0, 171754.0, 170239.0, 166364.0, 159626.0, 148655.0, 145960.0, 140092.0, 143093.0, 149119.0, 159398.0, 174746.0, 183388.0, 192478.0, 200193.0, 202541.0, 201971.0, 201934.0, 200314.0, 208784.0, 213767.0, 209669.0, 205484.0, 200614.0, 199291.0, 192852.0, 116971.0], \"yaxis\": \"y\"}, {\"hovertemplate\": \"region=Sub-Saharan Africa<br>date=%{x}<br>daily_vaccinations=%{y}<extra></extra>\", \"legendgroup\": \"Sub-Saharan Africa\", \"line\": {\"color\": \"#FF97FF\", \"dash\": \"solid\"}, \"mode\": \"lines\", \"name\": \"Sub-Saharan Africa\", \"orientation\": \"v\", \"showlegend\": true, \"type\": \"scatter\", \"x\": [\"2021-01-09\", \"2021-01-10\", \"2021-01-11\", \"2021-01-12\", \"2021-01-13\", \"2021-01-14\", \"2021-01-15\", \"2021-01-16\", \"2021-01-17\", \"2021-01-18\", \"2021-01-19\", \"2021-01-20\", \"2021-01-21\", \"2021-01-22\", \"2021-01-23\", \"2021-01-24\", \"2021-01-25\", \"2021-01-26\", \"2021-01-27\", \"2021-01-28\", \"2021-01-29\", \"2021-01-30\", \"2021-01-31\", \"2021-02-01\", \"2021-02-02\", \"2021-02-03\", \"2021-02-04\", \"2021-02-05\", \"2021-02-06\", \"2021-02-07\", \"2021-02-08\", \"2021-02-09\"], \"xaxis\": \"x\", \"y\": [0.0, 500.0, 500.0, 500.0, 500.0, 600.0, 667.0, 1000.0, 1118.0, 1236.0, 1354.0, 1595.0, 1718.0, 1841.0, 1622.0, 1542.0, 1463.0, 1677.0, 1775.0, 1965.0, 1996.0, 1988.0, 2079.0, 2170.0, 1939.0, 1644.0, 1287.0, 1089.0, 987.0, 966.0, 945.0, 1163.0], \"yaxis\": \"y\"}, {\"hovertemplate\": \"region=South-eastern Asia<br>date=%{x}<br>daily_vaccinations=%{y}<extra></extra>\", \"legendgroup\": \"South-eastern Asia\", \"line\": {\"color\": \"#FECB52\", \"dash\": \"solid\"}, \"mode\": \"lines\", \"name\": \"South-eastern Asia\", \"orientation\": \"v\", \"showlegend\": true, \"type\": \"scatter\", \"x\": [\"2021-01-11\", \"2021-01-12\", \"2021-01-13\", \"2021-01-14\", \"2021-01-15\", \"2021-01-16\", \"2021-01-17\", \"2021-01-18\", \"2021-01-19\", \"2021-01-20\", \"2021-01-21\", \"2021-01-22\", \"2021-01-23\", \"2021-01-24\", \"2021-01-25\", \"2021-01-26\", \"2021-01-27\", \"2021-01-28\", \"2021-01-29\", \"2021-01-30\", \"2021-01-31\", \"2021-02-01\", \"2021-02-02\", \"2021-02-03\", \"2021-02-04\", \"2021-02-05\", \"2021-02-06\", \"2021-02-07\", \"2021-02-08\", \"2021-02-09\", \"2021-02-10\"], \"xaxis\": \"x\", \"y\": [0.0, 2800.0, 17290.0, 17720.0, 17935.0, 18064.0, 18150.0, 18211.0, 18580.0, 18580.0, 18580.0, 18580.0, 18673.0, 18766.0, 19444.0, 30267.0, 41831.0, 46274.0, 51193.0, 62325.0, 62895.0, 69882.0, 68734.0, 69567.0, 71319.0, 74912.0, 69328.0, 68657.0, 68591.0, 69175.0, 85254.0], \"yaxis\": \"y\"}, {\"hovertemplate\": \"region=Southern Asia<br>date=%{x}<br>daily_vaccinations=%{y}<extra></extra>\", \"legendgroup\": \"Southern Asia\", \"line\": {\"color\": \"#636efa\", \"dash\": \"solid\"}, \"mode\": \"lines\", \"name\": \"Southern Asia\", \"orientation\": \"v\", \"showlegend\": true, \"type\": \"scatter\", \"x\": [\"2021-01-15\", \"2021-01-16\", \"2021-01-17\", \"2021-01-18\", \"2021-01-19\", \"2021-01-20\", \"2021-01-21\", \"2021-01-22\", \"2021-01-23\", \"2021-01-24\", \"2021-01-25\", \"2021-01-26\", \"2021-01-27\", \"2021-01-28\", \"2021-01-29\", \"2021-01-30\", \"2021-01-31\", \"2021-02-01\", \"2021-02-02\", \"2021-02-03\", \"2021-02-04\", \"2021-02-05\", \"2021-02-06\", \"2021-02-07\", \"2021-02-08\", \"2021-02-09\", \"2021-02-10\"], \"xaxis\": \"x\", \"y\": [0.0, 191181.0, 112150.0, 151350.0, 168709.0, 161297.0, 173922.0, 198656.0, 198717.0, 198743.0, 224251.0, 193521.0, 240244.0, 288363.0, 326705.0, 348321.0, 346720.0, 320076.0, 345693.0, 343588.0, 332576.0, 299596.0, 312169.0, 312853.0, 342161.0, 363349.0, 372054.0], \"yaxis\": \"y\"}, {\"hovertemplate\": \"region=Northern Africa<br>date=%{x}<br>daily_vaccinations=%{y}<extra></extra>\", \"legendgroup\": \"Northern Africa\", \"line\": {\"color\": \"#EF553B\", \"dash\": \"solid\"}, \"mode\": \"lines\", \"name\": \"Northern Africa\", \"orientation\": \"v\", \"showlegend\": true, \"type\": \"scatter\", \"x\": [\"2021-01-24\", \"2021-01-25\", \"2021-01-26\", \"2021-01-27\", \"2021-01-28\", \"2021-01-29\", \"2021-01-30\", \"2021-01-31\", \"2021-02-01\", \"2021-02-02\", \"2021-02-03\", \"2021-02-04\", \"2021-02-05\", \"2021-02-06\", \"2021-02-07\", \"2021-02-08\", \"2021-02-09\", \"2021-02-10\"], \"xaxis\": \"x\", \"y\": [0.0, 219.0, 219.0, 219.0, 219.0, 45219.0, 45249.0, 42000.0, 50020.0, 51458.0, 51400.0, 50246.0, 51891.0, 53424.0, 54437.0, 50010.0, 51127.0, 62531.0], \"yaxis\": \"y\"}],                        {\"legend\": {\"title\": {\"text\": \"region\"}, \"tracegroupgap\": 0}, \"template\": {\"data\": {\"bar\": [{\"error_x\": {\"color\": \"#2a3f5f\"}, \"error_y\": {\"color\": \"#2a3f5f\"}, \"marker\": {\"line\": {\"color\": \"#E5ECF6\", \"width\": 0.5}}, \"type\": \"bar\"}], \"barpolar\": [{\"marker\": {\"line\": {\"color\": \"#E5ECF6\", \"width\": 0.5}}, \"type\": \"barpolar\"}], \"carpet\": [{\"aaxis\": {\"endlinecolor\": \"#2a3f5f\", \"gridcolor\": \"white\", \"linecolor\": \"white\", \"minorgridcolor\": \"white\", \"startlinecolor\": \"#2a3f5f\"}, \"baxis\": {\"endlinecolor\": \"#2a3f5f\", \"gridcolor\": \"white\", \"linecolor\": \"white\", \"minorgridcolor\": \"white\", \"startlinecolor\": \"#2a3f5f\"}, \"type\": \"carpet\"}], \"choropleth\": [{\"colorbar\": {\"outlinewidth\": 0, \"ticks\": \"\"}, \"type\": \"choropleth\"}], \"contour\": [{\"colorbar\": {\"outlinewidth\": 0, \"ticks\": \"\"}, \"colorscale\": [[0.0, \"#0d0887\"], [0.1111111111111111, \"#46039f\"], [0.2222222222222222, \"#7201a8\"], [0.3333333333333333, \"#9c179e\"], [0.4444444444444444, \"#bd3786\"], [0.5555555555555556, \"#d8576b\"], [0.6666666666666666, \"#ed7953\"], [0.7777777777777778, \"#fb9f3a\"], [0.8888888888888888, \"#fdca26\"], [1.0, \"#f0f921\"]], \"type\": \"contour\"}], \"contourcarpet\": [{\"colorbar\": {\"outlinewidth\": 0, \"ticks\": \"\"}, \"type\": \"contourcarpet\"}], \"heatmap\": [{\"colorbar\": {\"outlinewidth\": 0, \"ticks\": \"\"}, \"colorscale\": [[0.0, \"#0d0887\"], [0.1111111111111111, \"#46039f\"], [0.2222222222222222, \"#7201a8\"], [0.3333333333333333, \"#9c179e\"], [0.4444444444444444, \"#bd3786\"], [0.5555555555555556, \"#d8576b\"], [0.6666666666666666, \"#ed7953\"], [0.7777777777777778, \"#fb9f3a\"], [0.8888888888888888, \"#fdca26\"], [1.0, \"#f0f921\"]], \"type\": \"heatmap\"}], \"heatmapgl\": [{\"colorbar\": {\"outlinewidth\": 0, \"ticks\": \"\"}, \"colorscale\": [[0.0, \"#0d0887\"], [0.1111111111111111, \"#46039f\"], [0.2222222222222222, \"#7201a8\"], [0.3333333333333333, \"#9c179e\"], [0.4444444444444444, \"#bd3786\"], [0.5555555555555556, \"#d8576b\"], [0.6666666666666666, \"#ed7953\"], [0.7777777777777778, \"#fb9f3a\"], [0.8888888888888888, \"#fdca26\"], [1.0, \"#f0f921\"]], \"type\": \"heatmapgl\"}], \"histogram\": [{\"marker\": {\"colorbar\": {\"outlinewidth\": 0, \"ticks\": \"\"}}, \"type\": \"histogram\"}], \"histogram2d\": [{\"colorbar\": {\"outlinewidth\": 0, \"ticks\": \"\"}, \"colorscale\": [[0.0, \"#0d0887\"], [0.1111111111111111, \"#46039f\"], [0.2222222222222222, \"#7201a8\"], [0.3333333333333333, \"#9c179e\"], [0.4444444444444444, \"#bd3786\"], [0.5555555555555556, \"#d8576b\"], [0.6666666666666666, \"#ed7953\"], [0.7777777777777778, \"#fb9f3a\"], [0.8888888888888888, \"#fdca26\"], [1.0, \"#f0f921\"]], \"type\": \"histogram2d\"}], \"histogram2dcontour\": [{\"colorbar\": {\"outlinewidth\": 0, \"ticks\": \"\"}, \"colorscale\": [[0.0, \"#0d0887\"], [0.1111111111111111, \"#46039f\"], [0.2222222222222222, \"#7201a8\"], [0.3333333333333333, \"#9c179e\"], [0.4444444444444444, \"#bd3786\"], [0.5555555555555556, \"#d8576b\"], [0.6666666666666666, \"#ed7953\"], [0.7777777777777778, \"#fb9f3a\"], [0.8888888888888888, \"#fdca26\"], [1.0, \"#f0f921\"]], \"type\": \"histogram2dcontour\"}], \"mesh3d\": [{\"colorbar\": {\"outlinewidth\": 0, \"ticks\": \"\"}, \"type\": \"mesh3d\"}], \"parcoords\": [{\"line\": {\"colorbar\": {\"outlinewidth\": 0, \"ticks\": \"\"}}, \"type\": \"parcoords\"}], \"pie\": [{\"automargin\": true, \"type\": \"pie\"}], \"scatter\": [{\"marker\": {\"colorbar\": {\"outlinewidth\": 0, \"ticks\": \"\"}}, \"type\": \"scatter\"}], \"scatter3d\": [{\"line\": {\"colorbar\": {\"outlinewidth\": 0, \"ticks\": \"\"}}, \"marker\": {\"colorbar\": {\"outlinewidth\": 0, \"ticks\": \"\"}}, \"type\": \"scatter3d\"}], \"scattercarpet\": [{\"marker\": {\"colorbar\": {\"outlinewidth\": 0, \"ticks\": \"\"}}, \"type\": \"scattercarpet\"}], \"scattergeo\": [{\"marker\": {\"colorbar\": {\"outlinewidth\": 0, \"ticks\": \"\"}}, \"type\": \"scattergeo\"}], \"scattergl\": [{\"marker\": {\"colorbar\": {\"outlinewidth\": 0, \"ticks\": \"\"}}, \"type\": \"scattergl\"}], \"scattermapbox\": [{\"marker\": {\"colorbar\": {\"outlinewidth\": 0, \"ticks\": \"\"}}, \"type\": \"scattermapbox\"}], \"scatterpolar\": [{\"marker\": {\"colorbar\": {\"outlinewidth\": 0, \"ticks\": \"\"}}, \"type\": \"scatterpolar\"}], \"scatterpolargl\": [{\"marker\": {\"colorbar\": {\"outlinewidth\": 0, \"ticks\": \"\"}}, \"type\": \"scatterpolargl\"}], \"scatterternary\": [{\"marker\": {\"colorbar\": {\"outlinewidth\": 0, \"ticks\": \"\"}}, \"type\": \"scatterternary\"}], \"surface\": [{\"colorbar\": {\"outlinewidth\": 0, \"ticks\": \"\"}, \"colorscale\": [[0.0, \"#0d0887\"], [0.1111111111111111, \"#46039f\"], [0.2222222222222222, \"#7201a8\"], [0.3333333333333333, \"#9c179e\"], [0.4444444444444444, \"#bd3786\"], [0.5555555555555556, \"#d8576b\"], [0.6666666666666666, \"#ed7953\"], [0.7777777777777778, \"#fb9f3a\"], [0.8888888888888888, \"#fdca26\"], [1.0, \"#f0f921\"]], \"type\": \"surface\"}], \"table\": [{\"cells\": {\"fill\": {\"color\": \"#EBF0F8\"}, \"line\": {\"color\": \"white\"}}, \"header\": {\"fill\": {\"color\": \"#C8D4E3\"}, \"line\": {\"color\": \"white\"}}, \"type\": \"table\"}]}, \"layout\": {\"annotationdefaults\": {\"arrowcolor\": \"#2a3f5f\", \"arrowhead\": 0, \"arrowwidth\": 1}, \"autotypenumbers\": \"strict\", \"coloraxis\": {\"colorbar\": {\"outlinewidth\": 0, \"ticks\": \"\"}}, \"colorscale\": {\"diverging\": [[0, \"#8e0152\"], [0.1, \"#c51b7d\"], [0.2, \"#de77ae\"], [0.3, \"#f1b6da\"], [0.4, \"#fde0ef\"], [0.5, \"#f7f7f7\"], [0.6, \"#e6f5d0\"], [0.7, \"#b8e186\"], [0.8, \"#7fbc41\"], [0.9, \"#4d9221\"], [1, \"#276419\"]], \"sequential\": [[0.0, \"#0d0887\"], [0.1111111111111111, \"#46039f\"], [0.2222222222222222, \"#7201a8\"], [0.3333333333333333, \"#9c179e\"], [0.4444444444444444, \"#bd3786\"], [0.5555555555555556, \"#d8576b\"], [0.6666666666666666, \"#ed7953\"], [0.7777777777777778, \"#fb9f3a\"], [0.8888888888888888, \"#fdca26\"], [1.0, \"#f0f921\"]], \"sequentialminus\": [[0.0, \"#0d0887\"], [0.1111111111111111, \"#46039f\"], [0.2222222222222222, \"#7201a8\"], [0.3333333333333333, \"#9c179e\"], [0.4444444444444444, \"#bd3786\"], [0.5555555555555556, \"#d8576b\"], [0.6666666666666666, \"#ed7953\"], [0.7777777777777778, \"#fb9f3a\"], [0.8888888888888888, \"#fdca26\"], [1.0, \"#f0f921\"]]}, \"colorway\": [\"#636efa\", \"#EF553B\", \"#00cc96\", \"#ab63fa\", \"#FFA15A\", \"#19d3f3\", \"#FF6692\", \"#B6E880\", \"#FF97FF\", \"#FECB52\"], \"font\": {\"color\": \"#2a3f5f\"}, \"geo\": {\"bgcolor\": \"white\", \"lakecolor\": \"white\", \"landcolor\": \"#E5ECF6\", \"showlakes\": true, \"showland\": true, \"subunitcolor\": \"white\"}, \"hoverlabel\": {\"align\": \"left\"}, \"hovermode\": \"closest\", \"mapbox\": {\"style\": \"light\"}, \"paper_bgcolor\": \"white\", \"plot_bgcolor\": \"#E5ECF6\", \"polar\": {\"angularaxis\": {\"gridcolor\": \"white\", \"linecolor\": \"white\", \"ticks\": \"\"}, \"bgcolor\": \"#E5ECF6\", \"radialaxis\": {\"gridcolor\": \"white\", \"linecolor\": \"white\", \"ticks\": \"\"}}, \"scene\": {\"xaxis\": {\"backgroundcolor\": \"#E5ECF6\", \"gridcolor\": \"white\", \"gridwidth\": 2, \"linecolor\": \"white\", \"showbackground\": true, \"ticks\": \"\", \"zerolinecolor\": \"white\"}, \"yaxis\": {\"backgroundcolor\": \"#E5ECF6\", \"gridcolor\": \"white\", \"gridwidth\": 2, \"linecolor\": \"white\", \"showbackground\": true, \"ticks\": \"\", \"zerolinecolor\": \"white\"}, \"zaxis\": {\"backgroundcolor\": \"#E5ECF6\", \"gridcolor\": \"white\", \"gridwidth\": 2, \"linecolor\": \"white\", \"showbackground\": true, \"ticks\": \"\", \"zerolinecolor\": \"white\"}}, \"shapedefaults\": {\"line\": {\"color\": \"#2a3f5f\"}}, \"ternary\": {\"aaxis\": {\"gridcolor\": \"white\", \"linecolor\": \"white\", \"ticks\": \"\"}, \"baxis\": {\"gridcolor\": \"white\", \"linecolor\": \"white\", \"ticks\": \"\"}, \"bgcolor\": \"#E5ECF6\", \"caxis\": {\"gridcolor\": \"white\", \"linecolor\": \"white\", \"ticks\": \"\"}}, \"title\": {\"x\": 0.05}, \"xaxis\": {\"automargin\": true, \"gridcolor\": \"white\", \"linecolor\": \"white\", \"ticks\": \"\", \"title\": {\"standoff\": 15}, \"zerolinecolor\": \"white\", \"zerolinewidth\": 2}, \"yaxis\": {\"automargin\": true, \"gridcolor\": \"white\", \"linecolor\": \"white\", \"ticks\": \"\", \"title\": {\"standoff\": 15}, \"zerolinecolor\": \"white\", \"zerolinewidth\": 2}}}, \"title\": {\"text\": \"Daily COVID-19 Vaccinations - Summary per Region\"}, \"xaxis\": {\"anchor\": \"y\", \"domain\": [0.0, 1.0], \"title\": {\"text\": \"date\"}}, \"yaxis\": {\"anchor\": \"x\", \"domain\": [0.0, 1.0], \"title\": {\"text\": \"daily_vaccinations\"}}},                        {\"responsive\": true}                    ).then(function(){\n",
       "                            \n",
       "var gd = document.getElementById('b071263e-abd0-42b7-a7c1-14a23e58416a');\n",
       "var x = new MutationObserver(function (mutations, observer) {{\n",
       "        var display = window.getComputedStyle(gd).display;\n",
       "        if (!display || display === 'none') {{\n",
       "            console.log([gd, 'removed!']);\n",
       "            Plotly.purge(gd);\n",
       "            observer.disconnect();\n",
       "        }}\n",
       "}});\n",
       "\n",
       "// Listen for the removal of the full notebook cells\n",
       "var notebookContainer = gd.closest('#notebook-container');\n",
       "if (notebookContainer) {{\n",
       "    x.observe(notebookContainer, {childList: true});\n",
       "}}\n",
       "\n",
       "// Listen for the clearing of the current output cell\n",
       "var outputEl = gd.closest('.output');\n",
       "if (outputEl) {{\n",
       "    x.observe(outputEl, {childList: true});\n",
       "}}\n",
       "\n",
       "                        })                };                });            </script>        </div>"
      ]
     },
     "metadata": {},
     "output_type": "display_data"
    }
   ],
   "source": [
    "plot_daily_vaccination_data(data = regions_daily_df,  \n",
    "                            region_column = 'region',\n",
    "                            regions_list = all_regions,\n",
    "                            vaccination_metric = 'daily_vaccinations',\n",
    "                            plot_title = 'Daily COVID-19 Vaccinations - Summary per Region',\n",
    "                            min_date = '2020-12-13',\n",
    "                            max_date = '2021-02-13'\n",
    "                           )"
   ]
  },
  {
   "cell_type": "markdown",
   "metadata": {},
   "source": [
    "It can be noticed that over time, the number tends to go up, which means that overall, in the world there is an ascending trend when it comes to new doses administrated."
   ]
  },
  {
   "cell_type": "code",
   "execution_count": 83,
   "metadata": {},
   "outputs": [
    {
     "name": "stdout",
     "output_type": "stream",
     "text": [
      "Maximum vaccinations in a country in a day - summary per region: \n",
      "================================================================\n",
      "\tNorthern Europe -> 0.4451 million vaccinations in United Kingdom on 2021-02-05\n",
      "\tEastern Asia -> 1.9162 million vaccinations in China on 2021-02-07\n",
      "\tEastern Europe -> 0.0692 million vaccinations in Poland on 2021-02-06\n",
      "\tNorthern America -> 1.556 million vaccinations in United States on 2021-02-10\n",
      "\tWestern Asia -> 0.3083 million vaccinations in Turkey on 2021-01-15\n",
      "\tWestern Europe -> 0.1136 million vaccinations in Germany on 2021-02-06\n",
      "\tLatin America and the Caribbean -> 0.2317 million vaccinations in Brazil on 2021-02-04\n",
      "\tSouthern Europe -> 0.0887 million vaccinations in Italy on 2021-02-05\n",
      "\tSub-Saharan Africa -> 0.0022 million vaccinations in Seychelles on 2021-02-01\n",
      "\tSouth-eastern Asia -> 0.0759 million vaccinations in Indonesia on 2021-02-10\n",
      "\tSouthern Asia -> 0.3668 million vaccinations in India on 2021-02-10\n",
      "\tNorthern Africa -> 0.0625 million vaccinations in Morocco on 2021-02-10\n"
     ]
    }
   ],
   "source": [
    "print('Maximum vaccinations in a country in a day - summary per region: \\n================================================================')\n",
    "for region in all_regions:\n",
    "    df = data[data.region == region].sort_values(by=['daily_vaccinations'], ascending=False).iloc[0]\n",
    "    print(f'\\t{df.region} -> {round(int(df.daily_vaccinations)/1000000,4)} million vaccinations in {df.country} on {df.date}')"
   ]
  },
  {
   "cell_type": "markdown",
   "metadata": {},
   "source": [
    "So far, the most vaccinations in just one day in a country were administrated in China, followed by the United States and then the United Kingdom. In South America, the most people vaccinated in a day were in Brazil, while in Africa the maximum daily vaccinations was reached in Morocco."
   ]
  },
  {
   "cell_type": "markdown",
   "metadata": {},
   "source": [
    "<img src=\"https://cdn.pixabay.com/photo/2016/03/31/19/17/cartoon-1294877_960_720.png\" width=\"25px\" style=”float:left;margin:0;”> **Tip**:\n",
    "\n",
    "\n",
    "You can interact with the plot. You can visualize the progress by region in a specific continent by selecting the regions from the legend. Alternatively, only the regions of interest can be plotted."
   ]
  },
  {
   "cell_type": "code",
   "execution_count": 84,
   "metadata": {},
   "outputs": [],
   "source": [
    "Europe = ['Northern Europe', 'Eastern Europe', 'Western Europe', 'Southern Europe']\n",
    "Asia = ['Eastern Asia', 'Western Asia', 'South-eastern Asia', 'Southern Asia']\n",
    "Africa = ['Sub-Saharan Africa', 'Northern Africa']\n",
    "Americas = ['Northern America', 'Latin America and the Caribbean']"
   ]
  },
  {
   "cell_type": "code",
   "execution_count": 85,
   "metadata": {},
   "outputs": [
    {
     "data": {
      "application/vnd.plotly.v1+json": {
       "config": {
        "plotlyServerURL": "https://plotly.com"
       },
       "data": [
        {
         "hovertemplate": "region=Northern Europe<br>date=%{x}<br>daily_vaccinations=%{y}<extra></extra>",
         "legendgroup": "Northern Europe",
         "line": {
          "color": "#636efa",
          "dash": "solid"
         },
         "mode": "lines",
         "name": "Northern Europe",
         "orientation": "v",
         "showlegend": true,
         "type": "scatter",
         "x": [
          "2020-12-13",
          "2020-12-14",
          "2020-12-15",
          "2020-12-16",
          "2020-12-17",
          "2020-12-18",
          "2020-12-19",
          "2020-12-20",
          "2020-12-21",
          "2020-12-22",
          "2020-12-23",
          "2020-12-24",
          "2020-12-25",
          "2020-12-26",
          "2020-12-27",
          "2020-12-28",
          "2020-12-29",
          "2020-12-30",
          "2020-12-31",
          "2021-01-01",
          "2021-01-02",
          "2021-01-03",
          "2021-01-04",
          "2021-01-05",
          "2021-01-06",
          "2021-01-07",
          "2021-01-08",
          "2021-01-09",
          "2021-01-10",
          "2021-01-11",
          "2021-01-12",
          "2021-01-13",
          "2021-01-14",
          "2021-01-15",
          "2021-01-16",
          "2021-01-17",
          "2021-01-18",
          "2021-01-19",
          "2021-01-20",
          "2021-01-21",
          "2021-01-22",
          "2021-01-23",
          "2021-01-24",
          "2021-01-25",
          "2021-01-26",
          "2021-01-27",
          "2021-01-28",
          "2021-01-29",
          "2021-01-30",
          "2021-01-31",
          "2021-02-01",
          "2021-02-02",
          "2021-02-03",
          "2021-02-04",
          "2021-02-05",
          "2021-02-06",
          "2021-02-07",
          "2021-02-08",
          "2021-02-09",
          "2021-02-10"
         ],
         "xaxis": "x",
         "y": [
          0,
          167749,
          167749,
          167749,
          167749,
          167749,
          167749,
          167749,
          157204,
          146658,
          136114,
          125568,
          115024,
          104478,
          93934,
          103732,
          110581,
          114737,
          116665,
          118979,
          121734,
          124071,
          160159,
          198260,
          238244,
          278401,
          318344,
          355427,
          392481,
          390275,
          402741,
          434983,
          477673,
          525277,
          557303,
          564977,
          579071,
          615655,
          636805,
          661738,
          701214,
          760654,
          766842,
          786648,
          775772,
          762439,
          765487,
          771713,
          806610,
          835617,
          854465,
          872004,
          918173,
          943693,
          948147,
          930210,
          916348,
          912748,
          925647,
          30353
         ],
         "yaxis": "y"
        },
        {
         "hovertemplate": "region=Eastern Europe<br>date=%{x}<br>daily_vaccinations=%{y}<extra></extra>",
         "legendgroup": "Eastern Europe",
         "line": {
          "color": "#EF553B",
          "dash": "solid"
         },
         "mode": "lines",
         "name": "Eastern Europe",
         "orientation": "v",
         "showlegend": true,
         "type": "scatter",
         "x": [
          "2020-12-15",
          "2020-12-16",
          "2020-12-17",
          "2020-12-18",
          "2020-12-19",
          "2020-12-20",
          "2020-12-21",
          "2020-12-22",
          "2020-12-23",
          "2020-12-24",
          "2020-12-25",
          "2020-12-26",
          "2020-12-27",
          "2020-12-28",
          "2020-12-29",
          "2020-12-30",
          "2020-12-31",
          "2021-01-01",
          "2021-01-02",
          "2021-01-03",
          "2021-01-04",
          "2021-01-05",
          "2021-01-06",
          "2021-01-07",
          "2021-01-08",
          "2021-01-09",
          "2021-01-10",
          "2021-01-11",
          "2021-01-12",
          "2021-01-13",
          "2021-01-14",
          "2021-01-15",
          "2021-01-16",
          "2021-01-17",
          "2021-01-18",
          "2021-01-19",
          "2021-01-20",
          "2021-01-21",
          "2021-01-22",
          "2021-01-23",
          "2021-01-24",
          "2021-01-25",
          "2021-01-26",
          "2021-01-27",
          "2021-01-28",
          "2021-01-29",
          "2021-01-30",
          "2021-01-31",
          "2021-02-01",
          "2021-02-02",
          "2021-02-03",
          "2021-02-04",
          "2021-02-05",
          "2021-02-06",
          "2021-02-07",
          "2021-02-08",
          "2021-02-09",
          "2021-02-10"
         ],
         "xaxis": "x",
         "y": [
          0,
          3357,
          3357,
          3357,
          3357,
          3357,
          3357,
          3357,
          12592,
          21827,
          31061,
          40296,
          49531,
          61047,
          77249,
          94256,
          91386,
          86887,
          84440,
          75287,
          74616,
          77117,
          75067,
          76340,
          75905,
          70318,
          72422,
          76586,
          80259,
          86263,
          69755,
          72167,
          75124,
          75696,
          74945,
          75987,
          78221,
          83474,
          88283,
          90040,
          91739,
          98579,
          112282,
          121794,
          129833,
          135526,
          138172,
          141314,
          139260,
          135575,
          135446,
          136307,
          134848,
          132519,
          129362,
          129988,
          123876,
          42785
         ],
         "yaxis": "y"
        },
        {
         "hovertemplate": "region=Western Europe<br>date=%{x}<br>daily_vaccinations=%{y}<extra></extra>",
         "legendgroup": "Western Europe",
         "line": {
          "color": "#00cc96",
          "dash": "solid"
         },
         "mode": "lines",
         "name": "Western Europe",
         "orientation": "v",
         "showlegend": true,
         "type": "scatter",
         "x": [
          "2020-12-23",
          "2020-12-24",
          "2020-12-25",
          "2020-12-26",
          "2020-12-27",
          "2020-12-28",
          "2020-12-29",
          "2020-12-30",
          "2020-12-31",
          "2021-01-01",
          "2021-01-02",
          "2021-01-03",
          "2021-01-04",
          "2021-01-05",
          "2021-01-06",
          "2021-01-07",
          "2021-01-08",
          "2021-01-09",
          "2021-01-10",
          "2021-01-11",
          "2021-01-12",
          "2021-01-13",
          "2021-01-14",
          "2021-01-15",
          "2021-01-16",
          "2021-01-17",
          "2021-01-18",
          "2021-01-19",
          "2021-01-20",
          "2021-01-21",
          "2021-01-22",
          "2021-01-23",
          "2021-01-24",
          "2021-01-25",
          "2021-01-26",
          "2021-01-27",
          "2021-01-28",
          "2021-01-29",
          "2021-01-30",
          "2021-01-31",
          "2021-02-01",
          "2021-02-02",
          "2021-02-03",
          "2021-02-04",
          "2021-02-05",
          "2021-02-06",
          "2021-02-07",
          "2021-02-08",
          "2021-02-09",
          "2021-02-10"
         ],
         "xaxis": "x",
         "y": [
          0,
          3000,
          3000,
          3000,
          3000,
          22873,
          34686,
          43666,
          43205,
          40088,
          42488,
          40488,
          44815,
          46978,
          48991,
          65814,
          78363,
          78526,
          79473,
          86168,
          100033,
          122813,
          139455,
          148893,
          151362,
          155378,
          166422,
          182517,
          200874,
          215621,
          228254,
          235005,
          236899,
          239692,
          233157,
          221722,
          214306,
          210085,
          210523,
          211676,
          224945,
          236671,
          246860,
          258191,
          266500,
          270031,
          272393,
          247464,
          245698,
          29384
         ],
         "yaxis": "y"
        },
        {
         "hovertemplate": "region=Southern Europe<br>date=%{x}<br>daily_vaccinations=%{y}<extra></extra>",
         "legendgroup": "Southern Europe",
         "line": {
          "color": "#ab63fa",
          "dash": "solid"
         },
         "mode": "lines",
         "name": "Southern Europe",
         "orientation": "v",
         "showlegend": true,
         "type": "scatter",
         "x": [
          "2020-12-27",
          "2020-12-28",
          "2020-12-29",
          "2020-12-30",
          "2020-12-31",
          "2021-01-01",
          "2021-01-02",
          "2021-01-03",
          "2021-01-04",
          "2021-01-05",
          "2021-01-06",
          "2021-01-07",
          "2021-01-08",
          "2021-01-09",
          "2021-01-10",
          "2021-01-11",
          "2021-01-12",
          "2021-01-13",
          "2021-01-14",
          "2021-01-15",
          "2021-01-16",
          "2021-01-17",
          "2021-01-18",
          "2021-01-19",
          "2021-01-20",
          "2021-01-21",
          "2021-01-22",
          "2021-01-23",
          "2021-01-24",
          "2021-01-25",
          "2021-01-26",
          "2021-01-27",
          "2021-01-28",
          "2021-01-29",
          "2021-01-30",
          "2021-01-31",
          "2021-02-01",
          "2021-02-02",
          "2021-02-03",
          "2021-02-04",
          "2021-02-05",
          "2021-02-06",
          "2021-02-07",
          "2021-02-08",
          "2021-02-09",
          "2021-02-10"
         ],
         "xaxis": "x",
         "y": [
          0,
          2518,
          15036,
          15124,
          18900,
          17592,
          21512,
          23927,
          34084,
          101552,
          99464,
          108624,
          131894,
          140494,
          144271,
          146909,
          151316,
          164456,
          172291,
          173097,
          171754,
          170239,
          166364,
          159626,
          148655,
          145960,
          140092,
          143093,
          149119,
          159398,
          174746,
          183388,
          192478,
          200193,
          202541,
          201971,
          201934,
          200314,
          208784,
          213767,
          209669,
          205484,
          200614,
          199291,
          192852,
          116971
         ],
         "yaxis": "y"
        }
       ],
       "layout": {
        "legend": {
         "title": {
          "text": "region"
         },
         "tracegroupgap": 0
        },
        "template": {
         "data": {
          "bar": [
           {
            "error_x": {
             "color": "#2a3f5f"
            },
            "error_y": {
             "color": "#2a3f5f"
            },
            "marker": {
             "line": {
              "color": "#E5ECF6",
              "width": 0.5
             }
            },
            "type": "bar"
           }
          ],
          "barpolar": [
           {
            "marker": {
             "line": {
              "color": "#E5ECF6",
              "width": 0.5
             }
            },
            "type": "barpolar"
           }
          ],
          "carpet": [
           {
            "aaxis": {
             "endlinecolor": "#2a3f5f",
             "gridcolor": "white",
             "linecolor": "white",
             "minorgridcolor": "white",
             "startlinecolor": "#2a3f5f"
            },
            "baxis": {
             "endlinecolor": "#2a3f5f",
             "gridcolor": "white",
             "linecolor": "white",
             "minorgridcolor": "white",
             "startlinecolor": "#2a3f5f"
            },
            "type": "carpet"
           }
          ],
          "choropleth": [
           {
            "colorbar": {
             "outlinewidth": 0,
             "ticks": ""
            },
            "type": "choropleth"
           }
          ],
          "contour": [
           {
            "colorbar": {
             "outlinewidth": 0,
             "ticks": ""
            },
            "colorscale": [
             [
              0,
              "#0d0887"
             ],
             [
              0.1111111111111111,
              "#46039f"
             ],
             [
              0.2222222222222222,
              "#7201a8"
             ],
             [
              0.3333333333333333,
              "#9c179e"
             ],
             [
              0.4444444444444444,
              "#bd3786"
             ],
             [
              0.5555555555555556,
              "#d8576b"
             ],
             [
              0.6666666666666666,
              "#ed7953"
             ],
             [
              0.7777777777777778,
              "#fb9f3a"
             ],
             [
              0.8888888888888888,
              "#fdca26"
             ],
             [
              1,
              "#f0f921"
             ]
            ],
            "type": "contour"
           }
          ],
          "contourcarpet": [
           {
            "colorbar": {
             "outlinewidth": 0,
             "ticks": ""
            },
            "type": "contourcarpet"
           }
          ],
          "heatmap": [
           {
            "colorbar": {
             "outlinewidth": 0,
             "ticks": ""
            },
            "colorscale": [
             [
              0,
              "#0d0887"
             ],
             [
              0.1111111111111111,
              "#46039f"
             ],
             [
              0.2222222222222222,
              "#7201a8"
             ],
             [
              0.3333333333333333,
              "#9c179e"
             ],
             [
              0.4444444444444444,
              "#bd3786"
             ],
             [
              0.5555555555555556,
              "#d8576b"
             ],
             [
              0.6666666666666666,
              "#ed7953"
             ],
             [
              0.7777777777777778,
              "#fb9f3a"
             ],
             [
              0.8888888888888888,
              "#fdca26"
             ],
             [
              1,
              "#f0f921"
             ]
            ],
            "type": "heatmap"
           }
          ],
          "heatmapgl": [
           {
            "colorbar": {
             "outlinewidth": 0,
             "ticks": ""
            },
            "colorscale": [
             [
              0,
              "#0d0887"
             ],
             [
              0.1111111111111111,
              "#46039f"
             ],
             [
              0.2222222222222222,
              "#7201a8"
             ],
             [
              0.3333333333333333,
              "#9c179e"
             ],
             [
              0.4444444444444444,
              "#bd3786"
             ],
             [
              0.5555555555555556,
              "#d8576b"
             ],
             [
              0.6666666666666666,
              "#ed7953"
             ],
             [
              0.7777777777777778,
              "#fb9f3a"
             ],
             [
              0.8888888888888888,
              "#fdca26"
             ],
             [
              1,
              "#f0f921"
             ]
            ],
            "type": "heatmapgl"
           }
          ],
          "histogram": [
           {
            "marker": {
             "colorbar": {
              "outlinewidth": 0,
              "ticks": ""
             }
            },
            "type": "histogram"
           }
          ],
          "histogram2d": [
           {
            "colorbar": {
             "outlinewidth": 0,
             "ticks": ""
            },
            "colorscale": [
             [
              0,
              "#0d0887"
             ],
             [
              0.1111111111111111,
              "#46039f"
             ],
             [
              0.2222222222222222,
              "#7201a8"
             ],
             [
              0.3333333333333333,
              "#9c179e"
             ],
             [
              0.4444444444444444,
              "#bd3786"
             ],
             [
              0.5555555555555556,
              "#d8576b"
             ],
             [
              0.6666666666666666,
              "#ed7953"
             ],
             [
              0.7777777777777778,
              "#fb9f3a"
             ],
             [
              0.8888888888888888,
              "#fdca26"
             ],
             [
              1,
              "#f0f921"
             ]
            ],
            "type": "histogram2d"
           }
          ],
          "histogram2dcontour": [
           {
            "colorbar": {
             "outlinewidth": 0,
             "ticks": ""
            },
            "colorscale": [
             [
              0,
              "#0d0887"
             ],
             [
              0.1111111111111111,
              "#46039f"
             ],
             [
              0.2222222222222222,
              "#7201a8"
             ],
             [
              0.3333333333333333,
              "#9c179e"
             ],
             [
              0.4444444444444444,
              "#bd3786"
             ],
             [
              0.5555555555555556,
              "#d8576b"
             ],
             [
              0.6666666666666666,
              "#ed7953"
             ],
             [
              0.7777777777777778,
              "#fb9f3a"
             ],
             [
              0.8888888888888888,
              "#fdca26"
             ],
             [
              1,
              "#f0f921"
             ]
            ],
            "type": "histogram2dcontour"
           }
          ],
          "mesh3d": [
           {
            "colorbar": {
             "outlinewidth": 0,
             "ticks": ""
            },
            "type": "mesh3d"
           }
          ],
          "parcoords": [
           {
            "line": {
             "colorbar": {
              "outlinewidth": 0,
              "ticks": ""
             }
            },
            "type": "parcoords"
           }
          ],
          "pie": [
           {
            "automargin": true,
            "type": "pie"
           }
          ],
          "scatter": [
           {
            "marker": {
             "colorbar": {
              "outlinewidth": 0,
              "ticks": ""
             }
            },
            "type": "scatter"
           }
          ],
          "scatter3d": [
           {
            "line": {
             "colorbar": {
              "outlinewidth": 0,
              "ticks": ""
             }
            },
            "marker": {
             "colorbar": {
              "outlinewidth": 0,
              "ticks": ""
             }
            },
            "type": "scatter3d"
           }
          ],
          "scattercarpet": [
           {
            "marker": {
             "colorbar": {
              "outlinewidth": 0,
              "ticks": ""
             }
            },
            "type": "scattercarpet"
           }
          ],
          "scattergeo": [
           {
            "marker": {
             "colorbar": {
              "outlinewidth": 0,
              "ticks": ""
             }
            },
            "type": "scattergeo"
           }
          ],
          "scattergl": [
           {
            "marker": {
             "colorbar": {
              "outlinewidth": 0,
              "ticks": ""
             }
            },
            "type": "scattergl"
           }
          ],
          "scattermapbox": [
           {
            "marker": {
             "colorbar": {
              "outlinewidth": 0,
              "ticks": ""
             }
            },
            "type": "scattermapbox"
           }
          ],
          "scatterpolar": [
           {
            "marker": {
             "colorbar": {
              "outlinewidth": 0,
              "ticks": ""
             }
            },
            "type": "scatterpolar"
           }
          ],
          "scatterpolargl": [
           {
            "marker": {
             "colorbar": {
              "outlinewidth": 0,
              "ticks": ""
             }
            },
            "type": "scatterpolargl"
           }
          ],
          "scatterternary": [
           {
            "marker": {
             "colorbar": {
              "outlinewidth": 0,
              "ticks": ""
             }
            },
            "type": "scatterternary"
           }
          ],
          "surface": [
           {
            "colorbar": {
             "outlinewidth": 0,
             "ticks": ""
            },
            "colorscale": [
             [
              0,
              "#0d0887"
             ],
             [
              0.1111111111111111,
              "#46039f"
             ],
             [
              0.2222222222222222,
              "#7201a8"
             ],
             [
              0.3333333333333333,
              "#9c179e"
             ],
             [
              0.4444444444444444,
              "#bd3786"
             ],
             [
              0.5555555555555556,
              "#d8576b"
             ],
             [
              0.6666666666666666,
              "#ed7953"
             ],
             [
              0.7777777777777778,
              "#fb9f3a"
             ],
             [
              0.8888888888888888,
              "#fdca26"
             ],
             [
              1,
              "#f0f921"
             ]
            ],
            "type": "surface"
           }
          ],
          "table": [
           {
            "cells": {
             "fill": {
              "color": "#EBF0F8"
             },
             "line": {
              "color": "white"
             }
            },
            "header": {
             "fill": {
              "color": "#C8D4E3"
             },
             "line": {
              "color": "white"
             }
            },
            "type": "table"
           }
          ]
         },
         "layout": {
          "annotationdefaults": {
           "arrowcolor": "#2a3f5f",
           "arrowhead": 0,
           "arrowwidth": 1
          },
          "autotypenumbers": "strict",
          "coloraxis": {
           "colorbar": {
            "outlinewidth": 0,
            "ticks": ""
           }
          },
          "colorscale": {
           "diverging": [
            [
             0,
             "#8e0152"
            ],
            [
             0.1,
             "#c51b7d"
            ],
            [
             0.2,
             "#de77ae"
            ],
            [
             0.3,
             "#f1b6da"
            ],
            [
             0.4,
             "#fde0ef"
            ],
            [
             0.5,
             "#f7f7f7"
            ],
            [
             0.6,
             "#e6f5d0"
            ],
            [
             0.7,
             "#b8e186"
            ],
            [
             0.8,
             "#7fbc41"
            ],
            [
             0.9,
             "#4d9221"
            ],
            [
             1,
             "#276419"
            ]
           ],
           "sequential": [
            [
             0,
             "#0d0887"
            ],
            [
             0.1111111111111111,
             "#46039f"
            ],
            [
             0.2222222222222222,
             "#7201a8"
            ],
            [
             0.3333333333333333,
             "#9c179e"
            ],
            [
             0.4444444444444444,
             "#bd3786"
            ],
            [
             0.5555555555555556,
             "#d8576b"
            ],
            [
             0.6666666666666666,
             "#ed7953"
            ],
            [
             0.7777777777777778,
             "#fb9f3a"
            ],
            [
             0.8888888888888888,
             "#fdca26"
            ],
            [
             1,
             "#f0f921"
            ]
           ],
           "sequentialminus": [
            [
             0,
             "#0d0887"
            ],
            [
             0.1111111111111111,
             "#46039f"
            ],
            [
             0.2222222222222222,
             "#7201a8"
            ],
            [
             0.3333333333333333,
             "#9c179e"
            ],
            [
             0.4444444444444444,
             "#bd3786"
            ],
            [
             0.5555555555555556,
             "#d8576b"
            ],
            [
             0.6666666666666666,
             "#ed7953"
            ],
            [
             0.7777777777777778,
             "#fb9f3a"
            ],
            [
             0.8888888888888888,
             "#fdca26"
            ],
            [
             1,
             "#f0f921"
            ]
           ]
          },
          "colorway": [
           "#636efa",
           "#EF553B",
           "#00cc96",
           "#ab63fa",
           "#FFA15A",
           "#19d3f3",
           "#FF6692",
           "#B6E880",
           "#FF97FF",
           "#FECB52"
          ],
          "font": {
           "color": "#2a3f5f"
          },
          "geo": {
           "bgcolor": "white",
           "lakecolor": "white",
           "landcolor": "#E5ECF6",
           "showlakes": true,
           "showland": true,
           "subunitcolor": "white"
          },
          "hoverlabel": {
           "align": "left"
          },
          "hovermode": "closest",
          "mapbox": {
           "style": "light"
          },
          "paper_bgcolor": "white",
          "plot_bgcolor": "#E5ECF6",
          "polar": {
           "angularaxis": {
            "gridcolor": "white",
            "linecolor": "white",
            "ticks": ""
           },
           "bgcolor": "#E5ECF6",
           "radialaxis": {
            "gridcolor": "white",
            "linecolor": "white",
            "ticks": ""
           }
          },
          "scene": {
           "xaxis": {
            "backgroundcolor": "#E5ECF6",
            "gridcolor": "white",
            "gridwidth": 2,
            "linecolor": "white",
            "showbackground": true,
            "ticks": "",
            "zerolinecolor": "white"
           },
           "yaxis": {
            "backgroundcolor": "#E5ECF6",
            "gridcolor": "white",
            "gridwidth": 2,
            "linecolor": "white",
            "showbackground": true,
            "ticks": "",
            "zerolinecolor": "white"
           },
           "zaxis": {
            "backgroundcolor": "#E5ECF6",
            "gridcolor": "white",
            "gridwidth": 2,
            "linecolor": "white",
            "showbackground": true,
            "ticks": "",
            "zerolinecolor": "white"
           }
          },
          "shapedefaults": {
           "line": {
            "color": "#2a3f5f"
           }
          },
          "ternary": {
           "aaxis": {
            "gridcolor": "white",
            "linecolor": "white",
            "ticks": ""
           },
           "baxis": {
            "gridcolor": "white",
            "linecolor": "white",
            "ticks": ""
           },
           "bgcolor": "#E5ECF6",
           "caxis": {
            "gridcolor": "white",
            "linecolor": "white",
            "ticks": ""
           }
          },
          "title": {
           "x": 0.05
          },
          "xaxis": {
           "automargin": true,
           "gridcolor": "white",
           "linecolor": "white",
           "ticks": "",
           "title": {
            "standoff": 15
           },
           "zerolinecolor": "white",
           "zerolinewidth": 2
          },
          "yaxis": {
           "automargin": true,
           "gridcolor": "white",
           "linecolor": "white",
           "ticks": "",
           "title": {
            "standoff": 15
           },
           "zerolinecolor": "white",
           "zerolinewidth": 2
          }
         }
        },
        "title": {
         "text": "Daily COVID-19 Vaccinations - Summary per Region in Europe"
        },
        "xaxis": {
         "anchor": "y",
         "domain": [
          0,
          1
         ],
         "title": {
          "text": "date"
         }
        },
        "yaxis": {
         "anchor": "x",
         "domain": [
          0,
          1
         ],
         "title": {
          "text": "daily_vaccinations"
         }
        }
       }
      },
      "text/html": [
       "<div>                            <div id=\"d0a0d21e-469e-4a48-8cf9-78086ee23ce2\" class=\"plotly-graph-div\" style=\"height:525px; width:100%;\"></div>            <script type=\"text/javascript\">                require([\"plotly\"], function(Plotly) {                    window.PLOTLYENV=window.PLOTLYENV || {};                                    if (document.getElementById(\"d0a0d21e-469e-4a48-8cf9-78086ee23ce2\")) {                    Plotly.newPlot(                        \"d0a0d21e-469e-4a48-8cf9-78086ee23ce2\",                        [{\"hovertemplate\": \"region=Northern Europe<br>date=%{x}<br>daily_vaccinations=%{y}<extra></extra>\", \"legendgroup\": \"Northern Europe\", \"line\": {\"color\": \"#636efa\", \"dash\": \"solid\"}, \"mode\": \"lines\", \"name\": \"Northern Europe\", \"orientation\": \"v\", \"showlegend\": true, \"type\": \"scatter\", \"x\": [\"2020-12-13\", \"2020-12-14\", \"2020-12-15\", \"2020-12-16\", \"2020-12-17\", \"2020-12-18\", \"2020-12-19\", \"2020-12-20\", \"2020-12-21\", \"2020-12-22\", \"2020-12-23\", \"2020-12-24\", \"2020-12-25\", \"2020-12-26\", \"2020-12-27\", \"2020-12-28\", \"2020-12-29\", \"2020-12-30\", \"2020-12-31\", \"2021-01-01\", \"2021-01-02\", \"2021-01-03\", \"2021-01-04\", \"2021-01-05\", \"2021-01-06\", \"2021-01-07\", \"2021-01-08\", \"2021-01-09\", \"2021-01-10\", \"2021-01-11\", \"2021-01-12\", \"2021-01-13\", \"2021-01-14\", \"2021-01-15\", \"2021-01-16\", \"2021-01-17\", \"2021-01-18\", \"2021-01-19\", \"2021-01-20\", \"2021-01-21\", \"2021-01-22\", \"2021-01-23\", \"2021-01-24\", \"2021-01-25\", \"2021-01-26\", \"2021-01-27\", \"2021-01-28\", \"2021-01-29\", \"2021-01-30\", \"2021-01-31\", \"2021-02-01\", \"2021-02-02\", \"2021-02-03\", \"2021-02-04\", \"2021-02-05\", \"2021-02-06\", \"2021-02-07\", \"2021-02-08\", \"2021-02-09\", \"2021-02-10\"], \"xaxis\": \"x\", \"y\": [0.0, 167749.0, 167749.0, 167749.0, 167749.0, 167749.0, 167749.0, 167749.0, 157204.0, 146658.0, 136114.0, 125568.0, 115024.0, 104478.0, 93934.0, 103732.0, 110581.0, 114737.0, 116665.0, 118979.0, 121734.0, 124071.0, 160159.0, 198260.0, 238244.0, 278401.0, 318344.0, 355427.0, 392481.0, 390275.0, 402741.0, 434983.0, 477673.0, 525277.0, 557303.0, 564977.0, 579071.0, 615655.0, 636805.0, 661738.0, 701214.0, 760654.0, 766842.0, 786648.0, 775772.0, 762439.0, 765487.0, 771713.0, 806610.0, 835617.0, 854465.0, 872004.0, 918173.0, 943693.0, 948147.0, 930210.0, 916348.0, 912748.0, 925647.0, 30353.0], \"yaxis\": \"y\"}, {\"hovertemplate\": \"region=Eastern Europe<br>date=%{x}<br>daily_vaccinations=%{y}<extra></extra>\", \"legendgroup\": \"Eastern Europe\", \"line\": {\"color\": \"#EF553B\", \"dash\": \"solid\"}, \"mode\": \"lines\", \"name\": \"Eastern Europe\", \"orientation\": \"v\", \"showlegend\": true, \"type\": \"scatter\", \"x\": [\"2020-12-15\", \"2020-12-16\", \"2020-12-17\", \"2020-12-18\", \"2020-12-19\", \"2020-12-20\", \"2020-12-21\", \"2020-12-22\", \"2020-12-23\", \"2020-12-24\", \"2020-12-25\", \"2020-12-26\", \"2020-12-27\", \"2020-12-28\", \"2020-12-29\", \"2020-12-30\", \"2020-12-31\", \"2021-01-01\", \"2021-01-02\", \"2021-01-03\", \"2021-01-04\", \"2021-01-05\", \"2021-01-06\", \"2021-01-07\", \"2021-01-08\", \"2021-01-09\", \"2021-01-10\", \"2021-01-11\", \"2021-01-12\", \"2021-01-13\", \"2021-01-14\", \"2021-01-15\", \"2021-01-16\", \"2021-01-17\", \"2021-01-18\", \"2021-01-19\", \"2021-01-20\", \"2021-01-21\", \"2021-01-22\", \"2021-01-23\", \"2021-01-24\", \"2021-01-25\", \"2021-01-26\", \"2021-01-27\", \"2021-01-28\", \"2021-01-29\", \"2021-01-30\", \"2021-01-31\", \"2021-02-01\", \"2021-02-02\", \"2021-02-03\", \"2021-02-04\", \"2021-02-05\", \"2021-02-06\", \"2021-02-07\", \"2021-02-08\", \"2021-02-09\", \"2021-02-10\"], \"xaxis\": \"x\", \"y\": [0.0, 3357.0, 3357.0, 3357.0, 3357.0, 3357.0, 3357.0, 3357.0, 12592.0, 21827.0, 31061.0, 40296.0, 49531.0, 61047.0, 77249.0, 94256.0, 91386.0, 86887.0, 84440.0, 75287.0, 74616.0, 77117.0, 75067.0, 76340.0, 75905.0, 70318.0, 72422.0, 76586.0, 80259.0, 86263.0, 69755.0, 72167.0, 75124.0, 75696.0, 74945.0, 75987.0, 78221.0, 83474.0, 88283.0, 90040.0, 91739.0, 98579.0, 112282.0, 121794.0, 129833.0, 135526.0, 138172.0, 141314.0, 139260.0, 135575.0, 135446.0, 136307.0, 134848.0, 132519.0, 129362.0, 129988.0, 123876.0, 42785.0], \"yaxis\": \"y\"}, {\"hovertemplate\": \"region=Western Europe<br>date=%{x}<br>daily_vaccinations=%{y}<extra></extra>\", \"legendgroup\": \"Western Europe\", \"line\": {\"color\": \"#00cc96\", \"dash\": \"solid\"}, \"mode\": \"lines\", \"name\": \"Western Europe\", \"orientation\": \"v\", \"showlegend\": true, \"type\": \"scatter\", \"x\": [\"2020-12-23\", \"2020-12-24\", \"2020-12-25\", \"2020-12-26\", \"2020-12-27\", \"2020-12-28\", \"2020-12-29\", \"2020-12-30\", \"2020-12-31\", \"2021-01-01\", \"2021-01-02\", \"2021-01-03\", \"2021-01-04\", \"2021-01-05\", \"2021-01-06\", \"2021-01-07\", \"2021-01-08\", \"2021-01-09\", \"2021-01-10\", \"2021-01-11\", \"2021-01-12\", \"2021-01-13\", \"2021-01-14\", \"2021-01-15\", \"2021-01-16\", \"2021-01-17\", \"2021-01-18\", \"2021-01-19\", \"2021-01-20\", \"2021-01-21\", \"2021-01-22\", \"2021-01-23\", \"2021-01-24\", \"2021-01-25\", \"2021-01-26\", \"2021-01-27\", \"2021-01-28\", \"2021-01-29\", \"2021-01-30\", \"2021-01-31\", \"2021-02-01\", \"2021-02-02\", \"2021-02-03\", \"2021-02-04\", \"2021-02-05\", \"2021-02-06\", \"2021-02-07\", \"2021-02-08\", \"2021-02-09\", \"2021-02-10\"], \"xaxis\": \"x\", \"y\": [0.0, 3000.0, 3000.0, 3000.0, 3000.0, 22873.0, 34686.0, 43666.0, 43205.0, 40088.0, 42488.0, 40488.0, 44815.0, 46978.0, 48991.0, 65814.0, 78363.0, 78526.0, 79473.0, 86168.0, 100033.0, 122813.0, 139455.0, 148893.0, 151362.0, 155378.0, 166422.0, 182517.0, 200874.0, 215621.0, 228254.0, 235005.0, 236899.0, 239692.0, 233157.0, 221722.0, 214306.0, 210085.0, 210523.0, 211676.0, 224945.0, 236671.0, 246860.0, 258191.0, 266500.0, 270031.0, 272393.0, 247464.0, 245698.0, 29384.0], \"yaxis\": \"y\"}, {\"hovertemplate\": \"region=Southern Europe<br>date=%{x}<br>daily_vaccinations=%{y}<extra></extra>\", \"legendgroup\": \"Southern Europe\", \"line\": {\"color\": \"#ab63fa\", \"dash\": \"solid\"}, \"mode\": \"lines\", \"name\": \"Southern Europe\", \"orientation\": \"v\", \"showlegend\": true, \"type\": \"scatter\", \"x\": [\"2020-12-27\", \"2020-12-28\", \"2020-12-29\", \"2020-12-30\", \"2020-12-31\", \"2021-01-01\", \"2021-01-02\", \"2021-01-03\", \"2021-01-04\", \"2021-01-05\", \"2021-01-06\", \"2021-01-07\", \"2021-01-08\", \"2021-01-09\", \"2021-01-10\", \"2021-01-11\", \"2021-01-12\", \"2021-01-13\", \"2021-01-14\", \"2021-01-15\", \"2021-01-16\", \"2021-01-17\", \"2021-01-18\", \"2021-01-19\", \"2021-01-20\", \"2021-01-21\", \"2021-01-22\", \"2021-01-23\", \"2021-01-24\", \"2021-01-25\", \"2021-01-26\", \"2021-01-27\", \"2021-01-28\", \"2021-01-29\", \"2021-01-30\", \"2021-01-31\", \"2021-02-01\", \"2021-02-02\", \"2021-02-03\", \"2021-02-04\", \"2021-02-05\", \"2021-02-06\", \"2021-02-07\", \"2021-02-08\", \"2021-02-09\", \"2021-02-10\"], \"xaxis\": \"x\", \"y\": [0.0, 2518.0, 15036.0, 15124.0, 18900.0, 17592.0, 21512.0, 23927.0, 34084.0, 101552.0, 99464.0, 108624.0, 131894.0, 140494.0, 144271.0, 146909.0, 151316.0, 164456.0, 172291.0, 173097.0, 171754.0, 170239.0, 166364.0, 159626.0, 148655.0, 145960.0, 140092.0, 143093.0, 149119.0, 159398.0, 174746.0, 183388.0, 192478.0, 200193.0, 202541.0, 201971.0, 201934.0, 200314.0, 208784.0, 213767.0, 209669.0, 205484.0, 200614.0, 199291.0, 192852.0, 116971.0], \"yaxis\": \"y\"}],                        {\"legend\": {\"title\": {\"text\": \"region\"}, \"tracegroupgap\": 0}, \"template\": {\"data\": {\"bar\": [{\"error_x\": {\"color\": \"#2a3f5f\"}, \"error_y\": {\"color\": \"#2a3f5f\"}, \"marker\": {\"line\": {\"color\": \"#E5ECF6\", \"width\": 0.5}}, \"type\": \"bar\"}], \"barpolar\": [{\"marker\": {\"line\": {\"color\": \"#E5ECF6\", \"width\": 0.5}}, \"type\": \"barpolar\"}], \"carpet\": [{\"aaxis\": {\"endlinecolor\": \"#2a3f5f\", \"gridcolor\": \"white\", \"linecolor\": \"white\", \"minorgridcolor\": \"white\", \"startlinecolor\": \"#2a3f5f\"}, \"baxis\": {\"endlinecolor\": \"#2a3f5f\", \"gridcolor\": \"white\", \"linecolor\": \"white\", \"minorgridcolor\": \"white\", \"startlinecolor\": \"#2a3f5f\"}, \"type\": \"carpet\"}], \"choropleth\": [{\"colorbar\": {\"outlinewidth\": 0, \"ticks\": \"\"}, \"type\": \"choropleth\"}], \"contour\": [{\"colorbar\": {\"outlinewidth\": 0, \"ticks\": \"\"}, \"colorscale\": [[0.0, \"#0d0887\"], [0.1111111111111111, \"#46039f\"], [0.2222222222222222, \"#7201a8\"], [0.3333333333333333, \"#9c179e\"], [0.4444444444444444, \"#bd3786\"], [0.5555555555555556, \"#d8576b\"], [0.6666666666666666, \"#ed7953\"], [0.7777777777777778, \"#fb9f3a\"], [0.8888888888888888, \"#fdca26\"], [1.0, \"#f0f921\"]], \"type\": \"contour\"}], \"contourcarpet\": [{\"colorbar\": {\"outlinewidth\": 0, \"ticks\": \"\"}, \"type\": \"contourcarpet\"}], \"heatmap\": [{\"colorbar\": {\"outlinewidth\": 0, \"ticks\": \"\"}, \"colorscale\": [[0.0, \"#0d0887\"], [0.1111111111111111, \"#46039f\"], [0.2222222222222222, \"#7201a8\"], [0.3333333333333333, \"#9c179e\"], [0.4444444444444444, \"#bd3786\"], [0.5555555555555556, \"#d8576b\"], [0.6666666666666666, \"#ed7953\"], [0.7777777777777778, \"#fb9f3a\"], [0.8888888888888888, \"#fdca26\"], [1.0, \"#f0f921\"]], \"type\": \"heatmap\"}], \"heatmapgl\": [{\"colorbar\": {\"outlinewidth\": 0, \"ticks\": \"\"}, \"colorscale\": [[0.0, \"#0d0887\"], [0.1111111111111111, \"#46039f\"], [0.2222222222222222, \"#7201a8\"], [0.3333333333333333, \"#9c179e\"], [0.4444444444444444, \"#bd3786\"], [0.5555555555555556, \"#d8576b\"], [0.6666666666666666, \"#ed7953\"], [0.7777777777777778, \"#fb9f3a\"], [0.8888888888888888, \"#fdca26\"], [1.0, \"#f0f921\"]], \"type\": \"heatmapgl\"}], \"histogram\": [{\"marker\": {\"colorbar\": {\"outlinewidth\": 0, \"ticks\": \"\"}}, \"type\": \"histogram\"}], \"histogram2d\": [{\"colorbar\": {\"outlinewidth\": 0, \"ticks\": \"\"}, \"colorscale\": [[0.0, \"#0d0887\"], [0.1111111111111111, \"#46039f\"], [0.2222222222222222, \"#7201a8\"], [0.3333333333333333, \"#9c179e\"], [0.4444444444444444, \"#bd3786\"], [0.5555555555555556, \"#d8576b\"], [0.6666666666666666, \"#ed7953\"], [0.7777777777777778, \"#fb9f3a\"], [0.8888888888888888, \"#fdca26\"], [1.0, \"#f0f921\"]], \"type\": \"histogram2d\"}], \"histogram2dcontour\": [{\"colorbar\": {\"outlinewidth\": 0, \"ticks\": \"\"}, \"colorscale\": [[0.0, \"#0d0887\"], [0.1111111111111111, \"#46039f\"], [0.2222222222222222, \"#7201a8\"], [0.3333333333333333, \"#9c179e\"], [0.4444444444444444, \"#bd3786\"], [0.5555555555555556, \"#d8576b\"], [0.6666666666666666, \"#ed7953\"], [0.7777777777777778, \"#fb9f3a\"], [0.8888888888888888, \"#fdca26\"], [1.0, \"#f0f921\"]], \"type\": \"histogram2dcontour\"}], \"mesh3d\": [{\"colorbar\": {\"outlinewidth\": 0, \"ticks\": \"\"}, \"type\": \"mesh3d\"}], \"parcoords\": [{\"line\": {\"colorbar\": {\"outlinewidth\": 0, \"ticks\": \"\"}}, \"type\": \"parcoords\"}], \"pie\": [{\"automargin\": true, \"type\": \"pie\"}], \"scatter\": [{\"marker\": {\"colorbar\": {\"outlinewidth\": 0, \"ticks\": \"\"}}, \"type\": \"scatter\"}], \"scatter3d\": [{\"line\": {\"colorbar\": {\"outlinewidth\": 0, \"ticks\": \"\"}}, \"marker\": {\"colorbar\": {\"outlinewidth\": 0, \"ticks\": \"\"}}, \"type\": \"scatter3d\"}], \"scattercarpet\": [{\"marker\": {\"colorbar\": {\"outlinewidth\": 0, \"ticks\": \"\"}}, \"type\": \"scattercarpet\"}], \"scattergeo\": [{\"marker\": {\"colorbar\": {\"outlinewidth\": 0, \"ticks\": \"\"}}, \"type\": \"scattergeo\"}], \"scattergl\": [{\"marker\": {\"colorbar\": {\"outlinewidth\": 0, \"ticks\": \"\"}}, \"type\": \"scattergl\"}], \"scattermapbox\": [{\"marker\": {\"colorbar\": {\"outlinewidth\": 0, \"ticks\": \"\"}}, \"type\": \"scattermapbox\"}], \"scatterpolar\": [{\"marker\": {\"colorbar\": {\"outlinewidth\": 0, \"ticks\": \"\"}}, \"type\": \"scatterpolar\"}], \"scatterpolargl\": [{\"marker\": {\"colorbar\": {\"outlinewidth\": 0, \"ticks\": \"\"}}, \"type\": \"scatterpolargl\"}], \"scatterternary\": [{\"marker\": {\"colorbar\": {\"outlinewidth\": 0, \"ticks\": \"\"}}, \"type\": \"scatterternary\"}], \"surface\": [{\"colorbar\": {\"outlinewidth\": 0, \"ticks\": \"\"}, \"colorscale\": [[0.0, \"#0d0887\"], [0.1111111111111111, \"#46039f\"], [0.2222222222222222, \"#7201a8\"], [0.3333333333333333, \"#9c179e\"], [0.4444444444444444, \"#bd3786\"], [0.5555555555555556, \"#d8576b\"], [0.6666666666666666, \"#ed7953\"], [0.7777777777777778, \"#fb9f3a\"], [0.8888888888888888, \"#fdca26\"], [1.0, \"#f0f921\"]], \"type\": \"surface\"}], \"table\": [{\"cells\": {\"fill\": {\"color\": \"#EBF0F8\"}, \"line\": {\"color\": \"white\"}}, \"header\": {\"fill\": {\"color\": \"#C8D4E3\"}, \"line\": {\"color\": \"white\"}}, \"type\": \"table\"}]}, \"layout\": {\"annotationdefaults\": {\"arrowcolor\": \"#2a3f5f\", \"arrowhead\": 0, \"arrowwidth\": 1}, \"autotypenumbers\": \"strict\", \"coloraxis\": {\"colorbar\": {\"outlinewidth\": 0, \"ticks\": \"\"}}, \"colorscale\": {\"diverging\": [[0, \"#8e0152\"], [0.1, \"#c51b7d\"], [0.2, \"#de77ae\"], [0.3, \"#f1b6da\"], [0.4, \"#fde0ef\"], [0.5, \"#f7f7f7\"], [0.6, \"#e6f5d0\"], [0.7, \"#b8e186\"], [0.8, \"#7fbc41\"], [0.9, \"#4d9221\"], [1, \"#276419\"]], \"sequential\": [[0.0, \"#0d0887\"], [0.1111111111111111, \"#46039f\"], [0.2222222222222222, \"#7201a8\"], [0.3333333333333333, \"#9c179e\"], [0.4444444444444444, \"#bd3786\"], [0.5555555555555556, \"#d8576b\"], [0.6666666666666666, \"#ed7953\"], [0.7777777777777778, \"#fb9f3a\"], [0.8888888888888888, \"#fdca26\"], [1.0, \"#f0f921\"]], \"sequentialminus\": [[0.0, \"#0d0887\"], [0.1111111111111111, \"#46039f\"], [0.2222222222222222, \"#7201a8\"], [0.3333333333333333, \"#9c179e\"], [0.4444444444444444, \"#bd3786\"], [0.5555555555555556, \"#d8576b\"], [0.6666666666666666, \"#ed7953\"], [0.7777777777777778, \"#fb9f3a\"], [0.8888888888888888, \"#fdca26\"], [1.0, \"#f0f921\"]]}, \"colorway\": [\"#636efa\", \"#EF553B\", \"#00cc96\", \"#ab63fa\", \"#FFA15A\", \"#19d3f3\", \"#FF6692\", \"#B6E880\", \"#FF97FF\", \"#FECB52\"], \"font\": {\"color\": \"#2a3f5f\"}, \"geo\": {\"bgcolor\": \"white\", \"lakecolor\": \"white\", \"landcolor\": \"#E5ECF6\", \"showlakes\": true, \"showland\": true, \"subunitcolor\": \"white\"}, \"hoverlabel\": {\"align\": \"left\"}, \"hovermode\": \"closest\", \"mapbox\": {\"style\": \"light\"}, \"paper_bgcolor\": \"white\", \"plot_bgcolor\": \"#E5ECF6\", \"polar\": {\"angularaxis\": {\"gridcolor\": \"white\", \"linecolor\": \"white\", \"ticks\": \"\"}, \"bgcolor\": \"#E5ECF6\", \"radialaxis\": {\"gridcolor\": \"white\", \"linecolor\": \"white\", \"ticks\": \"\"}}, \"scene\": {\"xaxis\": {\"backgroundcolor\": \"#E5ECF6\", \"gridcolor\": \"white\", \"gridwidth\": 2, \"linecolor\": \"white\", \"showbackground\": true, \"ticks\": \"\", \"zerolinecolor\": \"white\"}, \"yaxis\": {\"backgroundcolor\": \"#E5ECF6\", \"gridcolor\": \"white\", \"gridwidth\": 2, \"linecolor\": \"white\", \"showbackground\": true, \"ticks\": \"\", \"zerolinecolor\": \"white\"}, \"zaxis\": {\"backgroundcolor\": \"#E5ECF6\", \"gridcolor\": \"white\", \"gridwidth\": 2, \"linecolor\": \"white\", \"showbackground\": true, \"ticks\": \"\", \"zerolinecolor\": \"white\"}}, \"shapedefaults\": {\"line\": {\"color\": \"#2a3f5f\"}}, \"ternary\": {\"aaxis\": {\"gridcolor\": \"white\", \"linecolor\": \"white\", \"ticks\": \"\"}, \"baxis\": {\"gridcolor\": \"white\", \"linecolor\": \"white\", \"ticks\": \"\"}, \"bgcolor\": \"#E5ECF6\", \"caxis\": {\"gridcolor\": \"white\", \"linecolor\": \"white\", \"ticks\": \"\"}}, \"title\": {\"x\": 0.05}, \"xaxis\": {\"automargin\": true, \"gridcolor\": \"white\", \"linecolor\": \"white\", \"ticks\": \"\", \"title\": {\"standoff\": 15}, \"zerolinecolor\": \"white\", \"zerolinewidth\": 2}, \"yaxis\": {\"automargin\": true, \"gridcolor\": \"white\", \"linecolor\": \"white\", \"ticks\": \"\", \"title\": {\"standoff\": 15}, \"zerolinecolor\": \"white\", \"zerolinewidth\": 2}}}, \"title\": {\"text\": \"Daily COVID-19 Vaccinations - Summary per Region in Europe\"}, \"xaxis\": {\"anchor\": \"y\", \"domain\": [0.0, 1.0], \"title\": {\"text\": \"date\"}}, \"yaxis\": {\"anchor\": \"x\", \"domain\": [0.0, 1.0], \"title\": {\"text\": \"daily_vaccinations\"}}},                        {\"responsive\": true}                    ).then(function(){\n",
       "                            \n",
       "var gd = document.getElementById('d0a0d21e-469e-4a48-8cf9-78086ee23ce2');\n",
       "var x = new MutationObserver(function (mutations, observer) {{\n",
       "        var display = window.getComputedStyle(gd).display;\n",
       "        if (!display || display === 'none') {{\n",
       "            console.log([gd, 'removed!']);\n",
       "            Plotly.purge(gd);\n",
       "            observer.disconnect();\n",
       "        }}\n",
       "}});\n",
       "\n",
       "// Listen for the removal of the full notebook cells\n",
       "var notebookContainer = gd.closest('#notebook-container');\n",
       "if (notebookContainer) {{\n",
       "    x.observe(notebookContainer, {childList: true});\n",
       "}}\n",
       "\n",
       "// Listen for the clearing of the current output cell\n",
       "var outputEl = gd.closest('.output');\n",
       "if (outputEl) {{\n",
       "    x.observe(outputEl, {childList: true});\n",
       "}}\n",
       "\n",
       "                        })                };                });            </script>        </div>"
      ]
     },
     "metadata": {},
     "output_type": "display_data"
    }
   ],
   "source": [
    "plot_daily_vaccination_data(data = regions_daily_df,  \n",
    "                            region_column = 'region',\n",
    "                            regions_list = Europe,\n",
    "                            vaccination_metric = 'daily_vaccinations',\n",
    "                            plot_title = 'Daily COVID-19 Vaccinations - Summary per Region in Europe'\n",
    "                           )"
   ]
  },
  {
   "cell_type": "markdown",
   "metadata": {},
   "source": [
    "### 4.3. Where is the vaccination program more advanced?\n",
    "\n",
    "___"
   ]
  },
  {
   "cell_type": "markdown",
   "metadata": {},
   "source": [
    "We've seen where are vaccinated more people per day, but in terms of total people vaccinated per hundred, how is it going?"
   ]
  },
  {
   "cell_type": "code",
   "execution_count": 86,
   "metadata": {},
   "outputs": [
    {
     "data": {
      "image/png": "[encoded data removed]",
      "text/plain": [
       "<Figure size 1080x360 with 1 Axes>"
      ]
     },
     "metadata": {
      "needs_background": "light"
     },
     "output_type": "display_data"
    }
   ],
   "source": [
    "uk_countries = ['England', 'Scotland', 'Wales', 'Northern Ireland', 'Jersey', 'Isle of Man', 'Bermuda', 'Gibraltar']\n",
    "data[~data.country.isin(uk_countries)].groupby(['country']).agg({'people_vaccinated_per_hundred':'max'}).sort_values(by='people_vaccinated_per_hundred', ascending=False)[:10].plot.barh(color=\"teal\", figsize=(15,5))\n",
    "plt.title('people_vaccinated_per_hundred- Top 10')\n",
    "plt.legend('')\n",
    "plt.xlabel('percentage of people vaccinated (%)')\n",
    "plt.show()"
   ]
  },
  {
   "cell_type": "markdown",
   "metadata": {},
   "source": [
    "When it comes to the percentage of people vaccinated, after three months Israel is the leader, followed by Seychelles(that has only ~98k inhabitants) and then by the United Kingdom."
   ]
  },
  {
   "cell_type": "markdown",
   "metadata": {},
   "source": [
    "Below there is the progress of *people_vaccinated_per_houndred* only on Europe and North America, because of the missing data in other continents."
   ]
  },
  {
   "cell_type": "code",
   "execution_count": 87,
   "metadata": {},
   "outputs": [
    {
     "data": {
      "application/vnd.plotly.v1+json": {
       "config": {
        "plotlyServerURL": "https://plotly.com"
       },
       "data": [
        {
         "hovertemplate": "region=Northern Europe<br>date=%{x}<br>people_vaccinated_per_hundred=%{y}<extra></extra>",
         "legendgroup": "Northern Europe",
         "line": {
          "color": "#636efa",
          "dash": "solid"
         },
         "mode": "lines",
         "name": "Northern Europe",
         "orientation": "v",
         "showlegend": true,
         "type": "scatter",
         "x": [
          "2020-12-13",
          "2020-12-14",
          "2020-12-15",
          "2020-12-16",
          "2020-12-17",
          "2020-12-18",
          "2020-12-19",
          "2020-12-20",
          "2020-12-21",
          "2020-12-22",
          "2020-12-23",
          "2020-12-24",
          "2020-12-25",
          "2020-12-26",
          "2020-12-27",
          "2020-12-28",
          "2020-12-29",
          "2020-12-30",
          "2020-12-31",
          "2021-01-01",
          "2021-01-02",
          "2021-01-03",
          "2021-01-04",
          "2021-01-05",
          "2021-01-06",
          "2021-01-07",
          "2021-01-08",
          "2021-01-09",
          "2021-01-10",
          "2021-01-11",
          "2021-01-12",
          "2021-01-13",
          "2021-01-14",
          "2021-01-15",
          "2021-01-16",
          "2021-01-17",
          "2021-01-18",
          "2021-01-19",
          "2021-01-20",
          "2021-01-21",
          "2021-01-22",
          "2021-01-23",
          "2021-01-24",
          "2021-01-25",
          "2021-01-26",
          "2021-01-27",
          "2021-01-28",
          "2021-01-29",
          "2021-01-30",
          "2021-01-31",
          "2021-02-01",
          "2021-02-02",
          "2021-02-03",
          "2021-02-04",
          "2021-02-05",
          "2021-02-06",
          "2021-02-07",
          "2021-02-08",
          "2021-02-09",
          "2021-02-10"
         ],
         "xaxis": "x",
         "y": [
          0.20600000000000002,
          0.942,
          0.942,
          0.942,
          0.942,
          0.942,
          0.9420000000000002,
          0.942,
          1.4979999999999998,
          1.498,
          1.4979999999999998,
          1.4979999999999998,
          1.498,
          1.4979999999999998,
          0.8566666666666667,
          1.1281818181818182,
          1.1581818181818182,
          1.2066666666666666,
          1.509230769230769,
          1.5138461538461538,
          1.5253846153846153,
          1.5338461538461539,
          1.9407142857142858,
          1.9642857142857142,
          2.013571428571429,
          2.057857142857143,
          2.087142857142857,
          2.0914285714285716,
          2.094285714285714,
          2.237142857142857,
          2.371428571428571,
          2.5707142857142857,
          2.8,
          3.0464285714285717,
          3.1321428571428576,
          3.1992857142857143,
          3.4,
          3.5742857142857143,
          3.7607142857142852,
          4.103333333333334,
          4.306,
          4.492666666666667,
          5.065294117647059,
          5.178750000000001,
          5.369375,
          5.583125,
          5.920625,
          6.29235294117647,
          6.5988235294117645,
          6.7164705882352935,
          6.606249999999999,
          6.825,
          7.154999999999999,
          7.516874999999999,
          7.813125000000001,
          8.139375,
          8.3175,
          8.941333333333331,
          9.632142857142856,
          5.333333333333333
         ],
         "yaxis": "y"
        },
        {
         "hovertemplate": "region=Eastern Europe<br>date=%{x}<br>people_vaccinated_per_hundred=%{y}<extra></extra>",
         "legendgroup": "Eastern Europe",
         "line": {
          "color": "#EF553B",
          "dash": "solid"
         },
         "mode": "lines",
         "name": "Eastern Europe",
         "orientation": "v",
         "showlegend": true,
         "type": "scatter",
         "x": [
          "2020-12-15",
          "2020-12-16",
          "2020-12-17",
          "2020-12-18",
          "2020-12-19",
          "2020-12-20",
          "2020-12-21",
          "2020-12-22",
          "2020-12-23",
          "2020-12-24",
          "2020-12-25",
          "2020-12-26",
          "2020-12-27",
          "2020-12-28",
          "2020-12-29",
          "2020-12-30",
          "2020-12-31",
          "2021-01-01",
          "2021-01-02",
          "2021-01-03",
          "2021-01-04",
          "2021-01-05",
          "2021-01-06",
          "2021-01-07",
          "2021-01-08",
          "2021-01-09",
          "2021-01-10",
          "2021-01-11",
          "2021-01-12",
          "2021-01-13",
          "2021-01-14",
          "2021-01-15",
          "2021-01-16",
          "2021-01-17",
          "2021-01-18",
          "2021-01-19",
          "2021-01-20",
          "2021-01-21",
          "2021-01-22",
          "2021-01-23",
          "2021-01-24",
          "2021-01-25",
          "2021-01-26",
          "2021-01-27",
          "2021-01-28",
          "2021-01-29",
          "2021-01-30",
          "2021-01-31",
          "2021-02-01",
          "2021-02-02",
          "2021-02-03",
          "2021-02-04",
          "2021-02-05",
          "2021-02-06",
          "2021-02-07",
          "2021-02-08",
          "2021-02-09",
          "2021-02-10"
         ],
         "xaxis": "x",
         "y": [
          null,
          null,
          null,
          null,
          null,
          null,
          null,
          null,
          null,
          null,
          null,
          null,
          0.01,
          0.34750000000000003,
          0.29200000000000004,
          0.32800000000000007,
          0.34,
          0.342,
          0.34800000000000003,
          0.35,
          0.32666666666666666,
          0.37166666666666665,
          0.425,
          0.49833333333333335,
          0.5583333333333332,
          0.5750000000000001,
          0.5933333333333334,
          0.66,
          0.7549999999999999,
          0.84,
          0.9133333333333334,
          0.985,
          1.0166666666666666,
          1.0333333333333334,
          1.1116666666666666,
          1.2033333333333334,
          1.3016666666666667,
          1.4033333333333335,
          1.5,
          1.5433333333333332,
          1.575,
          1.6583333333333334,
          1.765,
          1.8733333333333333,
          1.9816666666666667,
          2.0900000000000003,
          2.1566666666666667,
          2.205,
          2.271666666666667,
          2.3499999999999996,
          2.4316666666666666,
          2.5333333333333337,
          2.6149999999999998,
          2.646666666666667,
          2.6633333333333336,
          2.7416666666666667,
          2.783333333333333,
          2.2333333333333334
         ],
         "yaxis": "y"
        },
        {
         "hovertemplate": "region=Northern America<br>date=%{x}<br>people_vaccinated_per_hundred=%{y}<extra></extra>",
         "legendgroup": "Northern America",
         "line": {
          "color": "#00cc96",
          "dash": "solid"
         },
         "mode": "lines",
         "name": "Northern America",
         "orientation": "v",
         "showlegend": true,
         "type": "scatter",
         "x": [
          "2020-12-19",
          "2020-12-20",
          "2020-12-21",
          "2020-12-22",
          "2020-12-23",
          "2020-12-24",
          "2020-12-25",
          "2020-12-26",
          "2020-12-27",
          "2020-12-28",
          "2020-12-29",
          "2020-12-30",
          "2020-12-31",
          "2021-01-01",
          "2021-01-02",
          "2021-01-03",
          "2021-01-04",
          "2021-01-05",
          "2021-01-06",
          "2021-01-07",
          "2021-01-08",
          "2021-01-09",
          "2021-01-10",
          "2021-01-11",
          "2021-01-12",
          "2021-01-13",
          "2021-01-14",
          "2021-01-15",
          "2021-01-16",
          "2021-01-17",
          "2021-01-18",
          "2021-01-19",
          "2021-01-20",
          "2021-01-21",
          "2021-01-22",
          "2021-01-23",
          "2021-01-24",
          "2021-01-25",
          "2021-01-26",
          "2021-01-27",
          "2021-01-28",
          "2021-01-29",
          "2021-01-30",
          "2021-01-31",
          "2021-02-01",
          "2021-02-02",
          "2021-02-03",
          "2021-02-04",
          "2021-02-05",
          "2021-02-06",
          "2021-02-07",
          "2021-02-08",
          "2021-02-09",
          "2021-02-10"
         ],
         "xaxis": "x",
         "y": [
          0.02,
          0.17,
          0.18,
          0.3,
          0.3,
          0.58,
          0.58,
          0.33499999999999996,
          0.64,
          0.64,
          0.84,
          0.84,
          1.26,
          1.26,
          0.735,
          1.36,
          1.36,
          1.45,
          1.59,
          1.77,
          2,
          1.625,
          1.345,
          2.6799999999999997,
          2.32,
          2.356666666666667,
          2.356666666666667,
          2.4466666666666668,
          2.7466666666666666,
          3.616666666666667,
          3.616666666666667,
          3.616666666666667,
          3.6833333333333336,
          3.7600000000000002,
          3.8800000000000003,
          3.9933333333333336,
          5.233333333333333,
          5.31,
          5.373333333333334,
          5.2275,
          5.553333333333334,
          5.666666666666667,
          5.79,
          7.300000000000001,
          7.38,
          7.423333333333333,
          7.493333333333333,
          7.566666666666666,
          7.666666666666667,
          7.803333333333334,
          5.875,
          5.99,
          6.07,
          6.205
         ],
         "yaxis": "y"
        },
        {
         "hovertemplate": "region=Western Europe<br>date=%{x}<br>people_vaccinated_per_hundred=%{y}<extra></extra>",
         "legendgroup": "Western Europe",
         "line": {
          "color": "#ab63fa",
          "dash": "solid"
         },
         "mode": "lines",
         "name": "Western Europe",
         "orientation": "v",
         "showlegend": true,
         "type": "scatter",
         "x": [
          "2020-12-23",
          "2020-12-24",
          "2020-12-25",
          "2020-12-26",
          "2020-12-27",
          "2020-12-28",
          "2020-12-29",
          "2020-12-30",
          "2020-12-31",
          "2021-01-01",
          "2021-01-02",
          "2021-01-03",
          "2021-01-04",
          "2021-01-05",
          "2021-01-06",
          "2021-01-07",
          "2021-01-08",
          "2021-01-09",
          "2021-01-10",
          "2021-01-11",
          "2021-01-12",
          "2021-01-13",
          "2021-01-14",
          "2021-01-15",
          "2021-01-16",
          "2021-01-17",
          "2021-01-18",
          "2021-01-19",
          "2021-01-20",
          "2021-01-21",
          "2021-01-22",
          "2021-01-23",
          "2021-01-24",
          "2021-01-25",
          "2021-01-26",
          "2021-01-27",
          "2021-01-28",
          "2021-01-29",
          "2021-01-30",
          "2021-01-31",
          "2021-02-01",
          "2021-02-02",
          "2021-02-03",
          "2021-02-04",
          "2021-02-05",
          "2021-02-06",
          "2021-02-07",
          "2021-02-08",
          "2021-02-09",
          "2021-02-10"
         ],
         "xaxis": "x",
         "y": [
          null,
          null,
          null,
          null,
          0.015,
          0.016666666666666666,
          0.03333333333333333,
          0.0925,
          0.135,
          0.14250000000000002,
          0.1575,
          0.165,
          0.18,
          0.2,
          0.23000000000000004,
          0.27249999999999996,
          0.3225,
          0.35250000000000004,
          0.308,
          0.35200000000000004,
          0.43,
          0.538,
          0.656,
          0.772,
          0.8240000000000001,
          0.852,
          0.9399999999999998,
          1.068,
          1.2239999999999998,
          1.394,
          1.546,
          1.6060000000000003,
          1.6260000000000001,
          1.682,
          1.7919999999999998,
          1.8980000000000001,
          2.016,
          2.1220000000000003,
          2.162,
          2.178,
          2.232,
          2.31,
          2.392,
          2.474,
          2.5500000000000003,
          2.5820000000000003,
          2.596,
          2.63,
          2.682,
          2.43
         ],
         "yaxis": "y"
        },
        {
         "hovertemplate": "region=Southern Europe<br>date=%{x}<br>people_vaccinated_per_hundred=%{y}<extra></extra>",
         "legendgroup": "Southern Europe",
         "line": {
          "color": "#FFA15A",
          "dash": "solid"
         },
         "mode": "lines",
         "name": "Southern Europe",
         "orientation": "v",
         "showlegend": true,
         "type": "scatter",
         "x": [
          "2020-12-27",
          "2020-12-28",
          "2020-12-29",
          "2020-12-30",
          "2020-12-31",
          "2021-01-01",
          "2021-01-02",
          "2021-01-03",
          "2021-01-04",
          "2021-01-05",
          "2021-01-06",
          "2021-01-07",
          "2021-01-08",
          "2021-01-09",
          "2021-01-10",
          "2021-01-11",
          "2021-01-12",
          "2021-01-13",
          "2021-01-14",
          "2021-01-15",
          "2021-01-16",
          "2021-01-17",
          "2021-01-18",
          "2021-01-19",
          "2021-01-20",
          "2021-01-21",
          "2021-01-22",
          "2021-01-23",
          "2021-01-24",
          "2021-01-25",
          "2021-01-26",
          "2021-01-27",
          "2021-01-28",
          "2021-01-29",
          "2021-01-30",
          "2021-01-31",
          "2021-02-01",
          "2021-02-02",
          "2021-02-03",
          "2021-02-04",
          "2021-02-05",
          "2021-02-06",
          "2021-02-07",
          "2021-02-08",
          "2021-02-09",
          "2021-02-10"
         ],
         "xaxis": "x",
         "y": [
          0.14500000000000002,
          0.932,
          0.968,
          0.8616666666666665,
          0.9083333333333332,
          0.9116666666666665,
          0.9283333333333333,
          0.9433333333333335,
          0.887142857142857,
          0.9485714285714285,
          1.0471428571428572,
          1.1528571428571428,
          1.1037499999999998,
          1.2274999999999998,
          1.2577777777777779,
          1.632222222222222,
          2.031111111111111,
          2.972222222222222,
          3.0644444444444443,
          3.1844444444444444,
          3.6100000000000003,
          3.6455555555555557,
          3.846666666666667,
          4.069999999999999,
          4.118888888888889,
          4.527777777777778,
          4.928888888888888,
          5.337777777777777,
          5.620000000000001,
          5.275,
          5.625,
          5.765000000000001,
          6.233,
          6.471000000000001,
          6.504,
          6.619999999999999,
          6.648000000000001,
          7.315555555555554,
          7.417777777777778,
          7.5200000000000005,
          7.644444444444444,
          7.728888888888889,
          7.772222222222221,
          8.006666666666668,
          8.183333333333334,
          4.916
         ],
         "yaxis": "y"
        }
       ],
       "layout": {
        "legend": {
         "title": {
          "text": "region"
         },
         "tracegroupgap": 0
        },
        "template": {
         "data": {
          "bar": [
           {
            "error_x": {
             "color": "#2a3f5f"
            },
            "error_y": {
             "color": "#2a3f5f"
            },
            "marker": {
             "line": {
              "color": "#E5ECF6",
              "width": 0.5
             }
            },
            "type": "bar"
           }
          ],
          "barpolar": [
           {
            "marker": {
             "line": {
              "color": "#E5ECF6",
              "width": 0.5
             }
            },
            "type": "barpolar"
           }
          ],
          "carpet": [
           {
            "aaxis": {
             "endlinecolor": "#2a3f5f",
             "gridcolor": "white",
             "linecolor": "white",
             "minorgridcolor": "white",
             "startlinecolor": "#2a3f5f"
            },
            "baxis": {
             "endlinecolor": "#2a3f5f",
             "gridcolor": "white",
             "linecolor": "white",
             "minorgridcolor": "white",
             "startlinecolor": "#2a3f5f"
            },
            "type": "carpet"
           }
          ],
          "choropleth": [
           {
            "colorbar": {
             "outlinewidth": 0,
             "ticks": ""
            },
            "type": "choropleth"
           }
          ],
          "contour": [
           {
            "colorbar": {
             "outlinewidth": 0,
             "ticks": ""
            },
            "colorscale": [
             [
              0,
              "#0d0887"
             ],
             [
              0.1111111111111111,
              "#46039f"
             ],
             [
              0.2222222222222222,
              "#7201a8"
             ],
             [
              0.3333333333333333,
              "#9c179e"
             ],
             [
              0.4444444444444444,
              "#bd3786"
             ],
             [
              0.5555555555555556,
              "#d8576b"
             ],
             [
              0.6666666666666666,
              "#ed7953"
             ],
             [
              0.7777777777777778,
              "#fb9f3a"
             ],
             [
              0.8888888888888888,
              "#fdca26"
             ],
             [
              1,
              "#f0f921"
             ]
            ],
            "type": "contour"
           }
          ],
          "contourcarpet": [
           {
            "colorbar": {
             "outlinewidth": 0,
             "ticks": ""
            },
            "type": "contourcarpet"
           }
          ],
          "heatmap": [
           {
            "colorbar": {
             "outlinewidth": 0,
             "ticks": ""
            },
            "colorscale": [
             [
              0,
              "#0d0887"
             ],
             [
              0.1111111111111111,
              "#46039f"
             ],
             [
              0.2222222222222222,
              "#7201a8"
             ],
             [
              0.3333333333333333,
              "#9c179e"
             ],
             [
              0.4444444444444444,
              "#bd3786"
             ],
             [
              0.5555555555555556,
              "#d8576b"
             ],
             [
              0.6666666666666666,
              "#ed7953"
             ],
             [
              0.7777777777777778,
              "#fb9f3a"
             ],
             [
              0.8888888888888888,
              "#fdca26"
             ],
             [
              1,
              "#f0f921"
             ]
            ],
            "type": "heatmap"
           }
          ],
          "heatmapgl": [
           {
            "colorbar": {
             "outlinewidth": 0,
             "ticks": ""
            },
            "colorscale": [
             [
              0,
              "#0d0887"
             ],
             [
              0.1111111111111111,
              "#46039f"
             ],
             [
              0.2222222222222222,
              "#7201a8"
             ],
             [
              0.3333333333333333,
              "#9c179e"
             ],
             [
              0.4444444444444444,
              "#bd3786"
             ],
             [
              0.5555555555555556,
              "#d8576b"
             ],
             [
              0.6666666666666666,
              "#ed7953"
             ],
             [
              0.7777777777777778,
              "#fb9f3a"
             ],
             [
              0.8888888888888888,
              "#fdca26"
             ],
             [
              1,
              "#f0f921"
             ]
            ],
            "type": "heatmapgl"
           }
          ],
          "histogram": [
           {
            "marker": {
             "colorbar": {
              "outlinewidth": 0,
              "ticks": ""
             }
            },
            "type": "histogram"
           }
          ],
          "histogram2d": [
           {
            "colorbar": {
             "outlinewidth": 0,
             "ticks": ""
            },
            "colorscale": [
             [
              0,
              "#0d0887"
             ],
             [
              0.1111111111111111,
              "#46039f"
             ],
             [
              0.2222222222222222,
              "#7201a8"
             ],
             [
              0.3333333333333333,
              "#9c179e"
             ],
             [
              0.4444444444444444,
              "#bd3786"
             ],
             [
              0.5555555555555556,
              "#d8576b"
             ],
             [
              0.6666666666666666,
              "#ed7953"
             ],
             [
              0.7777777777777778,
              "#fb9f3a"
             ],
             [
              0.8888888888888888,
              "#fdca26"
             ],
             [
              1,
              "#f0f921"
             ]
            ],
            "type": "histogram2d"
           }
          ],
          "histogram2dcontour": [
           {
            "colorbar": {
             "outlinewidth": 0,
             "ticks": ""
            },
            "colorscale": [
             [
              0,
              "#0d0887"
             ],
             [
              0.1111111111111111,
              "#46039f"
             ],
             [
              0.2222222222222222,
              "#7201a8"
             ],
             [
              0.3333333333333333,
              "#9c179e"
             ],
             [
              0.4444444444444444,
              "#bd3786"
             ],
             [
              0.5555555555555556,
              "#d8576b"
             ],
             [
              0.6666666666666666,
              "#ed7953"
             ],
             [
              0.7777777777777778,
              "#fb9f3a"
             ],
             [
              0.8888888888888888,
              "#fdca26"
             ],
             [
              1,
              "#f0f921"
             ]
            ],
            "type": "histogram2dcontour"
           }
          ],
          "mesh3d": [
           {
            "colorbar": {
             "outlinewidth": 0,
             "ticks": ""
            },
            "type": "mesh3d"
           }
          ],
          "parcoords": [
           {
            "line": {
             "colorbar": {
              "outlinewidth": 0,
              "ticks": ""
             }
            },
            "type": "parcoords"
           }
          ],
          "pie": [
           {
            "automargin": true,
            "type": "pie"
           }
          ],
          "scatter": [
           {
            "marker": {
             "colorbar": {
              "outlinewidth": 0,
              "ticks": ""
             }
            },
            "type": "scatter"
           }
          ],
          "scatter3d": [
           {
            "line": {
             "colorbar": {
              "outlinewidth": 0,
              "ticks": ""
             }
            },
            "marker": {
             "colorbar": {
              "outlinewidth": 0,
              "ticks": ""
             }
            },
            "type": "scatter3d"
           }
          ],
          "scattercarpet": [
           {
            "marker": {
             "colorbar": {
              "outlinewidth": 0,
              "ticks": ""
             }
            },
            "type": "scattercarpet"
           }
          ],
          "scattergeo": [
           {
            "marker": {
             "colorbar": {
              "outlinewidth": 0,
              "ticks": ""
             }
            },
            "type": "scattergeo"
           }
          ],
          "scattergl": [
           {
            "marker": {
             "colorbar": {
              "outlinewidth": 0,
              "ticks": ""
             }
            },
            "type": "scattergl"
           }
          ],
          "scattermapbox": [
           {
            "marker": {
             "colorbar": {
              "outlinewidth": 0,
              "ticks": ""
             }
            },
            "type": "scattermapbox"
           }
          ],
          "scatterpolar": [
           {
            "marker": {
             "colorbar": {
              "outlinewidth": 0,
              "ticks": ""
             }
            },
            "type": "scatterpolar"
           }
          ],
          "scatterpolargl": [
           {
            "marker": {
             "colorbar": {
              "outlinewidth": 0,
              "ticks": ""
             }
            },
            "type": "scatterpolargl"
           }
          ],
          "scatterternary": [
           {
            "marker": {
             "colorbar": {
              "outlinewidth": 0,
              "ticks": ""
             }
            },
            "type": "scatterternary"
           }
          ],
          "surface": [
           {
            "colorbar": {
             "outlinewidth": 0,
             "ticks": ""
            },
            "colorscale": [
             [
              0,
              "#0d0887"
             ],
             [
              0.1111111111111111,
              "#46039f"
             ],
             [
              0.2222222222222222,
              "#7201a8"
             ],
             [
              0.3333333333333333,
              "#9c179e"
             ],
             [
              0.4444444444444444,
              "#bd3786"
             ],
             [
              0.5555555555555556,
              "#d8576b"
             ],
             [
              0.6666666666666666,
              "#ed7953"
             ],
             [
              0.7777777777777778,
              "#fb9f3a"
             ],
             [
              0.8888888888888888,
              "#fdca26"
             ],
             [
              1,
              "#f0f921"
             ]
            ],
            "type": "surface"
           }
          ],
          "table": [
           {
            "cells": {
             "fill": {
              "color": "#EBF0F8"
             },
             "line": {
              "color": "white"
             }
            },
            "header": {
             "fill": {
              "color": "#C8D4E3"
             },
             "line": {
              "color": "white"
             }
            },
            "type": "table"
           }
          ]
         },
         "layout": {
          "annotationdefaults": {
           "arrowcolor": "#2a3f5f",
           "arrowhead": 0,
           "arrowwidth": 1
          },
          "autotypenumbers": "strict",
          "coloraxis": {
           "colorbar": {
            "outlinewidth": 0,
            "ticks": ""
           }
          },
          "colorscale": {
           "diverging": [
            [
             0,
             "#8e0152"
            ],
            [
             0.1,
             "#c51b7d"
            ],
            [
             0.2,
             "#de77ae"
            ],
            [
             0.3,
             "#f1b6da"
            ],
            [
             0.4,
             "#fde0ef"
            ],
            [
             0.5,
             "#f7f7f7"
            ],
            [
             0.6,
             "#e6f5d0"
            ],
            [
             0.7,
             "#b8e186"
            ],
            [
             0.8,
             "#7fbc41"
            ],
            [
             0.9,
             "#4d9221"
            ],
            [
             1,
             "#276419"
            ]
           ],
           "sequential": [
            [
             0,
             "#0d0887"
            ],
            [
             0.1111111111111111,
             "#46039f"
            ],
            [
             0.2222222222222222,
             "#7201a8"
            ],
            [
             0.3333333333333333,
             "#9c179e"
            ],
            [
             0.4444444444444444,
             "#bd3786"
            ],
            [
             0.5555555555555556,
             "#d8576b"
            ],
            [
             0.6666666666666666,
             "#ed7953"
            ],
            [
             0.7777777777777778,
             "#fb9f3a"
            ],
            [
             0.8888888888888888,
             "#fdca26"
            ],
            [
             1,
             "#f0f921"
            ]
           ],
           "sequentialminus": [
            [
             0,
             "#0d0887"
            ],
            [
             0.1111111111111111,
             "#46039f"
            ],
            [
             0.2222222222222222,
             "#7201a8"
            ],
            [
             0.3333333333333333,
             "#9c179e"
            ],
            [
             0.4444444444444444,
             "#bd3786"
            ],
            [
             0.5555555555555556,
             "#d8576b"
            ],
            [
             0.6666666666666666,
             "#ed7953"
            ],
            [
             0.7777777777777778,
             "#fb9f3a"
            ],
            [
             0.8888888888888888,
             "#fdca26"
            ],
            [
             1,
             "#f0f921"
            ]
           ]
          },
          "colorway": [
           "#636efa",
           "#EF553B",
           "#00cc96",
           "#ab63fa",
           "#FFA15A",
           "#19d3f3",
           "#FF6692",
           "#B6E880",
           "#FF97FF",
           "#FECB52"
          ],
          "font": {
           "color": "#2a3f5f"
          },
          "geo": {
           "bgcolor": "white",
           "lakecolor": "white",
           "landcolor": "#E5ECF6",
           "showlakes": true,
           "showland": true,
           "subunitcolor": "white"
          },
          "hoverlabel": {
           "align": "left"
          },
          "hovermode": "closest",
          "mapbox": {
           "style": "light"
          },
          "paper_bgcolor": "white",
          "plot_bgcolor": "#E5ECF6",
          "polar": {
           "angularaxis": {
            "gridcolor": "white",
            "linecolor": "white",
            "ticks": ""
           },
           "bgcolor": "#E5ECF6",
           "radialaxis": {
            "gridcolor": "white",
            "linecolor": "white",
            "ticks": ""
           }
          },
          "scene": {
           "xaxis": {
            "backgroundcolor": "#E5ECF6",
            "gridcolor": "white",
            "gridwidth": 2,
            "linecolor": "white",
            "showbackground": true,
            "ticks": "",
            "zerolinecolor": "white"
           },
           "yaxis": {
            "backgroundcolor": "#E5ECF6",
            "gridcolor": "white",
            "gridwidth": 2,
            "linecolor": "white",
            "showbackground": true,
            "ticks": "",
            "zerolinecolor": "white"
           },
           "zaxis": {
            "backgroundcolor": "#E5ECF6",
            "gridcolor": "white",
            "gridwidth": 2,
            "linecolor": "white",
            "showbackground": true,
            "ticks": "",
            "zerolinecolor": "white"
           }
          },
          "shapedefaults": {
           "line": {
            "color": "#2a3f5f"
           }
          },
          "ternary": {
           "aaxis": {
            "gridcolor": "white",
            "linecolor": "white",
            "ticks": ""
           },
           "baxis": {
            "gridcolor": "white",
            "linecolor": "white",
            "ticks": ""
           },
           "bgcolor": "#E5ECF6",
           "caxis": {
            "gridcolor": "white",
            "linecolor": "white",
            "ticks": ""
           }
          },
          "title": {
           "x": 0.05
          },
          "xaxis": {
           "automargin": true,
           "gridcolor": "white",
           "linecolor": "white",
           "ticks": "",
           "title": {
            "standoff": 15
           },
           "zerolinecolor": "white",
           "zerolinewidth": 2
          },
          "yaxis": {
           "automargin": true,
           "gridcolor": "white",
           "linecolor": "white",
           "ticks": "",
           "title": {
            "standoff": 15
           },
           "zerolinecolor": "white",
           "zerolinewidth": 2
          }
         }
        },
        "title": {
         "text": "people_vaccinated_per_hundred evolution in the first three months"
        },
        "xaxis": {
         "anchor": "y",
         "domain": [
          0,
          1
         ],
         "title": {
          "text": "date"
         }
        },
        "yaxis": {
         "anchor": "x",
         "domain": [
          0,
          1
         ],
         "title": {
          "text": "people_vaccinated_per_hundred"
         }
        }
       }
      },
      "text/html": [
       "<div>                            <div id=\"a3de8f4d-9c94-43dd-9942-dcce40966ef2\" class=\"plotly-graph-div\" style=\"height:525px; width:100%;\"></div>            <script type=\"text/javascript\">                require([\"plotly\"], function(Plotly) {                    window.PLOTLYENV=window.PLOTLYENV || {};                                    if (document.getElementById(\"a3de8f4d-9c94-43dd-9942-dcce40966ef2\")) {                    Plotly.newPlot(                        \"a3de8f4d-9c94-43dd-9942-dcce40966ef2\",                        [{\"hovertemplate\": \"region=Northern Europe<br>date=%{x}<br>people_vaccinated_per_hundred=%{y}<extra></extra>\", \"legendgroup\": \"Northern Europe\", \"line\": {\"color\": \"#636efa\", \"dash\": \"solid\"}, \"mode\": \"lines\", \"name\": \"Northern Europe\", \"orientation\": \"v\", \"showlegend\": true, \"type\": \"scatter\", \"x\": [\"2020-12-13\", \"2020-12-14\", \"2020-12-15\", \"2020-12-16\", \"2020-12-17\", \"2020-12-18\", \"2020-12-19\", \"2020-12-20\", \"2020-12-21\", \"2020-12-22\", \"2020-12-23\", \"2020-12-24\", \"2020-12-25\", \"2020-12-26\", \"2020-12-27\", \"2020-12-28\", \"2020-12-29\", \"2020-12-30\", \"2020-12-31\", \"2021-01-01\", \"2021-01-02\", \"2021-01-03\", \"2021-01-04\", \"2021-01-05\", \"2021-01-06\", \"2021-01-07\", \"2021-01-08\", \"2021-01-09\", \"2021-01-10\", \"2021-01-11\", \"2021-01-12\", \"2021-01-13\", \"2021-01-14\", \"2021-01-15\", \"2021-01-16\", \"2021-01-17\", \"2021-01-18\", \"2021-01-19\", \"2021-01-20\", \"2021-01-21\", \"2021-01-22\", \"2021-01-23\", \"2021-01-24\", \"2021-01-25\", \"2021-01-26\", \"2021-01-27\", \"2021-01-28\", \"2021-01-29\", \"2021-01-30\", \"2021-01-31\", \"2021-02-01\", \"2021-02-02\", \"2021-02-03\", \"2021-02-04\", \"2021-02-05\", \"2021-02-06\", \"2021-02-07\", \"2021-02-08\", \"2021-02-09\", \"2021-02-10\"], \"xaxis\": \"x\", \"y\": [0.20600000000000002, 0.942, 0.942, 0.942, 0.942, 0.942, 0.9420000000000002, 0.942, 1.4979999999999998, 1.498, 1.4979999999999998, 1.4979999999999998, 1.498, 1.4979999999999998, 0.8566666666666667, 1.1281818181818182, 1.1581818181818182, 1.2066666666666666, 1.509230769230769, 1.5138461538461538, 1.5253846153846153, 1.5338461538461539, 1.9407142857142858, 1.9642857142857142, 2.013571428571429, 2.057857142857143, 2.087142857142857, 2.0914285714285716, 2.094285714285714, 2.237142857142857, 2.371428571428571, 2.5707142857142857, 2.8, 3.0464285714285717, 3.1321428571428576, 3.1992857142857143, 3.4, 3.5742857142857143, 3.7607142857142852, 4.103333333333334, 4.306, 4.492666666666667, 5.065294117647059, 5.178750000000001, 5.369375, 5.583125, 5.920625, 6.29235294117647, 6.5988235294117645, 6.7164705882352935, 6.606249999999999, 6.825, 7.154999999999999, 7.516874999999999, 7.813125000000001, 8.139375, 8.3175, 8.941333333333331, 9.632142857142856, 5.333333333333333], \"yaxis\": \"y\"}, {\"hovertemplate\": \"region=Eastern Europe<br>date=%{x}<br>people_vaccinated_per_hundred=%{y}<extra></extra>\", \"legendgroup\": \"Eastern Europe\", \"line\": {\"color\": \"#EF553B\", \"dash\": \"solid\"}, \"mode\": \"lines\", \"name\": \"Eastern Europe\", \"orientation\": \"v\", \"showlegend\": true, \"type\": \"scatter\", \"x\": [\"2020-12-15\", \"2020-12-16\", \"2020-12-17\", \"2020-12-18\", \"2020-12-19\", \"2020-12-20\", \"2020-12-21\", \"2020-12-22\", \"2020-12-23\", \"2020-12-24\", \"2020-12-25\", \"2020-12-26\", \"2020-12-27\", \"2020-12-28\", \"2020-12-29\", \"2020-12-30\", \"2020-12-31\", \"2021-01-01\", \"2021-01-02\", \"2021-01-03\", \"2021-01-04\", \"2021-01-05\", \"2021-01-06\", \"2021-01-07\", \"2021-01-08\", \"2021-01-09\", \"2021-01-10\", \"2021-01-11\", \"2021-01-12\", \"2021-01-13\", \"2021-01-14\", \"2021-01-15\", \"2021-01-16\", \"2021-01-17\", \"2021-01-18\", \"2021-01-19\", \"2021-01-20\", \"2021-01-21\", \"2021-01-22\", \"2021-01-23\", \"2021-01-24\", \"2021-01-25\", \"2021-01-26\", \"2021-01-27\", \"2021-01-28\", \"2021-01-29\", \"2021-01-30\", \"2021-01-31\", \"2021-02-01\", \"2021-02-02\", \"2021-02-03\", \"2021-02-04\", \"2021-02-05\", \"2021-02-06\", \"2021-02-07\", \"2021-02-08\", \"2021-02-09\", \"2021-02-10\"], \"xaxis\": \"x\", \"y\": [null, null, null, null, null, null, null, null, null, null, null, null, 0.01, 0.34750000000000003, 0.29200000000000004, 0.32800000000000007, 0.34, 0.342, 0.34800000000000003, 0.35, 0.32666666666666666, 0.37166666666666665, 0.425, 0.49833333333333335, 0.5583333333333332, 0.5750000000000001, 0.5933333333333334, 0.66, 0.7549999999999999, 0.84, 0.9133333333333334, 0.985, 1.0166666666666666, 1.0333333333333334, 1.1116666666666666, 1.2033333333333334, 1.3016666666666667, 1.4033333333333335, 1.5, 1.5433333333333332, 1.575, 1.6583333333333334, 1.765, 1.8733333333333333, 1.9816666666666667, 2.0900000000000003, 2.1566666666666667, 2.205, 2.271666666666667, 2.3499999999999996, 2.4316666666666666, 2.5333333333333337, 2.6149999999999998, 2.646666666666667, 2.6633333333333336, 2.7416666666666667, 2.783333333333333, 2.2333333333333334], \"yaxis\": \"y\"}, {\"hovertemplate\": \"region=Northern America<br>date=%{x}<br>people_vaccinated_per_hundred=%{y}<extra></extra>\", \"legendgroup\": \"Northern America\", \"line\": {\"color\": \"#00cc96\", \"dash\": \"solid\"}, \"mode\": \"lines\", \"name\": \"Northern America\", \"orientation\": \"v\", \"showlegend\": true, \"type\": \"scatter\", \"x\": [\"2020-12-19\", \"2020-12-20\", \"2020-12-21\", \"2020-12-22\", \"2020-12-23\", \"2020-12-24\", \"2020-12-25\", \"2020-12-26\", \"2020-12-27\", \"2020-12-28\", \"2020-12-29\", \"2020-12-30\", \"2020-12-31\", \"2021-01-01\", \"2021-01-02\", \"2021-01-03\", \"2021-01-04\", \"2021-01-05\", \"2021-01-06\", \"2021-01-07\", \"2021-01-08\", \"2021-01-09\", \"2021-01-10\", \"2021-01-11\", \"2021-01-12\", \"2021-01-13\", \"2021-01-14\", \"2021-01-15\", \"2021-01-16\", \"2021-01-17\", \"2021-01-18\", \"2021-01-19\", \"2021-01-20\", \"2021-01-21\", \"2021-01-22\", \"2021-01-23\", \"2021-01-24\", \"2021-01-25\", \"2021-01-26\", \"2021-01-27\", \"2021-01-28\", \"2021-01-29\", \"2021-01-30\", \"2021-01-31\", \"2021-02-01\", \"2021-02-02\", \"2021-02-03\", \"2021-02-04\", \"2021-02-05\", \"2021-02-06\", \"2021-02-07\", \"2021-02-08\", \"2021-02-09\", \"2021-02-10\"], \"xaxis\": \"x\", \"y\": [0.02, 0.17, 0.18, 0.3, 0.3, 0.58, 0.58, 0.33499999999999996, 0.64, 0.64, 0.84, 0.84, 1.26, 1.26, 0.735, 1.36, 1.36, 1.45, 1.59, 1.77, 2.0, 1.625, 1.345, 2.6799999999999997, 2.32, 2.356666666666667, 2.356666666666667, 2.4466666666666668, 2.7466666666666666, 3.616666666666667, 3.616666666666667, 3.616666666666667, 3.6833333333333336, 3.7600000000000002, 3.8800000000000003, 3.9933333333333336, 5.233333333333333, 5.31, 5.373333333333334, 5.2275, 5.553333333333334, 5.666666666666667, 5.79, 7.300000000000001, 7.38, 7.423333333333333, 7.493333333333333, 7.566666666666666, 7.666666666666667, 7.803333333333334, 5.875, 5.99, 6.07, 6.205], \"yaxis\": \"y\"}, {\"hovertemplate\": \"region=Western Europe<br>date=%{x}<br>people_vaccinated_per_hundred=%{y}<extra></extra>\", \"legendgroup\": \"Western Europe\", \"line\": {\"color\": \"#ab63fa\", \"dash\": \"solid\"}, \"mode\": \"lines\", \"name\": \"Western Europe\", \"orientation\": \"v\", \"showlegend\": true, \"type\": \"scatter\", \"x\": [\"2020-12-23\", \"2020-12-24\", \"2020-12-25\", \"2020-12-26\", \"2020-12-27\", \"2020-12-28\", \"2020-12-29\", \"2020-12-30\", \"2020-12-31\", \"2021-01-01\", \"2021-01-02\", \"2021-01-03\", \"2021-01-04\", \"2021-01-05\", \"2021-01-06\", \"2021-01-07\", \"2021-01-08\", \"2021-01-09\", \"2021-01-10\", \"2021-01-11\", \"2021-01-12\", \"2021-01-13\", \"2021-01-14\", \"2021-01-15\", \"2021-01-16\", \"2021-01-17\", \"2021-01-18\", \"2021-01-19\", \"2021-01-20\", \"2021-01-21\", \"2021-01-22\", \"2021-01-23\", \"2021-01-24\", \"2021-01-25\", \"2021-01-26\", \"2021-01-27\", \"2021-01-28\", \"2021-01-29\", \"2021-01-30\", \"2021-01-31\", \"2021-02-01\", \"2021-02-02\", \"2021-02-03\", \"2021-02-04\", \"2021-02-05\", \"2021-02-06\", \"2021-02-07\", \"2021-02-08\", \"2021-02-09\", \"2021-02-10\"], \"xaxis\": \"x\", \"y\": [null, null, null, null, 0.015, 0.016666666666666666, 0.03333333333333333, 0.0925, 0.135, 0.14250000000000002, 0.1575, 0.165, 0.18, 0.2, 0.23000000000000004, 0.27249999999999996, 0.3225, 0.35250000000000004, 0.308, 0.35200000000000004, 0.43, 0.538, 0.656, 0.772, 0.8240000000000001, 0.852, 0.9399999999999998, 1.068, 1.2239999999999998, 1.394, 1.546, 1.6060000000000003, 1.6260000000000001, 1.682, 1.7919999999999998, 1.8980000000000001, 2.016, 2.1220000000000003, 2.162, 2.178, 2.232, 2.31, 2.392, 2.474, 2.5500000000000003, 2.5820000000000003, 2.596, 2.63, 2.682, 2.43], \"yaxis\": \"y\"}, {\"hovertemplate\": \"region=Southern Europe<br>date=%{x}<br>people_vaccinated_per_hundred=%{y}<extra></extra>\", \"legendgroup\": \"Southern Europe\", \"line\": {\"color\": \"#FFA15A\", \"dash\": \"solid\"}, \"mode\": \"lines\", \"name\": \"Southern Europe\", \"orientation\": \"v\", \"showlegend\": true, \"type\": \"scatter\", \"x\": [\"2020-12-27\", \"2020-12-28\", \"2020-12-29\", \"2020-12-30\", \"2020-12-31\", \"2021-01-01\", \"2021-01-02\", \"2021-01-03\", \"2021-01-04\", \"2021-01-05\", \"2021-01-06\", \"2021-01-07\", \"2021-01-08\", \"2021-01-09\", \"2021-01-10\", \"2021-01-11\", \"2021-01-12\", \"2021-01-13\", \"2021-01-14\", \"2021-01-15\", \"2021-01-16\", \"2021-01-17\", \"2021-01-18\", \"2021-01-19\", \"2021-01-20\", \"2021-01-21\", \"2021-01-22\", \"2021-01-23\", \"2021-01-24\", \"2021-01-25\", \"2021-01-26\", \"2021-01-27\", \"2021-01-28\", \"2021-01-29\", \"2021-01-30\", \"2021-01-31\", \"2021-02-01\", \"2021-02-02\", \"2021-02-03\", \"2021-02-04\", \"2021-02-05\", \"2021-02-06\", \"2021-02-07\", \"2021-02-08\", \"2021-02-09\", \"2021-02-10\"], \"xaxis\": \"x\", \"y\": [0.14500000000000002, 0.932, 0.968, 0.8616666666666665, 0.9083333333333332, 0.9116666666666665, 0.9283333333333333, 0.9433333333333335, 0.887142857142857, 0.9485714285714285, 1.0471428571428572, 1.1528571428571428, 1.1037499999999998, 1.2274999999999998, 1.2577777777777779, 1.632222222222222, 2.031111111111111, 2.972222222222222, 3.0644444444444443, 3.1844444444444444, 3.6100000000000003, 3.6455555555555557, 3.846666666666667, 4.069999999999999, 4.118888888888889, 4.527777777777778, 4.928888888888888, 5.337777777777777, 5.620000000000001, 5.275, 5.625, 5.765000000000001, 6.233, 6.471000000000001, 6.504, 6.619999999999999, 6.648000000000001, 7.315555555555554, 7.417777777777778, 7.5200000000000005, 7.644444444444444, 7.728888888888889, 7.772222222222221, 8.006666666666668, 8.183333333333334, 4.916], \"yaxis\": \"y\"}],                        {\"legend\": {\"title\": {\"text\": \"region\"}, \"tracegroupgap\": 0}, \"template\": {\"data\": {\"bar\": [{\"error_x\": {\"color\": \"#2a3f5f\"}, \"error_y\": {\"color\": \"#2a3f5f\"}, \"marker\": {\"line\": {\"color\": \"#E5ECF6\", \"width\": 0.5}}, \"type\": \"bar\"}], \"barpolar\": [{\"marker\": {\"line\": {\"color\": \"#E5ECF6\", \"width\": 0.5}}, \"type\": \"barpolar\"}], \"carpet\": [{\"aaxis\": {\"endlinecolor\": \"#2a3f5f\", \"gridcolor\": \"white\", \"linecolor\": \"white\", \"minorgridcolor\": \"white\", \"startlinecolor\": \"#2a3f5f\"}, \"baxis\": {\"endlinecolor\": \"#2a3f5f\", \"gridcolor\": \"white\", \"linecolor\": \"white\", \"minorgridcolor\": \"white\", \"startlinecolor\": \"#2a3f5f\"}, \"type\": \"carpet\"}], \"choropleth\": [{\"colorbar\": {\"outlinewidth\": 0, \"ticks\": \"\"}, \"type\": \"choropleth\"}], \"contour\": [{\"colorbar\": {\"outlinewidth\": 0, \"ticks\": \"\"}, \"colorscale\": [[0.0, \"#0d0887\"], [0.1111111111111111, \"#46039f\"], [0.2222222222222222, \"#7201a8\"], [0.3333333333333333, \"#9c179e\"], [0.4444444444444444, \"#bd3786\"], [0.5555555555555556, \"#d8576b\"], [0.6666666666666666, \"#ed7953\"], [0.7777777777777778, \"#fb9f3a\"], [0.8888888888888888, \"#fdca26\"], [1.0, \"#f0f921\"]], \"type\": \"contour\"}], \"contourcarpet\": [{\"colorbar\": {\"outlinewidth\": 0, \"ticks\": \"\"}, \"type\": \"contourcarpet\"}], \"heatmap\": [{\"colorbar\": {\"outlinewidth\": 0, \"ticks\": \"\"}, \"colorscale\": [[0.0, \"#0d0887\"], [0.1111111111111111, \"#46039f\"], [0.2222222222222222, \"#7201a8\"], [0.3333333333333333, \"#9c179e\"], [0.4444444444444444, \"#bd3786\"], [0.5555555555555556, \"#d8576b\"], [0.6666666666666666, \"#ed7953\"], [0.7777777777777778, \"#fb9f3a\"], [0.8888888888888888, \"#fdca26\"], [1.0, \"#f0f921\"]], \"type\": \"heatmap\"}], \"heatmapgl\": [{\"colorbar\": {\"outlinewidth\": 0, \"ticks\": \"\"}, \"colorscale\": [[0.0, \"#0d0887\"], [0.1111111111111111, \"#46039f\"], [0.2222222222222222, \"#7201a8\"], [0.3333333333333333, \"#9c179e\"], [0.4444444444444444, \"#bd3786\"], [0.5555555555555556, \"#d8576b\"], [0.6666666666666666, \"#ed7953\"], [0.7777777777777778, \"#fb9f3a\"], [0.8888888888888888, \"#fdca26\"], [1.0, \"#f0f921\"]], \"type\": \"heatmapgl\"}], \"histogram\": [{\"marker\": {\"colorbar\": {\"outlinewidth\": 0, \"ticks\": \"\"}}, \"type\": \"histogram\"}], \"histogram2d\": [{\"colorbar\": {\"outlinewidth\": 0, \"ticks\": \"\"}, \"colorscale\": [[0.0, \"#0d0887\"], [0.1111111111111111, \"#46039f\"], [0.2222222222222222, \"#7201a8\"], [0.3333333333333333, \"#9c179e\"], [0.4444444444444444, \"#bd3786\"], [0.5555555555555556, \"#d8576b\"], [0.6666666666666666, \"#ed7953\"], [0.7777777777777778, \"#fb9f3a\"], [0.8888888888888888, \"#fdca26\"], [1.0, \"#f0f921\"]], \"type\": \"histogram2d\"}], \"histogram2dcontour\": [{\"colorbar\": {\"outlinewidth\": 0, \"ticks\": \"\"}, \"colorscale\": [[0.0, \"#0d0887\"], [0.1111111111111111, \"#46039f\"], [0.2222222222222222, \"#7201a8\"], [0.3333333333333333, \"#9c179e\"], [0.4444444444444444, \"#bd3786\"], [0.5555555555555556, \"#d8576b\"], [0.6666666666666666, \"#ed7953\"], [0.7777777777777778, \"#fb9f3a\"], [0.8888888888888888, \"#fdca26\"], [1.0, \"#f0f921\"]], \"type\": \"histogram2dcontour\"}], \"mesh3d\": [{\"colorbar\": {\"outlinewidth\": 0, \"ticks\": \"\"}, \"type\": \"mesh3d\"}], \"parcoords\": [{\"line\": {\"colorbar\": {\"outlinewidth\": 0, \"ticks\": \"\"}}, \"type\": \"parcoords\"}], \"pie\": [{\"automargin\": true, \"type\": \"pie\"}], \"scatter\": [{\"marker\": {\"colorbar\": {\"outlinewidth\": 0, \"ticks\": \"\"}}, \"type\": \"scatter\"}], \"scatter3d\": [{\"line\": {\"colorbar\": {\"outlinewidth\": 0, \"ticks\": \"\"}}, \"marker\": {\"colorbar\": {\"outlinewidth\": 0, \"ticks\": \"\"}}, \"type\": \"scatter3d\"}], \"scattercarpet\": [{\"marker\": {\"colorbar\": {\"outlinewidth\": 0, \"ticks\": \"\"}}, \"type\": \"scattercarpet\"}], \"scattergeo\": [{\"marker\": {\"colorbar\": {\"outlinewidth\": 0, \"ticks\": \"\"}}, \"type\": \"scattergeo\"}], \"scattergl\": [{\"marker\": {\"colorbar\": {\"outlinewidth\": 0, \"ticks\": \"\"}}, \"type\": \"scattergl\"}], \"scattermapbox\": [{\"marker\": {\"colorbar\": {\"outlinewidth\": 0, \"ticks\": \"\"}}, \"type\": \"scattermapbox\"}], \"scatterpolar\": [{\"marker\": {\"colorbar\": {\"outlinewidth\": 0, \"ticks\": \"\"}}, \"type\": \"scatterpolar\"}], \"scatterpolargl\": [{\"marker\": {\"colorbar\": {\"outlinewidth\": 0, \"ticks\": \"\"}}, \"type\": \"scatterpolargl\"}], \"scatterternary\": [{\"marker\": {\"colorbar\": {\"outlinewidth\": 0, \"ticks\": \"\"}}, \"type\": \"scatterternary\"}], \"surface\": [{\"colorbar\": {\"outlinewidth\": 0, \"ticks\": \"\"}, \"colorscale\": [[0.0, \"#0d0887\"], [0.1111111111111111, \"#46039f\"], [0.2222222222222222, \"#7201a8\"], [0.3333333333333333, \"#9c179e\"], [0.4444444444444444, \"#bd3786\"], [0.5555555555555556, \"#d8576b\"], [0.6666666666666666, \"#ed7953\"], [0.7777777777777778, \"#fb9f3a\"], [0.8888888888888888, \"#fdca26\"], [1.0, \"#f0f921\"]], \"type\": \"surface\"}], \"table\": [{\"cells\": {\"fill\": {\"color\": \"#EBF0F8\"}, \"line\": {\"color\": \"white\"}}, \"header\": {\"fill\": {\"color\": \"#C8D4E3\"}, \"line\": {\"color\": \"white\"}}, \"type\": \"table\"}]}, \"layout\": {\"annotationdefaults\": {\"arrowcolor\": \"#2a3f5f\", \"arrowhead\": 0, \"arrowwidth\": 1}, \"autotypenumbers\": \"strict\", \"coloraxis\": {\"colorbar\": {\"outlinewidth\": 0, \"ticks\": \"\"}}, \"colorscale\": {\"diverging\": [[0, \"#8e0152\"], [0.1, \"#c51b7d\"], [0.2, \"#de77ae\"], [0.3, \"#f1b6da\"], [0.4, \"#fde0ef\"], [0.5, \"#f7f7f7\"], [0.6, \"#e6f5d0\"], [0.7, \"#b8e186\"], [0.8, \"#7fbc41\"], [0.9, \"#4d9221\"], [1, \"#276419\"]], \"sequential\": [[0.0, \"#0d0887\"], [0.1111111111111111, \"#46039f\"], [0.2222222222222222, \"#7201a8\"], [0.3333333333333333, \"#9c179e\"], [0.4444444444444444, \"#bd3786\"], [0.5555555555555556, \"#d8576b\"], [0.6666666666666666, \"#ed7953\"], [0.7777777777777778, \"#fb9f3a\"], [0.8888888888888888, \"#fdca26\"], [1.0, \"#f0f921\"]], \"sequentialminus\": [[0.0, \"#0d0887\"], [0.1111111111111111, \"#46039f\"], [0.2222222222222222, \"#7201a8\"], [0.3333333333333333, \"#9c179e\"], [0.4444444444444444, \"#bd3786\"], [0.5555555555555556, \"#d8576b\"], [0.6666666666666666, \"#ed7953\"], [0.7777777777777778, \"#fb9f3a\"], [0.8888888888888888, \"#fdca26\"], [1.0, \"#f0f921\"]]}, \"colorway\": [\"#636efa\", \"#EF553B\", \"#00cc96\", \"#ab63fa\", \"#FFA15A\", \"#19d3f3\", \"#FF6692\", \"#B6E880\", \"#FF97FF\", \"#FECB52\"], \"font\": {\"color\": \"#2a3f5f\"}, \"geo\": {\"bgcolor\": \"white\", \"lakecolor\": \"white\", \"landcolor\": \"#E5ECF6\", \"showlakes\": true, \"showland\": true, \"subunitcolor\": \"white\"}, \"hoverlabel\": {\"align\": \"left\"}, \"hovermode\": \"closest\", \"mapbox\": {\"style\": \"light\"}, \"paper_bgcolor\": \"white\", \"plot_bgcolor\": \"#E5ECF6\", \"polar\": {\"angularaxis\": {\"gridcolor\": \"white\", \"linecolor\": \"white\", \"ticks\": \"\"}, \"bgcolor\": \"#E5ECF6\", \"radialaxis\": {\"gridcolor\": \"white\", \"linecolor\": \"white\", \"ticks\": \"\"}}, \"scene\": {\"xaxis\": {\"backgroundcolor\": \"#E5ECF6\", \"gridcolor\": \"white\", \"gridwidth\": 2, \"linecolor\": \"white\", \"showbackground\": true, \"ticks\": \"\", \"zerolinecolor\": \"white\"}, \"yaxis\": {\"backgroundcolor\": \"#E5ECF6\", \"gridcolor\": \"white\", \"gridwidth\": 2, \"linecolor\": \"white\", \"showbackground\": true, \"ticks\": \"\", \"zerolinecolor\": \"white\"}, \"zaxis\": {\"backgroundcolor\": \"#E5ECF6\", \"gridcolor\": \"white\", \"gridwidth\": 2, \"linecolor\": \"white\", \"showbackground\": true, \"ticks\": \"\", \"zerolinecolor\": \"white\"}}, \"shapedefaults\": {\"line\": {\"color\": \"#2a3f5f\"}}, \"ternary\": {\"aaxis\": {\"gridcolor\": \"white\", \"linecolor\": \"white\", \"ticks\": \"\"}, \"baxis\": {\"gridcolor\": \"white\", \"linecolor\": \"white\", \"ticks\": \"\"}, \"bgcolor\": \"#E5ECF6\", \"caxis\": {\"gridcolor\": \"white\", \"linecolor\": \"white\", \"ticks\": \"\"}}, \"title\": {\"x\": 0.05}, \"xaxis\": {\"automargin\": true, \"gridcolor\": \"white\", \"linecolor\": \"white\", \"ticks\": \"\", \"title\": {\"standoff\": 15}, \"zerolinecolor\": \"white\", \"zerolinewidth\": 2}, \"yaxis\": {\"automargin\": true, \"gridcolor\": \"white\", \"linecolor\": \"white\", \"ticks\": \"\", \"title\": {\"standoff\": 15}, \"zerolinecolor\": \"white\", \"zerolinewidth\": 2}}}, \"title\": {\"text\": \"people_vaccinated_per_hundred evolution in the first three months\"}, \"xaxis\": {\"anchor\": \"y\", \"domain\": [0.0, 1.0], \"title\": {\"text\": \"date\"}}, \"yaxis\": {\"anchor\": \"x\", \"domain\": [0.0, 1.0], \"title\": {\"text\": \"people_vaccinated_per_hundred\"}}},                        {\"responsive\": true}                    ).then(function(){\n",
       "                            \n",
       "var gd = document.getElementById('a3de8f4d-9c94-43dd-9942-dcce40966ef2');\n",
       "var x = new MutationObserver(function (mutations, observer) {{\n",
       "        var display = window.getComputedStyle(gd).display;\n",
       "        if (!display || display === 'none') {{\n",
       "            console.log([gd, 'removed!']);\n",
       "            Plotly.purge(gd);\n",
       "            observer.disconnect();\n",
       "        }}\n",
       "}});\n",
       "\n",
       "// Listen for the removal of the full notebook cells\n",
       "var notebookContainer = gd.closest('#notebook-container');\n",
       "if (notebookContainer) {{\n",
       "    x.observe(notebookContainer, {childList: true});\n",
       "}}\n",
       "\n",
       "// Listen for the clearing of the current output cell\n",
       "var outputEl = gd.closest('.output');\n",
       "if (outputEl) {{\n",
       "    x.observe(outputEl, {childList: true});\n",
       "}}\n",
       "\n",
       "                        })                };                });            </script>        </div>"
      ]
     },
     "metadata": {},
     "output_type": "display_data"
    }
   ],
   "source": [
    "plot_daily_vaccination_data(data = regions_daily_df,  \n",
    "                            region_column = 'region',\n",
    "                            regions_list = Europe + ['Northern America'],\n",
    "                            vaccination_metric = 'people_vaccinated_per_hundred',\n",
    "                            plot_title = 'people_vaccinated_per_hundred evolution in the first three months',\n",
    "                           )"
   ]
  },
  {
   "cell_type": "markdown",
   "metadata": {},
   "source": [
    "Analysis per country: when will we have 25% people vaccinated?"
   ]
  },
  {
   "cell_type": "markdown",
   "metadata": {},
   "source": [
    "To answer this question, I will make timeseries predictions using [Facebook's Prophet](https://facebook.github.io/prophet/)."
   ]
  },
  {
   "cell_type": "code",
   "execution_count": 88,
   "metadata": {},
   "outputs": [],
   "source": [
    "def fbprophet_predict_and_plot(data, region_column, region, vaccination_metric, min_date = '2020-12-13', max_date='2021-02-13', future_days=10, plot=True):\n",
    "    '''\n",
    "    Plots or returns FbProphet predictions for a vaccination metric\n",
    "\n",
    "    INPUT \n",
    "    data : Pandas dataframe\n",
    "        a dataframe holding the data to be used for training and plotting \n",
    "        must contain a date column (unique dates), a region column and a vaccination related metric\n",
    "    region_column : string\n",
    "        name of the region column (continent/region/country)\n",
    "    region : string\n",
    "        region of interest - the region to get predictions and plots for\n",
    "        must be a value of region_column\n",
    "    vaccination_metric : string\n",
    "        name of the vaccination metric column (daily_vaccinations/people_fully_vaccinated_per_hundred)\n",
    "    min_date : string\n",
    "        lower date limit for the training data\n",
    "    max_date : string\n",
    "        upper date limit for the training data\n",
    "    future_days : integer\n",
    "        number of days to forecast\n",
    "    plot : boolean\n",
    "        whether you want a plot or the forecast\n",
    "    '''\n",
    "    df = data[(data[region_column] == region) & (data.date <= max_date) & (data.date >= min_date)]\n",
    "    df = df[['date', vaccination_metric]]\n",
    "    df.columns = ['ds', 'y']\n",
    "    model = Prophet(interval_width = 0.95)\n",
    "    model.fit(df)\n",
    "    future = model.make_future_dataframe(periods=future_days)\n",
    "    forecast = model.predict(future)\n",
    "    if plot:\n",
    "        fig = plot_plotly(model, forecast)\n",
    "        fig.show()\n",
    "    else:\n",
    "        return forecast"
   ]
  },
  {
   "cell_type": "markdown",
   "metadata": {},
   "source": [
    "United States may have 25% of the population vaccinated by April 5, according to the predictions below"
   ]
  },
  {
   "cell_type": "code",
   "execution_count": 89,
   "metadata": {},
   "outputs": [
    {
     "data": {
      "application/vnd.plotly.v1+json": {
       "config": {
        "plotlyServerURL": "https://plotly.com"
       },
       "data": [
        {
         "marker": {
          "color": "black",
          "size": 4
         },
         "mode": "markers",
         "name": "Actual",
         "type": "scatter",
         "x": [
          "2020-12-20T00:00:00",
          "2020-12-21T00:00:00",
          "2020-12-22T00:00:00",
          "2020-12-23T00:00:00",
          "2020-12-24T00:00:00",
          "2020-12-25T00:00:00",
          "2020-12-26T00:00:00",
          "2020-12-27T00:00:00",
          "2020-12-28T00:00:00",
          "2020-12-29T00:00:00",
          "2020-12-30T00:00:00",
          "2020-12-31T00:00:00",
          "2021-01-01T00:00:00",
          "2021-01-02T00:00:00",
          "2021-01-03T00:00:00",
          "2021-01-04T00:00:00",
          "2021-01-05T00:00:00",
          "2021-01-06T00:00:00",
          "2021-01-07T00:00:00",
          "2021-01-08T00:00:00",
          "2021-01-09T00:00:00",
          "2021-01-10T00:00:00",
          "2021-01-11T00:00:00",
          "2021-01-12T00:00:00",
          "2021-01-13T00:00:00",
          "2021-01-14T00:00:00",
          "2021-01-15T00:00:00",
          "2021-01-16T00:00:00",
          "2021-01-17T00:00:00",
          "2021-01-18T00:00:00",
          "2021-01-19T00:00:00",
          "2021-01-20T00:00:00",
          "2021-01-21T00:00:00",
          "2021-01-22T00:00:00",
          "2021-01-23T00:00:00",
          "2021-01-24T00:00:00",
          "2021-01-25T00:00:00",
          "2021-01-26T00:00:00",
          "2021-01-27T00:00:00",
          "2021-01-28T00:00:00",
          "2021-01-29T00:00:00",
          "2021-01-30T00:00:00",
          "2021-01-31T00:00:00",
          "2021-02-01T00:00:00",
          "2021-02-02T00:00:00",
          "2021-02-03T00:00:00",
          "2021-02-04T00:00:00",
          "2021-02-05T00:00:00",
          "2021-02-06T00:00:00",
          "2021-02-07T00:00:00",
          "2021-02-08T00:00:00",
          "2021-02-09T00:00:00",
          "2021-02-10T00:00:00"
         ],
         "y": [
          0.17,
          0.18,
          0.3,
          0.3,
          0.58,
          0.58,
          0.58,
          0.64,
          0.64,
          0.84,
          0.84,
          1.26,
          1.26,
          1.26,
          1.36,
          1.36,
          1.45,
          1.59,
          1.77,
          2,
          2.69,
          2.69,
          2.69,
          2.79,
          2.9,
          2.9,
          3.17,
          4.07,
          4.07,
          4.07,
          4.07,
          4.27,
          4.5,
          4.86,
          5.2,
          5.53,
          5.76,
          5.95,
          6.19,
          6.49,
          6.83,
          7.2,
          7.54,
          7.78,
          7.91,
          8.12,
          8.34,
          8.64,
          9.05,
          9.44,
          9.67,
          9.83,
          10.1
         ]
        },
        {
         "hoverinfo": "skip",
         "line": {
          "width": 0
         },
         "mode": "lines",
         "type": "scatter",
         "x": [
          "2020-12-20T00:00:00",
          "2020-12-21T00:00:00",
          "2020-12-22T00:00:00",
          "2020-12-23T00:00:00",
          "2020-12-24T00:00:00",
          "2020-12-25T00:00:00",
          "2020-12-26T00:00:00",
          "2020-12-27T00:00:00",
          "2020-12-28T00:00:00",
          "2020-12-29T00:00:00",
          "2020-12-30T00:00:00",
          "2020-12-31T00:00:00",
          "2021-01-01T00:00:00",
          "2021-01-02T00:00:00",
          "2021-01-03T00:00:00",
          "2021-01-04T00:00:00",
          "2021-01-05T00:00:00",
          "2021-01-06T00:00:00",
          "2021-01-07T00:00:00",
          "2021-01-08T00:00:00",
          "2021-01-09T00:00:00",
          "2021-01-10T00:00:00",
          "2021-01-11T00:00:00",
          "2021-01-12T00:00:00",
          "2021-01-13T00:00:00",
          "2021-01-14T00:00:00",
          "2021-01-15T00:00:00",
          "2021-01-16T00:00:00",
          "2021-01-17T00:00:00",
          "2021-01-18T00:00:00",
          "2021-01-19T00:00:00",
          "2021-01-20T00:00:00",
          "2021-01-21T00:00:00",
          "2021-01-22T00:00:00",
          "2021-01-23T00:00:00",
          "2021-01-24T00:00:00",
          "2021-01-25T00:00:00",
          "2021-01-26T00:00:00",
          "2021-01-27T00:00:00",
          "2021-01-28T00:00:00",
          "2021-01-29T00:00:00",
          "2021-01-30T00:00:00",
          "2021-01-31T00:00:00",
          "2021-02-01T00:00:00",
          "2021-02-02T00:00:00",
          "2021-02-03T00:00:00",
          "2021-02-04T00:00:00",
          "2021-02-05T00:00:00",
          "2021-02-06T00:00:00",
          "2021-02-07T00:00:00",
          "2021-02-08T00:00:00",
          "2021-02-09T00:00:00",
          "2021-02-10T00:00:00",
          "2021-02-11T00:00:00",
          "2021-02-12T00:00:00",
          "2021-02-13T00:00:00",
          "2021-02-14T00:00:00",
          "2021-02-15T00:00:00",
          "2021-02-16T00:00:00",
          "2021-02-17T00:00:00",
          "2021-02-18T00:00:00",
          "2021-02-19T00:00:00",
          "2021-02-20T00:00:00",
          "2021-02-21T00:00:00",
          "2021-02-22T00:00:00",
          "2021-02-23T00:00:00",
          "2021-02-24T00:00:00",
          "2021-02-25T00:00:00",
          "2021-02-26T00:00:00",
          "2021-02-27T00:00:00",
          "2021-02-28T00:00:00",
          "2021-03-01T00:00:00",
          "2021-03-02T00:00:00",
          "2021-03-03T00:00:00",
          "2021-03-04T00:00:00",
          "2021-03-05T00:00:00",
          "2021-03-06T00:00:00",
          "2021-03-07T00:00:00",
          "2021-03-08T00:00:00",
          "2021-03-09T00:00:00",
          "2021-03-10T00:00:00",
          "2021-03-11T00:00:00",
          "2021-03-12T00:00:00",
          "2021-03-13T00:00:00",
          "2021-03-14T00:00:00",
          "2021-03-15T00:00:00",
          "2021-03-16T00:00:00",
          "2021-03-17T00:00:00",
          "2021-03-18T00:00:00",
          "2021-03-19T00:00:00",
          "2021-03-20T00:00:00",
          "2021-03-21T00:00:00",
          "2021-03-22T00:00:00",
          "2021-03-23T00:00:00",
          "2021-03-24T00:00:00",
          "2021-03-25T00:00:00",
          "2021-03-26T00:00:00",
          "2021-03-27T00:00:00",
          "2021-03-28T00:00:00",
          "2021-03-29T00:00:00",
          "2021-03-30T00:00:00",
          "2021-03-31T00:00:00",
          "2021-04-01T00:00:00",
          "2021-04-02T00:00:00",
          "2021-04-03T00:00:00",
          "2021-04-04T00:00:00",
          "2021-04-05T00:00:00",
          "2021-04-06T00:00:00"
         ],
         "y": [
          -0.0501511918306889,
          -0.036790903309155826,
          -0.020248489222939765,
          0.02445772695888058,
          0.14037068112356857,
          0.25704588744107887,
          0.5196749354723533,
          0.5923694847509939,
          0.5766327667662471,
          0.626017382367574,
          0.6606965947281397,
          0.7638365610730895,
          0.8940939040994762,
          1.1660971949314092,
          1.239630201746777,
          1.22248069813567,
          1.248823131975591,
          1.378411123808391,
          1.6012358558693578,
          1.8436201978785922,
          2.19035082514192,
          2.36776229908765,
          2.4480179887111873,
          2.596897955970884,
          2.72358539504252,
          2.933403581515024,
          3.166196865099157,
          3.5369966122201557,
          3.6999770719596214,
          3.8033240483501114,
          3.940142815550625,
          4.0577216943173555,
          4.367498670817122,
          4.638095367799611,
          5.086987259757482,
          5.337565034943344,
          5.505693343204302,
          5.728063463143356,
          5.946374127237624,
          6.26518140522165,
          6.556708639771359,
          7.0160463135471005,
          7.2667297280513425,
          7.4442925239224245,
          7.691984367933748,
          7.873551543476691,
          8.16970395353925,
          8.506146161843176,
          8.945609310190756,
          9.21033664409741,
          9.376926292003978,
          9.611872780616785,
          9.81043929880108,
          10.115313543063607,
          10.415493515429596,
          10.889028467321955,
          11.124003310981827,
          11.283430129375555,
          11.482184915508837,
          11.684189991110834,
          11.997883240772179,
          12.241723391125118,
          12.71958236448349,
          12.893252365853415,
          13.055737488188838,
          13.254818071871478,
          13.396260926858771,
          13.671961401590323,
          13.92173453339214,
          14.35345088050413,
          14.546320523694892,
          14.702512632749858,
          14.845368807848962,
          14.969474653739907,
          15.215725549522816,
          15.511100115479795,
          15.948358257205184,
          16.130922167136525,
          16.251448481434544,
          16.369031690014307,
          16.576599442154627,
          16.835718590982797,
          17.052755440998812,
          17.448398680061725,
          17.692176711649452,
          17.78541437683154,
          17.940332898700603,
          18.0991955215199,
          18.309755770492096,
          18.525162942284254,
          18.972549053436456,
          19.071339918228567,
          19.19769407571534,
          19.312863515722537,
          19.424316391453992,
          19.641089882507362,
          19.918240991200165,
          20.279525286892635,
          20.423803169487098,
          20.517848456136228,
          20.61615548203816,
          20.75427401628778,
          20.96579482584581,
          21.183167012582693,
          21.543475049649036,
          21.802526642336595,
          21.798317526101293,
          21.919123980069056
         ]
        },
        {
         "fill": "tonexty",
         "fillcolor": "rgba(0, 114, 178, 0.2)",
         "line": {
          "color": "#0072B2",
          "width": 2
         },
         "mode": "lines",
         "name": "Predicted",
         "type": "scatter",
         "x": [
          "2020-12-20T00:00:00",
          "2020-12-21T00:00:00",
          "2020-12-22T00:00:00",
          "2020-12-23T00:00:00",
          "2020-12-24T00:00:00",
          "2020-12-25T00:00:00",
          "2020-12-26T00:00:00",
          "2020-12-27T00:00:00",
          "2020-12-28T00:00:00",
          "2020-12-29T00:00:00",
          "2020-12-30T00:00:00",
          "2020-12-31T00:00:00",
          "2021-01-01T00:00:00",
          "2021-01-02T00:00:00",
          "2021-01-03T00:00:00",
          "2021-01-04T00:00:00",
          "2021-01-05T00:00:00",
          "2021-01-06T00:00:00",
          "2021-01-07T00:00:00",
          "2021-01-08T00:00:00",
          "2021-01-09T00:00:00",
          "2021-01-10T00:00:00",
          "2021-01-11T00:00:00",
          "2021-01-12T00:00:00",
          "2021-01-13T00:00:00",
          "2021-01-14T00:00:00",
          "2021-01-15T00:00:00",
          "2021-01-16T00:00:00",
          "2021-01-17T00:00:00",
          "2021-01-18T00:00:00",
          "2021-01-19T00:00:00",
          "2021-01-20T00:00:00",
          "2021-01-21T00:00:00",
          "2021-01-22T00:00:00",
          "2021-01-23T00:00:00",
          "2021-01-24T00:00:00",
          "2021-01-25T00:00:00",
          "2021-01-26T00:00:00",
          "2021-01-27T00:00:00",
          "2021-01-28T00:00:00",
          "2021-01-29T00:00:00",
          "2021-01-30T00:00:00",
          "2021-01-31T00:00:00",
          "2021-02-01T00:00:00",
          "2021-02-02T00:00:00",
          "2021-02-03T00:00:00",
          "2021-02-04T00:00:00",
          "2021-02-05T00:00:00",
          "2021-02-06T00:00:00",
          "2021-02-07T00:00:00",
          "2021-02-08T00:00:00",
          "2021-02-09T00:00:00",
          "2021-02-10T00:00:00",
          "2021-02-11T00:00:00",
          "2021-02-12T00:00:00",
          "2021-02-13T00:00:00",
          "2021-02-14T00:00:00",
          "2021-02-15T00:00:00",
          "2021-02-16T00:00:00",
          "2021-02-17T00:00:00",
          "2021-02-18T00:00:00",
          "2021-02-19T00:00:00",
          "2021-02-20T00:00:00",
          "2021-02-21T00:00:00",
          "2021-02-22T00:00:00",
          "2021-02-23T00:00:00",
          "2021-02-24T00:00:00",
          "2021-02-25T00:00:00",
          "2021-02-26T00:00:00",
          "2021-02-27T00:00:00",
          "2021-02-28T00:00:00",
          "2021-03-01T00:00:00",
          "2021-03-02T00:00:00",
          "2021-03-03T00:00:00",
          "2021-03-04T00:00:00",
          "2021-03-05T00:00:00",
          "2021-03-06T00:00:00",
          "2021-03-07T00:00:00",
          "2021-03-08T00:00:00",
          "2021-03-09T00:00:00",
          "2021-03-10T00:00:00",
          "2021-03-11T00:00:00",
          "2021-03-12T00:00:00",
          "2021-03-13T00:00:00",
          "2021-03-14T00:00:00",
          "2021-03-15T00:00:00",
          "2021-03-16T00:00:00",
          "2021-03-17T00:00:00",
          "2021-03-18T00:00:00",
          "2021-03-19T00:00:00",
          "2021-03-20T00:00:00",
          "2021-03-21T00:00:00",
          "2021-03-22T00:00:00",
          "2021-03-23T00:00:00",
          "2021-03-24T00:00:00",
          "2021-03-25T00:00:00",
          "2021-03-26T00:00:00",
          "2021-03-27T00:00:00",
          "2021-03-28T00:00:00",
          "2021-03-29T00:00:00",
          "2021-03-30T00:00:00",
          "2021-03-31T00:00:00",
          "2021-04-01T00:00:00",
          "2021-04-02T00:00:00",
          "2021-04-03T00:00:00",
          "2021-04-04T00:00:00",
          "2021-04-05T00:00:00",
          "2021-04-06T00:00:00"
         ],
         "y": [
          0.18951728394947032,
          0.1831284358716058,
          0.21168937631289958,
          0.2503351688838869,
          0.36876823304174505,
          0.477442055264985,
          0.7583195190145419,
          0.8210962475489593,
          0.8147397953918359,
          0.8433663943124712,
          0.8820778453969502,
          1.0005999930088032,
          1.1093630168589894,
          1.3903296821373818,
          1.4532320763796727,
          1.4469688940562038,
          1.4760158795718379,
          1.6143837893664443,
          1.8325389707648927,
          2.04093819401054,
          2.4215410586841912,
          2.5840458446910928,
          2.677385054613103,
          2.805674053053926,
          2.94408040475635,
          3.162274028062285,
          3.3708202361136257,
          3.7560504858166612,
          3.923180000304591,
          4.021174947846092,
          4.154119683906627,
          4.297201511134779,
          4.583997901565346,
          4.861035050061091,
          5.310370262494285,
          5.558753436094087,
          5.737971033128367,
          5.952148103618834,
          6.1764100262740245,
          6.4804592205163125,
          6.7747491728135145,
          7.241242766539555,
          7.489635625080689,
          7.6688629070563685,
          7.88303997755136,
          8.107301900210476,
          8.411351094473382,
          8.705641046801725,
          9.172134640558351,
          9.420527499100034,
          9.599754781075285,
          9.813931851570429,
          10.038193774229608,
          10.342242968492512,
          10.636532920820848,
          11.103026514577442,
          11.351419373119057,
          11.530646655094406,
          11.744823725589493,
          11.969085648248742,
          12.273134842511473,
          12.567424794839994,
          13.033918388596533,
          13.282311247137905,
          13.461538529113112,
          13.675715599608484,
          13.89997752226759,
          14.204026716530539,
          14.498316668859141,
          14.964810262615627,
          15.213203121157111,
          15.392430403132686,
          15.606607473627548,
          15.830869396286726,
          16.13491859054954,
          16.429208542877745,
          16.89570213663442,
          17.14409499517596,
          17.3233222771516,
          17.537499347646616,
          17.76176127030572,
          18.065810464568667,
          18.360100416896866,
          18.826594010653398,
          19.07498686919481,
          19.254214151170512,
          19.46839122166568,
          19.692653144324815,
          19.99670233858767,
          20.290992290916012,
          20.757485884672608,
          21.00587874321383,
          21.18510602518988,
          21.399283095684552,
          21.62354501834381,
          21.92759421260667,
          22.221884164935165,
          22.688377758691697,
          22.93677061723318,
          23.115997899209,
          23.330174969703815,
          23.55443689236294,
          23.858486086625803,
          24.152776038953768,
          24.61926963271079,
          24.8676624912522,
          25.046889773227708,
          25.261066843722684
         ]
        },
        {
         "fill": "tonexty",
         "fillcolor": "rgba(0, 114, 178, 0.2)",
         "hoverinfo": "skip",
         "line": {
          "width": 0
         },
         "mode": "lines",
         "type": "scatter",
         "x": [
          "2020-12-20T00:00:00",
          "2020-12-21T00:00:00",
          "2020-12-22T00:00:00",
          "2020-12-23T00:00:00",
          "2020-12-24T00:00:00",
          "2020-12-25T00:00:00",
          "2020-12-26T00:00:00",
          "2020-12-27T00:00:00",
          "2020-12-28T00:00:00",
          "2020-12-29T00:00:00",
          "2020-12-30T00:00:00",
          "2020-12-31T00:00:00",
          "2021-01-01T00:00:00",
          "2021-01-02T00:00:00",
          "2021-01-03T00:00:00",
          "2021-01-04T00:00:00",
          "2021-01-05T00:00:00",
          "2021-01-06T00:00:00",
          "2021-01-07T00:00:00",
          "2021-01-08T00:00:00",
          "2021-01-09T00:00:00",
          "2021-01-10T00:00:00",
          "2021-01-11T00:00:00",
          "2021-01-12T00:00:00",
          "2021-01-13T00:00:00",
          "2021-01-14T00:00:00",
          "2021-01-15T00:00:00",
          "2021-01-16T00:00:00",
          "2021-01-17T00:00:00",
          "2021-01-18T00:00:00",
          "2021-01-19T00:00:00",
          "2021-01-20T00:00:00",
          "2021-01-21T00:00:00",
          "2021-01-22T00:00:00",
          "2021-01-23T00:00:00",
          "2021-01-24T00:00:00",
          "2021-01-25T00:00:00",
          "2021-01-26T00:00:00",
          "2021-01-27T00:00:00",
          "2021-01-28T00:00:00",
          "2021-01-29T00:00:00",
          "2021-01-30T00:00:00",
          "2021-01-31T00:00:00",
          "2021-02-01T00:00:00",
          "2021-02-02T00:00:00",
          "2021-02-03T00:00:00",
          "2021-02-04T00:00:00",
          "2021-02-05T00:00:00",
          "2021-02-06T00:00:00",
          "2021-02-07T00:00:00",
          "2021-02-08T00:00:00",
          "2021-02-09T00:00:00",
          "2021-02-10T00:00:00",
          "2021-02-11T00:00:00",
          "2021-02-12T00:00:00",
          "2021-02-13T00:00:00",
          "2021-02-14T00:00:00",
          "2021-02-15T00:00:00",
          "2021-02-16T00:00:00",
          "2021-02-17T00:00:00",
          "2021-02-18T00:00:00",
          "2021-02-19T00:00:00",
          "2021-02-20T00:00:00",
          "2021-02-21T00:00:00",
          "2021-02-22T00:00:00",
          "2021-02-23T00:00:00",
          "2021-02-24T00:00:00",
          "2021-02-25T00:00:00",
          "2021-02-26T00:00:00",
          "2021-02-27T00:00:00",
          "2021-02-28T00:00:00",
          "2021-03-01T00:00:00",
          "2021-03-02T00:00:00",
          "2021-03-03T00:00:00",
          "2021-03-04T00:00:00",
          "2021-03-05T00:00:00",
          "2021-03-06T00:00:00",
          "2021-03-07T00:00:00",
          "2021-03-08T00:00:00",
          "2021-03-09T00:00:00",
          "2021-03-10T00:00:00",
          "2021-03-11T00:00:00",
          "2021-03-12T00:00:00",
          "2021-03-13T00:00:00",
          "2021-03-14T00:00:00",
          "2021-03-15T00:00:00",
          "2021-03-16T00:00:00",
          "2021-03-17T00:00:00",
          "2021-03-18T00:00:00",
          "2021-03-19T00:00:00",
          "2021-03-20T00:00:00",
          "2021-03-21T00:00:00",
          "2021-03-22T00:00:00",
          "2021-03-23T00:00:00",
          "2021-03-24T00:00:00",
          "2021-03-25T00:00:00",
          "2021-03-26T00:00:00",
          "2021-03-27T00:00:00",
          "2021-03-28T00:00:00",
          "2021-03-29T00:00:00",
          "2021-03-30T00:00:00",
          "2021-03-31T00:00:00",
          "2021-04-01T00:00:00",
          "2021-04-02T00:00:00",
          "2021-04-03T00:00:00",
          "2021-04-04T00:00:00",
          "2021-04-05T00:00:00",
          "2021-04-06T00:00:00"
         ],
         "y": [
          0.4105735688069314,
          0.41339385359670633,
          0.42824119492971036,
          0.4756551097300251,
          0.5965863179401758,
          0.7032852620354276,
          0.9788459764083537,
          1.0445779041602599,
          1.0490213801584574,
          1.0497927153963165,
          1.1168649461463367,
          1.2122034985650003,
          1.355524393247466,
          1.6090968204766116,
          1.6726449253063267,
          1.6708810007414994,
          1.698982661282877,
          1.827683613069221,
          2.054226369059813,
          2.265865477845824,
          2.630778830766939,
          2.7943920019227124,
          2.891272011740855,
          3.0155584324014466,
          3.1578635397194375,
          3.3868283678778996,
          3.5972694477720837,
          3.9794180000089856,
          4.1566351520810585,
          4.243018159510066,
          4.381581921904693,
          4.5045399964178925,
          4.787270162058556,
          5.0763011022033915,
          5.52806873537729,
          5.787935617317125,
          5.970400660040139,
          6.178676076887013,
          6.3997634522840015,
          6.684134233149347,
          6.993666844734749,
          7.460123269770268,
          7.705985813322019,
          7.888229636875228,
          8.10506092268919,
          8.339771175368702,
          8.620041067605097,
          8.939570087119948,
          9.406192945401482,
          9.623064559453129,
          9.820715849817622,
          10.036277181285154,
          10.258249297869197,
          10.555610870170959,
          10.862130959086015,
          11.335391917771721,
          11.56400454954986,
          11.758136864596795,
          11.971543048019313,
          12.24888982105311,
          12.561398581628502,
          12.877581909242389,
          13.397876552219158,
          13.670985032961559,
          13.876911914359015,
          14.09749934317359,
          14.346601492263858,
          14.706557876716321,
          15.037806591714425,
          15.592876812124194,
          15.894088265569675,
          16.118195647298577,
          16.354075862356954,
          16.693052803205394,
          17.02831450882046,
          17.38020986067704,
          17.877598391771585,
          18.292822288759076,
          18.53383285577706,
          18.75856952139804,
          19.073335069825067,
          19.383853494804352,
          19.74841815261075,
          20.307994317751948,
          20.59030493940102,
          20.933266627492998,
          21.13307373312304,
          21.478731305787747,
          21.846045231068132,
          22.181675531267206,
          22.814242824900806,
          23.082661641604496,
          23.323303527012385,
          23.59858295770426,
          23.896354205808514,
          24.292693953991638,
          24.69657577614558,
          25.280849122005794,
          25.58963910145076,
          25.94340315532751,
          26.08969661145864,
          26.537177400505037,
          26.918066567228102,
          27.316251482152055,
          27.899559839928127,
          28.171023996241587,
          28.491040547400303,
          28.79574606221835
         ]
        }
       ],
       "layout": {
        "height": 600,
        "showlegend": false,
        "template": {
         "data": {
          "bar": [
           {
            "error_x": {
             "color": "#2a3f5f"
            },
            "error_y": {
             "color": "#2a3f5f"
            },
            "marker": {
             "line": {
              "color": "#E5ECF6",
              "width": 0.5
             }
            },
            "type": "bar"
           }
          ],
          "barpolar": [
           {
            "marker": {
             "line": {
              "color": "#E5ECF6",
              "width": 0.5
             }
            },
            "type": "barpolar"
           }
          ],
          "carpet": [
           {
            "aaxis": {
             "endlinecolor": "#2a3f5f",
             "gridcolor": "white",
             "linecolor": "white",
             "minorgridcolor": "white",
             "startlinecolor": "#2a3f5f"
            },
            "baxis": {
             "endlinecolor": "#2a3f5f",
             "gridcolor": "white",
             "linecolor": "white",
             "minorgridcolor": "white",
             "startlinecolor": "#2a3f5f"
            },
            "type": "carpet"
           }
          ],
          "choropleth": [
           {
            "colorbar": {
             "outlinewidth": 0,
             "ticks": ""
            },
            "type": "choropleth"
           }
          ],
          "contour": [
           {
            "colorbar": {
             "outlinewidth": 0,
             "ticks": ""
            },
            "colorscale": [
             [
              0,
              "#0d0887"
             ],
             [
              0.1111111111111111,
              "#46039f"
             ],
             [
              0.2222222222222222,
              "#7201a8"
             ],
             [
              0.3333333333333333,
              "#9c179e"
             ],
             [
              0.4444444444444444,
              "#bd3786"
             ],
             [
              0.5555555555555556,
              "#d8576b"
             ],
             [
              0.6666666666666666,
              "#ed7953"
             ],
             [
              0.7777777777777778,
              "#fb9f3a"
             ],
             [
              0.8888888888888888,
              "#fdca26"
             ],
             [
              1,
              "#f0f921"
             ]
            ],
            "type": "contour"
           }
          ],
          "contourcarpet": [
           {
            "colorbar": {
             "outlinewidth": 0,
             "ticks": ""
            },
            "type": "contourcarpet"
           }
          ],
          "heatmap": [
           {
            "colorbar": {
             "outlinewidth": 0,
             "ticks": ""
            },
            "colorscale": [
             [
              0,
              "#0d0887"
             ],
             [
              0.1111111111111111,
              "#46039f"
             ],
             [
              0.2222222222222222,
              "#7201a8"
             ],
             [
              0.3333333333333333,
              "#9c179e"
             ],
             [
              0.4444444444444444,
              "#bd3786"
             ],
             [
              0.5555555555555556,
              "#d8576b"
             ],
             [
              0.6666666666666666,
              "#ed7953"
             ],
             [
              0.7777777777777778,
              "#fb9f3a"
             ],
             [
              0.8888888888888888,
              "#fdca26"
             ],
             [
              1,
              "#f0f921"
             ]
            ],
            "type": "heatmap"
           }
          ],
          "heatmapgl": [
           {
            "colorbar": {
             "outlinewidth": 0,
             "ticks": ""
            },
            "colorscale": [
             [
              0,
              "#0d0887"
             ],
             [
              0.1111111111111111,
              "#46039f"
             ],
             [
              0.2222222222222222,
              "#7201a8"
             ],
             [
              0.3333333333333333,
              "#9c179e"
             ],
             [
              0.4444444444444444,
              "#bd3786"
             ],
             [
              0.5555555555555556,
              "#d8576b"
             ],
             [
              0.6666666666666666,
              "#ed7953"
             ],
             [
              0.7777777777777778,
              "#fb9f3a"
             ],
             [
              0.8888888888888888,
              "#fdca26"
             ],
             [
              1,
              "#f0f921"
             ]
            ],
            "type": "heatmapgl"
           }
          ],
          "histogram": [
           {
            "marker": {
             "colorbar": {
              "outlinewidth": 0,
              "ticks": ""
             }
            },
            "type": "histogram"
           }
          ],
          "histogram2d": [
           {
            "colorbar": {
             "outlinewidth": 0,
             "ticks": ""
            },
            "colorscale": [
             [
              0,
              "#0d0887"
             ],
             [
              0.1111111111111111,
              "#46039f"
             ],
             [
              0.2222222222222222,
              "#7201a8"
             ],
             [
              0.3333333333333333,
              "#9c179e"
             ],
             [
              0.4444444444444444,
              "#bd3786"
             ],
             [
              0.5555555555555556,
              "#d8576b"
             ],
             [
              0.6666666666666666,
              "#ed7953"
             ],
             [
              0.7777777777777778,
              "#fb9f3a"
             ],
             [
              0.8888888888888888,
              "#fdca26"
             ],
             [
              1,
              "#f0f921"
             ]
            ],
            "type": "histogram2d"
           }
          ],
          "histogram2dcontour": [
           {
            "colorbar": {
             "outlinewidth": 0,
             "ticks": ""
            },
            "colorscale": [
             [
              0,
              "#0d0887"
             ],
             [
              0.1111111111111111,
              "#46039f"
             ],
             [
              0.2222222222222222,
              "#7201a8"
             ],
             [
              0.3333333333333333,
              "#9c179e"
             ],
             [
              0.4444444444444444,
              "#bd3786"
             ],
             [
              0.5555555555555556,
              "#d8576b"
             ],
             [
              0.6666666666666666,
              "#ed7953"
             ],
             [
              0.7777777777777778,
              "#fb9f3a"
             ],
             [
              0.8888888888888888,
              "#fdca26"
             ],
             [
              1,
              "#f0f921"
             ]
            ],
            "type": "histogram2dcontour"
           }
          ],
          "mesh3d": [
           {
            "colorbar": {
             "outlinewidth": 0,
             "ticks": ""
            },
            "type": "mesh3d"
           }
          ],
          "parcoords": [
           {
            "line": {
             "colorbar": {
              "outlinewidth": 0,
              "ticks": ""
             }
            },
            "type": "parcoords"
           }
          ],
          "pie": [
           {
            "automargin": true,
            "type": "pie"
           }
          ],
          "scatter": [
           {
            "marker": {
             "colorbar": {
              "outlinewidth": 0,
              "ticks": ""
             }
            },
            "type": "scatter"
           }
          ],
          "scatter3d": [
           {
            "line": {
             "colorbar": {
              "outlinewidth": 0,
              "ticks": ""
             }
            },
            "marker": {
             "colorbar": {
              "outlinewidth": 0,
              "ticks": ""
             }
            },
            "type": "scatter3d"
           }
          ],
          "scattercarpet": [
           {
            "marker": {
             "colorbar": {
              "outlinewidth": 0,
              "ticks": ""
             }
            },
            "type": "scattercarpet"
           }
          ],
          "scattergeo": [
           {
            "marker": {
             "colorbar": {
              "outlinewidth": 0,
              "ticks": ""
             }
            },
            "type": "scattergeo"
           }
          ],
          "scattergl": [
           {
            "marker": {
             "colorbar": {
              "outlinewidth": 0,
              "ticks": ""
             }
            },
            "type": "scattergl"
           }
          ],
          "scattermapbox": [
           {
            "marker": {
             "colorbar": {
              "outlinewidth": 0,
              "ticks": ""
             }
            },
            "type": "scattermapbox"
           }
          ],
          "scatterpolar": [
           {
            "marker": {
             "colorbar": {
              "outlinewidth": 0,
              "ticks": ""
             }
            },
            "type": "scatterpolar"
           }
          ],
          "scatterpolargl": [
           {
            "marker": {
             "colorbar": {
              "outlinewidth": 0,
              "ticks": ""
             }
            },
            "type": "scatterpolargl"
           }
          ],
          "scatterternary": [
           {
            "marker": {
             "colorbar": {
              "outlinewidth": 0,
              "ticks": ""
             }
            },
            "type": "scatterternary"
           }
          ],
          "surface": [
           {
            "colorbar": {
             "outlinewidth": 0,
             "ticks": ""
            },
            "colorscale": [
             [
              0,
              "#0d0887"
             ],
             [
              0.1111111111111111,
              "#46039f"
             ],
             [
              0.2222222222222222,
              "#7201a8"
             ],
             [
              0.3333333333333333,
              "#9c179e"
             ],
             [
              0.4444444444444444,
              "#bd3786"
             ],
             [
              0.5555555555555556,
              "#d8576b"
             ],
             [
              0.6666666666666666,
              "#ed7953"
             ],
             [
              0.7777777777777778,
              "#fb9f3a"
             ],
             [
              0.8888888888888888,
              "#fdca26"
             ],
             [
              1,
              "#f0f921"
             ]
            ],
            "type": "surface"
           }
          ],
          "table": [
           {
            "cells": {
             "fill": {
              "color": "#EBF0F8"
             },
             "line": {
              "color": "white"
             }
            },
            "header": {
             "fill": {
              "color": "#C8D4E3"
             },
             "line": {
              "color": "white"
             }
            },
            "type": "table"
           }
          ]
         },
         "layout": {
          "annotationdefaults": {
           "arrowcolor": "#2a3f5f",
           "arrowhead": 0,
           "arrowwidth": 1
          },
          "autotypenumbers": "strict",
          "coloraxis": {
           "colorbar": {
            "outlinewidth": 0,
            "ticks": ""
           }
          },
          "colorscale": {
           "diverging": [
            [
             0,
             "#8e0152"
            ],
            [
             0.1,
             "#c51b7d"
            ],
            [
             0.2,
             "#de77ae"
            ],
            [
             0.3,
             "#f1b6da"
            ],
            [
             0.4,
             "#fde0ef"
            ],
            [
             0.5,
             "#f7f7f7"
            ],
            [
             0.6,
             "#e6f5d0"
            ],
            [
             0.7,
             "#b8e186"
            ],
            [
             0.8,
             "#7fbc41"
            ],
            [
             0.9,
             "#4d9221"
            ],
            [
             1,
             "#276419"
            ]
           ],
           "sequential": [
            [
             0,
             "#0d0887"
            ],
            [
             0.1111111111111111,
             "#46039f"
            ],
            [
             0.2222222222222222,
             "#7201a8"
            ],
            [
             0.3333333333333333,
             "#9c179e"
            ],
            [
             0.4444444444444444,
             "#bd3786"
            ],
            [
             0.5555555555555556,
             "#d8576b"
            ],
            [
             0.6666666666666666,
             "#ed7953"
            ],
            [
             0.7777777777777778,
             "#fb9f3a"
            ],
            [
             0.8888888888888888,
             "#fdca26"
            ],
            [
             1,
             "#f0f921"
            ]
           ],
           "sequentialminus": [
            [
             0,
             "#0d0887"
            ],
            [
             0.1111111111111111,
             "#46039f"
            ],
            [
             0.2222222222222222,
             "#7201a8"
            ],
            [
             0.3333333333333333,
             "#9c179e"
            ],
            [
             0.4444444444444444,
             "#bd3786"
            ],
            [
             0.5555555555555556,
             "#d8576b"
            ],
            [
             0.6666666666666666,
             "#ed7953"
            ],
            [
             0.7777777777777778,
             "#fb9f3a"
            ],
            [
             0.8888888888888888,
             "#fdca26"
            ],
            [
             1,
             "#f0f921"
            ]
           ]
          },
          "colorway": [
           "#636efa",
           "#EF553B",
           "#00cc96",
           "#ab63fa",
           "#FFA15A",
           "#19d3f3",
           "#FF6692",
           "#B6E880",
           "#FF97FF",
           "#FECB52"
          ],
          "font": {
           "color": "#2a3f5f"
          },
          "geo": {
           "bgcolor": "white",
           "lakecolor": "white",
           "landcolor": "#E5ECF6",
           "showlakes": true,
           "showland": true,
           "subunitcolor": "white"
          },
          "hoverlabel": {
           "align": "left"
          },
          "hovermode": "closest",
          "mapbox": {
           "style": "light"
          },
          "paper_bgcolor": "white",
          "plot_bgcolor": "#E5ECF6",
          "polar": {
           "angularaxis": {
            "gridcolor": "white",
            "linecolor": "white",
            "ticks": ""
           },
           "bgcolor": "#E5ECF6",
           "radialaxis": {
            "gridcolor": "white",
            "linecolor": "white",
            "ticks": ""
           }
          },
          "scene": {
           "xaxis": {
            "backgroundcolor": "#E5ECF6",
            "gridcolor": "white",
            "gridwidth": 2,
            "linecolor": "white",
            "showbackground": true,
            "ticks": "",
            "zerolinecolor": "white"
           },
           "yaxis": {
            "backgroundcolor": "#E5ECF6",
            "gridcolor": "white",
            "gridwidth": 2,
            "linecolor": "white",
            "showbackground": true,
            "ticks": "",
            "zerolinecolor": "white"
           },
           "zaxis": {
            "backgroundcolor": "#E5ECF6",
            "gridcolor": "white",
            "gridwidth": 2,
            "linecolor": "white",
            "showbackground": true,
            "ticks": "",
            "zerolinecolor": "white"
           }
          },
          "shapedefaults": {
           "line": {
            "color": "#2a3f5f"
           }
          },
          "ternary": {
           "aaxis": {
            "gridcolor": "white",
            "linecolor": "white",
            "ticks": ""
           },
           "baxis": {
            "gridcolor": "white",
            "linecolor": "white",
            "ticks": ""
           },
           "bgcolor": "#E5ECF6",
           "caxis": {
            "gridcolor": "white",
            "linecolor": "white",
            "ticks": ""
           }
          },
          "title": {
           "x": 0.05
          },
          "xaxis": {
           "automargin": true,
           "gridcolor": "white",
           "linecolor": "white",
           "ticks": "",
           "title": {
            "standoff": 15
           },
           "zerolinecolor": "white",
           "zerolinewidth": 2
          },
          "yaxis": {
           "automargin": true,
           "gridcolor": "white",
           "linecolor": "white",
           "ticks": "",
           "title": {
            "standoff": 15
           },
           "zerolinecolor": "white",
           "zerolinewidth": 2
          }
         }
        },
        "width": 900,
        "xaxis": {
         "rangeselector": {
          "buttons": [
           {
            "count": 7,
            "label": "1w",
            "step": "day",
            "stepmode": "backward"
           },
           {
            "count": 1,
            "label": "1m",
            "step": "month",
            "stepmode": "backward"
           },
           {
            "count": 6,
            "label": "6m",
            "step": "month",
            "stepmode": "backward"
           },
           {
            "count": 1,
            "label": "1y",
            "step": "year",
            "stepmode": "backward"
           },
           {
            "step": "all"
           }
          ]
         },
         "rangeslider": {
          "visible": true
         },
         "title": {
          "text": "ds"
         },
         "type": "date"
        },
        "yaxis": {
         "title": {
          "text": "y"
         }
        }
       }
      },
      "text/html": [
       "<div>                            <div id=\"a8260714-5326-4026-9952-8cde9aea3777\" class=\"plotly-graph-div\" style=\"height:600px; width:900px;\"></div>            <script type=\"text/javascript\">                require([\"plotly\"], function(Plotly) {                    window.PLOTLYENV=window.PLOTLYENV || {};                                    if (document.getElementById(\"a8260714-5326-4026-9952-8cde9aea3777\")) {                    Plotly.newPlot(                        \"a8260714-5326-4026-9952-8cde9aea3777\",                        [{\"marker\": {\"color\": \"black\", \"size\": 4}, \"mode\": \"markers\", \"name\": \"Actual\", \"type\": \"scatter\", \"x\": [\"2020-12-20T00:00:00\", \"2020-12-21T00:00:00\", \"2020-12-22T00:00:00\", \"2020-12-23T00:00:00\", \"2020-12-24T00:00:00\", \"2020-12-25T00:00:00\", \"2020-12-26T00:00:00\", \"2020-12-27T00:00:00\", \"2020-12-28T00:00:00\", \"2020-12-29T00:00:00\", \"2020-12-30T00:00:00\", \"2020-12-31T00:00:00\", \"2021-01-01T00:00:00\", \"2021-01-02T00:00:00\", \"2021-01-03T00:00:00\", \"2021-01-04T00:00:00\", \"2021-01-05T00:00:00\", \"2021-01-06T00:00:00\", \"2021-01-07T00:00:00\", \"2021-01-08T00:00:00\", \"2021-01-09T00:00:00\", \"2021-01-10T00:00:00\", \"2021-01-11T00:00:00\", \"2021-01-12T00:00:00\", \"2021-01-13T00:00:00\", \"2021-01-14T00:00:00\", \"2021-01-15T00:00:00\", \"2021-01-16T00:00:00\", \"2021-01-17T00:00:00\", \"2021-01-18T00:00:00\", \"2021-01-19T00:00:00\", \"2021-01-20T00:00:00\", \"2021-01-21T00:00:00\", \"2021-01-22T00:00:00\", \"2021-01-23T00:00:00\", \"2021-01-24T00:00:00\", \"2021-01-25T00:00:00\", \"2021-01-26T00:00:00\", \"2021-01-27T00:00:00\", \"2021-01-28T00:00:00\", \"2021-01-29T00:00:00\", \"2021-01-30T00:00:00\", \"2021-01-31T00:00:00\", \"2021-02-01T00:00:00\", \"2021-02-02T00:00:00\", \"2021-02-03T00:00:00\", \"2021-02-04T00:00:00\", \"2021-02-05T00:00:00\", \"2021-02-06T00:00:00\", \"2021-02-07T00:00:00\", \"2021-02-08T00:00:00\", \"2021-02-09T00:00:00\", \"2021-02-10T00:00:00\"], \"y\": [0.17, 0.18, 0.3, 0.3, 0.58, 0.58, 0.58, 0.64, 0.64, 0.84, 0.84, 1.26, 1.26, 1.26, 1.36, 1.36, 1.45, 1.59, 1.77, 2.0, 2.69, 2.69, 2.69, 2.79, 2.9, 2.9, 3.17, 4.07, 4.07, 4.07, 4.07, 4.27, 4.5, 4.86, 5.2, 5.53, 5.76, 5.95, 6.19, 6.49, 6.83, 7.2, 7.54, 7.78, 7.91, 8.12, 8.34, 8.64, 9.05, 9.44, 9.67, 9.83, 10.1]}, {\"hoverinfo\": \"skip\", \"line\": {\"width\": 0}, \"mode\": \"lines\", \"type\": \"scatter\", \"x\": [\"2020-12-20T00:00:00\", \"2020-12-21T00:00:00\", \"2020-12-22T00:00:00\", \"2020-12-23T00:00:00\", \"2020-12-24T00:00:00\", \"2020-12-25T00:00:00\", \"2020-12-26T00:00:00\", \"2020-12-27T00:00:00\", \"2020-12-28T00:00:00\", \"2020-12-29T00:00:00\", \"2020-12-30T00:00:00\", \"2020-12-31T00:00:00\", \"2021-01-01T00:00:00\", \"2021-01-02T00:00:00\", \"2021-01-03T00:00:00\", \"2021-01-04T00:00:00\", \"2021-01-05T00:00:00\", \"2021-01-06T00:00:00\", \"2021-01-07T00:00:00\", \"2021-01-08T00:00:00\", \"2021-01-09T00:00:00\", \"2021-01-10T00:00:00\", \"2021-01-11T00:00:00\", \"2021-01-12T00:00:00\", \"2021-01-13T00:00:00\", \"2021-01-14T00:00:00\", \"2021-01-15T00:00:00\", \"2021-01-16T00:00:00\", \"2021-01-17T00:00:00\", \"2021-01-18T00:00:00\", \"2021-01-19T00:00:00\", \"2021-01-20T00:00:00\", \"2021-01-21T00:00:00\", \"2021-01-22T00:00:00\", \"2021-01-23T00:00:00\", \"2021-01-24T00:00:00\", \"2021-01-25T00:00:00\", \"2021-01-26T00:00:00\", \"2021-01-27T00:00:00\", \"2021-01-28T00:00:00\", \"2021-01-29T00:00:00\", \"2021-01-30T00:00:00\", \"2021-01-31T00:00:00\", \"2021-02-01T00:00:00\", \"2021-02-02T00:00:00\", \"2021-02-03T00:00:00\", \"2021-02-04T00:00:00\", \"2021-02-05T00:00:00\", \"2021-02-06T00:00:00\", \"2021-02-07T00:00:00\", \"2021-02-08T00:00:00\", \"2021-02-09T00:00:00\", \"2021-02-10T00:00:00\", \"2021-02-11T00:00:00\", \"2021-02-12T00:00:00\", \"2021-02-13T00:00:00\", \"2021-02-14T00:00:00\", \"2021-02-15T00:00:00\", \"2021-02-16T00:00:00\", \"2021-02-17T00:00:00\", \"2021-02-18T00:00:00\", \"2021-02-19T00:00:00\", \"2021-02-20T00:00:00\", \"2021-02-21T00:00:00\", \"2021-02-22T00:00:00\", \"2021-02-23T00:00:00\", \"2021-02-24T00:00:00\", \"2021-02-25T00:00:00\", \"2021-02-26T00:00:00\", \"2021-02-27T00:00:00\", \"2021-02-28T00:00:00\", \"2021-03-01T00:00:00\", \"2021-03-02T00:00:00\", \"2021-03-03T00:00:00\", \"2021-03-04T00:00:00\", \"2021-03-05T00:00:00\", \"2021-03-06T00:00:00\", \"2021-03-07T00:00:00\", \"2021-03-08T00:00:00\", \"2021-03-09T00:00:00\", \"2021-03-10T00:00:00\", \"2021-03-11T00:00:00\", \"2021-03-12T00:00:00\", \"2021-03-13T00:00:00\", \"2021-03-14T00:00:00\", \"2021-03-15T00:00:00\", \"2021-03-16T00:00:00\", \"2021-03-17T00:00:00\", \"2021-03-18T00:00:00\", \"2021-03-19T00:00:00\", \"2021-03-20T00:00:00\", \"2021-03-21T00:00:00\", \"2021-03-22T00:00:00\", \"2021-03-23T00:00:00\", \"2021-03-24T00:00:00\", \"2021-03-25T00:00:00\", \"2021-03-26T00:00:00\", \"2021-03-27T00:00:00\", \"2021-03-28T00:00:00\", \"2021-03-29T00:00:00\", \"2021-03-30T00:00:00\", \"2021-03-31T00:00:00\", \"2021-04-01T00:00:00\", \"2021-04-02T00:00:00\", \"2021-04-03T00:00:00\", \"2021-04-04T00:00:00\", \"2021-04-05T00:00:00\", \"2021-04-06T00:00:00\"], \"y\": [-0.0501511918306889, -0.036790903309155826, -0.020248489222939765, 0.02445772695888058, 0.14037068112356857, 0.25704588744107887, 0.5196749354723533, 0.5923694847509939, 0.5766327667662471, 0.626017382367574, 0.6606965947281397, 0.7638365610730895, 0.8940939040994762, 1.1660971949314092, 1.239630201746777, 1.22248069813567, 1.248823131975591, 1.378411123808391, 1.6012358558693578, 1.8436201978785922, 2.19035082514192, 2.36776229908765, 2.4480179887111873, 2.596897955970884, 2.72358539504252, 2.933403581515024, 3.166196865099157, 3.5369966122201557, 3.6999770719596214, 3.8033240483501114, 3.940142815550625, 4.0577216943173555, 4.367498670817122, 4.638095367799611, 5.086987259757482, 5.337565034943344, 5.505693343204302, 5.728063463143356, 5.946374127237624, 6.26518140522165, 6.556708639771359, 7.0160463135471005, 7.2667297280513425, 7.4442925239224245, 7.691984367933748, 7.873551543476691, 8.16970395353925, 8.506146161843176, 8.945609310190756, 9.21033664409741, 9.376926292003978, 9.611872780616785, 9.81043929880108, 10.115313543063607, 10.415493515429596, 10.889028467321955, 11.124003310981827, 11.283430129375555, 11.482184915508837, 11.684189991110834, 11.997883240772179, 12.241723391125118, 12.71958236448349, 12.893252365853415, 13.055737488188838, 13.254818071871478, 13.396260926858771, 13.671961401590323, 13.92173453339214, 14.35345088050413, 14.546320523694892, 14.702512632749858, 14.845368807848962, 14.969474653739907, 15.215725549522816, 15.511100115479795, 15.948358257205184, 16.130922167136525, 16.251448481434544, 16.369031690014307, 16.576599442154627, 16.835718590982797, 17.052755440998812, 17.448398680061725, 17.692176711649452, 17.78541437683154, 17.940332898700603, 18.0991955215199, 18.309755770492096, 18.525162942284254, 18.972549053436456, 19.071339918228567, 19.19769407571534, 19.312863515722537, 19.424316391453992, 19.641089882507362, 19.918240991200165, 20.279525286892635, 20.423803169487098, 20.517848456136228, 20.61615548203816, 20.75427401628778, 20.96579482584581, 21.183167012582693, 21.543475049649036, 21.802526642336595, 21.798317526101293, 21.919123980069056]}, {\"fill\": \"tonexty\", \"fillcolor\": \"rgba(0, 114, 178, 0.2)\", \"line\": {\"color\": \"#0072B2\", \"width\": 2}, \"mode\": \"lines\", \"name\": \"Predicted\", \"type\": \"scatter\", \"x\": [\"2020-12-20T00:00:00\", \"2020-12-21T00:00:00\", \"2020-12-22T00:00:00\", \"2020-12-23T00:00:00\", \"2020-12-24T00:00:00\", \"2020-12-25T00:00:00\", \"2020-12-26T00:00:00\", \"2020-12-27T00:00:00\", \"2020-12-28T00:00:00\", \"2020-12-29T00:00:00\", \"2020-12-30T00:00:00\", \"2020-12-31T00:00:00\", \"2021-01-01T00:00:00\", \"2021-01-02T00:00:00\", \"2021-01-03T00:00:00\", \"2021-01-04T00:00:00\", \"2021-01-05T00:00:00\", \"2021-01-06T00:00:00\", \"2021-01-07T00:00:00\", \"2021-01-08T00:00:00\", \"2021-01-09T00:00:00\", \"2021-01-10T00:00:00\", \"2021-01-11T00:00:00\", \"2021-01-12T00:00:00\", \"2021-01-13T00:00:00\", \"2021-01-14T00:00:00\", \"2021-01-15T00:00:00\", \"2021-01-16T00:00:00\", \"2021-01-17T00:00:00\", \"2021-01-18T00:00:00\", \"2021-01-19T00:00:00\", \"2021-01-20T00:00:00\", \"2021-01-21T00:00:00\", \"2021-01-22T00:00:00\", \"2021-01-23T00:00:00\", \"2021-01-24T00:00:00\", \"2021-01-25T00:00:00\", \"2021-01-26T00:00:00\", \"2021-01-27T00:00:00\", \"2021-01-28T00:00:00\", \"2021-01-29T00:00:00\", \"2021-01-30T00:00:00\", \"2021-01-31T00:00:00\", \"2021-02-01T00:00:00\", \"2021-02-02T00:00:00\", \"2021-02-03T00:00:00\", \"2021-02-04T00:00:00\", \"2021-02-05T00:00:00\", \"2021-02-06T00:00:00\", \"2021-02-07T00:00:00\", \"2021-02-08T00:00:00\", \"2021-02-09T00:00:00\", \"2021-02-10T00:00:00\", \"2021-02-11T00:00:00\", \"2021-02-12T00:00:00\", \"2021-02-13T00:00:00\", \"2021-02-14T00:00:00\", \"2021-02-15T00:00:00\", \"2021-02-16T00:00:00\", \"2021-02-17T00:00:00\", \"2021-02-18T00:00:00\", \"2021-02-19T00:00:00\", \"2021-02-20T00:00:00\", \"2021-02-21T00:00:00\", \"2021-02-22T00:00:00\", \"2021-02-23T00:00:00\", \"2021-02-24T00:00:00\", \"2021-02-25T00:00:00\", \"2021-02-26T00:00:00\", \"2021-02-27T00:00:00\", \"2021-02-28T00:00:00\", \"2021-03-01T00:00:00\", \"2021-03-02T00:00:00\", \"2021-03-03T00:00:00\", \"2021-03-04T00:00:00\", \"2021-03-05T00:00:00\", \"2021-03-06T00:00:00\", \"2021-03-07T00:00:00\", \"2021-03-08T00:00:00\", \"2021-03-09T00:00:00\", \"2021-03-10T00:00:00\", \"2021-03-11T00:00:00\", \"2021-03-12T00:00:00\", \"2021-03-13T00:00:00\", \"2021-03-14T00:00:00\", \"2021-03-15T00:00:00\", \"2021-03-16T00:00:00\", \"2021-03-17T00:00:00\", \"2021-03-18T00:00:00\", \"2021-03-19T00:00:00\", \"2021-03-20T00:00:00\", \"2021-03-21T00:00:00\", \"2021-03-22T00:00:00\", \"2021-03-23T00:00:00\", \"2021-03-24T00:00:00\", \"2021-03-25T00:00:00\", \"2021-03-26T00:00:00\", \"2021-03-27T00:00:00\", \"2021-03-28T00:00:00\", \"2021-03-29T00:00:00\", \"2021-03-30T00:00:00\", \"2021-03-31T00:00:00\", \"2021-04-01T00:00:00\", \"2021-04-02T00:00:00\", \"2021-04-03T00:00:00\", \"2021-04-04T00:00:00\", \"2021-04-05T00:00:00\", \"2021-04-06T00:00:00\"], \"y\": [0.18951728394947032, 0.1831284358716058, 0.21168937631289958, 0.2503351688838869, 0.36876823304174505, 0.477442055264985, 0.7583195190145419, 0.8210962475489593, 0.8147397953918359, 0.8433663943124712, 0.8820778453969502, 1.0005999930088032, 1.1093630168589894, 1.3903296821373818, 1.4532320763796727, 1.4469688940562038, 1.4760158795718379, 1.6143837893664443, 1.8325389707648927, 2.04093819401054, 2.4215410586841912, 2.5840458446910928, 2.677385054613103, 2.805674053053926, 2.94408040475635, 3.162274028062285, 3.3708202361136257, 3.7560504858166612, 3.923180000304591, 4.021174947846092, 4.154119683906627, 4.297201511134779, 4.583997901565346, 4.861035050061091, 5.310370262494285, 5.558753436094087, 5.737971033128367, 5.952148103618834, 6.1764100262740245, 6.4804592205163125, 6.7747491728135145, 7.241242766539555, 7.489635625080689, 7.6688629070563685, 7.88303997755136, 8.107301900210476, 8.411351094473382, 8.705641046801725, 9.172134640558351, 9.420527499100034, 9.599754781075285, 9.813931851570429, 10.038193774229608, 10.342242968492512, 10.636532920820848, 11.103026514577442, 11.351419373119057, 11.530646655094406, 11.744823725589493, 11.969085648248742, 12.273134842511473, 12.567424794839994, 13.033918388596533, 13.282311247137905, 13.461538529113112, 13.675715599608484, 13.89997752226759, 14.204026716530539, 14.498316668859141, 14.964810262615627, 15.213203121157111, 15.392430403132686, 15.606607473627548, 15.830869396286726, 16.13491859054954, 16.429208542877745, 16.89570213663442, 17.14409499517596, 17.3233222771516, 17.537499347646616, 17.76176127030572, 18.065810464568667, 18.360100416896866, 18.826594010653398, 19.07498686919481, 19.254214151170512, 19.46839122166568, 19.692653144324815, 19.99670233858767, 20.290992290916012, 20.757485884672608, 21.00587874321383, 21.18510602518988, 21.399283095684552, 21.62354501834381, 21.92759421260667, 22.221884164935165, 22.688377758691697, 22.93677061723318, 23.115997899209, 23.330174969703815, 23.55443689236294, 23.858486086625803, 24.152776038953768, 24.61926963271079, 24.8676624912522, 25.046889773227708, 25.261066843722684]}, {\"fill\": \"tonexty\", \"fillcolor\": \"rgba(0, 114, 178, 0.2)\", \"hoverinfo\": \"skip\", \"line\": {\"width\": 0}, \"mode\": \"lines\", \"type\": \"scatter\", \"x\": [\"2020-12-20T00:00:00\", \"2020-12-21T00:00:00\", \"2020-12-22T00:00:00\", \"2020-12-23T00:00:00\", \"2020-12-24T00:00:00\", \"2020-12-25T00:00:00\", \"2020-12-26T00:00:00\", \"2020-12-27T00:00:00\", \"2020-12-28T00:00:00\", \"2020-12-29T00:00:00\", \"2020-12-30T00:00:00\", \"2020-12-31T00:00:00\", \"2021-01-01T00:00:00\", \"2021-01-02T00:00:00\", \"2021-01-03T00:00:00\", \"2021-01-04T00:00:00\", \"2021-01-05T00:00:00\", \"2021-01-06T00:00:00\", \"2021-01-07T00:00:00\", \"2021-01-08T00:00:00\", \"2021-01-09T00:00:00\", \"2021-01-10T00:00:00\", \"2021-01-11T00:00:00\", \"2021-01-12T00:00:00\", \"2021-01-13T00:00:00\", \"2021-01-14T00:00:00\", \"2021-01-15T00:00:00\", \"2021-01-16T00:00:00\", \"2021-01-17T00:00:00\", \"2021-01-18T00:00:00\", \"2021-01-19T00:00:00\", \"2021-01-20T00:00:00\", \"2021-01-21T00:00:00\", \"2021-01-22T00:00:00\", \"2021-01-23T00:00:00\", \"2021-01-24T00:00:00\", \"2021-01-25T00:00:00\", \"2021-01-26T00:00:00\", \"2021-01-27T00:00:00\", \"2021-01-28T00:00:00\", \"2021-01-29T00:00:00\", \"2021-01-30T00:00:00\", \"2021-01-31T00:00:00\", \"2021-02-01T00:00:00\", \"2021-02-02T00:00:00\", \"2021-02-03T00:00:00\", \"2021-02-04T00:00:00\", \"2021-02-05T00:00:00\", \"2021-02-06T00:00:00\", \"2021-02-07T00:00:00\", \"2021-02-08T00:00:00\", \"2021-02-09T00:00:00\", \"2021-02-10T00:00:00\", \"2021-02-11T00:00:00\", \"2021-02-12T00:00:00\", \"2021-02-13T00:00:00\", \"2021-02-14T00:00:00\", \"2021-02-15T00:00:00\", \"2021-02-16T00:00:00\", \"2021-02-17T00:00:00\", \"2021-02-18T00:00:00\", \"2021-02-19T00:00:00\", \"2021-02-20T00:00:00\", \"2021-02-21T00:00:00\", \"2021-02-22T00:00:00\", \"2021-02-23T00:00:00\", \"2021-02-24T00:00:00\", \"2021-02-25T00:00:00\", \"2021-02-26T00:00:00\", \"2021-02-27T00:00:00\", \"2021-02-28T00:00:00\", \"2021-03-01T00:00:00\", \"2021-03-02T00:00:00\", \"2021-03-03T00:00:00\", \"2021-03-04T00:00:00\", \"2021-03-05T00:00:00\", \"2021-03-06T00:00:00\", \"2021-03-07T00:00:00\", \"2021-03-08T00:00:00\", \"2021-03-09T00:00:00\", \"2021-03-10T00:00:00\", \"2021-03-11T00:00:00\", \"2021-03-12T00:00:00\", \"2021-03-13T00:00:00\", \"2021-03-14T00:00:00\", \"2021-03-15T00:00:00\", \"2021-03-16T00:00:00\", \"2021-03-17T00:00:00\", \"2021-03-18T00:00:00\", \"2021-03-19T00:00:00\", \"2021-03-20T00:00:00\", \"2021-03-21T00:00:00\", \"2021-03-22T00:00:00\", \"2021-03-23T00:00:00\", \"2021-03-24T00:00:00\", \"2021-03-25T00:00:00\", \"2021-03-26T00:00:00\", \"2021-03-27T00:00:00\", \"2021-03-28T00:00:00\", \"2021-03-29T00:00:00\", \"2021-03-30T00:00:00\", \"2021-03-31T00:00:00\", \"2021-04-01T00:00:00\", \"2021-04-02T00:00:00\", \"2021-04-03T00:00:00\", \"2021-04-04T00:00:00\", \"2021-04-05T00:00:00\", \"2021-04-06T00:00:00\"], \"y\": [0.4105735688069314, 0.41339385359670633, 0.42824119492971036, 0.4756551097300251, 0.5965863179401758, 0.7032852620354276, 0.9788459764083537, 1.0445779041602599, 1.0490213801584574, 1.0497927153963165, 1.1168649461463367, 1.2122034985650003, 1.355524393247466, 1.6090968204766116, 1.6726449253063267, 1.6708810007414994, 1.698982661282877, 1.827683613069221, 2.054226369059813, 2.265865477845824, 2.630778830766939, 2.7943920019227124, 2.891272011740855, 3.0155584324014466, 3.1578635397194375, 3.3868283678778996, 3.5972694477720837, 3.9794180000089856, 4.1566351520810585, 4.243018159510066, 4.381581921904693, 4.5045399964178925, 4.787270162058556, 5.0763011022033915, 5.52806873537729, 5.787935617317125, 5.970400660040139, 6.178676076887013, 6.3997634522840015, 6.684134233149347, 6.993666844734749, 7.460123269770268, 7.705985813322019, 7.888229636875228, 8.10506092268919, 8.339771175368702, 8.620041067605097, 8.939570087119948, 9.406192945401482, 9.623064559453129, 9.820715849817622, 10.036277181285154, 10.258249297869197, 10.555610870170959, 10.862130959086015, 11.335391917771721, 11.56400454954986, 11.758136864596795, 11.971543048019313, 12.24888982105311, 12.561398581628502, 12.877581909242389, 13.397876552219158, 13.670985032961559, 13.876911914359015, 14.09749934317359, 14.346601492263858, 14.706557876716321, 15.037806591714425, 15.592876812124194, 15.894088265569675, 16.118195647298577, 16.354075862356954, 16.693052803205394, 17.02831450882046, 17.38020986067704, 17.877598391771585, 18.292822288759076, 18.53383285577706, 18.75856952139804, 19.073335069825067, 19.383853494804352, 19.74841815261075, 20.307994317751948, 20.59030493940102, 20.933266627492998, 21.13307373312304, 21.478731305787747, 21.846045231068132, 22.181675531267206, 22.814242824900806, 23.082661641604496, 23.323303527012385, 23.59858295770426, 23.896354205808514, 24.292693953991638, 24.69657577614558, 25.280849122005794, 25.58963910145076, 25.94340315532751, 26.08969661145864, 26.537177400505037, 26.918066567228102, 27.316251482152055, 27.899559839928127, 28.171023996241587, 28.491040547400303, 28.79574606221835]}],                        {\"height\": 600, \"showlegend\": false, \"template\": {\"data\": {\"bar\": [{\"error_x\": {\"color\": \"#2a3f5f\"}, \"error_y\": {\"color\": \"#2a3f5f\"}, \"marker\": {\"line\": {\"color\": \"#E5ECF6\", \"width\": 0.5}}, \"type\": \"bar\"}], \"barpolar\": [{\"marker\": {\"line\": {\"color\": \"#E5ECF6\", \"width\": 0.5}}, \"type\": \"barpolar\"}], \"carpet\": [{\"aaxis\": {\"endlinecolor\": \"#2a3f5f\", \"gridcolor\": \"white\", \"linecolor\": \"white\", \"minorgridcolor\": \"white\", \"startlinecolor\": \"#2a3f5f\"}, \"baxis\": {\"endlinecolor\": \"#2a3f5f\", \"gridcolor\": \"white\", \"linecolor\": \"white\", \"minorgridcolor\": \"white\", \"startlinecolor\": \"#2a3f5f\"}, \"type\": \"carpet\"}], \"choropleth\": [{\"colorbar\": {\"outlinewidth\": 0, \"ticks\": \"\"}, \"type\": \"choropleth\"}], \"contour\": [{\"colorbar\": {\"outlinewidth\": 0, \"ticks\": \"\"}, \"colorscale\": [[0.0, \"#0d0887\"], [0.1111111111111111, \"#46039f\"], [0.2222222222222222, \"#7201a8\"], [0.3333333333333333, \"#9c179e\"], [0.4444444444444444, \"#bd3786\"], [0.5555555555555556, \"#d8576b\"], [0.6666666666666666, \"#ed7953\"], [0.7777777777777778, \"#fb9f3a\"], [0.8888888888888888, \"#fdca26\"], [1.0, \"#f0f921\"]], \"type\": \"contour\"}], \"contourcarpet\": [{\"colorbar\": {\"outlinewidth\": 0, \"ticks\": \"\"}, \"type\": \"contourcarpet\"}], \"heatmap\": [{\"colorbar\": {\"outlinewidth\": 0, \"ticks\": \"\"}, \"colorscale\": [[0.0, \"#0d0887\"], [0.1111111111111111, \"#46039f\"], [0.2222222222222222, \"#7201a8\"], [0.3333333333333333, \"#9c179e\"], [0.4444444444444444, \"#bd3786\"], [0.5555555555555556, \"#d8576b\"], [0.6666666666666666, \"#ed7953\"], [0.7777777777777778, \"#fb9f3a\"], [0.8888888888888888, \"#fdca26\"], [1.0, \"#f0f921\"]], \"type\": \"heatmap\"}], \"heatmapgl\": [{\"colorbar\": {\"outlinewidth\": 0, \"ticks\": \"\"}, \"colorscale\": [[0.0, \"#0d0887\"], [0.1111111111111111, \"#46039f\"], [0.2222222222222222, \"#7201a8\"], [0.3333333333333333, \"#9c179e\"], [0.4444444444444444, \"#bd3786\"], [0.5555555555555556, \"#d8576b\"], [0.6666666666666666, \"#ed7953\"], [0.7777777777777778, \"#fb9f3a\"], [0.8888888888888888, \"#fdca26\"], [1.0, \"#f0f921\"]], \"type\": \"heatmapgl\"}], \"histogram\": [{\"marker\": {\"colorbar\": {\"outlinewidth\": 0, \"ticks\": \"\"}}, \"type\": \"histogram\"}], \"histogram2d\": [{\"colorbar\": {\"outlinewidth\": 0, \"ticks\": \"\"}, \"colorscale\": [[0.0, \"#0d0887\"], [0.1111111111111111, \"#46039f\"], [0.2222222222222222, \"#7201a8\"], [0.3333333333333333, \"#9c179e\"], [0.4444444444444444, \"#bd3786\"], [0.5555555555555556, \"#d8576b\"], [0.6666666666666666, \"#ed7953\"], [0.7777777777777778, \"#fb9f3a\"], [0.8888888888888888, \"#fdca26\"], [1.0, \"#f0f921\"]], \"type\": \"histogram2d\"}], \"histogram2dcontour\": [{\"colorbar\": {\"outlinewidth\": 0, \"ticks\": \"\"}, \"colorscale\": [[0.0, \"#0d0887\"], [0.1111111111111111, \"#46039f\"], [0.2222222222222222, \"#7201a8\"], [0.3333333333333333, \"#9c179e\"], [0.4444444444444444, \"#bd3786\"], [0.5555555555555556, \"#d8576b\"], [0.6666666666666666, \"#ed7953\"], [0.7777777777777778, \"#fb9f3a\"], [0.8888888888888888, \"#fdca26\"], [1.0, \"#f0f921\"]], \"type\": \"histogram2dcontour\"}], \"mesh3d\": [{\"colorbar\": {\"outlinewidth\": 0, \"ticks\": \"\"}, \"type\": \"mesh3d\"}], \"parcoords\": [{\"line\": {\"colorbar\": {\"outlinewidth\": 0, \"ticks\": \"\"}}, \"type\": \"parcoords\"}], \"pie\": [{\"automargin\": true, \"type\": \"pie\"}], \"scatter\": [{\"marker\": {\"colorbar\": {\"outlinewidth\": 0, \"ticks\": \"\"}}, \"type\": \"scatter\"}], \"scatter3d\": [{\"line\": {\"colorbar\": {\"outlinewidth\": 0, \"ticks\": \"\"}}, \"marker\": {\"colorbar\": {\"outlinewidth\": 0, \"ticks\": \"\"}}, \"type\": \"scatter3d\"}], \"scattercarpet\": [{\"marker\": {\"colorbar\": {\"outlinewidth\": 0, \"ticks\": \"\"}}, \"type\": \"scattercarpet\"}], \"scattergeo\": [{\"marker\": {\"colorbar\": {\"outlinewidth\": 0, \"ticks\": \"\"}}, \"type\": \"scattergeo\"}], \"scattergl\": [{\"marker\": {\"colorbar\": {\"outlinewidth\": 0, \"ticks\": \"\"}}, \"type\": \"scattergl\"}], \"scattermapbox\": [{\"marker\": {\"colorbar\": {\"outlinewidth\": 0, \"ticks\": \"\"}}, \"type\": \"scattermapbox\"}], \"scatterpolar\": [{\"marker\": {\"colorbar\": {\"outlinewidth\": 0, \"ticks\": \"\"}}, \"type\": \"scatterpolar\"}], \"scatterpolargl\": [{\"marker\": {\"colorbar\": {\"outlinewidth\": 0, \"ticks\": \"\"}}, \"type\": \"scatterpolargl\"}], \"scatterternary\": [{\"marker\": {\"colorbar\": {\"outlinewidth\": 0, \"ticks\": \"\"}}, \"type\": \"scatterternary\"}], \"surface\": [{\"colorbar\": {\"outlinewidth\": 0, \"ticks\": \"\"}, \"colorscale\": [[0.0, \"#0d0887\"], [0.1111111111111111, \"#46039f\"], [0.2222222222222222, \"#7201a8\"], [0.3333333333333333, \"#9c179e\"], [0.4444444444444444, \"#bd3786\"], [0.5555555555555556, \"#d8576b\"], [0.6666666666666666, \"#ed7953\"], [0.7777777777777778, \"#fb9f3a\"], [0.8888888888888888, \"#fdca26\"], [1.0, \"#f0f921\"]], \"type\": \"surface\"}], \"table\": [{\"cells\": {\"fill\": {\"color\": \"#EBF0F8\"}, \"line\": {\"color\": \"white\"}}, \"header\": {\"fill\": {\"color\": \"#C8D4E3\"}, \"line\": {\"color\": \"white\"}}, \"type\": \"table\"}]}, \"layout\": {\"annotationdefaults\": {\"arrowcolor\": \"#2a3f5f\", \"arrowhead\": 0, \"arrowwidth\": 1}, \"autotypenumbers\": \"strict\", \"coloraxis\": {\"colorbar\": {\"outlinewidth\": 0, \"ticks\": \"\"}}, \"colorscale\": {\"diverging\": [[0, \"#8e0152\"], [0.1, \"#c51b7d\"], [0.2, \"#de77ae\"], [0.3, \"#f1b6da\"], [0.4, \"#fde0ef\"], [0.5, \"#f7f7f7\"], [0.6, \"#e6f5d0\"], [0.7, \"#b8e186\"], [0.8, \"#7fbc41\"], [0.9, \"#4d9221\"], [1, \"#276419\"]], \"sequential\": [[0.0, \"#0d0887\"], [0.1111111111111111, \"#46039f\"], [0.2222222222222222, \"#7201a8\"], [0.3333333333333333, \"#9c179e\"], [0.4444444444444444, \"#bd3786\"], [0.5555555555555556, \"#d8576b\"], [0.6666666666666666, \"#ed7953\"], [0.7777777777777778, \"#fb9f3a\"], [0.8888888888888888, \"#fdca26\"], [1.0, \"#f0f921\"]], \"sequentialminus\": [[0.0, \"#0d0887\"], [0.1111111111111111, \"#46039f\"], [0.2222222222222222, \"#7201a8\"], [0.3333333333333333, \"#9c179e\"], [0.4444444444444444, \"#bd3786\"], [0.5555555555555556, \"#d8576b\"], [0.6666666666666666, \"#ed7953\"], [0.7777777777777778, \"#fb9f3a\"], [0.8888888888888888, \"#fdca26\"], [1.0, \"#f0f921\"]]}, \"colorway\": [\"#636efa\", \"#EF553B\", \"#00cc96\", \"#ab63fa\", \"#FFA15A\", \"#19d3f3\", \"#FF6692\", \"#B6E880\", \"#FF97FF\", \"#FECB52\"], \"font\": {\"color\": \"#2a3f5f\"}, \"geo\": {\"bgcolor\": \"white\", \"lakecolor\": \"white\", \"landcolor\": \"#E5ECF6\", \"showlakes\": true, \"showland\": true, \"subunitcolor\": \"white\"}, \"hoverlabel\": {\"align\": \"left\"}, \"hovermode\": \"closest\", \"mapbox\": {\"style\": \"light\"}, \"paper_bgcolor\": \"white\", \"plot_bgcolor\": \"#E5ECF6\", \"polar\": {\"angularaxis\": {\"gridcolor\": \"white\", \"linecolor\": \"white\", \"ticks\": \"\"}, \"bgcolor\": \"#E5ECF6\", \"radialaxis\": {\"gridcolor\": \"white\", \"linecolor\": \"white\", \"ticks\": \"\"}}, \"scene\": {\"xaxis\": {\"backgroundcolor\": \"#E5ECF6\", \"gridcolor\": \"white\", \"gridwidth\": 2, \"linecolor\": \"white\", \"showbackground\": true, \"ticks\": \"\", \"zerolinecolor\": \"white\"}, \"yaxis\": {\"backgroundcolor\": \"#E5ECF6\", \"gridcolor\": \"white\", \"gridwidth\": 2, \"linecolor\": \"white\", \"showbackground\": true, \"ticks\": \"\", \"zerolinecolor\": \"white\"}, \"zaxis\": {\"backgroundcolor\": \"#E5ECF6\", \"gridcolor\": \"white\", \"gridwidth\": 2, \"linecolor\": \"white\", \"showbackground\": true, \"ticks\": \"\", \"zerolinecolor\": \"white\"}}, \"shapedefaults\": {\"line\": {\"color\": \"#2a3f5f\"}}, \"ternary\": {\"aaxis\": {\"gridcolor\": \"white\", \"linecolor\": \"white\", \"ticks\": \"\"}, \"baxis\": {\"gridcolor\": \"white\", \"linecolor\": \"white\", \"ticks\": \"\"}, \"bgcolor\": \"#E5ECF6\", \"caxis\": {\"gridcolor\": \"white\", \"linecolor\": \"white\", \"ticks\": \"\"}}, \"title\": {\"x\": 0.05}, \"xaxis\": {\"automargin\": true, \"gridcolor\": \"white\", \"linecolor\": \"white\", \"ticks\": \"\", \"title\": {\"standoff\": 15}, \"zerolinecolor\": \"white\", \"zerolinewidth\": 2}, \"yaxis\": {\"automargin\": true, \"gridcolor\": \"white\", \"linecolor\": \"white\", \"ticks\": \"\", \"title\": {\"standoff\": 15}, \"zerolinecolor\": \"white\", \"zerolinewidth\": 2}}}, \"width\": 900, \"xaxis\": {\"rangeselector\": {\"buttons\": [{\"count\": 7, \"label\": \"1w\", \"step\": \"day\", \"stepmode\": \"backward\"}, {\"count\": 1, \"label\": \"1m\", \"step\": \"month\", \"stepmode\": \"backward\"}, {\"count\": 6, \"label\": \"6m\", \"step\": \"month\", \"stepmode\": \"backward\"}, {\"count\": 1, \"label\": \"1y\", \"step\": \"year\", \"stepmode\": \"backward\"}, {\"step\": \"all\"}]}, \"rangeslider\": {\"visible\": true}, \"title\": {\"text\": \"ds\"}, \"type\": \"date\"}, \"yaxis\": {\"title\": {\"text\": \"y\"}}},                        {\"responsive\": true}                    ).then(function(){\n",
       "                            \n",
       "var gd = document.getElementById('a8260714-5326-4026-9952-8cde9aea3777');\n",
       "var x = new MutationObserver(function (mutations, observer) {{\n",
       "        var display = window.getComputedStyle(gd).display;\n",
       "        if (!display || display === 'none') {{\n",
       "            console.log([gd, 'removed!']);\n",
       "            Plotly.purge(gd);\n",
       "            observer.disconnect();\n",
       "        }}\n",
       "}});\n",
       "\n",
       "// Listen for the removal of the full notebook cells\n",
       "var notebookContainer = gd.closest('#notebook-container');\n",
       "if (notebookContainer) {{\n",
       "    x.observe(notebookContainer, {childList: true});\n",
       "}}\n",
       "\n",
       "// Listen for the clearing of the current output cell\n",
       "var outputEl = gd.closest('.output');\n",
       "if (outputEl) {{\n",
       "    x.observe(outputEl, {childList: true});\n",
       "}}\n",
       "\n",
       "                        })                };                });            </script>        </div>"
      ]
     },
     "metadata": {},
     "output_type": "display_data"
    }
   ],
   "source": [
    "fbprophet_predict_and_plot(data = data, \n",
    "                           region_column = 'country',\n",
    "                           region = 'United States',\n",
    "                           vaccination_metric = 'people_vaccinated_per_hundred',\n",
    "                           future_days = 55,\n",
    "                          )"
   ]
  },
  {
   "cell_type": "markdown",
   "metadata": {},
   "source": [
    "Below I will use the defined function to make similar predictions for countries in Europe and North America that have values for *people_vaccinated_per_hundred*"
   ]
  },
  {
   "cell_type": "code",
   "execution_count": 90,
   "metadata": {},
   "outputs": [],
   "source": [
    "#all countries in Europe and United States\n",
    "all_countries_EU_US = list(data[data.continent.isin(['Europe', 'North America'])].country.unique())\n",
    "#removing countries from UK\n",
    "all_countries_EU_US = [country for country in all_countries_EU_US if country not in uk_countries]"
   ]
  },
  {
   "cell_type": "code",
   "execution_count": 91,
   "metadata": {},
   "outputs": [],
   "source": [
    "names = []\n",
    "dates = []"
   ]
  },
  {
   "cell_type": "code",
   "execution_count": 92,
   "metadata": {},
   "outputs": [],
   "source": [
    "for country in all_countries_EU_US:\n",
    "    \n",
    "    #if there are no people_vaccinated_per_hundred values for country, skip country\n",
    "    if data[(data['people_vaccinated_per_hundred'].notnull()) & (data['country'] == country)].shape[0] > 2:\n",
    "    \n",
    "        min_date = data[(data['country'] == country)].date.min()\n",
    "\n",
    "        forecast = fbprophet_predict_and_plot(data = data, \n",
    "                                              region_column = 'country',\n",
    "                                              region = country,\n",
    "                                              vaccination_metric = 'people_vaccinated_per_hundred',\n",
    "                                              min_date = min_date,\n",
    "                                              future_days = 300,\n",
    "                                              plot = False,\n",
    "                                             )\n",
    "\n",
    "        if not forecast.loc[forecast.yhat > 25].empty:\n",
    "            names.append(country)\n",
    "            dates.append(forecast.loc[forecast.yhat > 25].ds.min().date())"
   ]
  },
  {
   "cell_type": "markdown",
   "metadata": {},
   "source": [
    "Timeline based on the predictions"
   ]
  },
  {
   "cell_type": "code",
   "execution_count": 93,
   "metadata": {
    "_kg_hide-input": true
   },
   "outputs": [
    {
     "data": {
      "image/png": "[encoded data removed]",
      "text/plain": [
       "<Figure size 1800x504 with 1 Axes>"
      ]
     },
     "metadata": {
      "needs_background": "light"
     },
     "output_type": "display_data"
    }
   ],
   "source": [
    "#the code below is taken from https://matplotlib.org/stable/gallery/lines_bars_and_markers/timeline.html\n",
    "\n",
    "# Choose some nice levels\n",
    "levels = np.tile([-5, 5, -3, 3, -1, 1],\n",
    "                 int(np.ceil(len(dates)/6)))[:len(dates)]\n",
    "\n",
    "# Create figure and plot a stem plot with the date\n",
    "fig, ax = plt.subplots(figsize=(25, 7), constrained_layout=True)\n",
    "ax.set(title=\"When can we have 25% of people vaccinated?\")\n",
    "\n",
    "markerline, stemline, baseline = ax.stem(dates, levels,\n",
    "                                         linefmt=\"C3-\", basefmt=\"k-\",\n",
    "                                         use_line_collection=True)\n",
    "\n",
    "plt.setp(markerline, mec=\"k\", mfc=\"w\", zorder=3)\n",
    "\n",
    "# Shift the markers to the baseline by replacing the y-data by zeros.\n",
    "markerline.set_ydata(np.zeros(len(dates)))\n",
    "\n",
    "# annotate lines\n",
    "vert = np.array(['top', 'bottom'])[(levels > 0).astype(int)]\n",
    "vert[13] = 'top' #addded cheat - might fix later\n",
    "for d, l, r, va in zip(dates, levels, names, vert):\n",
    "    ax.annotate(r, xy=(d, l), xytext=(-3, np.sign(l)*3),\n",
    "                textcoords=\"offset points\", va=va, ha=\"right\")\n",
    "\n",
    "# remove y axis and spines\n",
    "ax.get_yaxis().set_visible(False)\n",
    "for spine in [\"left\", \"top\", \"right\"]:\n",
    "    ax.spines[spine].set_visible(False)\n",
    "\n",
    "ax.margins(y=0.1)\n",
    "plt.show()"
   ]
  },
  {
   "cell_type": "markdown",
   "metadata": {},
   "source": [
    "Where will we be when summer starts?\n",
    "\n",
    "Below there are predictions of the percentage of people vaccinated per country, until June:"
   ]
  },
  {
   "cell_type": "code",
   "execution_count": 94,
   "metadata": {},
   "outputs": [
    {
     "name": "stdout",
     "output_type": "stream",
     "text": [
      "Predicted percentage of people vaccinated until June: \n",
      "======================================================\n",
      "\t United Kingdom \t 89.24 %\n",
      "\t Canada \t 7.35 %\n",
      "\t United States \t 40.71 %\n",
      "\t Germany \t 9.54 %\n",
      "\t Czechia \t 9.23 %\n",
      "\t Sweden \t 12.24 %\n",
      "\t Italy \t 4.98 %\n",
      "\t Lithuania \t 9.74 %\n",
      "\t Slovenia \t 4.58 %\n",
      "\t France \t 12.01 %\n",
      "\t Norway \t 20.43 %\n",
      "\t Denmark \t 5.51 %\n",
      "\t Estonia \t 13.46 %\n",
      "\t Latvia \t 1.91 %\n",
      "\t Greece \t 15.71 %\n",
      "\t Malta \t 27.28 %\n",
      "\t Hungary \t 15.04 %\n",
      "\t Portugal \t 9.78 %\n",
      "\t Romania \t 15.34 %\n",
      "\t Poland \t 14.6 %\n",
      "\t Belgium \t 13.06 %\n",
      "\t Bulgaria \t 3.45 %\n",
      "\t Croatia \t 2.27 %\n",
      "\t Luxembourg \t 10.7 %\n",
      "\t Iceland \t 11.58 %\n",
      "\t Ireland \t 3.8 %\n",
      "\t Finland \t 10.88 %\n",
      "\t Slovakia \t 16.9 %\n",
      "\t Spain \t 5.75 %\n",
      "\t Serbia \t 45.72 %\n",
      "\t Austria \t 7.66 %\n",
      "\t Andorra \t 7.26 %\n",
      "\t Faeroe Islands \t 11.78 %\n"
     ]
    }
   ],
   "source": [
    "print('Predicted percentage of people vaccinated until June: \\n======================================================')\n",
    "\n",
    "for country in all_countries_EU_US:\n",
    "    \n",
    "    #if there are no people_vaccinated_per_hundred values for country, skip country\n",
    "    if data[(data['people_vaccinated_per_hundred'].notnull()) & (data['country'] == country)].shape[0] > 2:\n",
    "    \n",
    "        min_date = data[(data['country'] == country)].date.min()\n",
    "\n",
    "        forecast = fbprophet_predict_and_plot(data = data, \n",
    "                                              region_column = 'country',\n",
    "                                              region = country,\n",
    "                                              vaccination_metric = 'people_vaccinated_per_hundred',\n",
    "                                              min_date = min_date,\n",
    "                                              future_days = 150,\n",
    "                                              plot = False,\n",
    "                                             )\n",
    "    \n",
    "        #print predicted percentage of vaccinated people until June\n",
    "        print('\\t', country, '\\t', round(float(forecast.loc[forecast.ds == '2021-06-01'].yhat),2), '%')"
   ]
  },
  {
   "cell_type": "markdown",
   "metadata": {},
   "source": [
    "... until then ..."
   ]
  },
  {
   "cell_type": "markdown",
   "metadata": {},
   "source": [
    "<img src=\"https://worldfinancialreview.com/wp-content/uploads/2020/06/virus-1.jpg\" width=\"500px\">"
   ]
  },
  {
   "cell_type": "markdown",
   "metadata": {},
   "source": [
    "### 5. Conclusion\n",
    "___\n",
    "\n",
    "The world is doing a great job bringing this pandemic to an end and the medical progress is impressive. However, we noticed that it is a real challenge to make the vaccines available all over the globe and that there is a difference between the progress in each continent.\n",
    "\n",
    "According to my predictions, a lot of countries would reach the 25% of population vaccinated threshold only at the end of this year or even in 2022. This won’t be ideal, but maybe in the near future we will witness day by day improvements when it comes to the availability of the vaccine and the number of people vaccinated in a day. Also, the fact that more types of vaccines are tested, accepted and used in the world can strengthen our hope to go back to a normal life."
   ]
  }
 ],
 "metadata": {
  "kernelspec": {
   "display_name": "Python 3",
   "language": "python",
   "name": "python3"
  },
  "language_info": {
   "codemirror_mode": {
    "name": "ipython",
    "version": 3
   },
   "file_extension": ".py",
   "mimetype": "text/x-python",
   "name": "python",
   "nbconvert_exporter": "python",
   "pygments_lexer": "ipython3",
   "version": "3.7.4"
  }
 },
 "nbformat": 4,
 "nbformat_minor": 4
}
